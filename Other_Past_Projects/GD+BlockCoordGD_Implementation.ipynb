{
 "cells": [
  {
   "cell_type": "markdown",
   "metadata": {},
   "source": [
    "## Question 3 part (b)\n",
    "\n",
    "Write the pseudo-code of gradient descent algorithm for finding the global minimum of (1).\n",
    "Implement your suggested algorithm using your favorite programming language. Find the\n",
    "correct step-size by try and error."
   ]
  },
  {
   "cell_type": "markdown",
   "metadata": {},
   "source": [
    "## Gradient Descent (Matrix Implementation)"
   ]
  },
  {
   "cell_type": "code",
   "execution_count": 1,
   "metadata": {},
   "outputs": [],
   "source": [
    "import numpy as np\n",
    "import math as m\n",
    "import pandas as pd"
   ]
  },
  {
   "cell_type": "code",
   "execution_count": 2,
   "metadata": {},
   "outputs": [],
   "source": [
    "#Define the Function\n",
    "Q = np.matrix([[6,7,1],[7,11,2],[1,2,22]])\n",
    "b = np.array([-1,2,3]).reshape(3,1)\n",
    "c = -2\n",
    "a = 1/2"
   ]
  },
  {
   "cell_type": "code",
   "execution_count": 3,
   "metadata": {},
   "outputs": [],
   "source": [
    "def func2(x):\n",
    "    x = np.array(x).reshape(3,1)\n",
    "    b.reshape(3,1)\n",
    "    f = np.asscalar(a*(np.dot(x.T,(Q.dot(x))))+np.dot(b.T,x) + c)\n",
    "    return f"
   ]
  },
  {
   "cell_type": "code",
   "execution_count": 4,
   "metadata": {},
   "outputs": [],
   "source": [
    "def grad2(x):\n",
    "    x = np.array(x).reshape(3,1)\n",
    "    g = np.array(Q.dot(x)+b)\n",
    "    return g"
   ]
  },
  {
   "cell_type": "markdown",
   "metadata": {},
   "source": [
    "Gradient Descent Code/Implementation:"
   ]
  },
  {
   "cell_type": "code",
   "execution_count": 5,
   "metadata": {},
   "outputs": [
    {
     "name": "stdout",
     "output_type": "stream",
     "text": [
      "Global Minimum found at: [[ 1.45159891 -1.08668125 -0.10354596]]\n",
      "Minimum function value: -3.9686644365514216\n",
      "Gradient Magnitude: 0.0009690239696952738\n",
      "Number of steps: 82\n"
     ]
    }
   ],
   "source": [
    "x_next = [1,1,1] #choose initial starting position\n",
    "error_tol = 0.001\n",
    "check = np.linalg.norm(grad2(x_next))\n",
    "alpha = .0821\n",
    "step = 0\n",
    "while check >= error_tol:\n",
    "    x_current = np.array(x_next).reshape(3,1)\n",
    "    x_next = x_current - alpha*grad2(x_current)\n",
    "    check = np.linalg.norm(grad2(x_next))\n",
    "    step = step+1\n",
    "print(\"Global Minimum found at:\", x_next.T)\n",
    "print(\"Minimum function value:\",func2(x_next))\n",
    "print(\"Gradient Magnitude:\", check)\n",
    "print(\"Number of steps:\", step)"
   ]
  },
  {
   "cell_type": "markdown",
   "metadata": {},
   "source": [
    "Trial and Error to find the optimal step size:"
   ]
  },
  {
   "cell_type": "code",
   "execution_count": 6,
   "metadata": {},
   "outputs": [],
   "source": [
    "#wrap the GD implementation into a function for use in a loop\n",
    "#x_next argument defines initial position\n",
    "def GD_trialer(error_tol, x_next, alpha):\n",
    "    step = 0\n",
    "    check = np.linalg.norm(grad2(x_next))\n",
    "    while check >= error_tol:\n",
    "        x_current = np.array(x_next).reshape(3,1)\n",
    "        x_next = x_current - alpha*grad2(x_current)\n",
    "        check = np.linalg.norm(grad2(x_next))\n",
    "        step = step+1\n",
    "    return (step, check)"
   ]
  },
  {
   "cell_type": "code",
   "execution_count": 7,
   "metadata": {},
   "outputs": [],
   "source": [
    "#create empty lists to store trial values\n",
    "learning_rates = []\n",
    "total_steps = []\n",
    "gradient_values = []"
   ]
  },
  {
   "cell_type": "code",
   "execution_count": 8,
   "metadata": {},
   "outputs": [
    {
     "data": {
      "text/plain": [
       "0.08800934716402213"
      ]
     },
     "execution_count": 8,
     "metadata": {},
     "output_type": "execute_result"
    }
   ],
   "source": [
    "#Define an upper bound for our learning rates based on formula\n",
    "alpha_upper = 2/max(np.linalg.eigvals(Q))\n",
    "alpha_upper"
   ]
  },
  {
   "cell_type": "code",
   "execution_count": 9,
   "metadata": {},
   "outputs": [],
   "source": [
    "#Running trials to find optimal alpha learning rate\n",
    "#Note: loop can't initialize at 0 or else alpha = 0 and GD is stationary\n",
    "for a in np.arange(0.0001,alpha_upper,0.001):\n",
    "    error_tol = 0.001\n",
    "    x_init = [1,1,1]\n",
    "    learning_rates.append(a)\n",
    "    total_steps.append(GD_trialer(error_tol,x_init,a)[0])\n",
    "    gradient_values.append(GD_trialer(error_tol,x_init,a)[1])"
   ]
  },
  {
   "cell_type": "code",
   "execution_count": 10,
   "metadata": {},
   "outputs": [],
   "source": [
    "GDTrials = pd.DataFrame(np.column_stack([learning_rates,\\\n",
    "                                         total_steps, gradient_values]),\\\n",
    "                            columns=['alpha_value', 'total_steps','gradient_values'])"
   ]
  },
  {
   "cell_type": "code",
   "execution_count": 11,
   "metadata": {},
   "outputs": [],
   "source": [
    "GDTrials = GDTrials[['alpha_value','total_steps']]"
   ]
  },
  {
   "cell_type": "code",
   "execution_count": 12,
   "metadata": {},
   "outputs": [
    {
     "data": {
      "text/plain": [
       "alpha_value     0.0821\n",
       "total_steps    82.0000\n",
       "Name: 82, dtype: float64"
      ]
     },
     "execution_count": 12,
     "metadata": {},
     "output_type": "execute_result"
    }
   ],
   "source": [
    "#Find where the minimum number of steps occurs\n",
    "GDTrials.loc[GDTrials['total_steps'].idxmin()]"
   ]
  },
  {
   "cell_type": "code",
   "execution_count": 13,
   "metadata": {},
   "outputs": [
    {
     "data": {
      "text/html": [
       "<div>\n",
       "<style scoped>\n",
       "    .dataframe tbody tr th:only-of-type {\n",
       "        vertical-align: middle;\n",
       "    }\n",
       "\n",
       "    .dataframe tbody tr th {\n",
       "        vertical-align: top;\n",
       "    }\n",
       "\n",
       "    .dataframe thead th {\n",
       "        text-align: right;\n",
       "    }\n",
       "</style>\n",
       "<table border=\"1\" class=\"dataframe\">\n",
       "  <thead>\n",
       "    <tr style=\"text-align: right;\">\n",
       "      <th></th>\n",
       "      <th>alpha_value</th>\n",
       "      <th>total_steps</th>\n",
       "    </tr>\n",
       "  </thead>\n",
       "  <tbody>\n",
       "    <tr>\n",
       "      <th>78</th>\n",
       "      <td>0.0781</td>\n",
       "      <td>86.0</td>\n",
       "    </tr>\n",
       "    <tr>\n",
       "      <th>79</th>\n",
       "      <td>0.0791</td>\n",
       "      <td>85.0</td>\n",
       "    </tr>\n",
       "    <tr>\n",
       "      <th>80</th>\n",
       "      <td>0.0801</td>\n",
       "      <td>84.0</td>\n",
       "    </tr>\n",
       "    <tr>\n",
       "      <th>81</th>\n",
       "      <td>0.0811</td>\n",
       "      <td>83.0</td>\n",
       "    </tr>\n",
       "    <tr>\n",
       "      <th>82</th>\n",
       "      <td>0.0821</td>\n",
       "      <td>82.0</td>\n",
       "    </tr>\n",
       "    <tr>\n",
       "      <th>83</th>\n",
       "      <td>0.0831</td>\n",
       "      <td>90.0</td>\n",
       "    </tr>\n",
       "    <tr>\n",
       "      <th>84</th>\n",
       "      <td>0.0841</td>\n",
       "      <td>113.0</td>\n",
       "    </tr>\n",
       "    <tr>\n",
       "      <th>85</th>\n",
       "      <td>0.0851</td>\n",
       "      <td>153.0</td>\n",
       "    </tr>\n",
       "    <tr>\n",
       "      <th>86</th>\n",
       "      <td>0.0861</td>\n",
       "      <td>236.0</td>\n",
       "    </tr>\n",
       "    <tr>\n",
       "      <th>87</th>\n",
       "      <td>0.0871</td>\n",
       "      <td>501.0</td>\n",
       "    </tr>\n",
       "  </tbody>\n",
       "</table>\n",
       "</div>"
      ],
      "text/plain": [
       "    alpha_value  total_steps\n",
       "78       0.0781         86.0\n",
       "79       0.0791         85.0\n",
       "80       0.0801         84.0\n",
       "81       0.0811         83.0\n",
       "82       0.0821         82.0\n",
       "83       0.0831         90.0\n",
       "84       0.0841        113.0\n",
       "85       0.0851        153.0\n",
       "86       0.0861        236.0\n",
       "87       0.0871        501.0"
      ]
     },
     "execution_count": 13,
     "metadata": {},
     "output_type": "execute_result"
    }
   ],
   "source": [
    "GDTrials[-10:]"
   ]
  },
  {
   "cell_type": "code",
   "execution_count": 19,
   "metadata": {
    "scrolled": true
   },
   "outputs": [
    {
     "data": {
      "image/png": "[encoded data removed]",
      "text/plain": [
       "<Figure size 720x360 with 1 Axes>"
      ]
     },
     "metadata": {
      "needs_background": "light"
     },
     "output_type": "display_data"
    }
   ],
   "source": [
    "#Plot the trial results\n",
    "GDTrials.set_index('alpha_value').plot(figsize=(10,5),grid=True).set_yscale('log')"
   ]
  },
  {
   "cell_type": "markdown",
   "metadata": {},
   "source": [
    "Assuming that that we want an 0.001 error tolerance, then the optimal alpha step size for gradient descent is 0.0821"
   ]
  },
  {
   "cell_type": "markdown",
   "metadata": {},
   "source": [
    "## Gradient Descent (ComponentWise Implementation)"
   ]
  },
  {
   "cell_type": "code",
   "execution_count": 15,
   "metadata": {},
   "outputs": [],
   "source": [
    "def func(vec):\n",
    "    x1 = vec[0]\n",
    "    x2 = vec[1]\n",
    "    x3 = vec[2]\n",
    "    f = 3*(x1**2)+(5.5)*x2**2+\\\n",
    "    11*x3**2+7*(x1*x2)+(x1*x3)+2*(x2*x3)-x1+2*(x2)+3*(x3) -2\n",
    "    return f"
   ]
  },
  {
   "cell_type": "code",
   "execution_count": 16,
   "metadata": {},
   "outputs": [],
   "source": [
    "def grad(vec):\n",
    "    x1 = vec[0]\n",
    "    x2 = vec[1]\n",
    "    x3 = vec[2]\n",
    "    g = np.array([(6*x1)+(7*x2)+x3-1,7*x1+11*x2+2*x3+2, x1+2*x2+22*x3+3])\n",
    "    return g"
   ]
  },
  {
   "cell_type": "markdown",
   "metadata": {},
   "source": [
    "Alternative Gradient Descent Code/Implementation:"
   ]
  },
  {
   "cell_type": "code",
   "execution_count": 17,
   "metadata": {},
   "outputs": [
    {
     "name": "stdout",
     "output_type": "stream",
     "text": [
      "Minimum reached at: [ 1.45159891 -1.08668125 -0.10354596]\n",
      "Minimum Cost realized at: -3.9686644365514208\n",
      "Gradient Value: 0.0009690239696952738\n",
      "Number of steps: 82\n"
     ]
    }
   ],
   "source": [
    "max_iters = 100000\n",
    "error_tol = .001 \n",
    "#Consider using a set random state with np.random.rand(3)*100\n",
    "x_next = [1,1,1] #initialize a starting point\n",
    "alpha = .0821 #pick a learning rate between 0 and the maxeigenvalue of the hessian\n",
    "step = 0\n",
    "#since the hessian trace = 78, 2/78 defines \n",
    "#an upperbound for the learning rate to guarantee convergence\n",
    "for i in range(max_iters):\n",
    "    x_current = x_next\n",
    "    x_next = x_current - alpha*grad(x_current)\n",
    "    check = np.linalg.norm(grad(x_next))\n",
    "    step = step+1\n",
    "    if abs(check) <= error_tol:\n",
    "        break\n",
    "    elif step == max_iters:\n",
    "        print(\"Maximum Iterations Exceeded.\")\n",
    "print(\"Minimum reached at:\", x_next)\n",
    "print(\"Minimum Cost realized at:\", func(x_next))\n",
    "print(\"Gradient Value:\",check)\n",
    "print(\"Number of steps:\", step)"
   ]
  },
  {
   "cell_type": "markdown",
   "metadata": {},
   "source": [
    "## Question 3 part (c)\n",
    "\n",
    "Write the pseudo-code of coordinate descent algorithm for finding the global minimum of (1).\n",
    "Implement your suggested algorithm using your favorite programming language."
   ]
  },
  {
   "cell_type": "markdown",
   "metadata": {},
   "source": [
    "## Block Coordinate Descent Algorithm"
   ]
  },
  {
   "cell_type": "code",
   "execution_count": 18,
   "metadata": {},
   "outputs": [
    {
     "name": "stdout",
     "output_type": "stream",
     "text": [
      "Minimum attained at: [1.4517370549529063, -1.0868231981839147, -0.10354957539023074]\n",
      "Minimum cost realized at: -3.968664591642378\n",
      "Total Steps: 29\n",
      "gradient value: 0.000889647315196129\n"
     ]
    }
   ],
   "source": [
    "def x1next(vec):\n",
    "    x2 = vec[1]\n",
    "    x3 = vec[2]\n",
    "    next_x1 = (1/6) - (7/6)*x2-(1/6)*x3\n",
    "    return next_x1\n",
    "\n",
    "def x2next(vec):\n",
    "    x1 = vec[0]\n",
    "    x3 = vec[2]\n",
    "    next_x2 = (-2/11)-(7/11)*x1-(2/11)*x3\n",
    "    return next_x2\n",
    "\n",
    "def x3next(vec):\n",
    "    x1 = vec[0]\n",
    "    x2 = vec[1]\n",
    "    next_x3 = (-3/22) - (1/22)*x1-(1/11)*x2\n",
    "    return next_x3\n",
    "\n",
    "error_tol = 0.001\n",
    "x_next = [1,1,1]\n",
    "step_counter = 0\n",
    "max_steps = 100\n",
    "check = np.linalg.norm(grad(x_next))\n",
    "while check > error_tol: #or step_counter < max_steps:\n",
    "    x_current = x_next\n",
    "    #Block Coordinate Descent\n",
    "    x1_step = x1next(x_current)\n",
    "    x_current[0] = x1_step\n",
    "    x2_step = x2next(x_current)\n",
    "    x_current[1] = x2_step\n",
    "    x3_step = x3next(x_current)\n",
    "    x_current[2] = x3_step\n",
    "    #Update\n",
    "    x_next = x_current\n",
    "    step_counter = step_counter+1\n",
    "    check = np.linalg.norm(grad(x_current))\n",
    "    #print(x_next)\n",
    "print('Minimum attained at:', x_next)\n",
    "print('Minimum cost realized at:', func(x_next))\n",
    "print('Total Steps:',step_counter)\n",
    "print('gradient value:', check)"
   ]
  }
 ],
 "metadata": {
  "kernelspec": {
   "display_name": "Python 3",
   "language": "python",
   "name": "python3"
  },
  "language_info": {
   "codemirror_mode": {
    "name": "ipython",
    "version": 3
   },
   "file_extension": ".py",
   "mimetype": "text/x-python",
   "name": "python",
   "nbconvert_exporter": "python",
   "pygments_lexer": "ipython3",
   "version": "3.7.3"
  }
 },
 "nbformat": 4,
 "nbformat_minor": 2
}
