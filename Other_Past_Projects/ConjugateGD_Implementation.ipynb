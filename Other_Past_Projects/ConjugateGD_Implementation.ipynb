{
 "cells": [
  {
   "cell_type": "code",
   "execution_count": 5,
   "metadata": {},
   "outputs": [],
   "source": [
    "import numpy as np\n",
    "import math as m\n",
    "import pandas as pd\n",
    "import scipy as sp\n",
    "import matplotlib.pyplot as plt\n",
    "import scipy.sparse.linalg as spla\n",
    "from scipy import sparse, ndimage\n",
    "%timeit\n",
    "np.random.seed(0)"
   ]
  },
  {
   "cell_type": "code",
   "execution_count": 6,
   "metadata": {},
   "outputs": [
    {
     "name": "stdout",
     "output_type": "stream",
     "text": [
      "(10000, 10000)\n"
     ]
    }
   ],
   "source": [
    "#Tentative Test Case Laplacian Matrix\n",
    "#Generate the 10000x10000 2D Laplacian Matrix\n",
    "nx, ny = 100,100\n",
    "N  = nx*ny\n",
    "main_diag = np.ones(N)*-4.0\n",
    "side_diag = np.ones(N-1)\n",
    "side_diag[np.arange(1,N)%4==0] = 0\n",
    "up_down_diag = np.ones(N-3)\n",
    "diagonals = [main_diag,side_diag,side_diag,up_down_diag,up_down_diag]\n",
    "laplacian = sparse.diags(diagonals, [0, -1, 1,nx,-nx], format=\"csr\")\n",
    "L = laplacian.toarray()\n",
    "print(L.shape)"
   ]
  },
  {
   "cell_type": "code",
   "execution_count": 7,
   "metadata": {},
   "outputs": [],
   "source": [
    "#Get 10000x10000 laplacian of the matrix using Scipy\n",
    "#U = sp.sparse.random(10000,10000)\n",
    "#L = sp.ndimage.filters.laplace(U)"
   ]
  },
  {
   "cell_type": "code",
   "execution_count": 8,
   "metadata": {},
   "outputs": [
    {
     "name": "stdout",
     "output_type": "stream",
     "text": [
      "(10000, 1)\n"
     ]
    }
   ],
   "source": [
    "#Generate Solution Vector\n",
    "#b = np.random.randint(low=0,high=1,size=(10000,1))\n",
    "#b = np.random.uniform(0,1,size=(10000,1))\n",
    "b = np.random.rand(10000,1)\n",
    "print(b.shape)"
   ]
  },
  {
   "cell_type": "markdown",
   "metadata": {},
   "source": [
    "#### Gradient Descent"
   ]
  },
  {
   "cell_type": "code",
   "execution_count": 13,
   "metadata": {},
   "outputs": [
    {
     "name": "stdout",
     "output_type": "stream",
     "text": [
      "Gradient Descent Implementation Results\n",
      "solution vector norm 125.00027480546144\n",
      "error 0.0008441173254952326\n",
      "CPU times: user 21.4 s, sys: 203 ms, total: 21.6 s\n",
      "Wall time: 12.2 s\n"
     ]
    },
    {
     "data": {
      "text/plain": [
       "[<matplotlib.lines.Line2D at 0xa1956e908>]"
      ]
     },
     "execution_count": 13,
     "metadata": {},
     "output_type": "execute_result"
    },
    {
     "data": {
      "image/png": "[encoded data removed]",
      "text/plain": [
       "<Figure size 432x288 with 1 Axes>"
      ]
     },
     "metadata": {
      "needs_background": "light"
     },
     "output_type": "display_data"
    }
   ],
   "source": [
    "%%time\n",
    "x_k = np.random.rand(10000,1)\n",
    "error_tol = 0.001\n",
    "r_k = b - np.dot(L, x_k)\n",
    "resid_gd =[]\n",
    "step_gd = []\n",
    "step = 0\n",
    "while np.linalg.norm(r_k) > error_tol:\n",
    "    r_k = b - np.dot(L,x_k)\n",
    "    alpha_k = np.asscalar(np.dot(r_k.T,r_k)/(np.dot(r_k.T,np.dot(L,r_k))))\n",
    "    x_k = x_k + (alpha_k*r_k)#*(0.00001)\n",
    "    step = step+1\n",
    "    step_gd.append(step)\n",
    "    resid_gd.append(np.linalg.norm(r_k))\n",
    "#    print(np.linalg.norm(r_k))\n",
    "print(\"Gradient Descent Implementation Results\")\n",
    "print(\"solution vector norm\", np.linalg.norm(x_k))\n",
    "print(\"error\", np.linalg.norm(r_k))\n",
    "plt.plot(step_gd, resid_gd);"
   ]
  },
  {
   "cell_type": "markdown",
   "metadata": {},
   "source": [
    "#### Conjugate Gradient Descent"
   ]
  },
  {
   "cell_type": "code",
   "execution_count": 14,
   "metadata": {},
   "outputs": [
    {
     "name": "stdout",
     "output_type": "stream",
     "text": [
      "Conjugate Gradient Descent Implementation Result\n",
      "sol vector norm 126.2546916369103\n",
      "error 0.000726596071405685\n",
      "CPU times: user 11.6 s, sys: 98.6 ms, total: 11.7 s\n",
      "Wall time: 6.73 s\n"
     ]
    },
    {
     "data": {
      "text/plain": [
       "[<matplotlib.lines.Line2D at 0xa1964abe0>]"
      ]
     },
     "execution_count": 14,
     "metadata": {},
     "output_type": "execute_result"
    },
    {
     "data": {
      "image/png": "[encoded data removed]",
      "text/plain": [
       "<Figure size 432x288 with 1 Axes>"
      ]
     },
     "metadata": {
      "needs_background": "light"
     },
     "output_type": "display_data"
    }
   ],
   "source": [
    "%%time\n",
    "x_kcgd = np.random.rand(10000,1)\n",
    "b_cgd = np.random.rand(10000,1)\n",
    "r_kcgd = b_cgd - np.dot(L,x_kcgd)\n",
    "error_tol = .001\n",
    "step = 0\n",
    "step_cgd = []\n",
    "resid_cgd = []\n",
    "while np.linalg.norm(r_kcgd)>error_tol:\n",
    "    r_kcgd = b_cgd - np.dot(L,x_kcgd)\n",
    "    p_k = r_kcgd\n",
    "    alpha_k = np.asscalar(np.dot(r_kcgd.T,r_kcgd)/np.dot(p_k.T,np.dot(L,p_k)))\n",
    "    x_kcgd = x_kcgd + alpha_k*p_k\n",
    "    r_kcgd = r_kcgd - alpha_k*(np.dot(L,p_k))\n",
    "    beta_k = np.asscalar(np.dot(r_kcgd.T,r_kcgd)/np.dot(p_k.T,p_k))\n",
    "    p_k = r_kcgd + beta_k*p_k\n",
    "    alpha_k = np.asscalar(np.dot(r_kcgd.T,r_kcgd)/np.dot(p_k.T,np.dot(L,p_k)))\n",
    "    x_kcgd = x_kcgd+(alpha_k*p_k)\n",
    "    resid_cgd.append(np.linalg.norm(r_kcgd))\n",
    "    step = step+1\n",
    "    step_cgd.append(step)\n",
    "    #print(np.linalg.norm(r_kcgd))\n",
    "print(\"Conjugate Gradient Descent Implementation Result\")\n",
    "print(\"sol vector norm\", np.linalg.norm(x_kcgd))\n",
    "print(\"error\", np.linalg.norm(r_kcgd))\n",
    "plt.plot(step_cgd, resid_cgd);"
   ]
  },
  {
   "cell_type": "code",
   "execution_count": null,
   "metadata": {},
   "outputs": [],
   "source": [
    "#Sketch of CGD\n",
    "x_k = np.random.rand(10000,1)\n",
    "error_tol = 0.1\n",
    "#while np.linalg.norm(r_k) > error_tol:\n",
    "    r_0 = b - np.dot(L,x_0)\n",
    "    p_0 = r_0\n",
    "    alpha_0 = np.asscalar(np.dot(r_0.T,r_0)/np.dot(p_0.T,np.dot(L,p_0)))\n",
    "    x_1 = x_0 + alpha_0*p_0    \n",
    "    r_1 = r_0 - alpha_0*(np.dot(L,p_0))\n",
    "    beta_0 = np.asscalar(np.dot(r_1.T,r_1)/(np.dot(r_0.T,r_0)))\n",
    "    p_1 = r_1 + beta_0*p_0\n",
    "\n",
    "    alpha_1 = np.asscalar(np.dot(r_1.T,r_1)/np.dot(p_1.T,np.dot(L,p_1)))\n",
    "    x_2 = x_1 + alpha_1*p_1\n",
    "    r_2 = r_1 - alpha_1*(np.dot(L,p_1))\n",
    "    beta_1 = np.asscalar(np.dot(r_2.T,r_2)/np.dot(r_1.T,r_1))\n",
    "    p_2 = r_1 + beta_1*p_1"
   ]
  }
 ],
 "metadata": {
  "kernelspec": {
   "display_name": "Python 3",
   "language": "python",
   "name": "python3"
  },
  "language_info": {
   "codemirror_mode": {
    "name": "ipython",
    "version": 3
   },
   "file_extension": ".py",
   "mimetype": "text/x-python",
   "name": "python",
   "nbconvert_exporter": "python",
   "pygments_lexer": "ipython3",
   "version": "3.7.8"
  }
 },
 "nbformat": 4,
 "nbformat_minor": 2
}
