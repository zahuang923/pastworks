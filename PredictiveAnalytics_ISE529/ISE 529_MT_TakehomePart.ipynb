{
 "cells": [
  {
   "cell_type": "markdown",
   "metadata": {},
   "source": [
    "<h1><center>ISE 529 Midterm Exam - 10-23-2019</center></h1>"
   ]
  },
  {
   "cell_type": "markdown",
   "metadata": {},
   "source": [
    "<div style=\"text-align: right\">Zenas Huang <br>\n",
    "ID: 8806603551 <br>\n",
    "ISE 529 - Predictive Analytics <br>\n",
    "Wednesday, 5-7:50PM Section <br>\n",
    "Dr. Cesar Acosta-Mejia, Fall 2019<br></div>"
   ]
  },
  {
   "cell_type": "markdown",
   "metadata": {},
   "source": [
    "Import all necessarys packages"
   ]
  },
  {
   "cell_type": "code",
   "execution_count": 1,
   "metadata": {},
   "outputs": [],
   "source": [
    "import pandas as pd\n",
    "import numpy as np\n",
    "import matplotlib.pyplot as plt\n",
    "from functools import reduce\n",
    "import statsmodels.api as sm\n",
    "import math as m"
   ]
  },
  {
   "cell_type": "markdown",
   "metadata": {},
   "source": [
    "## Question 1.\n",
    "(70 pts.)<br>\n",
    "Download from grouplens.org/datasets/movielens/1m/ the file ml-1m.zip. Extract the files and read the README file. The files can be opened with pd.read_csv('users.dat', sep'::', engine = 'python'). The files inclue movie ratings, movie data (genres and year), and users data (age, zip code, gender id, and, occupation). You may want to merge the three files into one by using pd.merge(pd.merge(ratings, useres), movies)."
   ]
  },
  {
   "cell_type": "markdown",
   "metadata": {},
   "source": [
    "Loading the data and creating the dataframe:"
   ]
  },
  {
   "cell_type": "code",
   "execution_count": 2,
   "metadata": {},
   "outputs": [],
   "source": [
    "users = pd.read_csv('users.dat', sep='::',engine = 'python')\n",
    "users.columns = ['UserID','Gender','Age','Occupation','Zip-code']; #add column header names"
   ]
  },
  {
   "cell_type": "code",
   "execution_count": 3,
   "metadata": {},
   "outputs": [],
   "source": [
    "movies = pd.read_csv('movies.dat', sep='::', engine='python')\n",
    "movies.columns = ['MovieID','Title','Genres']; #add column header names"
   ]
  },
  {
   "cell_type": "code",
   "execution_count": 4,
   "metadata": {},
   "outputs": [],
   "source": [
    "ratings = pd.read_csv('ratings.dat', sep='::', engine='python')\n",
    "ratings.columns = ['UserID','MovieID','Rating','Timestamp']; #add column header names"
   ]
  },
  {
   "cell_type": "code",
   "execution_count": 5,
   "metadata": {},
   "outputs": [],
   "source": [
    "df = pd.merge(pd.merge(ratings, users), movies) #merge all three files into one"
   ]
  },
  {
   "cell_type": "markdown",
   "metadata": {},
   "source": [
    "The resulting dataframe is of interest in developing recommendation systems. For that purpose, a business analyst has the following questions, which you, as a data analyst should respond."
   ]
  },
  {
   "cell_type": "code",
   "execution_count": 6,
   "metadata": {},
   "outputs": [
    {
     "data": {
      "text/html": [
       "<div>\n",
       "<style scoped>\n",
       "    .dataframe tbody tr th:only-of-type {\n",
       "        vertical-align: middle;\n",
       "    }\n",
       "\n",
       "    .dataframe tbody tr th {\n",
       "        vertical-align: top;\n",
       "    }\n",
       "\n",
       "    .dataframe thead th {\n",
       "        text-align: right;\n",
       "    }\n",
       "</style>\n",
       "<table border=\"1\" class=\"dataframe\">\n",
       "  <thead>\n",
       "    <tr style=\"text-align: right;\">\n",
       "      <th></th>\n",
       "      <th>UserID</th>\n",
       "      <th>MovieID</th>\n",
       "      <th>Rating</th>\n",
       "      <th>Timestamp</th>\n",
       "      <th>Gender</th>\n",
       "      <th>Age</th>\n",
       "      <th>Occupation</th>\n",
       "      <th>Zip-code</th>\n",
       "      <th>Title</th>\n",
       "      <th>Genres</th>\n",
       "    </tr>\n",
       "  </thead>\n",
       "  <tbody>\n",
       "    <tr>\n",
       "      <th>0</th>\n",
       "      <td>2</td>\n",
       "      <td>1357</td>\n",
       "      <td>5</td>\n",
       "      <td>978298709</td>\n",
       "      <td>M</td>\n",
       "      <td>56</td>\n",
       "      <td>16</td>\n",
       "      <td>70072</td>\n",
       "      <td>Shine (1996)</td>\n",
       "      <td>Drama|Romance</td>\n",
       "    </tr>\n",
       "    <tr>\n",
       "      <th>1</th>\n",
       "      <td>8</td>\n",
       "      <td>1357</td>\n",
       "      <td>4</td>\n",
       "      <td>978230800</td>\n",
       "      <td>M</td>\n",
       "      <td>25</td>\n",
       "      <td>12</td>\n",
       "      <td>11413</td>\n",
       "      <td>Shine (1996)</td>\n",
       "      <td>Drama|Romance</td>\n",
       "    </tr>\n",
       "    <tr>\n",
       "      <th>2</th>\n",
       "      <td>10</td>\n",
       "      <td>1357</td>\n",
       "      <td>5</td>\n",
       "      <td>978227625</td>\n",
       "      <td>F</td>\n",
       "      <td>35</td>\n",
       "      <td>1</td>\n",
       "      <td>95370</td>\n",
       "      <td>Shine (1996)</td>\n",
       "      <td>Drama|Romance</td>\n",
       "    </tr>\n",
       "    <tr>\n",
       "      <th>3</th>\n",
       "      <td>18</td>\n",
       "      <td>1357</td>\n",
       "      <td>5</td>\n",
       "      <td>978156876</td>\n",
       "      <td>F</td>\n",
       "      <td>18</td>\n",
       "      <td>3</td>\n",
       "      <td>95825</td>\n",
       "      <td>Shine (1996)</td>\n",
       "      <td>Drama|Romance</td>\n",
       "    </tr>\n",
       "    <tr>\n",
       "      <th>4</th>\n",
       "      <td>33</td>\n",
       "      <td>1357</td>\n",
       "      <td>4</td>\n",
       "      <td>978109488</td>\n",
       "      <td>M</td>\n",
       "      <td>45</td>\n",
       "      <td>3</td>\n",
       "      <td>55421</td>\n",
       "      <td>Shine (1996)</td>\n",
       "      <td>Drama|Romance</td>\n",
       "    </tr>\n",
       "  </tbody>\n",
       "</table>\n",
       "</div>"
      ],
      "text/plain": [
       "   UserID  MovieID  Rating  Timestamp Gender  Age  Occupation Zip-code  \\\n",
       "0       2     1357       5  978298709      M   56          16    70072   \n",
       "1       8     1357       4  978230800      M   25          12    11413   \n",
       "2      10     1357       5  978227625      F   35           1    95370   \n",
       "3      18     1357       5  978156876      F   18           3    95825   \n",
       "4      33     1357       4  978109488      M   45           3    55421   \n",
       "\n",
       "          Title         Genres  \n",
       "0  Shine (1996)  Drama|Romance  \n",
       "1  Shine (1996)  Drama|Romance  \n",
       "2  Shine (1996)  Drama|Romance  \n",
       "3  Shine (1996)  Drama|Romance  \n",
       "4  Shine (1996)  Drama|Romance  "
      ]
     },
     "execution_count": 6,
     "metadata": {},
     "output_type": "execute_result"
    }
   ],
   "source": [
    "df.head()\n",
    "#headings have to be added in on our own"
   ]
  },
  {
   "cell_type": "markdown",
   "metadata": {},
   "source": [
    "Question 1 a) Find for each movie the average ratings by gender. Show the movies with best rating by male users."
   ]
  },
  {
   "cell_type": "code",
   "execution_count": 7,
   "metadata": {},
   "outputs": [],
   "source": [
    "#creates a pivot table of movies with the average rating by each gender\n",
    "df_gender_pivot = pd.pivot_table(df, index=['Title'], columns = ['Gender'],values=['Rating'],aggfunc=np.mean)"
   ]
  },
  {
   "cell_type": "markdown",
   "metadata": {},
   "source": [
    "**Answer:** Average ratings of each movie by gender are given in the pivot table below. The pivot table has 3705 rows, we display the first five rows convenience and readability."
   ]
  },
  {
   "cell_type": "code",
   "execution_count": 8,
   "metadata": {},
   "outputs": [
    {
     "data": {
      "text/html": [
       "<div>\n",
       "<style scoped>\n",
       "    .dataframe tbody tr th:only-of-type {\n",
       "        vertical-align: middle;\n",
       "    }\n",
       "\n",
       "    .dataframe tbody tr th {\n",
       "        vertical-align: top;\n",
       "    }\n",
       "\n",
       "    .dataframe thead tr th {\n",
       "        text-align: left;\n",
       "    }\n",
       "\n",
       "    .dataframe thead tr:last-of-type th {\n",
       "        text-align: right;\n",
       "    }\n",
       "</style>\n",
       "<table border=\"1\" class=\"dataframe\">\n",
       "  <thead>\n",
       "    <tr>\n",
       "      <th></th>\n",
       "      <th colspan=\"2\" halign=\"left\">Rating</th>\n",
       "    </tr>\n",
       "    <tr>\n",
       "      <th>Gender</th>\n",
       "      <th>F</th>\n",
       "      <th>M</th>\n",
       "    </tr>\n",
       "    <tr>\n",
       "      <th>Title</th>\n",
       "      <th></th>\n",
       "      <th></th>\n",
       "    </tr>\n",
       "  </thead>\n",
       "  <tbody>\n",
       "    <tr>\n",
       "      <th>$1,000,000 Duck (1971)</th>\n",
       "      <td>3.375000</td>\n",
       "      <td>2.761905</td>\n",
       "    </tr>\n",
       "    <tr>\n",
       "      <th>'Night Mother (1986)</th>\n",
       "      <td>3.388889</td>\n",
       "      <td>3.352941</td>\n",
       "    </tr>\n",
       "    <tr>\n",
       "      <th>'Til There Was You (1997)</th>\n",
       "      <td>2.675676</td>\n",
       "      <td>2.733333</td>\n",
       "    </tr>\n",
       "    <tr>\n",
       "      <th>'burbs, The (1989)</th>\n",
       "      <td>2.793478</td>\n",
       "      <td>2.962085</td>\n",
       "    </tr>\n",
       "    <tr>\n",
       "      <th>...And Justice for All (1979)</th>\n",
       "      <td>3.828571</td>\n",
       "      <td>3.689024</td>\n",
       "    </tr>\n",
       "  </tbody>\n",
       "</table>\n",
       "</div>"
      ],
      "text/plain": [
       "                                 Rating          \n",
       "Gender                                F         M\n",
       "Title                                            \n",
       "$1,000,000 Duck (1971)         3.375000  2.761905\n",
       "'Night Mother (1986)           3.388889  3.352941\n",
       "'Til There Was You (1997)      2.675676  2.733333\n",
       "'burbs, The (1989)             2.793478  2.962085\n",
       "...And Justice for All (1979)  3.828571  3.689024"
      ]
     },
     "execution_count": 8,
     "metadata": {},
     "output_type": "execute_result"
    }
   ],
   "source": [
    "df_gender_pivot.head()"
   ]
  },
  {
   "cell_type": "markdown",
   "metadata": {},
   "source": [
    "the best rating by male users interepreted as best average rating from male users for which we display the top 5 highest average male rated movies:"
   ]
  },
  {
   "cell_type": "code",
   "execution_count": 9,
   "metadata": {},
   "outputs": [
    {
     "data": {
      "text/html": [
       "<div>\n",
       "<style scoped>\n",
       "    .dataframe tbody tr th:only-of-type {\n",
       "        vertical-align: middle;\n",
       "    }\n",
       "\n",
       "    .dataframe tbody tr th {\n",
       "        vertical-align: top;\n",
       "    }\n",
       "\n",
       "    .dataframe thead th {\n",
       "        text-align: right;\n",
       "    }\n",
       "</style>\n",
       "<table border=\"1\" class=\"dataframe\">\n",
       "  <thead>\n",
       "    <tr style=\"text-align: right;\">\n",
       "      <th>Gender</th>\n",
       "      <th>F</th>\n",
       "      <th>M</th>\n",
       "    </tr>\n",
       "    <tr>\n",
       "      <th>Title</th>\n",
       "      <th></th>\n",
       "      <th></th>\n",
       "    </tr>\n",
       "  </thead>\n",
       "  <tbody>\n",
       "    <tr>\n",
       "      <th>Angela (1995)</th>\n",
       "      <td>3.0</td>\n",
       "      <td>5.0</td>\n",
       "    </tr>\n",
       "    <tr>\n",
       "      <th>Baby, The (1973)</th>\n",
       "      <td>NaN</td>\n",
       "      <td>5.0</td>\n",
       "    </tr>\n",
       "    <tr>\n",
       "      <th>Bells, The (1926)</th>\n",
       "      <td>4.0</td>\n",
       "      <td>5.0</td>\n",
       "    </tr>\n",
       "    <tr>\n",
       "      <th>Dangerous Game (1993)</th>\n",
       "      <td>4.0</td>\n",
       "      <td>5.0</td>\n",
       "    </tr>\n",
       "    <tr>\n",
       "      <th>Follow the Bitch (1998)</th>\n",
       "      <td>NaN</td>\n",
       "      <td>5.0</td>\n",
       "    </tr>\n",
       "  </tbody>\n",
       "</table>\n",
       "</div>"
      ],
      "text/plain": [
       "Gender                     F    M\n",
       "Title                            \n",
       "Angela (1995)            3.0  5.0\n",
       "Baby, The (1973)         NaN  5.0\n",
       "Bells, The (1926)        4.0  5.0\n",
       "Dangerous Game (1993)    4.0  5.0\n",
       "Follow the Bitch (1998)  NaN  5.0"
      ]
     },
     "execution_count": 9,
     "metadata": {},
     "output_type": "execute_result"
    }
   ],
   "source": [
    "#top 10 movies by male average rating\n",
    "df_gender_pivot['Rating'].nlargest(5,'M')"
   ]
  },
  {
   "cell_type": "markdown",
   "metadata": {},
   "source": [
    "Question 1 b) Report the name of the five movies with the largest number of ratings."
   ]
  },
  {
   "cell_type": "code",
   "execution_count": 10,
   "metadata": {},
   "outputs": [],
   "source": [
    "df_ratingscount1 = df.groupby('Title').count()"
   ]
  },
  {
   "cell_type": "code",
   "execution_count": 11,
   "metadata": {},
   "outputs": [],
   "source": [
    "df_ratingscount1 = df_ratingscount1[['Rating']]"
   ]
  },
  {
   "cell_type": "code",
   "execution_count": 12,
   "metadata": {},
   "outputs": [],
   "source": [
    "df_ratingscount1.rename(columns={'Rating':'Number of Ratings'},inplace=True)"
   ]
  },
  {
   "cell_type": "markdown",
   "metadata": {},
   "source": [
    "**Answer:** The five movies with the largest number of ratings are:"
   ]
  },
  {
   "cell_type": "code",
   "execution_count": 13,
   "metadata": {},
   "outputs": [
    {
     "data": {
      "text/html": [
       "<div>\n",
       "<style scoped>\n",
       "    .dataframe tbody tr th:only-of-type {\n",
       "        vertical-align: middle;\n",
       "    }\n",
       "\n",
       "    .dataframe tbody tr th {\n",
       "        vertical-align: top;\n",
       "    }\n",
       "\n",
       "    .dataframe thead th {\n",
       "        text-align: right;\n",
       "    }\n",
       "</style>\n",
       "<table border=\"1\" class=\"dataframe\">\n",
       "  <thead>\n",
       "    <tr style=\"text-align: right;\">\n",
       "      <th></th>\n",
       "      <th>Number of Ratings</th>\n",
       "    </tr>\n",
       "    <tr>\n",
       "      <th>Title</th>\n",
       "      <th></th>\n",
       "    </tr>\n",
       "  </thead>\n",
       "  <tbody>\n",
       "    <tr>\n",
       "      <th>American Beauty (1999)</th>\n",
       "      <td>3428</td>\n",
       "    </tr>\n",
       "    <tr>\n",
       "      <th>Star Wars: Episode IV - A New Hope (1977)</th>\n",
       "      <td>2990</td>\n",
       "    </tr>\n",
       "    <tr>\n",
       "      <th>Star Wars: Episode V - The Empire Strikes Back (1980)</th>\n",
       "      <td>2990</td>\n",
       "    </tr>\n",
       "    <tr>\n",
       "      <th>Star Wars: Episode VI - Return of the Jedi (1983)</th>\n",
       "      <td>2883</td>\n",
       "    </tr>\n",
       "    <tr>\n",
       "      <th>Jurassic Park (1993)</th>\n",
       "      <td>2672</td>\n",
       "    </tr>\n",
       "  </tbody>\n",
       "</table>\n",
       "</div>"
      ],
      "text/plain": [
       "                                                    Number of Ratings\n",
       "Title                                                                \n",
       "American Beauty (1999)                                           3428\n",
       "Star Wars: Episode IV - A New Hope (1977)                        2990\n",
       "Star Wars: Episode V - The Empire Strikes Back ...               2990\n",
       "Star Wars: Episode VI - Return of the Jedi (1983)                2883\n",
       "Jurassic Park (1993)                                             2672"
      ]
     },
     "execution_count": 13,
     "metadata": {},
     "output_type": "execute_result"
    }
   ],
   "source": [
    "#The five movies with the largest number of ratings\n",
    "df_ratingscount1.nlargest(5,'Number of Ratings')"
   ]
  },
  {
   "cell_type": "markdown",
   "metadata": {},
   "source": [
    "Question 1 c) For movies with at least 250 ratings, find the average rating. Show the movies with the best average rating."
   ]
  },
  {
   "cell_type": "code",
   "execution_count": 14,
   "metadata": {},
   "outputs": [],
   "source": [
    "df_num_of_ratings =  pd.pivot_table(df, index=['Title'], columns = 'Rating',aggfunc='size',fill_value =0)"
   ]
  },
  {
   "cell_type": "code",
   "execution_count": 15,
   "metadata": {},
   "outputs": [],
   "source": [
    "df_over250r = df_ratingscount1[(df_ratingscount1['Number of Ratings']>=250)]"
   ]
  },
  {
   "cell_type": "code",
   "execution_count": 16,
   "metadata": {},
   "outputs": [],
   "source": [
    "titles_over250=df_over250r.index.values.tolist()"
   ]
  },
  {
   "cell_type": "code",
   "execution_count": 17,
   "metadata": {},
   "outputs": [],
   "source": [
    "df_250filtered = df[df['Title'].isin(titles_over250)]"
   ]
  },
  {
   "cell_type": "code",
   "execution_count": 18,
   "metadata": {},
   "outputs": [],
   "source": [
    "df_250plus = df_250filtered[['Title','Rating']]"
   ]
  },
  {
   "cell_type": "code",
   "execution_count": 19,
   "metadata": {},
   "outputs": [],
   "source": [
    "df_250plus_means = df_250plus.groupby('Title').mean()"
   ]
  },
  {
   "cell_type": "code",
   "execution_count": 20,
   "metadata": {},
   "outputs": [],
   "source": [
    "df_250plus_means.rename(columns={'Rating':'Average Rating'},inplace=True)"
   ]
  },
  {
   "cell_type": "markdown",
   "metadata": {},
   "source": [
    "**Answer:** For movies with at least 250 ratings, we have found their average ratings in the dataframe *df_250plus_means*, for readability we show the first 5 rows of this dataframe only."
   ]
  },
  {
   "cell_type": "code",
   "execution_count": 21,
   "metadata": {},
   "outputs": [
    {
     "data": {
      "text/html": [
       "<div>\n",
       "<style scoped>\n",
       "    .dataframe tbody tr th:only-of-type {\n",
       "        vertical-align: middle;\n",
       "    }\n",
       "\n",
       "    .dataframe tbody tr th {\n",
       "        vertical-align: top;\n",
       "    }\n",
       "\n",
       "    .dataframe thead th {\n",
       "        text-align: right;\n",
       "    }\n",
       "</style>\n",
       "<table border=\"1\" class=\"dataframe\">\n",
       "  <thead>\n",
       "    <tr style=\"text-align: right;\">\n",
       "      <th></th>\n",
       "      <th>Average Rating</th>\n",
       "    </tr>\n",
       "    <tr>\n",
       "      <th>Title</th>\n",
       "      <th></th>\n",
       "    </tr>\n",
       "  </thead>\n",
       "  <tbody>\n",
       "    <tr>\n",
       "      <th>'burbs, The (1989)</th>\n",
       "      <td>2.910891</td>\n",
       "    </tr>\n",
       "    <tr>\n",
       "      <th>10 Things I Hate About You (1999)</th>\n",
       "      <td>3.422857</td>\n",
       "    </tr>\n",
       "    <tr>\n",
       "      <th>101 Dalmatians (1961)</th>\n",
       "      <td>3.596460</td>\n",
       "    </tr>\n",
       "    <tr>\n",
       "      <th>101 Dalmatians (1996)</th>\n",
       "      <td>3.046703</td>\n",
       "    </tr>\n",
       "    <tr>\n",
       "      <th>12 Angry Men (1957)</th>\n",
       "      <td>4.295455</td>\n",
       "    </tr>\n",
       "  </tbody>\n",
       "</table>\n",
       "</div>"
      ],
      "text/plain": [
       "                                   Average Rating\n",
       "Title                                            \n",
       "'burbs, The (1989)                       2.910891\n",
       "10 Things I Hate About You (1999)        3.422857\n",
       "101 Dalmatians (1961)                    3.596460\n",
       "101 Dalmatians (1996)                    3.046703\n",
       "12 Angry Men (1957)                      4.295455"
      ]
     },
     "execution_count": 21,
     "metadata": {},
     "output_type": "execute_result"
    }
   ],
   "source": [
    "df_250plus_means.head() "
   ]
  },
  {
   "cell_type": "markdown",
   "metadata": {},
   "source": [
    "Among the movies with at least 250 ratings, we are asked to display those movies with the best average rating.<br>\n",
    "This is easily found by sorting *df_250plus_means*, for readability we display the top 5 best average ratings among the films with at least 250 ratings below:"
   ]
  },
  {
   "cell_type": "code",
   "execution_count": 22,
   "metadata": {},
   "outputs": [
    {
     "data": {
      "text/html": [
       "<div>\n",
       "<style scoped>\n",
       "    .dataframe tbody tr th:only-of-type {\n",
       "        vertical-align: middle;\n",
       "    }\n",
       "\n",
       "    .dataframe tbody tr th {\n",
       "        vertical-align: top;\n",
       "    }\n",
       "\n",
       "    .dataframe thead th {\n",
       "        text-align: right;\n",
       "    }\n",
       "</style>\n",
       "<table border=\"1\" class=\"dataframe\">\n",
       "  <thead>\n",
       "    <tr style=\"text-align: right;\">\n",
       "      <th></th>\n",
       "      <th>Average Rating</th>\n",
       "    </tr>\n",
       "    <tr>\n",
       "      <th>Title</th>\n",
       "      <th></th>\n",
       "    </tr>\n",
       "  </thead>\n",
       "  <tbody>\n",
       "    <tr>\n",
       "      <th>Seven Samurai (The Magnificent Seven) (Shichinin no samurai) (1954)</th>\n",
       "      <td>4.560510</td>\n",
       "    </tr>\n",
       "    <tr>\n",
       "      <th>Shawshank Redemption, The (1994)</th>\n",
       "      <td>4.554558</td>\n",
       "    </tr>\n",
       "    <tr>\n",
       "      <th>Godfather, The (1972)</th>\n",
       "      <td>4.524966</td>\n",
       "    </tr>\n",
       "    <tr>\n",
       "      <th>Close Shave, A (1995)</th>\n",
       "      <td>4.522866</td>\n",
       "    </tr>\n",
       "    <tr>\n",
       "      <th>Usual Suspects, The (1995)</th>\n",
       "      <td>4.517106</td>\n",
       "    </tr>\n",
       "  </tbody>\n",
       "</table>\n",
       "</div>"
      ],
      "text/plain": [
       "                                                    Average Rating\n",
       "Title                                                             \n",
       "Seven Samurai (The Magnificent Seven) (Shichini...        4.560510\n",
       "Shawshank Redemption, The (1994)                          4.554558\n",
       "Godfather, The (1972)                                     4.524966\n",
       "Close Shave, A (1995)                                     4.522866\n",
       "Usual Suspects, The (1995)                                4.517106"
      ]
     },
     "execution_count": 22,
     "metadata": {},
     "output_type": "execute_result"
    }
   ],
   "source": [
    "df_250plus_means.nlargest(5,'Average Rating')"
   ]
  },
  {
   "cell_type": "markdown",
   "metadata": {},
   "source": [
    "Question 1 d) Find the movies with the highest rating by female users, from 1995 to 2000."
   ]
  },
  {
   "cell_type": "code",
   "execution_count": 23,
   "metadata": {},
   "outputs": [],
   "source": [
    "#parse out the year from each title and add a column containing only year, call it 'film year'\n",
    "df_split = df['Title'].str[-5:]"
   ]
  },
  {
   "cell_type": "code",
   "execution_count": 24,
   "metadata": {},
   "outputs": [],
   "source": [
    "df_split = df_split.str[:-1]"
   ]
  },
  {
   "cell_type": "code",
   "execution_count": 25,
   "metadata": {},
   "outputs": [],
   "source": [
    "df['film year'] = df_split.astype(int)"
   ]
  },
  {
   "cell_type": "code",
   "execution_count": 26,
   "metadata": {},
   "outputs": [
    {
     "data": {
      "text/html": [
       "<div>\n",
       "<style scoped>\n",
       "    .dataframe tbody tr th:only-of-type {\n",
       "        vertical-align: middle;\n",
       "    }\n",
       "\n",
       "    .dataframe tbody tr th {\n",
       "        vertical-align: top;\n",
       "    }\n",
       "\n",
       "    .dataframe thead th {\n",
       "        text-align: right;\n",
       "    }\n",
       "</style>\n",
       "<table border=\"1\" class=\"dataframe\">\n",
       "  <thead>\n",
       "    <tr style=\"text-align: right;\">\n",
       "      <th></th>\n",
       "      <th>UserID</th>\n",
       "      <th>MovieID</th>\n",
       "      <th>Rating</th>\n",
       "      <th>Timestamp</th>\n",
       "      <th>Gender</th>\n",
       "      <th>Age</th>\n",
       "      <th>Occupation</th>\n",
       "      <th>Zip-code</th>\n",
       "      <th>Title</th>\n",
       "      <th>Genres</th>\n",
       "      <th>film year</th>\n",
       "    </tr>\n",
       "  </thead>\n",
       "  <tbody>\n",
       "    <tr>\n",
       "      <th>0</th>\n",
       "      <td>2</td>\n",
       "      <td>1357</td>\n",
       "      <td>5</td>\n",
       "      <td>978298709</td>\n",
       "      <td>M</td>\n",
       "      <td>56</td>\n",
       "      <td>16</td>\n",
       "      <td>70072</td>\n",
       "      <td>Shine (1996)</td>\n",
       "      <td>Drama|Romance</td>\n",
       "      <td>1996</td>\n",
       "    </tr>\n",
       "    <tr>\n",
       "      <th>1</th>\n",
       "      <td>8</td>\n",
       "      <td>1357</td>\n",
       "      <td>4</td>\n",
       "      <td>978230800</td>\n",
       "      <td>M</td>\n",
       "      <td>25</td>\n",
       "      <td>12</td>\n",
       "      <td>11413</td>\n",
       "      <td>Shine (1996)</td>\n",
       "      <td>Drama|Romance</td>\n",
       "      <td>1996</td>\n",
       "    </tr>\n",
       "    <tr>\n",
       "      <th>2</th>\n",
       "      <td>10</td>\n",
       "      <td>1357</td>\n",
       "      <td>5</td>\n",
       "      <td>978227625</td>\n",
       "      <td>F</td>\n",
       "      <td>35</td>\n",
       "      <td>1</td>\n",
       "      <td>95370</td>\n",
       "      <td>Shine (1996)</td>\n",
       "      <td>Drama|Romance</td>\n",
       "      <td>1996</td>\n",
       "    </tr>\n",
       "    <tr>\n",
       "      <th>3</th>\n",
       "      <td>18</td>\n",
       "      <td>1357</td>\n",
       "      <td>5</td>\n",
       "      <td>978156876</td>\n",
       "      <td>F</td>\n",
       "      <td>18</td>\n",
       "      <td>3</td>\n",
       "      <td>95825</td>\n",
       "      <td>Shine (1996)</td>\n",
       "      <td>Drama|Romance</td>\n",
       "      <td>1996</td>\n",
       "    </tr>\n",
       "    <tr>\n",
       "      <th>4</th>\n",
       "      <td>33</td>\n",
       "      <td>1357</td>\n",
       "      <td>4</td>\n",
       "      <td>978109488</td>\n",
       "      <td>M</td>\n",
       "      <td>45</td>\n",
       "      <td>3</td>\n",
       "      <td>55421</td>\n",
       "      <td>Shine (1996)</td>\n",
       "      <td>Drama|Romance</td>\n",
       "      <td>1996</td>\n",
       "    </tr>\n",
       "  </tbody>\n",
       "</table>\n",
       "</div>"
      ],
      "text/plain": [
       "   UserID  MovieID  Rating  Timestamp Gender  Age  Occupation Zip-code  \\\n",
       "0       2     1357       5  978298709      M   56          16    70072   \n",
       "1       8     1357       4  978230800      M   25          12    11413   \n",
       "2      10     1357       5  978227625      F   35           1    95370   \n",
       "3      18     1357       5  978156876      F   18           3    95825   \n",
       "4      33     1357       4  978109488      M   45           3    55421   \n",
       "\n",
       "          Title         Genres  film year  \n",
       "0  Shine (1996)  Drama|Romance       1996  \n",
       "1  Shine (1996)  Drama|Romance       1996  \n",
       "2  Shine (1996)  Drama|Romance       1996  \n",
       "3  Shine (1996)  Drama|Romance       1996  \n",
       "4  Shine (1996)  Drama|Romance       1996  "
      ]
     },
     "execution_count": 26,
     "metadata": {},
     "output_type": "execute_result"
    }
   ],
   "source": [
    "df.head()"
   ]
  },
  {
   "cell_type": "code",
   "execution_count": 27,
   "metadata": {},
   "outputs": [],
   "source": [
    "#filter the dataframe to only films between 1995 and 2000, assign this subset\n",
    "#to a new dataframe called df_yearfiltered.\n",
    "df_yearfiltered = df[(df['film year'] >= 1995) & (df['film year'] <= 2000)]"
   ]
  },
  {
   "cell_type": "code",
   "execution_count": 28,
   "metadata": {},
   "outputs": [
    {
     "name": "stdout",
     "output_type": "stream",
     "text": [
      "minimum filtered year is: 1995\n",
      "maximum filtered year is: 2000\n"
     ]
    }
   ],
   "source": [
    "#verify that df_yearfiltered contains only movies between 1995 and 2000\n",
    "print('minimum filtered year is:', df_yearfiltered['film year'].min())\n",
    "print('maximum filtered year is:', df_yearfiltered['film year'].max())"
   ]
  },
  {
   "cell_type": "code",
   "execution_count": 29,
   "metadata": {},
   "outputs": [],
   "source": [
    "#get the unique film titles that were made in the year range from 1995 to 2000\n",
    "year_range_titles = df_yearfiltered['Title'].unique()"
   ]
  },
  {
   "cell_type": "code",
   "execution_count": 30,
   "metadata": {},
   "outputs": [],
   "source": [
    "#convert the unique film titles to a list\n",
    "year_range_titles = list(year_range_titles)"
   ]
  },
  {
   "cell_type": "code",
   "execution_count": 31,
   "metadata": {},
   "outputs": [],
   "source": [
    "#get a copy of the average rating by gender pivot table from Question 1a.\n",
    "df_pivotcopy = df_gender_pivot"
   ]
  },
  {
   "cell_type": "code",
   "execution_count": 32,
   "metadata": {},
   "outputs": [],
   "source": [
    "#since the index of this pivot table is the film titles\n",
    "#we can filter this pivot table by its index using our year_range_titles list\n",
    "#this will give us a pivot table of average ratings by gender of only the films between 1995 and 2000\n",
    "df_pivotcopy = df_pivotcopy[df_pivotcopy.index.isin(year_range_titles)]"
   ]
  },
  {
   "cell_type": "code",
   "execution_count": 33,
   "metadata": {},
   "outputs": [
    {
     "data": {
      "text/html": [
       "<div>\n",
       "<style scoped>\n",
       "    .dataframe tbody tr th:only-of-type {\n",
       "        vertical-align: middle;\n",
       "    }\n",
       "\n",
       "    .dataframe tbody tr th {\n",
       "        vertical-align: top;\n",
       "    }\n",
       "\n",
       "    .dataframe thead th {\n",
       "        text-align: right;\n",
       "    }\n",
       "</style>\n",
       "<table border=\"1\" class=\"dataframe\">\n",
       "  <thead>\n",
       "    <tr style=\"text-align: right;\">\n",
       "      <th>Gender</th>\n",
       "      <th>F</th>\n",
       "      <th>M</th>\n",
       "    </tr>\n",
       "    <tr>\n",
       "      <th>Title</th>\n",
       "      <th></th>\n",
       "      <th></th>\n",
       "    </tr>\n",
       "  </thead>\n",
       "  <tbody>\n",
       "    <tr>\n",
       "      <th>24 7: Twenty Four Seven (1997)</th>\n",
       "      <td>5.0</td>\n",
       "      <td>3.750000</td>\n",
       "    </tr>\n",
       "    <tr>\n",
       "      <th>Ayn Rand: A Sense of Life (1997)</th>\n",
       "      <td>5.0</td>\n",
       "      <td>4.000000</td>\n",
       "    </tr>\n",
       "    <tr>\n",
       "      <th>Belly (1998)</th>\n",
       "      <td>5.0</td>\n",
       "      <td>3.000000</td>\n",
       "    </tr>\n",
       "    <tr>\n",
       "      <th>Bittersweet Motel (2000)</th>\n",
       "      <td>5.0</td>\n",
       "      <td>NaN</td>\n",
       "    </tr>\n",
       "    <tr>\n",
       "      <th>Coldblooded (1995)</th>\n",
       "      <td>5.0</td>\n",
       "      <td>3.588235</td>\n",
       "    </tr>\n",
       "  </tbody>\n",
       "</table>\n",
       "</div>"
      ],
      "text/plain": [
       "Gender                              F         M\n",
       "Title                                          \n",
       "24 7: Twenty Four Seven (1997)    5.0  3.750000\n",
       "Ayn Rand: A Sense of Life (1997)  5.0  4.000000\n",
       "Belly (1998)                      5.0  3.000000\n",
       "Bittersweet Motel (2000)          5.0       NaN\n",
       "Coldblooded (1995)                5.0  3.588235"
      ]
     },
     "execution_count": 33,
     "metadata": {},
     "output_type": "execute_result"
    }
   ],
   "source": [
    "#Lastly, we report the movies with the highest rating by female users for movies in the \n",
    "#year range 1995-2000. Highest rating here meaning highest average female rating.\n",
    "#For readability we display the top 5 only.\n",
    "df_pivotcopy['Rating'].nlargest(5,'F')"
   ]
  },
  {
   "cell_type": "markdown",
   "metadata": {},
   "source": [
    "Question 1 e) Consider gender disagreement as the difference between the average rating of males minus the females. use part(a) to find the five movies with the largest gender disagreement."
   ]
  },
  {
   "cell_type": "markdown",
   "metadata": {},
   "source": [
    "By the question, we define gender disagreement as the difference: Male Average Rating - Female Average Rating (It was clarified by Dr. Acosta that we are not to consider the Absolute magnitude of difference). Accordingly, we can find this simply by adding another column to the df_gender_pivot table called 'Disagreement' which stores the difference between the Male and Female Average Ratings that are given for each film."
   ]
  },
  {
   "cell_type": "code",
   "execution_count": 34,
   "metadata": {},
   "outputs": [],
   "source": [
    "df_gender_pivot['Disagreement'] = df_gender_pivot['Rating']['M'] - df_gender_pivot['Rating']['F']"
   ]
  },
  {
   "cell_type": "markdown",
   "metadata": {},
   "source": [
    "**Answer**: The top 5 movies with largest gender disagreement (male avg rating - female avg rating) are:"
   ]
  },
  {
   "cell_type": "code",
   "execution_count": 35,
   "metadata": {},
   "outputs": [
    {
     "data": {
      "text/html": [
       "<div>\n",
       "<style scoped>\n",
       "    .dataframe tbody tr th:only-of-type {\n",
       "        vertical-align: middle;\n",
       "    }\n",
       "\n",
       "    .dataframe tbody tr th {\n",
       "        vertical-align: top;\n",
       "    }\n",
       "\n",
       "    .dataframe thead tr th {\n",
       "        text-align: left;\n",
       "    }\n",
       "\n",
       "    .dataframe thead tr:last-of-type th {\n",
       "        text-align: right;\n",
       "    }\n",
       "</style>\n",
       "<table border=\"1\" class=\"dataframe\">\n",
       "  <thead>\n",
       "    <tr>\n",
       "      <th></th>\n",
       "      <th colspan=\"2\" halign=\"left\">Rating</th>\n",
       "      <th>Disagreement</th>\n",
       "    </tr>\n",
       "    <tr>\n",
       "      <th>Gender</th>\n",
       "      <th>F</th>\n",
       "      <th>M</th>\n",
       "      <th></th>\n",
       "    </tr>\n",
       "    <tr>\n",
       "      <th>Title</th>\n",
       "      <th></th>\n",
       "      <th></th>\n",
       "      <th></th>\n",
       "    </tr>\n",
       "  </thead>\n",
       "  <tbody>\n",
       "    <tr>\n",
       "      <th>Tigrero: A Film That Was Never Made (1994)</th>\n",
       "      <td>1.0</td>\n",
       "      <td>4.333333</td>\n",
       "      <td>3.333333</td>\n",
       "    </tr>\n",
       "    <tr>\n",
       "      <th>Neon Bible, The (1995)</th>\n",
       "      <td>1.0</td>\n",
       "      <td>4.000000</td>\n",
       "      <td>3.000000</td>\n",
       "    </tr>\n",
       "    <tr>\n",
       "      <th>Enfer, L' (1994)</th>\n",
       "      <td>1.0</td>\n",
       "      <td>3.750000</td>\n",
       "      <td>2.750000</td>\n",
       "    </tr>\n",
       "    <tr>\n",
       "      <th>Stalingrad (1993)</th>\n",
       "      <td>1.0</td>\n",
       "      <td>3.593750</td>\n",
       "      <td>2.593750</td>\n",
       "    </tr>\n",
       "    <tr>\n",
       "      <th>Killer: A Journal of Murder (1995)</th>\n",
       "      <td>1.0</td>\n",
       "      <td>3.428571</td>\n",
       "      <td>2.428571</td>\n",
       "    </tr>\n",
       "  </tbody>\n",
       "</table>\n",
       "</div>"
      ],
      "text/plain": [
       "                                           Rating           Disagreement\n",
       "Gender                                          F         M             \n",
       "Title                                                                   \n",
       "Tigrero: A Film That Was Never Made (1994)    1.0  4.333333     3.333333\n",
       "Neon Bible, The (1995)                        1.0  4.000000     3.000000\n",
       "Enfer, L' (1994)                              1.0  3.750000     2.750000\n",
       "Stalingrad (1993)                             1.0  3.593750     2.593750\n",
       "Killer: A Journal of Murder (1995)            1.0  3.428571     2.428571"
      ]
     },
     "execution_count": 35,
     "metadata": {},
     "output_type": "execute_result"
    }
   ],
   "source": [
    "df_gender_pivot.nlargest(5, 'Disagreement')"
   ]
  },
  {
   "cell_type": "markdown",
   "metadata": {},
   "source": [
    "Question 1 f) Plot a histogram showing the distribution of ratings of Animation and Comedy movies overlapping. Use a different color for Animation and for Comedy."
   ]
  },
  {
   "cell_type": "code",
   "execution_count": 36,
   "metadata": {},
   "outputs": [],
   "source": [
    "#create indicator columns to identify films whose Genres contain the classification 'Animation'\n",
    "#and those which contain the classification 'Comedy'\n",
    "df['Animation'] = df['Genres'].str.contains('Animation').astype(int)\n",
    "df['Comedy'] = df['Genres'].str.contains('Comedy').astype(int)"
   ]
  },
  {
   "cell_type": "code",
   "execution_count": 37,
   "metadata": {},
   "outputs": [
    {
     "data": {
      "text/html": [
       "<div>\n",
       "<style scoped>\n",
       "    .dataframe tbody tr th:only-of-type {\n",
       "        vertical-align: middle;\n",
       "    }\n",
       "\n",
       "    .dataframe tbody tr th {\n",
       "        vertical-align: top;\n",
       "    }\n",
       "\n",
       "    .dataframe thead th {\n",
       "        text-align: right;\n",
       "    }\n",
       "</style>\n",
       "<table border=\"1\" class=\"dataframe\">\n",
       "  <thead>\n",
       "    <tr style=\"text-align: right;\">\n",
       "      <th></th>\n",
       "      <th>UserID</th>\n",
       "      <th>MovieID</th>\n",
       "      <th>Rating</th>\n",
       "      <th>Timestamp</th>\n",
       "      <th>Gender</th>\n",
       "      <th>Age</th>\n",
       "      <th>Occupation</th>\n",
       "      <th>Zip-code</th>\n",
       "      <th>Title</th>\n",
       "      <th>Genres</th>\n",
       "      <th>film year</th>\n",
       "      <th>Animation</th>\n",
       "      <th>Comedy</th>\n",
       "    </tr>\n",
       "  </thead>\n",
       "  <tbody>\n",
       "    <tr>\n",
       "      <th>0</th>\n",
       "      <td>2</td>\n",
       "      <td>1357</td>\n",
       "      <td>5</td>\n",
       "      <td>978298709</td>\n",
       "      <td>M</td>\n",
       "      <td>56</td>\n",
       "      <td>16</td>\n",
       "      <td>70072</td>\n",
       "      <td>Shine (1996)</td>\n",
       "      <td>Drama|Romance</td>\n",
       "      <td>1996</td>\n",
       "      <td>0</td>\n",
       "      <td>0</td>\n",
       "    </tr>\n",
       "    <tr>\n",
       "      <th>1</th>\n",
       "      <td>8</td>\n",
       "      <td>1357</td>\n",
       "      <td>4</td>\n",
       "      <td>978230800</td>\n",
       "      <td>M</td>\n",
       "      <td>25</td>\n",
       "      <td>12</td>\n",
       "      <td>11413</td>\n",
       "      <td>Shine (1996)</td>\n",
       "      <td>Drama|Romance</td>\n",
       "      <td>1996</td>\n",
       "      <td>0</td>\n",
       "      <td>0</td>\n",
       "    </tr>\n",
       "    <tr>\n",
       "      <th>2</th>\n",
       "      <td>10</td>\n",
       "      <td>1357</td>\n",
       "      <td>5</td>\n",
       "      <td>978227625</td>\n",
       "      <td>F</td>\n",
       "      <td>35</td>\n",
       "      <td>1</td>\n",
       "      <td>95370</td>\n",
       "      <td>Shine (1996)</td>\n",
       "      <td>Drama|Romance</td>\n",
       "      <td>1996</td>\n",
       "      <td>0</td>\n",
       "      <td>0</td>\n",
       "    </tr>\n",
       "  </tbody>\n",
       "</table>\n",
       "</div>"
      ],
      "text/plain": [
       "   UserID  MovieID  Rating  Timestamp Gender  Age  Occupation Zip-code  \\\n",
       "0       2     1357       5  978298709      M   56          16    70072   \n",
       "1       8     1357       4  978230800      M   25          12    11413   \n",
       "2      10     1357       5  978227625      F   35           1    95370   \n",
       "\n",
       "          Title         Genres  film year  Animation  Comedy  \n",
       "0  Shine (1996)  Drama|Romance       1996          0       0  \n",
       "1  Shine (1996)  Drama|Romance       1996          0       0  \n",
       "2  Shine (1996)  Drama|Romance       1996          0       0  "
      ]
     },
     "execution_count": 37,
     "metadata": {},
     "output_type": "execute_result"
    }
   ],
   "source": [
    "df[:3]"
   ]
  },
  {
   "cell_type": "code",
   "execution_count": 38,
   "metadata": {},
   "outputs": [],
   "source": [
    "#get the films that are animation genre and put them in a dataframe called dfanimation,\n",
    "#repeat for the comedy genre films.\n",
    "dfanimation = df[df['Animation'] == 1]"
   ]
  },
  {
   "cell_type": "code",
   "execution_count": 39,
   "metadata": {},
   "outputs": [],
   "source": [
    "dfanimation = dfanimation[['Rating']]"
   ]
  },
  {
   "cell_type": "code",
   "execution_count": 40,
   "metadata": {},
   "outputs": [],
   "source": [
    "dfcomedy = df[df['Comedy']==1]"
   ]
  },
  {
   "cell_type": "code",
   "execution_count": 41,
   "metadata": {},
   "outputs": [],
   "source": [
    "dfcomedy = dfcomedy[['Rating']]"
   ]
  },
  {
   "cell_type": "markdown",
   "metadata": {},
   "source": [
    "**Answer:**"
   ]
  },
  {
   "cell_type": "code",
   "execution_count": 42,
   "metadata": {
    "scrolled": true
   },
   "outputs": [
    {
     "data": {
      "image/png": "[encoded data removed]",
      "text/plain": [
       "<Figure size 432x288 with 1 Axes>"
      ]
     },
     "metadata": {
      "needs_background": "light"
     },
     "output_type": "display_data"
    }
   ],
   "source": [
    "dfanimation['Rating'].hist(alpha=0.8,label='x', grid = True);\n",
    "dfcomedy['Rating'].hist(alpha=0.2,label='x', color='r',grid = True);\n",
    "\n",
    "plt.suptitle('Distribution of Ratings for Animation & Comedy Movies', x=0.5, y=1.05, ha='center', fontsize='x-large');\n",
    "#Blue is animation, pink is comedy"
   ]
  },
  {
   "cell_type": "markdown",
   "metadata": {},
   "source": [
    "Question 1 g) Find the average rating (during each year) of each genre. Show a colored line plot of average rating vs. year with a legend identifying the genre by color."
   ]
  },
  {
   "cell_type": "code",
   "execution_count": 43,
   "metadata": {},
   "outputs": [
    {
     "data": {
      "text/plain": [
       "array(['Drama|Romance', 'Drama', 'Comedy', 'Drama|War',\n",
       "       'Action|Crime|Drama', 'Action|Adventure|Mystery', 'Crime|Drama',\n",
       "       'Action|Adventure|Fantasy|Sci-Fi',\n",
       "       'Action|Adventure|Sci-Fi|Thriller',\n",
       "       'Action|Adventure|Romance|Sci-Fi|War', 'Action|Thriller',\n",
       "       'Action|Drama', 'Comedy|Drama|Western', 'Action|Adventure|Crime',\n",
       "       'Action|Crime|Mystery|Thriller', 'Comedy|Drama|Romance',\n",
       "       'Comedy|Drama|War', 'Drama|Sci-Fi', 'Action|Drama|Thriller',\n",
       "       'Action|Comedy|Western', 'Adventure|Comedy|Drama',\n",
       "       'Drama|Thriller', 'Comedy|Romance', 'Comedy|Drama',\n",
       "       'Action|Drama|Romance|Thriller', 'Action|Drama|War',\n",
       "       'Action|Crime|Thriller', 'Action|Sci-Fi|Thriller',\n",
       "       'Action|Horror|Sci-Fi', 'Action|Sci-Fi', 'Action|Romance|War',\n",
       "       'Adventure|Drama|Romance|Sci-Fi', 'Action|Adventure|Sci-Fi',\n",
       "       'Drama|Romance|War', 'Action|Drama|Romance',\n",
       "       'Crime|Drama|Film-Noir|Thriller', 'Adventure|Drama|Western',\n",
       "       'Action|Adventure|Drama|Sci-Fi|War', 'Action|Adventure|Thriller',\n",
       "       'Action|Adventure|Romance|Thriller', 'Action|Adventure',\n",
       "       'Comedy|Horror', 'Action|Crime|Drama|Thriller',\n",
       "       'Action|Mystery|Romance|Thriller', 'Action|Romance|Thriller',\n",
       "       'Action|Comedy|Drama', 'Action|Adventure|Comedy|Romance', 'Action',\n",
       "       'Action|Sci-Fi|War', 'Action|Comedy|Crime|Drama',\n",
       "       'Action|Adventure|Romance', 'Comedy|Romance|War',\n",
       "       'Comedy|Thriller', 'Action|Adventure|Comedy', 'Action|Comedy',\n",
       "       'Adventure|Thriller', 'Action|Adventure|Fantasy',\n",
       "       'Action|Adventure|Horror', 'Action|Adventure|Comedy|Sci-Fi',\n",
       "       \"Animation|Children's|Comedy\", 'Action|Adventure|Comedy|Horror',\n",
       "       'Western', 'Comedy|Sci-Fi', 'Adventure|Comedy', 'Adventure|Drama',\n",
       "       'Action|Adventure|Horror|Thriller', 'Comedy|Western',\n",
       "       \"Animation|Children's|Comedy|Musical|Romance\", 'Action|Western',\n",
       "       'Action|Horror|Sci-Fi|Thriller', \"Children's|Drama|Fantasy|Sci-Fi\",\n",
       "       'Action|Horror', 'Action|Crime|Romance',\n",
       "       'Adventure|Animation|Film-Noir', 'Drama|Romance|Thriller',\n",
       "       'Crime|Drama|Romance|Thriller', 'Romance', \"Animation|Children's\",\n",
       "       'Crime|Thriller', 'Animation|Comedy', 'Documentary',\n",
       "       'Crime|Film-Noir|Mystery|Thriller', 'Drama|Horror',\n",
       "       'Mystery|Sci-Fi|Thriller', 'Thriller', 'Drama|Mystery',\n",
       "       'Horror|Romance', 'Horror|Sci-Fi', 'Horror', 'Sci-Fi|Thriller',\n",
       "       'Crime', 'Action|Crime', 'Crime|Drama|Thriller', 'Crime|Horror',\n",
       "       'Drama|Mystery|Thriller', 'Comedy|Crime', 'Drama|Sci-Fi|Thriller',\n",
       "       \"Children's|Comedy\", 'Horror|Mystery|Thriller',\n",
       "       \"Children's|Comedy|Musical\", 'Film-Noir|Mystery',\n",
       "       'Comedy|Crime|Mystery|Thriller',\n",
       "       \"Adventure|Children's|Drama|Musical\", 'Drama|Musical',\n",
       "       'Adventure|Sci-Fi', \"Children's|Comedy|Drama\", 'Action|Romance',\n",
       "       \"Adventure|Animation|Children's|Musical\",\n",
       "       \"Animation|Children's|Musical\", 'Musical',\n",
       "       \"Animation|Children's|Musical|Romance\",\n",
       "       \"Animation|Children's|Comedy|Musical\",\n",
       "       \"Adventure|Animation|Children's|Comedy|Musical\", 'Comedy|Musical',\n",
       "       \"Children's|Fantasy|Musical\", \"Children's|Comedy|Western\",\n",
       "       'Musical|Romance', 'Drama|Romance|War|Western',\n",
       "       \"Adventure|Children's|Comedy\", 'Comedy|Fantasy|Romance',\n",
       "       'Comedy|Musical|Romance', \"Adventure|Children's|Drama\",\n",
       "       'Action|Drama|Thriller|War', 'Drama|Thriller|War',\n",
       "       'Adventure|Animation|Sci-Fi|Thriller', 'Animation|Sci-Fi',\n",
       "       'Comedy|Crime|Drama|Mystery', 'Crime|Drama|Mystery',\n",
       "       'Action|Comedy|Sci-Fi|Thriller', 'Animation',\n",
       "       'Comedy|Crime|Fantasy', 'Animation|Comedy|Thriller',\n",
       "       'Horror|Sci-Fi|Thriller', 'Comedy|Fantasy',\n",
       "       \"Adventure|Children's|Comedy|Fantasy|Sci-Fi\",\n",
       "       'Film-Noir|Mystery|Thriller', 'Adventure', 'Comedy|War',\n",
       "       'Comedy|Romance|Thriller', \"Action|Children's|Fantasy\",\n",
       "       \"Adventure|Children's|Fantasy\", 'Action|Adventure|Comedy|Crime',\n",
       "       'Adventure|Musical', \"Animation|Children's|Drama|Fantasy\",\n",
       "       'Comedy|Mystery|Thriller', 'Action|Adventure|Crime|Drama',\n",
       "       \"Children's|Fantasy|Sci-Fi\", \"Adventure|Children's\", 'War',\n",
       "       'Comedy|Horror|Musical|Sci-Fi', \"Children's|Comedy|Fantasy\",\n",
       "       'Sci-Fi|War', \"Animation|Children's|Fantasy|Musical\",\n",
       "       'Action|Adventure|Drama', \"Children's|Sci-Fi\",\n",
       "       \"Adventure|Children's|Fantasy|Sci-Fi\", 'Mystery|Thriller',\n",
       "       'Comedy|Horror|Musical', \"Children's|Drama\",\n",
       "       'Action|Horror|Thriller', 'Adventure|Fantasy',\n",
       "       'Drama|Mystery|Sci-Fi|Thriller', 'Crime|Drama|Sci-Fi',\n",
       "       \"Adventure|Children's|Musical\", 'Action|Sci-Fi|Thriller|War',\n",
       "       'Adventure|War', 'Action|Adventure|Romance|War',\n",
       "       'Action|Drama|Fantasy|Romance', 'Adventure|Comedy|Sci-Fi',\n",
       "       'Comedy|Sci-Fi|Western', 'Action|Adventure|Comedy|Horror|Sci-Fi',\n",
       "       \"Adventure|Children's|Comedy|Fantasy\", 'Film-Noir|Sci-Fi',\n",
       "       'Drama|Fantasy', \"Children's|Drama|Fantasy\", \"Children's|Fantasy\",\n",
       "       'Fantasy|Sci-Fi', 'Action|Comedy|Musical',\n",
       "       'Adventure|Fantasy|Sci-Fi', 'Action|Adventure|Sci-Fi|War',\n",
       "       \"Action|Adventure|Children's|Comedy\",\n",
       "       \"Adventure|Children's|Drama|Romance\",\n",
       "       \"Adventure|Children's|Sci-Fi\", \"Children's\",\n",
       "       'Comedy|Drama|Musical', 'Comedy|Fantasy|Romance|Sci-Fi',\n",
       "       'Comedy|Crime|Drama', 'Sci-Fi', 'Adventure|Fantasy|Romance',\n",
       "       'Adventure|Romance', 'Adventure|Western', 'Action|Drama|Mystery',\n",
       "       'Adventure|Animation|Sci-Fi', 'Adventure|Romance|Sci-Fi',\n",
       "       'Horror|Thriller', 'Action|Adventure|Mystery|Sci-Fi',\n",
       "       'Adventure|Drama|Thriller', 'Comedy|Horror|Thriller',\n",
       "       'Action|Comedy|Crime|Horror|Thriller',\n",
       "       'Crime|Horror|Mystery|Thriller', 'Crime|Horror|Thriller',\n",
       "       'Crime|Drama|Mystery|Thriller', 'Animation|Musical',\n",
       "       'Action|Sci-Fi|Western', 'Crime|Drama|Film-Noir',\n",
       "       'Adventure|Sci-Fi|Thriller', 'Drama|Fantasy|Romance|Thriller',\n",
       "       'Mystery|Sci-Fi', 'Action|Crime|Sci-Fi', 'Comedy|Mystery',\n",
       "       'Action|Romance|Sci-Fi', 'Crime|Film-Noir|Mystery',\n",
       "       'Comedy|Drama|Sci-Fi', 'Sci-Fi|Thriller|War', 'Film-Noir|Thriller',\n",
       "       'Action|Adventure|Animation|Horror|Sci-Fi',\n",
       "       'Action|Sci-Fi|Thriller|Western', 'Comedy|Horror|Sci-Fi',\n",
       "       'Crime|Film-Noir|Thriller', 'Comedy|Crime|Thriller',\n",
       "       'Film-Noir|Sci-Fi|Thriller',\n",
       "       \"Adventure|Animation|Children's|Sci-Fi\",\n",
       "       'Action|Adventure|Drama|Romance', \"Children's|Musical\",\n",
       "       'Action|Comedy|Musical|Sci-Fi', 'Action|Drama|Sci-Fi|Thriller',\n",
       "       'Action|Comedy|Fantasy', 'Action|War', 'Action|Comedy|Sci-Fi|War',\n",
       "       'Comedy|Crime|Horror', 'Action|Comedy|War',\n",
       "       \"Action|Adventure|Children's|Sci-Fi\", \"Action|Children's\",\n",
       "       'Comedy|Documentary', 'Action|Adventure|Animation',\n",
       "       'Action|Mystery|Thriller',\n",
       "       \"Action|Animation|Children's|Sci-Fi|Thriller|War\",\n",
       "       'Crime|Drama|Romance', 'Crime|Film-Noir',\n",
       "       'Mystery|Romance|Thriller', 'Comedy|Mystery|Romance|Thriller',\n",
       "       'Action|Adventure|Sci-Fi|Thriller|War',\n",
       "       'Adventure|Crime|Sci-Fi|Thriller', 'Action|Adventure|Western',\n",
       "       \"Animation|Children's|Fantasy|War\", 'Action|Adventure|Comedy|War',\n",
       "       \"Children's|Comedy|Sci-Fi\",\n",
       "       \"Adventure|Animation|Children's|Comedy|Fantasy\",\n",
       "       'Drama|Musical|War', 'Drama|Mystery|Romance',\n",
       "       'Adventure|Drama|Romance', 'Film-Noir',\n",
       "       'Film-Noir|Romance|Thriller', 'Drama|Film-Noir',\n",
       "       'Romance|Thriller', 'Action|Adventure|War', 'Mystery',\n",
       "       'Action|Adventure|Drama|Thriller', 'Musical|Romance|War',\n",
       "       'Drama|Western', 'Action|Drama|Mystery|Romance|Thriller',\n",
       "       'Adventure|Comedy|Musical', 'Documentary|Musical',\n",
       "       'Action|Thriller|War', 'Adventure|Comedy|Romance',\n",
       "       \"Adventure|Children's|Comedy|Fantasy|Romance\", 'Romance|War',\n",
       "       'Comedy|Romance|Sci-Fi', 'Action|Mystery|Sci-Fi|Thriller',\n",
       "       \"Children's|Horror\", 'Adventure|Musical|Romance',\n",
       "       \"Adventure|Children's|Comedy|Musical\", \"Children's|Comedy|Mystery\",\n",
       "       'Action|Comedy|Romance|Thriller', 'Action|Drama|Western',\n",
       "       \"Animation|Children's|Comedy|Romance\", 'Comedy|Mystery|Romance',\n",
       "       'Action|Crime|Mystery', 'Comedy|Drama|Thriller', 'Musical|War',\n",
       "       'Documentary|Drama', 'Action|Adventure|Crime|Thriller',\n",
       "       \"Action|Adventure|Children's\", \"Adventure|Children's|Romance\",\n",
       "       \"Adventure|Animation|Children's\",\n",
       "       \"Action|Adventure|Animation|Children's|Fantasy\",\n",
       "       \"Adventure|Animation|Children's|Fantasy\",\n",
       "       'Drama|Film-Noir|Thriller', 'Crime|Mystery', 'Documentary|War',\n",
       "       'Action|Comedy|Crime', 'Drama|Romance|Sci-Fi', 'Horror|Mystery',\n",
       "       'Drama|Horror|Thriller', \"Action|Adventure|Children's|Fantasy\",\n",
       "       'Animation|Mystery', 'Drama|Romance|Western', 'Romance|Western',\n",
       "       'Comedy|Film-Noir|Thriller', 'Fantasy', 'Film-Noir|Horror'],\n",
       "      dtype=object)"
      ]
     },
     "execution_count": 43,
     "metadata": {},
     "output_type": "execute_result"
    }
   ],
   "source": [
    "df.Genres.unique()"
   ]
  },
  {
   "cell_type": "code",
   "execution_count": 44,
   "metadata": {},
   "outputs": [],
   "source": [
    "df = df[['MovieID', 'Title', 'Rating', 'Gender', 'Genres', 'film year', 'Animation', 'Comedy']]"
   ]
  },
  {
   "cell_type": "code",
   "execution_count": 45,
   "metadata": {},
   "outputs": [
    {
     "data": {
      "text/html": [
       "<div>\n",
       "<style scoped>\n",
       "    .dataframe tbody tr th:only-of-type {\n",
       "        vertical-align: middle;\n",
       "    }\n",
       "\n",
       "    .dataframe tbody tr th {\n",
       "        vertical-align: top;\n",
       "    }\n",
       "\n",
       "    .dataframe thead th {\n",
       "        text-align: right;\n",
       "    }\n",
       "</style>\n",
       "<table border=\"1\" class=\"dataframe\">\n",
       "  <thead>\n",
       "    <tr style=\"text-align: right;\">\n",
       "      <th></th>\n",
       "      <th>MovieID</th>\n",
       "      <th>Title</th>\n",
       "      <th>Rating</th>\n",
       "      <th>Gender</th>\n",
       "      <th>Genres</th>\n",
       "      <th>film year</th>\n",
       "      <th>Animation</th>\n",
       "      <th>Comedy</th>\n",
       "    </tr>\n",
       "  </thead>\n",
       "  <tbody>\n",
       "    <tr>\n",
       "      <th>0</th>\n",
       "      <td>1357</td>\n",
       "      <td>Shine (1996)</td>\n",
       "      <td>5</td>\n",
       "      <td>M</td>\n",
       "      <td>Drama|Romance</td>\n",
       "      <td>1996</td>\n",
       "      <td>0</td>\n",
       "      <td>0</td>\n",
       "    </tr>\n",
       "    <tr>\n",
       "      <th>1</th>\n",
       "      <td>1357</td>\n",
       "      <td>Shine (1996)</td>\n",
       "      <td>4</td>\n",
       "      <td>M</td>\n",
       "      <td>Drama|Romance</td>\n",
       "      <td>1996</td>\n",
       "      <td>0</td>\n",
       "      <td>0</td>\n",
       "    </tr>\n",
       "  </tbody>\n",
       "</table>\n",
       "</div>"
      ],
      "text/plain": [
       "   MovieID         Title  Rating Gender         Genres  film year  Animation  \\\n",
       "0     1357  Shine (1996)       5      M  Drama|Romance       1996          0   \n",
       "1     1357  Shine (1996)       4      M  Drama|Romance       1996          0   \n",
       "\n",
       "   Comedy  \n",
       "0       0  \n",
       "1       0  "
      ]
     },
     "execution_count": 45,
     "metadata": {},
     "output_type": "execute_result"
    }
   ],
   "source": [
    "df[:2]"
   ]
  },
  {
   "cell_type": "markdown",
   "metadata": {},
   "source": [
    "From the README file, we know that the available 18 Genres are the following:\n",
    "    1. Action\n",
    "\t2. Adventure\n",
    "\t3. Animation\n",
    "\t4. Children's\n",
    "\t5. Comedy\n",
    "\t6. Crime\n",
    "\t7. Documentary\n",
    "\t8. Drama\n",
    "\t9. Fantasy\n",
    "    10. Film-Noir\n",
    "\t11. Horror\n",
    "\t12. Musical\n",
    "\t13. Mystery\n",
    "\t14. Romance\n",
    "\t15. Sci-Fi\n",
    "\t16. Thriller\n",
    "\t17. War\n",
    "\t18. Western\n",
    " From which we can create a bernoulli indicator variable column for each one."
   ]
  },
  {
   "cell_type": "code",
   "execution_count": 46,
   "metadata": {},
   "outputs": [],
   "source": [
    "#define a 0-1 indicator column for each genre\n",
    "df['Action'] = df['Genres'].str.contains('Action').astype(int)\n",
    "df[\"Adventure\"] = df['Genres'].str.contains('Adventure').astype(int)\n",
    "df[\"Children's\"] = df['Genres'].str.contains(\"Children's\").astype(int)\n",
    "df['Crime'] = df['Genres'].str.contains('Crime').astype(int)\n",
    "df['Documentary'] = df['Genres'].str.contains('Documentary').astype(int)\n",
    "df['Drama'] = df['Genres'].str.contains('Drama').astype(int)\n",
    "df['Fantasy'] = df['Genres'].str.contains('Fantasy').astype(int)\n",
    "df['Film-Noir'] = df['Genres'].str.contains('Film-Noir').astype(int)\n",
    "df['Horror'] = df['Genres'].str.contains('Horror').astype(int)\n",
    "df['Musical'] = df['Genres'].str.contains('Musical').astype(int)\n",
    "df['Mystery'] = df['Genres'].str.contains('Mystery').astype(int)\n",
    "df['Romance'] = df['Genres'].str.contains('Romance').astype(int)\n",
    "df['Sci-Fi'] = df['Genres'].str.contains('Sci-Fi').astype(int)\n",
    "df['Thriller'] = df['Genres'].str.contains('Thriller').astype(int)\n",
    "df['War'] = df['Genres'].str.contains('War').astype(int)\n",
    "df['Western'] = df['Genres'].str.contains('Western').astype(int)"
   ]
  },
  {
   "cell_type": "code",
   "execution_count": 47,
   "metadata": {},
   "outputs": [],
   "source": [
    "#for each genre dataframe, get the average rating for the genre by film year \n",
    "dfAnimation = df[df['Animation'] == 1].groupby('film year').mean()\n",
    "dfComedy = df[df['Comedy']==1].groupby('film year').mean()\n",
    "dfAction = df[df['Action']==1].groupby('film year').mean()\n",
    "dfAdventure = df[df[\"Adventure\"]==1].groupby('film year').mean()\n",
    "dfChildrens= df[df[\"Children's\"] ==1].groupby('film year').mean()\n",
    "dfCrime = df[df['Crime'] == 1].groupby('film year').mean()\n",
    "dfDocumentary = df[df['Documentary'] == 1].groupby('film year').mean()\n",
    "dfDrama = df[df['Drama'] == 1].groupby('film year').mean()\n",
    "dfFantasy = df[df['Fantasy'] == 1].groupby('film year').mean()\n",
    "dfFilmNoir = df[df['Film-Noir'] ==1].groupby('film year').mean()\n",
    "dfHorror = df[df['Horror'] ==1].groupby('film year').mean()\n",
    "dfMusical = df[df['Musical'] ==1].groupby('film year').mean()\n",
    "dfMystery = df[df['Mystery'] ==1].groupby('film year').mean()\n",
    "dfRomance = df[df['Romance'] ==1].groupby('film year').mean()\n",
    "dfSciFi = df[df['Sci-Fi'] ==1].groupby('film year').mean()\n",
    "dfThriller = df[df['Thriller'] ==1].groupby('film year').mean()\n",
    "dfWar = df[df['War'] ==1].groupby('film year').mean()\n",
    "dfWestern = df[df['Western'] ==1].groupby('film year').mean()"
   ]
  },
  {
   "cell_type": "code",
   "execution_count": 48,
   "metadata": {},
   "outputs": [],
   "source": [
    "#collect all the genre average ratings\n",
    "dfAnimation = dfAnimation[['Rating']]\n",
    "dfComedy = dfComedy[['Rating']]\n",
    "dfAction = dfAction[['Rating']]\n",
    "dfAdventure = dfAdventure[['Rating']]\n",
    "dfChildrens = dfChildrens[['Rating']]\n",
    "dfCrime = dfCrime[['Rating']]\n",
    "dfDocumentary = dfDocumentary[['Rating']]\n",
    "dfDrama = dfDrama[['Rating']]\n",
    "dfFantasy = dfFantasy[['Rating']]\n",
    "dfFilmNoir = dfFilmNoir[['Rating']]\n",
    "dfHorror = dfHorror[['Rating']]\n",
    "dfMusical = dfMusical[['Rating']]\n",
    "dfMystery = dfMystery[['Rating']]\n",
    "dfRomance = dfRomance[['Rating']]\n",
    "dfSciFi = dfSciFi[['Rating']]\n",
    "dfThriller = dfThriller[['Rating']]\n",
    "dfWar = dfWar[['Rating']]\n",
    "dfWestern = dfWestern[['Rating']]"
   ]
  },
  {
   "cell_type": "code",
   "execution_count": 49,
   "metadata": {},
   "outputs": [],
   "source": [
    "#rename each column\n",
    "dfAnimation.rename(columns={'Rating':'Animation Rating'},inplace=True)\n",
    "dfComedy.rename(columns={'Rating':'Comedy Rating'},inplace=True)\n",
    "dfAction.rename(columns={'Rating':'Action Rating'},inplace=True)\n",
    "dfAdventure.rename(columns={'Rating':'Adventure Rating'},inplace=True)\n",
    "dfChildrens.rename(columns={'Rating':'Childrens Rating'},inplace=True)\n",
    "dfCrime.rename(columns={'Rating':'Crime Rating'},inplace=True)\n",
    "dfDocumentary.rename(columns={'Rating':'Docu Rating'},inplace=True)\n",
    "dfDrama.rename(columns={'Rating':'Drama Rating'},inplace=True)\n",
    "dfFantasy.rename(columns={'Rating':'Fantasy Rating'},inplace=True)\n",
    "dfFilmNoir.rename(columns={'Rating':'FilmNoir Rating'},inplace=True)\n",
    "dfHorror.rename(columns={'Rating':'Horror Rating'},inplace=True)\n",
    "dfMusical.rename(columns={'Rating':'Musical Rating'},inplace=True)\n",
    "dfMystery.rename(columns={'Rating':'Mystery Rating'},inplace=True)\n",
    "dfRomance.rename(columns={'Rating':'Romance Rating'},inplace=True)\n",
    "dfSciFi.rename(columns={'Rating':'SciFi Rating'},inplace=True)\n",
    "dfThriller.rename(columns={'Rating':'Thriller Rating'},inplace=True)\n",
    "dfWar.rename(columns={'Rating':'War Rating'},inplace=True)\n",
    "dfWestern.rename(columns={'Rating':'Western Rating'},inplace=True);"
   ]
  },
  {
   "cell_type": "code",
   "execution_count": 50,
   "metadata": {},
   "outputs": [],
   "source": [
    "#collect each genre's dataframe containing par annum average ratings into a list \n",
    "data_frames = [dfAnimation, dfComedy, dfAction, dfAdventure, dfChildrens, dfCrime, dfDocumentary, dfDrama, dfFantasy, dfFilmNoir, dfHorror, dfMusical, dfMystery, dfRomance, dfSciFi, dfThriller, dfWar, dfWestern]"
   ]
  },
  {
   "cell_type": "code",
   "execution_count": 51,
   "metadata": {},
   "outputs": [],
   "source": [
    "#use a lambda function to merge all the dataframes in our list into a single aggregate dataframe called df_merged\n",
    "df_merged = reduce(lambda  left,right: pd.merge(left,right,on=['film year'],\n",
    "                                            how='outer'), data_frames)"
   ]
  },
  {
   "cell_type": "code",
   "execution_count": 52,
   "metadata": {},
   "outputs": [],
   "source": [
    "#sort (in chronological ascending year) the aggregate df_merged on its index which is the year \n",
    "#and assign the results to df_avg_rate_by_genre\n",
    "df_avg_rate_by_genre = df_merged.sort_index()"
   ]
  },
  {
   "cell_type": "code",
   "execution_count": 53,
   "metadata": {},
   "outputs": [
    {
     "data": {
      "text/html": [
       "<div>\n",
       "<style scoped>\n",
       "    .dataframe tbody tr th:only-of-type {\n",
       "        vertical-align: middle;\n",
       "    }\n",
       "\n",
       "    .dataframe tbody tr th {\n",
       "        vertical-align: top;\n",
       "    }\n",
       "\n",
       "    .dataframe thead th {\n",
       "        text-align: right;\n",
       "    }\n",
       "</style>\n",
       "<table border=\"1\" class=\"dataframe\">\n",
       "  <thead>\n",
       "    <tr style=\"text-align: right;\">\n",
       "      <th></th>\n",
       "      <th>Animation Rating</th>\n",
       "      <th>Comedy Rating</th>\n",
       "      <th>Action Rating</th>\n",
       "      <th>Adventure Rating</th>\n",
       "      <th>Childrens Rating</th>\n",
       "      <th>Crime Rating</th>\n",
       "      <th>Docu Rating</th>\n",
       "      <th>Drama Rating</th>\n",
       "      <th>Fantasy Rating</th>\n",
       "      <th>FilmNoir Rating</th>\n",
       "      <th>Horror Rating</th>\n",
       "      <th>Musical Rating</th>\n",
       "      <th>Mystery Rating</th>\n",
       "      <th>Romance Rating</th>\n",
       "      <th>SciFi Rating</th>\n",
       "      <th>Thriller Rating</th>\n",
       "      <th>War Rating</th>\n",
       "      <th>Western Rating</th>\n",
       "    </tr>\n",
       "    <tr>\n",
       "      <th>film year</th>\n",
       "      <th></th>\n",
       "      <th></th>\n",
       "      <th></th>\n",
       "      <th></th>\n",
       "      <th></th>\n",
       "      <th></th>\n",
       "      <th></th>\n",
       "      <th></th>\n",
       "      <th></th>\n",
       "      <th></th>\n",
       "      <th></th>\n",
       "      <th></th>\n",
       "      <th></th>\n",
       "      <th></th>\n",
       "      <th></th>\n",
       "      <th></th>\n",
       "      <th></th>\n",
       "      <th></th>\n",
       "    </tr>\n",
       "  </thead>\n",
       "  <tbody>\n",
       "    <tr>\n",
       "      <th>1997</th>\n",
       "      <td>3.588816</td>\n",
       "      <td>3.404130</td>\n",
       "      <td>3.189289</td>\n",
       "      <td>3.171975</td>\n",
       "      <td>2.853172</td>\n",
       "      <td>3.592205</td>\n",
       "      <td>3.862306</td>\n",
       "      <td>3.635134</td>\n",
       "      <td>2.718571</td>\n",
       "      <td>4.171815</td>\n",
       "      <td>2.971195</td>\n",
       "      <td>3.055125</td>\n",
       "      <td>3.535299</td>\n",
       "      <td>3.330063</td>\n",
       "      <td>3.394219</td>\n",
       "      <td>3.341930</td>\n",
       "      <td>3.091263</td>\n",
       "      <td>NaN</td>\n",
       "    </tr>\n",
       "    <tr>\n",
       "      <th>1998</th>\n",
       "      <td>3.534562</td>\n",
       "      <td>3.483560</td>\n",
       "      <td>3.422993</td>\n",
       "      <td>3.085703</td>\n",
       "      <td>3.373830</td>\n",
       "      <td>3.567072</td>\n",
       "      <td>3.829310</td>\n",
       "      <td>3.575017</td>\n",
       "      <td>2.805556</td>\n",
       "      <td>3.635123</td>\n",
       "      <td>2.790507</td>\n",
       "      <td>3.231555</td>\n",
       "      <td>3.401327</td>\n",
       "      <td>3.575311</td>\n",
       "      <td>3.140860</td>\n",
       "      <td>3.311902</td>\n",
       "      <td>3.918263</td>\n",
       "      <td>3.038462</td>\n",
       "    </tr>\n",
       "    <tr>\n",
       "      <th>1999</th>\n",
       "      <td>3.941845</td>\n",
       "      <td>3.511473</td>\n",
       "      <td>3.320016</td>\n",
       "      <td>3.351432</td>\n",
       "      <td>3.652957</td>\n",
       "      <td>3.406271</td>\n",
       "      <td>3.874576</td>\n",
       "      <td>3.630857</td>\n",
       "      <td>3.400375</td>\n",
       "      <td>NaN</td>\n",
       "      <td>3.000758</td>\n",
       "      <td>3.805740</td>\n",
       "      <td>3.484150</td>\n",
       "      <td>3.276065</td>\n",
       "      <td>3.415543</td>\n",
       "      <td>3.504015</td>\n",
       "      <td>3.592618</td>\n",
       "      <td>2.158537</td>\n",
       "    </tr>\n",
       "    <tr>\n",
       "      <th>2000</th>\n",
       "      <td>3.388091</td>\n",
       "      <td>3.400387</td>\n",
       "      <td>3.465275</td>\n",
       "      <td>3.066234</td>\n",
       "      <td>3.284507</td>\n",
       "      <td>3.159375</td>\n",
       "      <td>3.523697</td>\n",
       "      <td>3.625796</td>\n",
       "      <td>2.414815</td>\n",
       "      <td>NaN</td>\n",
       "      <td>2.876956</td>\n",
       "      <td>3.820000</td>\n",
       "      <td>2.733102</td>\n",
       "      <td>3.216760</td>\n",
       "      <td>3.145584</td>\n",
       "      <td>3.235872</td>\n",
       "      <td>3.750955</td>\n",
       "      <td>NaN</td>\n",
       "    </tr>\n",
       "  </tbody>\n",
       "</table>\n",
       "</div>"
      ],
      "text/plain": [
       "           Animation Rating  Comedy Rating  Action Rating  Adventure Rating  \\\n",
       "film year                                                                     \n",
       "1997               3.588816       3.404130       3.189289          3.171975   \n",
       "1998               3.534562       3.483560       3.422993          3.085703   \n",
       "1999               3.941845       3.511473       3.320016          3.351432   \n",
       "2000               3.388091       3.400387       3.465275          3.066234   \n",
       "\n",
       "           Childrens Rating  Crime Rating  Docu Rating  Drama Rating  \\\n",
       "film year                                                              \n",
       "1997               2.853172      3.592205     3.862306      3.635134   \n",
       "1998               3.373830      3.567072     3.829310      3.575017   \n",
       "1999               3.652957      3.406271     3.874576      3.630857   \n",
       "2000               3.284507      3.159375     3.523697      3.625796   \n",
       "\n",
       "           Fantasy Rating  FilmNoir Rating  Horror Rating  Musical Rating  \\\n",
       "film year                                                                   \n",
       "1997             2.718571         4.171815       2.971195        3.055125   \n",
       "1998             2.805556         3.635123       2.790507        3.231555   \n",
       "1999             3.400375              NaN       3.000758        3.805740   \n",
       "2000             2.414815              NaN       2.876956        3.820000   \n",
       "\n",
       "           Mystery Rating  Romance Rating  SciFi Rating  Thriller Rating  \\\n",
       "film year                                                                  \n",
       "1997             3.535299        3.330063      3.394219         3.341930   \n",
       "1998             3.401327        3.575311      3.140860         3.311902   \n",
       "1999             3.484150        3.276065      3.415543         3.504015   \n",
       "2000             2.733102        3.216760      3.145584         3.235872   \n",
       "\n",
       "           War Rating  Western Rating  \n",
       "film year                              \n",
       "1997         3.091263             NaN  \n",
       "1998         3.918263        3.038462  \n",
       "1999         3.592618        2.158537  \n",
       "2000         3.750955             NaN  "
      ]
     },
     "execution_count": 53,
     "metadata": {},
     "output_type": "execute_result"
    }
   ],
   "source": [
    "df_avg_rate_by_genre[-4:]"
   ]
  },
  {
   "cell_type": "markdown",
   "metadata": {},
   "source": [
    "**Answer:**"
   ]
  },
  {
   "cell_type": "code",
   "execution_count": 54,
   "metadata": {},
   "outputs": [
    {
     "data": {
      "image/png": "[encoded data removed]",
      "text/plain": [
       "<Figure size 1440x720 with 1 Axes>"
      ]
     },
     "metadata": {
      "needs_background": "light"
     },
     "output_type": "display_data"
    }
   ],
   "source": [
    "#plot the average rating of each genre by year in a colored line plot\n",
    "df_avg_rate_by_genre.plot.line(figsize=(20,10));"
   ]
  },
  {
   "cell_type": "markdown",
   "metadata": {},
   "source": [
    "## Question 2.\n",
    "(30 pts.)<br>\n",
    "The file Cars93.csv contains a number of NAs in columns 23 and 24. Two regression models to predict the price of a car will be found (one excluding all NAs and the other with NAs substituted properly). We will focus on substituting NAs from column 24, therefore delete the NA rows from column 23 (that is, rows 19 and 57, which happen to have two NAs). Also, delete columns Manufacturer, Model, Min.Price, Max.Price and Make. The resulting DataFrame is to be called dataframe1. Use *statsmodels library* to answer the following."
   ]
  },
  {
   "cell_type": "markdown",
   "metadata": {},
   "source": [
    "Load the Cars93 file dataset as a pandas dataframe"
   ]
  },
  {
   "cell_type": "code",
   "execution_count": 2,
   "metadata": {},
   "outputs": [],
   "source": [
    "Cars93 = pd.read_csv('Cars93.csv')"
   ]
  },
  {
   "cell_type": "markdown",
   "metadata": {},
   "source": [
    "Per Instruction in lecture, we will first remove the two rows containing NAs in the Rear.seat.room column.\n",
    "These rows will not play a role in the problem, so we have a dataset of 91 rows. To remove these rows 19 and 57 in the excel printout, we drop rows 18 and 56 because python is zero-indexed."
   ]
  },
  {
   "cell_type": "code",
   "execution_count": 3,
   "metadata": {},
   "outputs": [],
   "source": [
    "Cars91 = Cars93.drop([18,56])"
   ]
  },
  {
   "cell_type": "code",
   "execution_count": 4,
   "metadata": {},
   "outputs": [
    {
     "data": {
      "text/html": [
       "<div>\n",
       "<style scoped>\n",
       "    .dataframe tbody tr th:only-of-type {\n",
       "        vertical-align: middle;\n",
       "    }\n",
       "\n",
       "    .dataframe tbody tr th {\n",
       "        vertical-align: top;\n",
       "    }\n",
       "\n",
       "    .dataframe thead th {\n",
       "        text-align: right;\n",
       "    }\n",
       "</style>\n",
       "<table border=\"1\" class=\"dataframe\">\n",
       "  <thead>\n",
       "    <tr style=\"text-align: right;\">\n",
       "      <th></th>\n",
       "      <th>Manufacturer</th>\n",
       "      <th>Model</th>\n",
       "      <th>Type</th>\n",
       "      <th>Min.Price</th>\n",
       "      <th>Price</th>\n",
       "      <th>Max.Price</th>\n",
       "      <th>MPG.city</th>\n",
       "      <th>MPG.highway</th>\n",
       "      <th>AirBags</th>\n",
       "      <th>DriveTrain</th>\n",
       "      <th>...</th>\n",
       "      <th>Passengers</th>\n",
       "      <th>Length</th>\n",
       "      <th>Wheelbase</th>\n",
       "      <th>Width</th>\n",
       "      <th>Turn.circle</th>\n",
       "      <th>Rear.seat.room</th>\n",
       "      <th>Luggage.room</th>\n",
       "      <th>Weight</th>\n",
       "      <th>Origin</th>\n",
       "      <th>Make</th>\n",
       "    </tr>\n",
       "  </thead>\n",
       "  <tbody>\n",
       "    <tr>\n",
       "      <th>0</th>\n",
       "      <td>Acura</td>\n",
       "      <td>Integra</td>\n",
       "      <td>Small</td>\n",
       "      <td>12.9</td>\n",
       "      <td>15.9</td>\n",
       "      <td>18.8</td>\n",
       "      <td>25</td>\n",
       "      <td>31</td>\n",
       "      <td>None</td>\n",
       "      <td>Front</td>\n",
       "      <td>...</td>\n",
       "      <td>5</td>\n",
       "      <td>177</td>\n",
       "      <td>102</td>\n",
       "      <td>68</td>\n",
       "      <td>37</td>\n",
       "      <td>26.5</td>\n",
       "      <td>11.0</td>\n",
       "      <td>2705</td>\n",
       "      <td>non-USA</td>\n",
       "      <td>Acura Integra</td>\n",
       "    </tr>\n",
       "    <tr>\n",
       "      <th>1</th>\n",
       "      <td>Acura</td>\n",
       "      <td>Legend</td>\n",
       "      <td>Midsize</td>\n",
       "      <td>29.2</td>\n",
       "      <td>33.9</td>\n",
       "      <td>38.7</td>\n",
       "      <td>18</td>\n",
       "      <td>25</td>\n",
       "      <td>Driver &amp; Passenger</td>\n",
       "      <td>Front</td>\n",
       "      <td>...</td>\n",
       "      <td>5</td>\n",
       "      <td>195</td>\n",
       "      <td>115</td>\n",
       "      <td>71</td>\n",
       "      <td>38</td>\n",
       "      <td>30.0</td>\n",
       "      <td>15.0</td>\n",
       "      <td>3560</td>\n",
       "      <td>non-USA</td>\n",
       "      <td>Acura Legend</td>\n",
       "    </tr>\n",
       "  </tbody>\n",
       "</table>\n",
       "<p>2 rows × 27 columns</p>\n",
       "</div>"
      ],
      "text/plain": [
       "  Manufacturer    Model     Type  Min.Price  Price  Max.Price  MPG.city  \\\n",
       "0        Acura  Integra    Small       12.9   15.9       18.8        25   \n",
       "1        Acura   Legend  Midsize       29.2   33.9       38.7        18   \n",
       "\n",
       "   MPG.highway             AirBags DriveTrain  ... Passengers  Length  \\\n",
       "0           31                None      Front  ...          5     177   \n",
       "1           25  Driver & Passenger      Front  ...          5     195   \n",
       "\n",
       "   Wheelbase  Width  Turn.circle Rear.seat.room  Luggage.room  Weight  \\\n",
       "0        102     68           37           26.5          11.0    2705   \n",
       "1        115     71           38           30.0          15.0    3560   \n",
       "\n",
       "    Origin           Make  \n",
       "0  non-USA  Acura Integra  \n",
       "1  non-USA   Acura Legend  \n",
       "\n",
       "[2 rows x 27 columns]"
      ]
     },
     "execution_count": 4,
     "metadata": {},
     "output_type": "execute_result"
    }
   ],
   "source": [
    "Cars91[:2]"
   ]
  },
  {
   "cell_type": "code",
   "execution_count": 5,
   "metadata": {},
   "outputs": [],
   "source": [
    "#We also will not consider Manufacturer, Model, Min.Price, Max.Price, Make.\n",
    "#So we delete these columns and store the resulting dataframe as dataframe1\n",
    "dataframe1 = Cars91.drop(['Manufacturer','Model','Min.Price', 'Max.Price', 'Make'], axis =1)"
   ]
  },
  {
   "cell_type": "code",
   "execution_count": 6,
   "metadata": {},
   "outputs": [
    {
     "data": {
      "text/html": [
       "<div>\n",
       "<style scoped>\n",
       "    .dataframe tbody tr th:only-of-type {\n",
       "        vertical-align: middle;\n",
       "    }\n",
       "\n",
       "    .dataframe tbody tr th {\n",
       "        vertical-align: top;\n",
       "    }\n",
       "\n",
       "    .dataframe thead th {\n",
       "        text-align: right;\n",
       "    }\n",
       "</style>\n",
       "<table border=\"1\" class=\"dataframe\">\n",
       "  <thead>\n",
       "    <tr style=\"text-align: right;\">\n",
       "      <th></th>\n",
       "      <th>Type</th>\n",
       "      <th>Price</th>\n",
       "      <th>MPG.city</th>\n",
       "      <th>MPG.highway</th>\n",
       "      <th>AirBags</th>\n",
       "      <th>DriveTrain</th>\n",
       "      <th>Cylinders</th>\n",
       "      <th>EngineSize</th>\n",
       "      <th>Horsepower</th>\n",
       "      <th>RPM</th>\n",
       "      <th>...</th>\n",
       "      <th>Fuel.tank.capacity</th>\n",
       "      <th>Passengers</th>\n",
       "      <th>Length</th>\n",
       "      <th>Wheelbase</th>\n",
       "      <th>Width</th>\n",
       "      <th>Turn.circle</th>\n",
       "      <th>Rear.seat.room</th>\n",
       "      <th>Luggage.room</th>\n",
       "      <th>Weight</th>\n",
       "      <th>Origin</th>\n",
       "    </tr>\n",
       "  </thead>\n",
       "  <tbody>\n",
       "    <tr>\n",
       "      <th>0</th>\n",
       "      <td>Small</td>\n",
       "      <td>15.9</td>\n",
       "      <td>25</td>\n",
       "      <td>31</td>\n",
       "      <td>None</td>\n",
       "      <td>Front</td>\n",
       "      <td>4</td>\n",
       "      <td>1.8</td>\n",
       "      <td>140</td>\n",
       "      <td>6300</td>\n",
       "      <td>...</td>\n",
       "      <td>13.2</td>\n",
       "      <td>5</td>\n",
       "      <td>177</td>\n",
       "      <td>102</td>\n",
       "      <td>68</td>\n",
       "      <td>37</td>\n",
       "      <td>26.5</td>\n",
       "      <td>11.0</td>\n",
       "      <td>2705</td>\n",
       "      <td>non-USA</td>\n",
       "    </tr>\n",
       "    <tr>\n",
       "      <th>1</th>\n",
       "      <td>Midsize</td>\n",
       "      <td>33.9</td>\n",
       "      <td>18</td>\n",
       "      <td>25</td>\n",
       "      <td>Driver &amp; Passenger</td>\n",
       "      <td>Front</td>\n",
       "      <td>6</td>\n",
       "      <td>3.2</td>\n",
       "      <td>200</td>\n",
       "      <td>5500</td>\n",
       "      <td>...</td>\n",
       "      <td>18.0</td>\n",
       "      <td>5</td>\n",
       "      <td>195</td>\n",
       "      <td>115</td>\n",
       "      <td>71</td>\n",
       "      <td>38</td>\n",
       "      <td>30.0</td>\n",
       "      <td>15.0</td>\n",
       "      <td>3560</td>\n",
       "      <td>non-USA</td>\n",
       "    </tr>\n",
       "    <tr>\n",
       "      <th>2</th>\n",
       "      <td>Compact</td>\n",
       "      <td>29.1</td>\n",
       "      <td>20</td>\n",
       "      <td>26</td>\n",
       "      <td>Driver only</td>\n",
       "      <td>Front</td>\n",
       "      <td>6</td>\n",
       "      <td>2.8</td>\n",
       "      <td>172</td>\n",
       "      <td>5500</td>\n",
       "      <td>...</td>\n",
       "      <td>16.9</td>\n",
       "      <td>5</td>\n",
       "      <td>180</td>\n",
       "      <td>102</td>\n",
       "      <td>67</td>\n",
       "      <td>37</td>\n",
       "      <td>28.0</td>\n",
       "      <td>14.0</td>\n",
       "      <td>3375</td>\n",
       "      <td>non-USA</td>\n",
       "    </tr>\n",
       "  </tbody>\n",
       "</table>\n",
       "<p>3 rows × 22 columns</p>\n",
       "</div>"
      ],
      "text/plain": [
       "      Type  Price  MPG.city  MPG.highway             AirBags DriveTrain  \\\n",
       "0    Small   15.9        25           31                None      Front   \n",
       "1  Midsize   33.9        18           25  Driver & Passenger      Front   \n",
       "2  Compact   29.1        20           26         Driver only      Front   \n",
       "\n",
       "  Cylinders  EngineSize  Horsepower   RPM  ...  Fuel.tank.capacity Passengers  \\\n",
       "0         4         1.8         140  6300  ...                13.2          5   \n",
       "1         6         3.2         200  5500  ...                18.0          5   \n",
       "2         6         2.8         172  5500  ...                16.9          5   \n",
       "\n",
       "   Length  Wheelbase  Width  Turn.circle  Rear.seat.room  Luggage.room  \\\n",
       "0     177        102     68           37            26.5          11.0   \n",
       "1     195        115     71           38            30.0          15.0   \n",
       "2     180        102     67           37            28.0          14.0   \n",
       "\n",
       "   Weight   Origin  \n",
       "0    2705  non-USA  \n",
       "1    3560  non-USA  \n",
       "2    3375  non-USA  \n",
       "\n",
       "[3 rows x 22 columns]"
      ]
     },
     "execution_count": 6,
     "metadata": {},
     "output_type": "execute_result"
    }
   ],
   "source": [
    "dataframe1[:3]"
   ]
  },
  {
   "cell_type": "markdown",
   "metadata": {},
   "source": [
    "Question 2 a) Create a new DataFrame dataframe2 by removing all NA rows. Build a regression model to predict Price using all other columns as predictors. Report the model's AIC."
   ]
  },
  {
   "cell_type": "code",
   "execution_count": 7,
   "metadata": {},
   "outputs": [],
   "source": [
    "#remove all rows where the value in the column 'Luggage.room' is NA\n",
    "dataframe2 = dataframe1.dropna(subset=['Luggage.room'])"
   ]
  },
  {
   "cell_type": "code",
   "execution_count": 8,
   "metadata": {},
   "outputs": [
    {
     "name": "stdout",
     "output_type": "stream",
     "text": [
      "<class 'pandas.core.frame.DataFrame'>\n",
      "Int64Index: 82 entries, 0 to 92\n",
      "Data columns (total 22 columns):\n",
      "Type                  82 non-null object\n",
      "Price                 82 non-null float64\n",
      "MPG.city              82 non-null int64\n",
      "MPG.highway           82 non-null int64\n",
      "AirBags               82 non-null object\n",
      "DriveTrain            82 non-null object\n",
      "Cylinders             82 non-null object\n",
      "EngineSize            82 non-null float64\n",
      "Horsepower            82 non-null int64\n",
      "RPM                   82 non-null int64\n",
      "Rev.per.mile          82 non-null int64\n",
      "Man.trans.avail       82 non-null object\n",
      "Fuel.tank.capacity    82 non-null float64\n",
      "Passengers            82 non-null int64\n",
      "Length                82 non-null int64\n",
      "Wheelbase             82 non-null int64\n",
      "Width                 82 non-null int64\n",
      "Turn.circle           82 non-null int64\n",
      "Rear.seat.room        82 non-null float64\n",
      "Luggage.room          82 non-null float64\n",
      "Weight                82 non-null int64\n",
      "Origin                82 non-null object\n",
      "dtypes: float64(5), int64(11), object(6)\n",
      "memory usage: 14.7+ KB\n"
     ]
    }
   ],
   "source": [
    "#examine each datatype in the fields of dataframe2\n",
    "dataframe2.info()\n",
    "#Cylinders (displayed as number, but object dtype, need to change to int datatype)\n",
    "#The following columns need to be converted to dummy variables:\n",
    "#Type (Categorical)\n",
    "#AirBags (Categorical)\n",
    "#DriveTrain (Categorical)\n",
    "#Man.Trans.avail (Categorical)\n",
    "#Origin (Categorical)"
   ]
  },
  {
   "cell_type": "code",
   "execution_count": 9,
   "metadata": {},
   "outputs": [
    {
     "name": "stderr",
     "output_type": "stream",
     "text": [
      "/Users/nomad3/anaconda3/lib/python3.7/site-packages/ipykernel_launcher.py:2: SettingWithCopyWarning: \n",
      "A value is trying to be set on a copy of a slice from a DataFrame.\n",
      "Try using .loc[row_indexer,col_indexer] = value instead\n",
      "\n",
      "See the caveats in the documentation: http://pandas.pydata.org/pandas-docs/stable/indexing.html#indexing-view-versus-copy\n",
      "  \n"
     ]
    }
   ],
   "source": [
    "#first convert Cylinders to integers since they are currently stored as strings\n",
    "dataframe2['Cylinders'] = dataframe2['Cylinders'].astype(int);"
   ]
  },
  {
   "cell_type": "code",
   "execution_count": 10,
   "metadata": {},
   "outputs": [
    {
     "data": {
      "text/plain": [
       "dtype('int64')"
      ]
     },
     "execution_count": 10,
     "metadata": {},
     "output_type": "execute_result"
    }
   ],
   "source": [
    "dataframe2['Cylinders'].dtype"
   ]
  },
  {
   "cell_type": "code",
   "execution_count": 11,
   "metadata": {},
   "outputs": [
    {
     "name": "stdout",
     "output_type": "stream",
     "text": [
      "Type categories for dataframe2 are: ['Small' 'Midsize' 'Compact' 'Large' 'Sporty']\n",
      "AirBags categories for dataframe2 are: ['None' 'Driver & Passenger' 'Driver only']\n",
      "DriveTrain categories for dataframe2 are: ['Front' 'Rear' '4WD']\n",
      "Man.trans.avail categories for dataframe2 are: ['Yes' 'No']\n",
      "Origin categories for dataframe2 are: ['non-USA' 'USA']\n"
     ]
    }
   ],
   "source": [
    "# Next we want to identify the unique categories in each of the categorical fields: \n",
    "# Type (Categorical), AirBags (Categorical), DriveTrain (Categorical), Man.Trans.avail (Categorical), Origin (Categorical)\n",
    "print('Type categories for dataframe2 are:', dataframe2['Type'].unique())\n",
    "print('AirBags categories for dataframe2 are:', dataframe2['AirBags'].unique())\n",
    "print('DriveTrain categories for dataframe2 are:', dataframe2['DriveTrain'].unique())\n",
    "print('Man.trans.avail categories for dataframe2 are:', dataframe2['Man.trans.avail'].unique())\n",
    "print('Origin categories for dataframe2 are:', dataframe2['Origin'].unique())"
   ]
  },
  {
   "cell_type": "code",
   "execution_count": 12,
   "metadata": {},
   "outputs": [],
   "source": [
    "#use pd.get_dummies with argument drop_first = True so that all category columns are one-hot encoded\n",
    "dataframe2_withDummies = pd.get_dummies(data=dataframe2, columns=['Type','AirBags','DriveTrain','Man.trans.avail','Origin'], drop_first=True)"
   ]
  },
  {
   "cell_type": "code",
   "execution_count": 13,
   "metadata": {},
   "outputs": [
    {
     "name": "stdout",
     "output_type": "stream",
     "text": [
      "<class 'pandas.core.frame.DataFrame'>\n",
      "Int64Index: 82 entries, 0 to 92\n",
      "Data columns (total 27 columns):\n",
      "Price                  82 non-null float64\n",
      "MPG.city               82 non-null int64\n",
      "MPG.highway            82 non-null int64\n",
      "Cylinders              82 non-null int64\n",
      "EngineSize             82 non-null float64\n",
      "Horsepower             82 non-null int64\n",
      "RPM                    82 non-null int64\n",
      "Rev.per.mile           82 non-null int64\n",
      "Fuel.tank.capacity     82 non-null float64\n",
      "Passengers             82 non-null int64\n",
      "Length                 82 non-null int64\n",
      "Wheelbase              82 non-null int64\n",
      "Width                  82 non-null int64\n",
      "Turn.circle            82 non-null int64\n",
      "Rear.seat.room         82 non-null float64\n",
      "Luggage.room           82 non-null float64\n",
      "Weight                 82 non-null int64\n",
      "Type_Large             82 non-null uint8\n",
      "Type_Midsize           82 non-null uint8\n",
      "Type_Small             82 non-null uint8\n",
      "Type_Sporty            82 non-null uint8\n",
      "AirBags_Driver only    82 non-null uint8\n",
      "AirBags_None           82 non-null uint8\n",
      "DriveTrain_Front       82 non-null uint8\n",
      "DriveTrain_Rear        82 non-null uint8\n",
      "Man.trans.avail_Yes    82 non-null uint8\n",
      "Origin_non-USA         82 non-null uint8\n",
      "dtypes: float64(5), int64(12), uint8(10)\n",
      "memory usage: 12.3 KB\n"
     ]
    }
   ],
   "source": [
    "#Verify that all of our fields are now int or float datatype for the regression\n",
    "dataframe2_withDummies.info()\n",
    "#By examining which category is excluded from this list we can find that the base categories are:\n",
    "#Type base case is 0,0,0,0 = 'Compact'\n",
    "#AirBags base case is 0, 0  = 'Driver & Passenger'\n",
    "#DriveTrain base case is 0, 0 = 4WD\n",
    "#Man.trans.avail base case is No = 0, Yes = 1\n",
    "#Origin base case is USA = 0, non-USA = 1"
   ]
  },
  {
   "cell_type": "code",
   "execution_count": 14,
   "metadata": {},
   "outputs": [],
   "source": [
    "dataframe2_withDummies['Cylinders'] =dataframe2_withDummies['Cylinders'].astype(int);"
   ]
  },
  {
   "cell_type": "code",
   "execution_count": 15,
   "metadata": {},
   "outputs": [
    {
     "data": {
      "text/plain": [
       "82"
      ]
     },
     "execution_count": 15,
     "metadata": {},
     "output_type": "execute_result"
    }
   ],
   "source": [
    "#there are 82 observations in dataframe2\n",
    "len(dataframe2_withDummies)"
   ]
  },
  {
   "cell_type": "markdown",
   "metadata": {},
   "source": [
    "To build a regression model to predict Price using all the other columns of dataframe2 as predictors:"
   ]
  },
  {
   "cell_type": "code",
   "execution_count": 16,
   "metadata": {},
   "outputs": [
    {
     "data": {
      "text/plain": [
       "0    15.9\n",
       "1    33.9\n",
       "2    29.1\n",
       "Name: Price, dtype: float64"
      ]
     },
     "execution_count": 16,
     "metadata": {},
     "output_type": "execute_result"
    }
   ],
   "source": [
    "#select the response variable\n",
    "y0 = dataframe2_withDummies.iloc[:,0]\n",
    "y0[:3]"
   ]
  },
  {
   "cell_type": "code",
   "execution_count": 17,
   "metadata": {},
   "outputs": [
    {
     "data": {
      "text/plain": [
       "Index(['Price', 'MPG.city', 'MPG.highway', 'Cylinders', 'EngineSize',\n",
       "       'Horsepower', 'RPM', 'Rev.per.mile', 'Fuel.tank.capacity', 'Passengers',\n",
       "       'Length', 'Wheelbase', 'Width', 'Turn.circle', 'Rear.seat.room',\n",
       "       'Luggage.room', 'Weight', 'Type_Large', 'Type_Midsize', 'Type_Small',\n",
       "       'Type_Sporty', 'AirBags_Driver only', 'AirBags_None',\n",
       "       'DriveTrain_Front', 'DriveTrain_Rear', 'Man.trans.avail_Yes',\n",
       "       'Origin_non-USA'],\n",
       "      dtype='object')"
      ]
     },
     "execution_count": 17,
     "metadata": {},
     "output_type": "execute_result"
    }
   ],
   "source": [
    "dataframe2_withDummies.columns"
   ]
  },
  {
   "cell_type": "code",
   "execution_count": 18,
   "metadata": {},
   "outputs": [
    {
     "data": {
      "text/html": [
       "<div>\n",
       "<style scoped>\n",
       "    .dataframe tbody tr th:only-of-type {\n",
       "        vertical-align: middle;\n",
       "    }\n",
       "\n",
       "    .dataframe tbody tr th {\n",
       "        vertical-align: top;\n",
       "    }\n",
       "\n",
       "    .dataframe thead th {\n",
       "        text-align: right;\n",
       "    }\n",
       "</style>\n",
       "<table border=\"1\" class=\"dataframe\">\n",
       "  <thead>\n",
       "    <tr style=\"text-align: right;\">\n",
       "      <th></th>\n",
       "      <th>MPG.city</th>\n",
       "      <th>MPG.highway</th>\n",
       "      <th>Cylinders</th>\n",
       "      <th>EngineSize</th>\n",
       "      <th>Horsepower</th>\n",
       "      <th>RPM</th>\n",
       "      <th>Rev.per.mile</th>\n",
       "      <th>Fuel.tank.capacity</th>\n",
       "      <th>Passengers</th>\n",
       "      <th>Length</th>\n",
       "      <th>...</th>\n",
       "      <th>Type_Large</th>\n",
       "      <th>Type_Midsize</th>\n",
       "      <th>Type_Small</th>\n",
       "      <th>Type_Sporty</th>\n",
       "      <th>AirBags_Driver only</th>\n",
       "      <th>AirBags_None</th>\n",
       "      <th>DriveTrain_Front</th>\n",
       "      <th>DriveTrain_Rear</th>\n",
       "      <th>Man.trans.avail_Yes</th>\n",
       "      <th>Origin_non-USA</th>\n",
       "    </tr>\n",
       "  </thead>\n",
       "  <tbody>\n",
       "    <tr>\n",
       "      <th>0</th>\n",
       "      <td>25</td>\n",
       "      <td>31</td>\n",
       "      <td>4</td>\n",
       "      <td>1.8</td>\n",
       "      <td>140</td>\n",
       "      <td>6300</td>\n",
       "      <td>2890</td>\n",
       "      <td>13.2</td>\n",
       "      <td>5</td>\n",
       "      <td>177</td>\n",
       "      <td>...</td>\n",
       "      <td>0</td>\n",
       "      <td>0</td>\n",
       "      <td>1</td>\n",
       "      <td>0</td>\n",
       "      <td>0</td>\n",
       "      <td>1</td>\n",
       "      <td>1</td>\n",
       "      <td>0</td>\n",
       "      <td>1</td>\n",
       "      <td>1</td>\n",
       "    </tr>\n",
       "    <tr>\n",
       "      <th>1</th>\n",
       "      <td>18</td>\n",
       "      <td>25</td>\n",
       "      <td>6</td>\n",
       "      <td>3.2</td>\n",
       "      <td>200</td>\n",
       "      <td>5500</td>\n",
       "      <td>2335</td>\n",
       "      <td>18.0</td>\n",
       "      <td>5</td>\n",
       "      <td>195</td>\n",
       "      <td>...</td>\n",
       "      <td>0</td>\n",
       "      <td>1</td>\n",
       "      <td>0</td>\n",
       "      <td>0</td>\n",
       "      <td>0</td>\n",
       "      <td>0</td>\n",
       "      <td>1</td>\n",
       "      <td>0</td>\n",
       "      <td>1</td>\n",
       "      <td>1</td>\n",
       "    </tr>\n",
       "    <tr>\n",
       "      <th>2</th>\n",
       "      <td>20</td>\n",
       "      <td>26</td>\n",
       "      <td>6</td>\n",
       "      <td>2.8</td>\n",
       "      <td>172</td>\n",
       "      <td>5500</td>\n",
       "      <td>2280</td>\n",
       "      <td>16.9</td>\n",
       "      <td>5</td>\n",
       "      <td>180</td>\n",
       "      <td>...</td>\n",
       "      <td>0</td>\n",
       "      <td>0</td>\n",
       "      <td>0</td>\n",
       "      <td>0</td>\n",
       "      <td>1</td>\n",
       "      <td>0</td>\n",
       "      <td>1</td>\n",
       "      <td>0</td>\n",
       "      <td>1</td>\n",
       "      <td>1</td>\n",
       "    </tr>\n",
       "  </tbody>\n",
       "</table>\n",
       "<p>3 rows × 26 columns</p>\n",
       "</div>"
      ],
      "text/plain": [
       "   MPG.city  MPG.highway  Cylinders  EngineSize  Horsepower   RPM  \\\n",
       "0        25           31          4         1.8         140  6300   \n",
       "1        18           25          6         3.2         200  5500   \n",
       "2        20           26          6         2.8         172  5500   \n",
       "\n",
       "   Rev.per.mile  Fuel.tank.capacity  Passengers  Length  ...  Type_Large  \\\n",
       "0          2890                13.2           5     177  ...           0   \n",
       "1          2335                18.0           5     195  ...           0   \n",
       "2          2280                16.9           5     180  ...           0   \n",
       "\n",
       "   Type_Midsize  Type_Small  Type_Sporty  AirBags_Driver only  AirBags_None  \\\n",
       "0             0           1            0                    0             1   \n",
       "1             1           0            0                    0             0   \n",
       "2             0           0            0                    1             0   \n",
       "\n",
       "   DriveTrain_Front  DriveTrain_Rear  Man.trans.avail_Yes  Origin_non-USA  \n",
       "0                 1                0                    1               1  \n",
       "1                 1                0                    1               1  \n",
       "2                 1                0                    1               1  \n",
       "\n",
       "[3 rows x 26 columns]"
      ]
     },
     "execution_count": 18,
     "metadata": {},
     "output_type": "execute_result"
    }
   ],
   "source": [
    "#select predictor columns\n",
    "X0 = dataframe2_withDummies.iloc[:,1:28]\n",
    "X0[:3]"
   ]
  },
  {
   "cell_type": "code",
   "execution_count": 19,
   "metadata": {},
   "outputs": [
    {
     "data": {
      "text/plain": [
       "array([[2.500e+01, 3.100e+01, 4.000e+00, 1.800e+00, 1.400e+02, 6.300e+03,\n",
       "        2.890e+03, 1.320e+01, 5.000e+00, 1.770e+02, 1.020e+02, 6.800e+01,\n",
       "        3.700e+01, 2.650e+01, 1.100e+01, 2.705e+03, 0.000e+00, 0.000e+00,\n",
       "        1.000e+00, 0.000e+00, 0.000e+00, 1.000e+00, 1.000e+00, 0.000e+00,\n",
       "        1.000e+00, 1.000e+00],\n",
       "       [1.800e+01, 2.500e+01, 6.000e+00, 3.200e+00, 2.000e+02, 5.500e+03,\n",
       "        2.335e+03, 1.800e+01, 5.000e+00, 1.950e+02, 1.150e+02, 7.100e+01,\n",
       "        3.800e+01, 3.000e+01, 1.500e+01, 3.560e+03, 0.000e+00, 1.000e+00,\n",
       "        0.000e+00, 0.000e+00, 0.000e+00, 0.000e+00, 1.000e+00, 0.000e+00,\n",
       "        1.000e+00, 1.000e+00]])"
      ]
     },
     "execution_count": 19,
     "metadata": {},
     "output_type": "execute_result"
    }
   ],
   "source": [
    "X=X0.to_numpy()\n",
    "X[:2]"
   ]
  },
  {
   "cell_type": "code",
   "execution_count": 20,
   "metadata": {},
   "outputs": [
    {
     "data": {
      "text/plain": [
       "array([[1.000e+00, 2.500e+01, 3.100e+01, 4.000e+00, 1.800e+00, 1.400e+02,\n",
       "        6.300e+03, 2.890e+03, 1.320e+01, 5.000e+00, 1.770e+02, 1.020e+02,\n",
       "        6.800e+01, 3.700e+01, 2.650e+01, 1.100e+01, 2.705e+03, 0.000e+00,\n",
       "        0.000e+00, 1.000e+00, 0.000e+00, 0.000e+00, 1.000e+00, 1.000e+00,\n",
       "        0.000e+00, 1.000e+00, 1.000e+00],\n",
       "       [1.000e+00, 1.800e+01, 2.500e+01, 6.000e+00, 3.200e+00, 2.000e+02,\n",
       "        5.500e+03, 2.335e+03, 1.800e+01, 5.000e+00, 1.950e+02, 1.150e+02,\n",
       "        7.100e+01, 3.800e+01, 3.000e+01, 1.500e+01, 3.560e+03, 0.000e+00,\n",
       "        1.000e+00, 0.000e+00, 0.000e+00, 0.000e+00, 0.000e+00, 1.000e+00,\n",
       "        0.000e+00, 1.000e+00, 1.000e+00]])"
      ]
     },
     "execution_count": 20,
     "metadata": {},
     "output_type": "execute_result"
    }
   ],
   "source": [
    "#add a constant\n",
    "X1 = sm.add_constant(X)\n",
    "X1[:2]"
   ]
  },
  {
   "cell_type": "markdown",
   "metadata": {},
   "source": [
    "**Answer:**"
   ]
  },
  {
   "cell_type": "code",
   "execution_count": 21,
   "metadata": {},
   "outputs": [],
   "source": [
    "#fit the model on dataframe2\n",
    "model_all_columns_noNAs = sm.OLS(y0,X1).fit()"
   ]
  },
  {
   "cell_type": "markdown",
   "metadata": {},
   "source": [
    "This model's AIC is: "
   ]
  },
  {
   "cell_type": "code",
   "execution_count": 22,
   "metadata": {},
   "outputs": [
    {
     "data": {
      "text/plain": [
       "509.58168708368464"
      ]
     },
     "execution_count": 22,
     "metadata": {},
     "output_type": "execute_result"
    }
   ],
   "source": [
    "model_all_columns_noNAs.aic"
   ]
  },
  {
   "cell_type": "code",
   "execution_count": 23,
   "metadata": {},
   "outputs": [
    {
     "data": {
      "text/html": [
       "<table class=\"simpletable\">\n",
       "<caption>OLS Regression Results</caption>\n",
       "<tr>\n",
       "  <th>Dep. Variable:</th>          <td>Price</td>      <th>  R-squared:         </th> <td>   0.845</td>\n",
       "</tr>\n",
       "<tr>\n",
       "  <th>Model:</th>                   <td>OLS</td>       <th>  Adj. R-squared:    </th> <td>   0.772</td>\n",
       "</tr>\n",
       "<tr>\n",
       "  <th>Method:</th>             <td>Least Squares</td>  <th>  F-statistic:       </th> <td>   11.57</td>\n",
       "</tr>\n",
       "<tr>\n",
       "  <th>Date:</th>             <td>Wed, 23 Oct 2019</td> <th>  Prob (F-statistic):</th> <td>3.42e-14</td>\n",
       "</tr>\n",
       "<tr>\n",
       "  <th>Time:</th>                 <td>15:47:10</td>     <th>  Log-Likelihood:    </th> <td> -227.79</td>\n",
       "</tr>\n",
       "<tr>\n",
       "  <th>No. Observations:</th>      <td>    82</td>      <th>  AIC:               </th> <td>   509.6</td>\n",
       "</tr>\n",
       "<tr>\n",
       "  <th>Df Residuals:</th>          <td>    55</td>      <th>  BIC:               </th> <td>   574.6</td>\n",
       "</tr>\n",
       "<tr>\n",
       "  <th>Df Model:</th>              <td>    26</td>      <th>                     </th>     <td> </td>   \n",
       "</tr>\n",
       "<tr>\n",
       "  <th>Covariance Type:</th>      <td>nonrobust</td>    <th>                     </th>     <td> </td>   \n",
       "</tr>\n",
       "</table>\n",
       "<table class=\"simpletable\">\n",
       "<tr>\n",
       "    <td></td>       <th>coef</th>     <th>std err</th>      <th>t</th>      <th>P>|t|</th>  <th>[0.025</th>    <th>0.975]</th>  \n",
       "</tr>\n",
       "<tr>\n",
       "  <th>const</th> <td>   79.9552</td> <td>   36.350</td> <td>    2.200</td> <td> 0.032</td> <td>    7.107</td> <td>  152.803</td>\n",
       "</tr>\n",
       "<tr>\n",
       "  <th>x1</th>    <td>   -0.3508</td> <td>    0.427</td> <td>   -0.822</td> <td> 0.415</td> <td>   -1.206</td> <td>    0.505</td>\n",
       "</tr>\n",
       "<tr>\n",
       "  <th>x2</th>    <td>    0.1727</td> <td>    0.411</td> <td>    0.420</td> <td> 0.676</td> <td>   -0.652</td> <td>    0.997</td>\n",
       "</tr>\n",
       "<tr>\n",
       "  <th>x3</th>    <td>    1.8693</td> <td>    1.197</td> <td>    1.562</td> <td> 0.124</td> <td>   -0.529</td> <td>    4.267</td>\n",
       "</tr>\n",
       "<tr>\n",
       "  <th>x4</th>    <td>   -1.0145</td> <td>    2.805</td> <td>   -0.362</td> <td> 0.719</td> <td>   -6.636</td> <td>    4.607</td>\n",
       "</tr>\n",
       "<tr>\n",
       "  <th>x5</th>    <td>    0.1364</td> <td>    0.047</td> <td>    2.916</td> <td> 0.005</td> <td>    0.043</td> <td>    0.230</td>\n",
       "</tr>\n",
       "<tr>\n",
       "  <th>x6</th>    <td>   -0.0019</td> <td>    0.002</td> <td>   -0.812</td> <td> 0.421</td> <td>   -0.007</td> <td>    0.003</td>\n",
       "</tr>\n",
       "<tr>\n",
       "  <th>x7</th>    <td>    0.0019</td> <td>    0.002</td> <td>    0.817</td> <td> 0.418</td> <td>   -0.003</td> <td>    0.006</td>\n",
       "</tr>\n",
       "<tr>\n",
       "  <th>x8</th>    <td>    0.2582</td> <td>    0.535</td> <td>    0.483</td> <td> 0.631</td> <td>   -0.814</td> <td>    1.331</td>\n",
       "</tr>\n",
       "<tr>\n",
       "  <th>x9</th>    <td>    1.9254</td> <td>    1.807</td> <td>    1.065</td> <td> 0.291</td> <td>   -1.697</td> <td>    5.547</td>\n",
       "</tr>\n",
       "<tr>\n",
       "  <th>x10</th>   <td>    0.0149</td> <td>    0.125</td> <td>    0.119</td> <td> 0.906</td> <td>   -0.236</td> <td>    0.266</td>\n",
       "</tr>\n",
       "<tr>\n",
       "  <th>x11</th>   <td>    0.5298</td> <td>    0.308</td> <td>    1.722</td> <td> 0.091</td> <td>   -0.087</td> <td>    1.146</td>\n",
       "</tr>\n",
       "<tr>\n",
       "  <th>x12</th>   <td>   -1.8382</td> <td>    0.548</td> <td>   -3.356</td> <td> 0.001</td> <td>   -2.936</td> <td>   -0.741</td>\n",
       "</tr>\n",
       "<tr>\n",
       "  <th>x13</th>   <td>   -0.4958</td> <td>    0.397</td> <td>   -1.250</td> <td> 0.216</td> <td>   -1.290</td> <td>    0.299</td>\n",
       "</tr>\n",
       "<tr>\n",
       "  <th>x14</th>   <td>    0.2653</td> <td>    0.407</td> <td>    0.652</td> <td> 0.517</td> <td>   -0.550</td> <td>    1.080</td>\n",
       "</tr>\n",
       "<tr>\n",
       "  <th>x15</th>   <td>    0.2561</td> <td>    0.349</td> <td>    0.733</td> <td> 0.467</td> <td>   -0.444</td> <td>    0.956</td>\n",
       "</tr>\n",
       "<tr>\n",
       "  <th>x16</th>   <td>   -0.0039</td> <td>    0.006</td> <td>   -0.656</td> <td> 0.515</td> <td>   -0.016</td> <td>    0.008</td>\n",
       "</tr>\n",
       "<tr>\n",
       "  <th>x17</th>   <td>    0.0102</td> <td>    3.591</td> <td>    0.003</td> <td> 0.998</td> <td>   -7.187</td> <td>    7.207</td>\n",
       "</tr>\n",
       "<tr>\n",
       "  <th>x18</th>   <td>    4.0315</td> <td>    2.280</td> <td>    1.768</td> <td> 0.083</td> <td>   -0.539</td> <td>    8.601</td>\n",
       "</tr>\n",
       "<tr>\n",
       "  <th>x19</th>   <td>    0.4186</td> <td>    2.688</td> <td>    0.156</td> <td> 0.877</td> <td>   -4.969</td> <td>    5.806</td>\n",
       "</tr>\n",
       "<tr>\n",
       "  <th>x20</th>   <td>    4.7470</td> <td>    3.099</td> <td>    1.532</td> <td> 0.131</td> <td>   -1.463</td> <td>   10.957</td>\n",
       "</tr>\n",
       "<tr>\n",
       "  <th>x21</th>   <td>   -3.0402</td> <td>    1.648</td> <td>   -1.845</td> <td> 0.070</td> <td>   -6.343</td> <td>    0.262</td>\n",
       "</tr>\n",
       "<tr>\n",
       "  <th>x22</th>   <td>   -7.8500</td> <td>    2.078</td> <td>   -3.777</td> <td> 0.000</td> <td>  -12.015</td> <td>   -3.685</td>\n",
       "</tr>\n",
       "<tr>\n",
       "  <th>x23</th>   <td>   -0.5527</td> <td>    2.744</td> <td>   -0.201</td> <td> 0.841</td> <td>   -6.051</td> <td>    4.946</td>\n",
       "</tr>\n",
       "<tr>\n",
       "  <th>x24</th>   <td>    4.9375</td> <td>    3.243</td> <td>    1.523</td> <td> 0.134</td> <td>   -1.562</td> <td>   11.437</td>\n",
       "</tr>\n",
       "<tr>\n",
       "  <th>x25</th>   <td>   -1.5489</td> <td>    2.311</td> <td>   -0.670</td> <td> 0.506</td> <td>   -6.180</td> <td>    3.083</td>\n",
       "</tr>\n",
       "<tr>\n",
       "  <th>x26</th>   <td>    1.2526</td> <td>    1.692</td> <td>    0.740</td> <td> 0.462</td> <td>   -2.138</td> <td>    4.644</td>\n",
       "</tr>\n",
       "</table>\n",
       "<table class=\"simpletable\">\n",
       "<tr>\n",
       "  <th>Omnibus:</th>       <td>12.632</td> <th>  Durbin-Watson:     </th> <td>   1.812</td>\n",
       "</tr>\n",
       "<tr>\n",
       "  <th>Prob(Omnibus):</th> <td> 0.002</td> <th>  Jarque-Bera (JB):  </th> <td>  16.688</td>\n",
       "</tr>\n",
       "<tr>\n",
       "  <th>Skew:</th>          <td> 0.691</td> <th>  Prob(JB):          </th> <td>0.000238</td>\n",
       "</tr>\n",
       "<tr>\n",
       "  <th>Kurtosis:</th>      <td> 4.725</td> <th>  Cond. No.          </th> <td>4.56e+05</td>\n",
       "</tr>\n",
       "</table><br/><br/>Warnings:<br/>[1] Standard Errors assume that the covariance matrix of the errors is correctly specified.<br/>[2] The condition number is large, 4.56e+05. This might indicate that there are<br/>strong multicollinearity or other numerical problems."
      ],
      "text/plain": [
       "<class 'statsmodels.iolib.summary.Summary'>\n",
       "\"\"\"\n",
       "                            OLS Regression Results                            \n",
       "==============================================================================\n",
       "Dep. Variable:                  Price   R-squared:                       0.845\n",
       "Model:                            OLS   Adj. R-squared:                  0.772\n",
       "Method:                 Least Squares   F-statistic:                     11.57\n",
       "Date:                Wed, 23 Oct 2019   Prob (F-statistic):           3.42e-14\n",
       "Time:                        15:47:10   Log-Likelihood:                -227.79\n",
       "No. Observations:                  82   AIC:                             509.6\n",
       "Df Residuals:                      55   BIC:                             574.6\n",
       "Df Model:                          26                                         \n",
       "Covariance Type:            nonrobust                                         \n",
       "==============================================================================\n",
       "                 coef    std err          t      P>|t|      [0.025      0.975]\n",
       "------------------------------------------------------------------------------\n",
       "const         79.9552     36.350      2.200      0.032       7.107     152.803\n",
       "x1            -0.3508      0.427     -0.822      0.415      -1.206       0.505\n",
       "x2             0.1727      0.411      0.420      0.676      -0.652       0.997\n",
       "x3             1.8693      1.197      1.562      0.124      -0.529       4.267\n",
       "x4            -1.0145      2.805     -0.362      0.719      -6.636       4.607\n",
       "x5             0.1364      0.047      2.916      0.005       0.043       0.230\n",
       "x6            -0.0019      0.002     -0.812      0.421      -0.007       0.003\n",
       "x7             0.0019      0.002      0.817      0.418      -0.003       0.006\n",
       "x8             0.2582      0.535      0.483      0.631      -0.814       1.331\n",
       "x9             1.9254      1.807      1.065      0.291      -1.697       5.547\n",
       "x10            0.0149      0.125      0.119      0.906      -0.236       0.266\n",
       "x11            0.5298      0.308      1.722      0.091      -0.087       1.146\n",
       "x12           -1.8382      0.548     -3.356      0.001      -2.936      -0.741\n",
       "x13           -0.4958      0.397     -1.250      0.216      -1.290       0.299\n",
       "x14            0.2653      0.407      0.652      0.517      -0.550       1.080\n",
       "x15            0.2561      0.349      0.733      0.467      -0.444       0.956\n",
       "x16           -0.0039      0.006     -0.656      0.515      -0.016       0.008\n",
       "x17            0.0102      3.591      0.003      0.998      -7.187       7.207\n",
       "x18            4.0315      2.280      1.768      0.083      -0.539       8.601\n",
       "x19            0.4186      2.688      0.156      0.877      -4.969       5.806\n",
       "x20            4.7470      3.099      1.532      0.131      -1.463      10.957\n",
       "x21           -3.0402      1.648     -1.845      0.070      -6.343       0.262\n",
       "x22           -7.8500      2.078     -3.777      0.000     -12.015      -3.685\n",
       "x23           -0.5527      2.744     -0.201      0.841      -6.051       4.946\n",
       "x24            4.9375      3.243      1.523      0.134      -1.562      11.437\n",
       "x25           -1.5489      2.311     -0.670      0.506      -6.180       3.083\n",
       "x26            1.2526      1.692      0.740      0.462      -2.138       4.644\n",
       "==============================================================================\n",
       "Omnibus:                       12.632   Durbin-Watson:                   1.812\n",
       "Prob(Omnibus):                  0.002   Jarque-Bera (JB):               16.688\n",
       "Skew:                           0.691   Prob(JB):                     0.000238\n",
       "Kurtosis:                       4.725   Cond. No.                     4.56e+05\n",
       "==============================================================================\n",
       "\n",
       "Warnings:\n",
       "[1] Standard Errors assume that the covariance matrix of the errors is correctly specified.\n",
       "[2] The condition number is large, 4.56e+05. This might indicate that there are\n",
       "strong multicollinearity or other numerical problems.\n",
       "\"\"\""
      ]
     },
     "execution_count": 23,
     "metadata": {},
     "output_type": "execute_result"
    }
   ],
   "source": [
    "model_all_columns_noNAs.summary()"
   ]
  },
  {
   "cell_type": "code",
   "execution_count": 77,
   "metadata": {},
   "outputs": [
    {
     "data": {
      "text/plain": [
       "Index(['MPG.city', 'MPG.highway', 'Cylinders', 'EngineSize', 'Horsepower',\n",
       "       'RPM', 'Rev.per.mile', 'Fuel.tank.capacity', 'Passengers', 'Length',\n",
       "       'Wheelbase', 'Width', 'Turn.circle', 'Rear.seat.room', 'Luggage.room',\n",
       "       'Weight', 'Type_Large', 'Type_Midsize', 'Type_Small', 'Type_Sporty',\n",
       "       'AirBags_Driver only', 'AirBags_None', 'DriveTrain_Front',\n",
       "       'DriveTrain_Rear', 'Man.trans.avail_Yes', 'Origin_non-USA'],\n",
       "      dtype='object')"
      ]
     },
     "execution_count": 77,
     "metadata": {},
     "output_type": "execute_result"
    }
   ],
   "source": [
    "#match the names to variable names\n",
    "X0.columns\n",
    "#x1 = MPG.city, x2 = MPG.highway, x3 = Cylinders, x4 = EngineSize, x5 = Horsepower, x6 = RPM, x7 = Rev.per.mile\n",
    "#x8 = Fuel.tank.capacity, x9 = Passengers, x10 = Length, x11 = Wheelbase, x12 = Width, x13 = Turn.circle, \n",
    "#x14 = Rear.seat.room, x15 Luggage.room, x16 = Weight, x17 = Type_Large, x18 = Type_Midsize, x19 = Type_Small\n",
    "#x20 = Type_Sporty, x21 = AirBags_Driver only, x22 = AirBags_None, x23 = DriveTrain_Front, x24 = DriveTrain_Rear\n",
    "#x25 = Man.trans.avail_Yes, x26 = Origin_non-USA"
   ]
  },
  {
   "cell_type": "markdown",
   "metadata": {},
   "source": [
    "#### The fitted equation for the model using dataframe2 (when all the NA rows are all dropped): <br>\n",
    "yhat = 79.955 -0.351 x1 +0.173 x2 + 1.870 x3 - 1.015 x4 + 0.136 x5 -.002 x6 + .002 x7 +0.258 x8 + 1.925 x9 + 0.015 x10 + 0.530 x11 -1.838 x12 - 0.496 x13 + 0.265 x14 + 0.256 x15 - 0.004 x16 + 0.0102 x17 + 4.032 x18 -0.419 x19 +4.747 x20 - 3.040 x21 -7.850 x22 - 0.553 x23 + 4.938 x24 -1.549 x25 +1.253 x26<br>\n",
    "\n",
    "or equivalently, substituting in each of the appropriate variable names, we obtain:<br>\n",
    "\n",
    "Price_hat = 79.955 -0.351(MPG.city) +0.173(MPG.highway) + 1.870(Cylinders) - 1.015(EngineSize) + 0.136(Horsepower) -.002(RPM) + .002(Rev.per.mile) +0.258(Fuel.tank.capacity) + 1.925(Passengers) + 0.015(Length) + 0.530(Wheelbase) -1.838(Width) - 0.496(Turn.circle) + 0.265(Rear.seat.room) + 0.256(Luggage.room) - 0.004(Weight) + 0.0102(Type_Large) + 4.032(Type_Midsize) -0.419(Type_Small) +4.747(Type_Sporty) - 3.040(AirBags_Driver only) -7.850(AirBags_None) - 0.553(DriveTrain_Front) + 4.938(DriveTrain_Rear) -1.549(Man.trans.avail_Yes) +1.253(Origin_non-USA)"
   ]
  },
  {
   "cell_type": "markdown",
   "metadata": {},
   "source": [
    "Question 2 b) Build a regression model to predict Luggage.room using all other variables in dataframe2 excluding Type and Price. Predict Luggage.room of the rows with NAs in dataframe1. Substitute the NAs in dataframe1 with these predicted values. Call the resulting dataframe dataframe3."
   ]
  },
  {
   "cell_type": "markdown",
   "metadata": {},
   "source": [
    "**Answer:**<br>\n",
    "To answer this, we return to dataframe1 which contains luggage.room nas but not the Rear.seat.room NAs\n",
    "now we want to build a model to predict the missing luggage.room NAs using all other columns of the dataframe except\n",
    "for Type and Price.\n",
    "\n",
    "To do so we will want to build a regression model using the luggage.room's column without NAs regressed \n",
    "upon all the other predictor columns excluding the columns: type and price.\n",
    "then using this Multiple Linear Regression fitted model, we will predict what the luggage.room should be\n",
    "for each NA value of luggage.room in dataframe1\n",
    "So from dataframe1, we can remove the price and type columns,then \n",
    "use pd.get_dummies for DriveTrain (Categorical), AirBags, Man.Trans.avail (Categorical), Origin (Categorical))]\n",
    "Again we must also remember to change the datatype of Cylinders to int."
   ]
  },
  {
   "cell_type": "code",
   "execution_count": 24,
   "metadata": {},
   "outputs": [],
   "source": [
    "#first lets remove Price and Type and move the luggage column to the first position of the dataframe\n",
    "#let's assign it to a new variable name called dataframe1a\n",
    "dataframe1a = dataframe1[['Luggage.room','MPG.city', 'MPG.highway', 'AirBags', 'DriveTrain',\n",
    "       'Cylinders', 'EngineSize', 'Horsepower', 'RPM', 'Rev.per.mile',\n",
    "       'Man.trans.avail', 'Fuel.tank.capacity', 'Passengers', 'Length',\n",
    "       'Wheelbase', 'Width', 'Turn.circle', 'Rear.seat.room','Weight', 'Origin']]"
   ]
  },
  {
   "cell_type": "code",
   "execution_count": 25,
   "metadata": {},
   "outputs": [],
   "source": [
    "#then remove all na rows within the luggage room column that show up within dataframe1a \n",
    "dataframe1a = dataframe1a.dropna(subset=['Luggage.room'])"
   ]
  },
  {
   "cell_type": "code",
   "execution_count": 80,
   "metadata": {},
   "outputs": [
    {
     "data": {
      "text/plain": [
       "12    14.0\n",
       "13    13.0\n",
       "14    16.0\n",
       "17    20.0\n",
       "19    15.0\n",
       "20    14.0\n",
       "21    17.0\n",
       "22    11.0\n",
       "Name: Luggage.room, dtype: float64"
      ]
     },
     "execution_count": 80,
     "metadata": {},
     "output_type": "execute_result"
    }
   ],
   "source": [
    "#spotcheck to verify they have been removed\n",
    "dataframe1a['Luggage.room'][12:20]"
   ]
  },
  {
   "cell_type": "code",
   "execution_count": 81,
   "metadata": {},
   "outputs": [],
   "source": [
    "#now we convert cylinders to int type\n",
    "dataframe1a['Cylinders'] = dataframe1a['Cylinders'].astype(int);"
   ]
  },
  {
   "cell_type": "code",
   "execution_count": 82,
   "metadata": {},
   "outputs": [
    {
     "data": {
      "text/plain": [
       "dtype('int64')"
      ]
     },
     "execution_count": 82,
     "metadata": {},
     "output_type": "execute_result"
    }
   ],
   "source": [
    "dataframe1a['Cylinders'].dtype"
   ]
  },
  {
   "cell_type": "code",
   "execution_count": 83,
   "metadata": {},
   "outputs": [
    {
     "data": {
      "text/plain": [
       "82"
      ]
     },
     "execution_count": 83,
     "metadata": {},
     "output_type": "execute_result"
    }
   ],
   "source": [
    "len(dataframe1a) #there are 82 observations in this luggage regression since we've again removed the NAs"
   ]
  },
  {
   "cell_type": "code",
   "execution_count": 84,
   "metadata": {},
   "outputs": [],
   "source": [
    "#then we need to also convert AirBags, DriveTrain, Man.trans.avail, Origin into dummy variables\n",
    "dataframe1a_withDummies = pd.get_dummies(data=dataframe1a, columns=['AirBags','DriveTrain','Man.trans.avail','Origin']\n",
    "                                         , drop_first=True)"
   ]
  },
  {
   "cell_type": "code",
   "execution_count": 85,
   "metadata": {},
   "outputs": [
    {
     "name": "stdout",
     "output_type": "stream",
     "text": [
      "<class 'pandas.core.frame.DataFrame'>\n",
      "Int64Index: 82 entries, 0 to 92\n",
      "Data columns (total 22 columns):\n",
      "Luggage.room           82 non-null float64\n",
      "MPG.city               82 non-null int64\n",
      "MPG.highway            82 non-null int64\n",
      "Cylinders              82 non-null int64\n",
      "EngineSize             82 non-null float64\n",
      "Horsepower             82 non-null int64\n",
      "RPM                    82 non-null int64\n",
      "Rev.per.mile           82 non-null int64\n",
      "Fuel.tank.capacity     82 non-null float64\n",
      "Passengers             82 non-null int64\n",
      "Length                 82 non-null int64\n",
      "Wheelbase              82 non-null int64\n",
      "Width                  82 non-null int64\n",
      "Turn.circle            82 non-null int64\n",
      "Rear.seat.room         82 non-null float64\n",
      "Weight                 82 non-null int64\n",
      "AirBags_Driver only    82 non-null uint8\n",
      "AirBags_None           82 non-null uint8\n",
      "DriveTrain_Front       82 non-null uint8\n",
      "DriveTrain_Rear        82 non-null uint8\n",
      "Man.trans.avail_Yes    82 non-null uint8\n",
      "Origin_non-USA         82 non-null uint8\n",
      "dtypes: float64(4), int64(12), uint8(6)\n",
      "memory usage: 11.4 KB\n"
     ]
    }
   ],
   "source": [
    "dataframe1a_withDummies.info()"
   ]
  },
  {
   "cell_type": "code",
   "execution_count": 86,
   "metadata": {},
   "outputs": [
    {
     "data": {
      "text/plain": [
       "0    11.0\n",
       "1    15.0\n",
       "2    14.0\n",
       "Name: Luggage.room, dtype: float64"
      ]
     },
     "execution_count": 86,
     "metadata": {},
     "output_type": "execute_result"
    }
   ],
   "source": [
    "#now we can fit a model for luggage.room\n",
    "#select the response variable\n",
    "y0a = dataframe1a_withDummies.iloc[:,0]\n",
    "y0a[:3]"
   ]
  },
  {
   "cell_type": "code",
   "execution_count": 87,
   "metadata": {},
   "outputs": [
    {
     "data": {
      "text/html": [
       "<div>\n",
       "<style scoped>\n",
       "    .dataframe tbody tr th:only-of-type {\n",
       "        vertical-align: middle;\n",
       "    }\n",
       "\n",
       "    .dataframe tbody tr th {\n",
       "        vertical-align: top;\n",
       "    }\n",
       "\n",
       "    .dataframe thead th {\n",
       "        text-align: right;\n",
       "    }\n",
       "</style>\n",
       "<table border=\"1\" class=\"dataframe\">\n",
       "  <thead>\n",
       "    <tr style=\"text-align: right;\">\n",
       "      <th></th>\n",
       "      <th>MPG.city</th>\n",
       "      <th>MPG.highway</th>\n",
       "      <th>Cylinders</th>\n",
       "      <th>EngineSize</th>\n",
       "      <th>Horsepower</th>\n",
       "      <th>RPM</th>\n",
       "      <th>Rev.per.mile</th>\n",
       "      <th>Fuel.tank.capacity</th>\n",
       "      <th>Passengers</th>\n",
       "      <th>Length</th>\n",
       "      <th>...</th>\n",
       "      <th>Width</th>\n",
       "      <th>Turn.circle</th>\n",
       "      <th>Rear.seat.room</th>\n",
       "      <th>Weight</th>\n",
       "      <th>AirBags_Driver only</th>\n",
       "      <th>AirBags_None</th>\n",
       "      <th>DriveTrain_Front</th>\n",
       "      <th>DriveTrain_Rear</th>\n",
       "      <th>Man.trans.avail_Yes</th>\n",
       "      <th>Origin_non-USA</th>\n",
       "    </tr>\n",
       "  </thead>\n",
       "  <tbody>\n",
       "    <tr>\n",
       "      <th>0</th>\n",
       "      <td>25</td>\n",
       "      <td>31</td>\n",
       "      <td>4</td>\n",
       "      <td>1.8</td>\n",
       "      <td>140</td>\n",
       "      <td>6300</td>\n",
       "      <td>2890</td>\n",
       "      <td>13.2</td>\n",
       "      <td>5</td>\n",
       "      <td>177</td>\n",
       "      <td>...</td>\n",
       "      <td>68</td>\n",
       "      <td>37</td>\n",
       "      <td>26.5</td>\n",
       "      <td>2705</td>\n",
       "      <td>0</td>\n",
       "      <td>1</td>\n",
       "      <td>1</td>\n",
       "      <td>0</td>\n",
       "      <td>1</td>\n",
       "      <td>1</td>\n",
       "    </tr>\n",
       "    <tr>\n",
       "      <th>1</th>\n",
       "      <td>18</td>\n",
       "      <td>25</td>\n",
       "      <td>6</td>\n",
       "      <td>3.2</td>\n",
       "      <td>200</td>\n",
       "      <td>5500</td>\n",
       "      <td>2335</td>\n",
       "      <td>18.0</td>\n",
       "      <td>5</td>\n",
       "      <td>195</td>\n",
       "      <td>...</td>\n",
       "      <td>71</td>\n",
       "      <td>38</td>\n",
       "      <td>30.0</td>\n",
       "      <td>3560</td>\n",
       "      <td>0</td>\n",
       "      <td>0</td>\n",
       "      <td>1</td>\n",
       "      <td>0</td>\n",
       "      <td>1</td>\n",
       "      <td>1</td>\n",
       "    </tr>\n",
       "    <tr>\n",
       "      <th>2</th>\n",
       "      <td>20</td>\n",
       "      <td>26</td>\n",
       "      <td>6</td>\n",
       "      <td>2.8</td>\n",
       "      <td>172</td>\n",
       "      <td>5500</td>\n",
       "      <td>2280</td>\n",
       "      <td>16.9</td>\n",
       "      <td>5</td>\n",
       "      <td>180</td>\n",
       "      <td>...</td>\n",
       "      <td>67</td>\n",
       "      <td>37</td>\n",
       "      <td>28.0</td>\n",
       "      <td>3375</td>\n",
       "      <td>1</td>\n",
       "      <td>0</td>\n",
       "      <td>1</td>\n",
       "      <td>0</td>\n",
       "      <td>1</td>\n",
       "      <td>1</td>\n",
       "    </tr>\n",
       "  </tbody>\n",
       "</table>\n",
       "<p>3 rows × 21 columns</p>\n",
       "</div>"
      ],
      "text/plain": [
       "   MPG.city  MPG.highway  Cylinders  EngineSize  Horsepower   RPM  \\\n",
       "0        25           31          4         1.8         140  6300   \n",
       "1        18           25          6         3.2         200  5500   \n",
       "2        20           26          6         2.8         172  5500   \n",
       "\n",
       "   Rev.per.mile  Fuel.tank.capacity  Passengers  Length  ...  Width  \\\n",
       "0          2890                13.2           5     177  ...     68   \n",
       "1          2335                18.0           5     195  ...     71   \n",
       "2          2280                16.9           5     180  ...     67   \n",
       "\n",
       "   Turn.circle  Rear.seat.room  Weight  AirBags_Driver only  AirBags_None  \\\n",
       "0           37            26.5    2705                    0             1   \n",
       "1           38            30.0    3560                    0             0   \n",
       "2           37            28.0    3375                    1             0   \n",
       "\n",
       "   DriveTrain_Front  DriveTrain_Rear  Man.trans.avail_Yes  Origin_non-USA  \n",
       "0                 1                0                    1               1  \n",
       "1                 1                0                    1               1  \n",
       "2                 1                0                    1               1  \n",
       "\n",
       "[3 rows x 21 columns]"
      ]
     },
     "execution_count": 87,
     "metadata": {},
     "output_type": "execute_result"
    }
   ],
   "source": [
    "#select the predictors\n",
    "X0a = dataframe1a_withDummies.iloc[:,1:22]\n",
    "X0a[:3]"
   ]
  },
  {
   "cell_type": "code",
   "execution_count": 88,
   "metadata": {},
   "outputs": [
    {
     "data": {
      "text/plain": [
       "array([[2.500e+01, 3.100e+01, 4.000e+00, 1.800e+00, 1.400e+02, 6.300e+03,\n",
       "        2.890e+03, 1.320e+01, 5.000e+00, 1.770e+02, 1.020e+02, 6.800e+01,\n",
       "        3.700e+01, 2.650e+01, 2.705e+03, 0.000e+00, 1.000e+00, 1.000e+00,\n",
       "        0.000e+00, 1.000e+00, 1.000e+00],\n",
       "       [1.800e+01, 2.500e+01, 6.000e+00, 3.200e+00, 2.000e+02, 5.500e+03,\n",
       "        2.335e+03, 1.800e+01, 5.000e+00, 1.950e+02, 1.150e+02, 7.100e+01,\n",
       "        3.800e+01, 3.000e+01, 3.560e+03, 0.000e+00, 0.000e+00, 1.000e+00,\n",
       "        0.000e+00, 1.000e+00, 1.000e+00]])"
      ]
     },
     "execution_count": 88,
     "metadata": {},
     "output_type": "execute_result"
    }
   ],
   "source": [
    "Xa=X0a.to_numpy()\n",
    "Xa[:2]"
   ]
  },
  {
   "cell_type": "code",
   "execution_count": 89,
   "metadata": {},
   "outputs": [
    {
     "data": {
      "text/plain": [
       "array([[1.000e+00, 2.500e+01, 3.100e+01, 4.000e+00, 1.800e+00, 1.400e+02,\n",
       "        6.300e+03, 2.890e+03, 1.320e+01, 5.000e+00, 1.770e+02, 1.020e+02,\n",
       "        6.800e+01, 3.700e+01, 2.650e+01, 2.705e+03, 0.000e+00, 1.000e+00,\n",
       "        1.000e+00, 0.000e+00, 1.000e+00, 1.000e+00],\n",
       "       [1.000e+00, 1.800e+01, 2.500e+01, 6.000e+00, 3.200e+00, 2.000e+02,\n",
       "        5.500e+03, 2.335e+03, 1.800e+01, 5.000e+00, 1.950e+02, 1.150e+02,\n",
       "        7.100e+01, 3.800e+01, 3.000e+01, 3.560e+03, 0.000e+00, 0.000e+00,\n",
       "        1.000e+00, 0.000e+00, 1.000e+00, 1.000e+00]])"
      ]
     },
     "execution_count": 89,
     "metadata": {},
     "output_type": "execute_result"
    }
   ],
   "source": [
    "X1a = sm.add_constant(Xa)\n",
    "X1a[:2]"
   ]
  },
  {
   "cell_type": "markdown",
   "metadata": {},
   "source": [
    "**Answer**: Model to predict Luggage.room using all other variables in dataframe2 excluding Type and Price."
   ]
  },
  {
   "cell_type": "code",
   "execution_count": 90,
   "metadata": {},
   "outputs": [],
   "source": [
    "#fit the model for predicting the missing luggage values\n",
    "model_luggage_room = sm.OLS(y0a,X1a).fit()"
   ]
  },
  {
   "cell_type": "code",
   "execution_count": 91,
   "metadata": {},
   "outputs": [
    {
     "data": {
      "text/html": [
       "<table class=\"simpletable\">\n",
       "<caption>OLS Regression Results</caption>\n",
       "<tr>\n",
       "  <th>Dep. Variable:</th>      <td>Luggage.room</td>   <th>  R-squared:         </th> <td>   0.737</td>\n",
       "</tr>\n",
       "<tr>\n",
       "  <th>Model:</th>                   <td>OLS</td>       <th>  Adj. R-squared:    </th> <td>   0.644</td>\n",
       "</tr>\n",
       "<tr>\n",
       "  <th>Method:</th>             <td>Least Squares</td>  <th>  F-statistic:       </th> <td>   7.989</td>\n",
       "</tr>\n",
       "<tr>\n",
       "  <th>Date:</th>             <td>Tue, 22 Oct 2019</td> <th>  Prob (F-statistic):</th> <td>1.09e-10</td>\n",
       "</tr>\n",
       "<tr>\n",
       "  <th>Time:</th>                 <td>22:32:37</td>     <th>  Log-Likelihood:    </th> <td> -151.19</td>\n",
       "</tr>\n",
       "<tr>\n",
       "  <th>No. Observations:</th>      <td>    82</td>      <th>  AIC:               </th> <td>   346.4</td>\n",
       "</tr>\n",
       "<tr>\n",
       "  <th>Df Residuals:</th>          <td>    60</td>      <th>  BIC:               </th> <td>   399.3</td>\n",
       "</tr>\n",
       "<tr>\n",
       "  <th>Df Model:</th>              <td>    21</td>      <th>                     </th>     <td> </td>   \n",
       "</tr>\n",
       "<tr>\n",
       "  <th>Covariance Type:</th>      <td>nonrobust</td>    <th>                     </th>     <td> </td>   \n",
       "</tr>\n",
       "</table>\n",
       "<table class=\"simpletable\">\n",
       "<tr>\n",
       "    <td></td>       <th>coef</th>     <th>std err</th>      <th>t</th>      <th>P>|t|</th>  <th>[0.025</th>    <th>0.975]</th>  \n",
       "</tr>\n",
       "<tr>\n",
       "  <th>const</th> <td>  -13.7456</td> <td>   11.920</td> <td>   -1.153</td> <td> 0.253</td> <td>  -37.589</td> <td>   10.097</td>\n",
       "</tr>\n",
       "<tr>\n",
       "  <th>x1</th>    <td>   -0.2254</td> <td>    0.154</td> <td>   -1.464</td> <td> 0.148</td> <td>   -0.533</td> <td>    0.083</td>\n",
       "</tr>\n",
       "<tr>\n",
       "  <th>x2</th>    <td>    0.3307</td> <td>    0.148</td> <td>    2.235</td> <td> 0.029</td> <td>    0.035</td> <td>    0.627</td>\n",
       "</tr>\n",
       "<tr>\n",
       "  <th>x3</th>    <td>    0.6285</td> <td>    0.412</td> <td>    1.524</td> <td> 0.133</td> <td>   -0.196</td> <td>    1.454</td>\n",
       "</tr>\n",
       "<tr>\n",
       "  <th>x4</th>    <td>   -0.4464</td> <td>    0.965</td> <td>   -0.463</td> <td> 0.645</td> <td>   -2.377</td> <td>    1.484</td>\n",
       "</tr>\n",
       "<tr>\n",
       "  <th>x5</th>    <td>   -0.0210</td> <td>    0.016</td> <td>   -1.273</td> <td> 0.208</td> <td>   -0.054</td> <td>    0.012</td>\n",
       "</tr>\n",
       "<tr>\n",
       "  <th>x6</th>    <td>   -0.0006</td> <td>    0.001</td> <td>   -0.755</td> <td> 0.453</td> <td>   -0.002</td> <td>    0.001</td>\n",
       "</tr>\n",
       "<tr>\n",
       "  <th>x7</th>    <td>    0.0003</td> <td>    0.001</td> <td>    0.306</td> <td> 0.761</td> <td>   -0.001</td> <td>    0.002</td>\n",
       "</tr>\n",
       "<tr>\n",
       "  <th>x8</th>    <td>    0.3622</td> <td>    0.183</td> <td>    1.983</td> <td> 0.052</td> <td>   -0.003</td> <td>    0.727</td>\n",
       "</tr>\n",
       "<tr>\n",
       "  <th>x9</th>    <td>    0.4263</td> <td>    0.583</td> <td>    0.732</td> <td> 0.467</td> <td>   -0.739</td> <td>    1.592</td>\n",
       "</tr>\n",
       "<tr>\n",
       "  <th>x10</th>   <td>   -0.0251</td> <td>    0.045</td> <td>   -0.553</td> <td> 0.582</td> <td>   -0.116</td> <td>    0.066</td>\n",
       "</tr>\n",
       "<tr>\n",
       "  <th>x11</th>   <td>    0.0277</td> <td>    0.106</td> <td>    0.261</td> <td> 0.795</td> <td>   -0.185</td> <td>    0.240</td>\n",
       "</tr>\n",
       "<tr>\n",
       "  <th>x12</th>   <td>    0.1551</td> <td>    0.176</td> <td>    0.883</td> <td> 0.381</td> <td>   -0.196</td> <td>    0.506</td>\n",
       "</tr>\n",
       "<tr>\n",
       "  <th>x13</th>   <td>   -0.1053</td> <td>    0.146</td> <td>   -0.720</td> <td> 0.475</td> <td>   -0.398</td> <td>    0.188</td>\n",
       "</tr>\n",
       "<tr>\n",
       "  <th>x14</th>   <td>    0.2725</td> <td>    0.143</td> <td>    1.901</td> <td> 0.062</td> <td>   -0.014</td> <td>    0.559</td>\n",
       "</tr>\n",
       "<tr>\n",
       "  <th>x15</th>   <td>    0.0020</td> <td>    0.002</td> <td>    0.938</td> <td> 0.352</td> <td>   -0.002</td> <td>    0.006</td>\n",
       "</tr>\n",
       "<tr>\n",
       "  <th>x16</th>   <td>    0.7139</td> <td>    0.609</td> <td>    1.172</td> <td> 0.246</td> <td>   -0.505</td> <td>    1.933</td>\n",
       "</tr>\n",
       "<tr>\n",
       "  <th>x17</th>   <td>    0.5387</td> <td>    0.764</td> <td>    0.705</td> <td> 0.483</td> <td>   -0.989</td> <td>    2.067</td>\n",
       "</tr>\n",
       "<tr>\n",
       "  <th>x18</th>   <td>    0.1721</td> <td>    0.975</td> <td>    0.177</td> <td> 0.860</td> <td>   -1.778</td> <td>    2.122</td>\n",
       "</tr>\n",
       "<tr>\n",
       "  <th>x19</th>   <td>   -0.1496</td> <td>    1.182</td> <td>   -0.127</td> <td> 0.900</td> <td>   -2.515</td> <td>    2.216</td>\n",
       "</tr>\n",
       "<tr>\n",
       "  <th>x20</th>   <td>   -0.4221</td> <td>    0.770</td> <td>   -0.549</td> <td> 0.585</td> <td>   -1.961</td> <td>    1.117</td>\n",
       "</tr>\n",
       "<tr>\n",
       "  <th>x21</th>   <td>   -0.3389</td> <td>    0.629</td> <td>   -0.538</td> <td> 0.592</td> <td>   -1.598</td> <td>    0.920</td>\n",
       "</tr>\n",
       "</table>\n",
       "<table class=\"simpletable\">\n",
       "<tr>\n",
       "  <th>Omnibus:</th>       <td>12.134</td> <th>  Durbin-Watson:     </th> <td>   1.883</td>\n",
       "</tr>\n",
       "<tr>\n",
       "  <th>Prob(Omnibus):</th> <td> 0.002</td> <th>  Jarque-Bera (JB):  </th> <td>  22.705</td>\n",
       "</tr>\n",
       "<tr>\n",
       "  <th>Skew:</th>          <td> 0.488</td> <th>  Prob(JB):          </th> <td>1.17e-05</td>\n",
       "</tr>\n",
       "<tr>\n",
       "  <th>Kurtosis:</th>      <td> 5.386</td> <th>  Cond. No.          </th> <td>3.97e+05</td>\n",
       "</tr>\n",
       "</table><br/><br/>Warnings:<br/>[1] Standard Errors assume that the covariance matrix of the errors is correctly specified.<br/>[2] The condition number is large, 3.97e+05. This might indicate that there are<br/>strong multicollinearity or other numerical problems."
      ],
      "text/plain": [
       "<class 'statsmodels.iolib.summary.Summary'>\n",
       "\"\"\"\n",
       "                            OLS Regression Results                            \n",
       "==============================================================================\n",
       "Dep. Variable:           Luggage.room   R-squared:                       0.737\n",
       "Model:                            OLS   Adj. R-squared:                  0.644\n",
       "Method:                 Least Squares   F-statistic:                     7.989\n",
       "Date:                Tue, 22 Oct 2019   Prob (F-statistic):           1.09e-10\n",
       "Time:                        22:32:37   Log-Likelihood:                -151.19\n",
       "No. Observations:                  82   AIC:                             346.4\n",
       "Df Residuals:                      60   BIC:                             399.3\n",
       "Df Model:                          21                                         \n",
       "Covariance Type:            nonrobust                                         \n",
       "==============================================================================\n",
       "                 coef    std err          t      P>|t|      [0.025      0.975]\n",
       "------------------------------------------------------------------------------\n",
       "const        -13.7456     11.920     -1.153      0.253     -37.589      10.097\n",
       "x1            -0.2254      0.154     -1.464      0.148      -0.533       0.083\n",
       "x2             0.3307      0.148      2.235      0.029       0.035       0.627\n",
       "x3             0.6285      0.412      1.524      0.133      -0.196       1.454\n",
       "x4            -0.4464      0.965     -0.463      0.645      -2.377       1.484\n",
       "x5            -0.0210      0.016     -1.273      0.208      -0.054       0.012\n",
       "x6            -0.0006      0.001     -0.755      0.453      -0.002       0.001\n",
       "x7             0.0003      0.001      0.306      0.761      -0.001       0.002\n",
       "x8             0.3622      0.183      1.983      0.052      -0.003       0.727\n",
       "x9             0.4263      0.583      0.732      0.467      -0.739       1.592\n",
       "x10           -0.0251      0.045     -0.553      0.582      -0.116       0.066\n",
       "x11            0.0277      0.106      0.261      0.795      -0.185       0.240\n",
       "x12            0.1551      0.176      0.883      0.381      -0.196       0.506\n",
       "x13           -0.1053      0.146     -0.720      0.475      -0.398       0.188\n",
       "x14            0.2725      0.143      1.901      0.062      -0.014       0.559\n",
       "x15            0.0020      0.002      0.938      0.352      -0.002       0.006\n",
       "x16            0.7139      0.609      1.172      0.246      -0.505       1.933\n",
       "x17            0.5387      0.764      0.705      0.483      -0.989       2.067\n",
       "x18            0.1721      0.975      0.177      0.860      -1.778       2.122\n",
       "x19           -0.1496      1.182     -0.127      0.900      -2.515       2.216\n",
       "x20           -0.4221      0.770     -0.549      0.585      -1.961       1.117\n",
       "x21           -0.3389      0.629     -0.538      0.592      -1.598       0.920\n",
       "==============================================================================\n",
       "Omnibus:                       12.134   Durbin-Watson:                   1.883\n",
       "Prob(Omnibus):                  0.002   Jarque-Bera (JB):               22.705\n",
       "Skew:                           0.488   Prob(JB):                     1.17e-05\n",
       "Kurtosis:                       5.386   Cond. No.                     3.97e+05\n",
       "==============================================================================\n",
       "\n",
       "Warnings:\n",
       "[1] Standard Errors assume that the covariance matrix of the errors is correctly specified.\n",
       "[2] The condition number is large, 3.97e+05. This might indicate that there are\n",
       "strong multicollinearity or other numerical problems.\n",
       "\"\"\""
      ]
     },
     "execution_count": 91,
     "metadata": {},
     "output_type": "execute_result"
    }
   ],
   "source": [
    "model_luggage_room.summary()"
   ]
  },
  {
   "cell_type": "markdown",
   "metadata": {},
   "source": [
    "Now that we have our model_luggage_room we can predict or \"interpolate\" what the missing NA luggage room values\n",
    "could be in our original dataframe1.<br>\n",
    "First let's use pd.get_dummies on our dataframe1 so that we get the same dummy variables as those of the NA susbset of rows.<br>\n",
    "\n",
    "Notice that one cannot first get the subset of rows with missing luggage values \n",
    "and then use pd.get_dummies on the subset and then do predictions with it. This approach is *incorrect* because if one uses pd.get_dummies on the subset, you will get dummy values that are different from the original full dataset fitted model because the subset of NAs does not have the full range of categories present in each field, so pd.get_dummies on the NA rows will give an incomplete encoding and thus give incorrect prediction results. Therefore, it is necessary to first get_dummies in the original dataframe *BEFORE* you select out the subset of rows with missing luggage values from the full dataframe."
   ]
  },
  {
   "cell_type": "code",
   "execution_count": 92,
   "metadata": {},
   "outputs": [],
   "source": [
    "dataframe1_withDummies = pd.get_dummies(data=dataframe1, columns=['AirBags', 'DriveTrain', 'Man.trans.avail','Origin'], drop_first=True)"
   ]
  },
  {
   "cell_type": "code",
   "execution_count": 93,
   "metadata": {},
   "outputs": [
    {
     "data": {
      "text/plain": [
       "Index(['Luggage.room', 'MPG.city', 'MPG.highway', 'Cylinders', 'EngineSize',\n",
       "       'Horsepower', 'RPM', 'Rev.per.mile', 'Fuel.tank.capacity', 'Passengers',\n",
       "       'Length', 'Wheelbase', 'Width', 'Turn.circle', 'Rear.seat.room',\n",
       "       'Weight', 'AirBags_Driver only', 'AirBags_None', 'DriveTrain_Front',\n",
       "       'DriveTrain_Rear', 'Man.trans.avail_Yes', 'Origin_non-USA'],\n",
       "      dtype='object')"
      ]
     },
     "execution_count": 93,
     "metadata": {},
     "output_type": "execute_result"
    }
   ],
   "source": [
    "#the luggageroom prediction model used the following dataframe, let's see what the column order was and match it:\n",
    "dataframe1a_withDummies.columns"
   ]
  },
  {
   "cell_type": "code",
   "execution_count": 94,
   "metadata": {},
   "outputs": [],
   "source": [
    "dataframe1_withDummies = dataframe1_withDummies[['Luggage.room', 'MPG.city', 'MPG.highway', 'Cylinders', 'EngineSize',\n",
    "       'Horsepower', 'RPM', 'Rev.per.mile', 'Fuel.tank.capacity', 'Passengers',\n",
    "       'Length', 'Wheelbase', 'Width', 'Turn.circle', 'Rear.seat.room',\n",
    "       'Weight', 'AirBags_Driver only', 'AirBags_None', 'DriveTrain_Front',\n",
    "       'DriveTrain_Rear', 'Man.trans.avail_Yes', 'Origin_non-USA']]"
   ]
  },
  {
   "cell_type": "code",
   "execution_count": 95,
   "metadata": {},
   "outputs": [],
   "source": [
    "#since we've encoded our dummy varibles on the whole dataframe,\n",
    "#we can now select out the subset of rows with missing Luggage Room values, let's assign it to dataframe1_missingLug\n",
    "dataframe1_missingLug = dataframe1_withDummies[np.isnan(dataframe1_withDummies['Luggage.room'])]"
   ]
  },
  {
   "cell_type": "code",
   "execution_count": 96,
   "metadata": {},
   "outputs": [
    {
     "name": "stderr",
     "output_type": "stream",
     "text": [
      "/Users/nomad3/anaconda3/lib/python3.7/site-packages/ipykernel_launcher.py:2: SettingWithCopyWarning: \n",
      "A value is trying to be set on a copy of a slice from a DataFrame.\n",
      "Try using .loc[row_indexer,col_indexer] = value instead\n",
      "\n",
      "See the caveats in the documentation: http://pandas.pydata.org/pandas-docs/stable/indexing.html#indexing-view-versus-copy\n",
      "  \n"
     ]
    }
   ],
   "source": [
    "#remember that cylinders is still an object datatype. Let's fix that real quick:\n",
    "dataframe1_missingLug['Cylinders'] = dataframe1_missingLug['Cylinders'].astype(int);"
   ]
  },
  {
   "cell_type": "code",
   "execution_count": 97,
   "metadata": {},
   "outputs": [
    {
     "data": {
      "text/plain": [
       "dtype('int64')"
      ]
     },
     "execution_count": 97,
     "metadata": {},
     "output_type": "execute_result"
    }
   ],
   "source": [
    "dataframe1_missingLug['Cylinders'].dtype"
   ]
  },
  {
   "cell_type": "code",
   "execution_count": 98,
   "metadata": {},
   "outputs": [
    {
     "name": "stdout",
     "output_type": "stream",
     "text": [
      "<class 'pandas.core.frame.DataFrame'>\n",
      "Int64Index: 9 entries, 15 to 88\n",
      "Data columns (total 22 columns):\n",
      "Luggage.room           0 non-null float64\n",
      "MPG.city               9 non-null int64\n",
      "MPG.highway            9 non-null int64\n",
      "Cylinders              9 non-null int64\n",
      "EngineSize             9 non-null float64\n",
      "Horsepower             9 non-null int64\n",
      "RPM                    9 non-null int64\n",
      "Rev.per.mile           9 non-null int64\n",
      "Fuel.tank.capacity     9 non-null float64\n",
      "Passengers             9 non-null int64\n",
      "Length                 9 non-null int64\n",
      "Wheelbase              9 non-null int64\n",
      "Width                  9 non-null int64\n",
      "Turn.circle            9 non-null int64\n",
      "Rear.seat.room         9 non-null float64\n",
      "Weight                 9 non-null int64\n",
      "AirBags_Driver only    9 non-null uint8\n",
      "AirBags_None           9 non-null uint8\n",
      "DriveTrain_Front       9 non-null uint8\n",
      "DriveTrain_Rear        9 non-null uint8\n",
      "Man.trans.avail_Yes    9 non-null uint8\n",
      "Origin_non-USA         9 non-null uint8\n",
      "dtypes: float64(4), int64(12), uint8(6)\n",
      "memory usage: 1.2 KB\n"
     ]
    }
   ],
   "source": [
    "#so now we should have a subset of all the rows where the luggage room values were missing\n",
    "#and all the values datatypes should be int or float\n",
    "dataframe1_missingLug.info()"
   ]
  },
  {
   "cell_type": "code",
   "execution_count": 99,
   "metadata": {},
   "outputs": [],
   "source": [
    "#let's remove the NaN column of Luggage.room values:\n",
    "dataframe1_lugpred = dataframe1_missingLug[['MPG.city', 'MPG.highway', 'Cylinders', 'EngineSize',\n",
    "       'Horsepower', 'RPM', 'Rev.per.mile', 'Fuel.tank.capacity', 'Passengers',\n",
    "       'Length', 'Wheelbase', 'Width', 'Turn.circle', 'Rear.seat.room',\n",
    "       'Weight', 'AirBags_Driver only', 'AirBags_None', 'DriveTrain_Front',\n",
    "       'DriveTrain_Rear', 'Man.trans.avail_Yes', 'Origin_non-USA']]"
   ]
  },
  {
   "cell_type": "code",
   "execution_count": 100,
   "metadata": {},
   "outputs": [
    {
     "data": {
      "text/html": [
       "<div>\n",
       "<style scoped>\n",
       "    .dataframe tbody tr th:only-of-type {\n",
       "        vertical-align: middle;\n",
       "    }\n",
       "\n",
       "    .dataframe tbody tr th {\n",
       "        vertical-align: top;\n",
       "    }\n",
       "\n",
       "    .dataframe thead th {\n",
       "        text-align: right;\n",
       "    }\n",
       "</style>\n",
       "<table border=\"1\" class=\"dataframe\">\n",
       "  <thead>\n",
       "    <tr style=\"text-align: right;\">\n",
       "      <th></th>\n",
       "      <th>MPG.city</th>\n",
       "      <th>MPG.highway</th>\n",
       "      <th>Cylinders</th>\n",
       "      <th>EngineSize</th>\n",
       "      <th>Horsepower</th>\n",
       "      <th>RPM</th>\n",
       "      <th>Rev.per.mile</th>\n",
       "      <th>Fuel.tank.capacity</th>\n",
       "      <th>Passengers</th>\n",
       "      <th>Length</th>\n",
       "      <th>...</th>\n",
       "      <th>Width</th>\n",
       "      <th>Turn.circle</th>\n",
       "      <th>Rear.seat.room</th>\n",
       "      <th>Weight</th>\n",
       "      <th>AirBags_Driver only</th>\n",
       "      <th>AirBags_None</th>\n",
       "      <th>DriveTrain_Front</th>\n",
       "      <th>DriveTrain_Rear</th>\n",
       "      <th>Man.trans.avail_Yes</th>\n",
       "      <th>Origin_non-USA</th>\n",
       "    </tr>\n",
       "  </thead>\n",
       "  <tbody>\n",
       "    <tr>\n",
       "      <th>15</th>\n",
       "      <td>18</td>\n",
       "      <td>23</td>\n",
       "      <td>6</td>\n",
       "      <td>3.8</td>\n",
       "      <td>170</td>\n",
       "      <td>4800</td>\n",
       "      <td>1690</td>\n",
       "      <td>20.0</td>\n",
       "      <td>7</td>\n",
       "      <td>178</td>\n",
       "      <td>...</td>\n",
       "      <td>74</td>\n",
       "      <td>44</td>\n",
       "      <td>30.5</td>\n",
       "      <td>3715</td>\n",
       "      <td>0</td>\n",
       "      <td>1</td>\n",
       "      <td>1</td>\n",
       "      <td>0</td>\n",
       "      <td>0</td>\n",
       "      <td>0</td>\n",
       "    </tr>\n",
       "    <tr>\n",
       "      <th>16</th>\n",
       "      <td>15</td>\n",
       "      <td>20</td>\n",
       "      <td>6</td>\n",
       "      <td>4.3</td>\n",
       "      <td>165</td>\n",
       "      <td>4000</td>\n",
       "      <td>1790</td>\n",
       "      <td>27.0</td>\n",
       "      <td>8</td>\n",
       "      <td>194</td>\n",
       "      <td>...</td>\n",
       "      <td>78</td>\n",
       "      <td>42</td>\n",
       "      <td>33.5</td>\n",
       "      <td>4025</td>\n",
       "      <td>0</td>\n",
       "      <td>1</td>\n",
       "      <td>0</td>\n",
       "      <td>0</td>\n",
       "      <td>0</td>\n",
       "      <td>0</td>\n",
       "    </tr>\n",
       "    <tr>\n",
       "      <th>25</th>\n",
       "      <td>17</td>\n",
       "      <td>21</td>\n",
       "      <td>6</td>\n",
       "      <td>3.0</td>\n",
       "      <td>142</td>\n",
       "      <td>5000</td>\n",
       "      <td>1970</td>\n",
       "      <td>20.0</td>\n",
       "      <td>7</td>\n",
       "      <td>175</td>\n",
       "      <td>...</td>\n",
       "      <td>72</td>\n",
       "      <td>42</td>\n",
       "      <td>26.5</td>\n",
       "      <td>3705</td>\n",
       "      <td>1</td>\n",
       "      <td>0</td>\n",
       "      <td>0</td>\n",
       "      <td>0</td>\n",
       "      <td>0</td>\n",
       "      <td>0</td>\n",
       "    </tr>\n",
       "    <tr>\n",
       "      <th>35</th>\n",
       "      <td>15</td>\n",
       "      <td>20</td>\n",
       "      <td>6</td>\n",
       "      <td>3.0</td>\n",
       "      <td>145</td>\n",
       "      <td>4800</td>\n",
       "      <td>2080</td>\n",
       "      <td>21.0</td>\n",
       "      <td>7</td>\n",
       "      <td>176</td>\n",
       "      <td>...</td>\n",
       "      <td>72</td>\n",
       "      <td>45</td>\n",
       "      <td>30.0</td>\n",
       "      <td>3735</td>\n",
       "      <td>1</td>\n",
       "      <td>0</td>\n",
       "      <td>0</td>\n",
       "      <td>0</td>\n",
       "      <td>1</td>\n",
       "      <td>0</td>\n",
       "    </tr>\n",
       "    <tr>\n",
       "      <th>55</th>\n",
       "      <td>18</td>\n",
       "      <td>24</td>\n",
       "      <td>6</td>\n",
       "      <td>3.0</td>\n",
       "      <td>155</td>\n",
       "      <td>5000</td>\n",
       "      <td>2240</td>\n",
       "      <td>19.6</td>\n",
       "      <td>7</td>\n",
       "      <td>190</td>\n",
       "      <td>...</td>\n",
       "      <td>72</td>\n",
       "      <td>39</td>\n",
       "      <td>27.5</td>\n",
       "      <td>3735</td>\n",
       "      <td>0</td>\n",
       "      <td>1</td>\n",
       "      <td>0</td>\n",
       "      <td>0</td>\n",
       "      <td>0</td>\n",
       "      <td>1</td>\n",
       "    </tr>\n",
       "    <tr>\n",
       "      <th>65</th>\n",
       "      <td>17</td>\n",
       "      <td>23</td>\n",
       "      <td>6</td>\n",
       "      <td>3.0</td>\n",
       "      <td>151</td>\n",
       "      <td>4800</td>\n",
       "      <td>2065</td>\n",
       "      <td>20.0</td>\n",
       "      <td>7</td>\n",
       "      <td>190</td>\n",
       "      <td>...</td>\n",
       "      <td>74</td>\n",
       "      <td>41</td>\n",
       "      <td>27.0</td>\n",
       "      <td>4100</td>\n",
       "      <td>0</td>\n",
       "      <td>1</td>\n",
       "      <td>1</td>\n",
       "      <td>0</td>\n",
       "      <td>0</td>\n",
       "      <td>1</td>\n",
       "    </tr>\n",
       "    <tr>\n",
       "      <th>69</th>\n",
       "      <td>18</td>\n",
       "      <td>23</td>\n",
       "      <td>6</td>\n",
       "      <td>3.8</td>\n",
       "      <td>170</td>\n",
       "      <td>4800</td>\n",
       "      <td>1690</td>\n",
       "      <td>20.0</td>\n",
       "      <td>7</td>\n",
       "      <td>194</td>\n",
       "      <td>...</td>\n",
       "      <td>74</td>\n",
       "      <td>44</td>\n",
       "      <td>30.5</td>\n",
       "      <td>3715</td>\n",
       "      <td>0</td>\n",
       "      <td>1</td>\n",
       "      <td>1</td>\n",
       "      <td>0</td>\n",
       "      <td>0</td>\n",
       "      <td>0</td>\n",
       "    </tr>\n",
       "    <tr>\n",
       "      <th>86</th>\n",
       "      <td>18</td>\n",
       "      <td>22</td>\n",
       "      <td>4</td>\n",
       "      <td>2.4</td>\n",
       "      <td>138</td>\n",
       "      <td>5000</td>\n",
       "      <td>2515</td>\n",
       "      <td>19.8</td>\n",
       "      <td>7</td>\n",
       "      <td>187</td>\n",
       "      <td>...</td>\n",
       "      <td>71</td>\n",
       "      <td>41</td>\n",
       "      <td>35.0</td>\n",
       "      <td>3785</td>\n",
       "      <td>1</td>\n",
       "      <td>0</td>\n",
       "      <td>0</td>\n",
       "      <td>0</td>\n",
       "      <td>1</td>\n",
       "      <td>1</td>\n",
       "    </tr>\n",
       "    <tr>\n",
       "      <th>88</th>\n",
       "      <td>17</td>\n",
       "      <td>21</td>\n",
       "      <td>5</td>\n",
       "      <td>2.5</td>\n",
       "      <td>109</td>\n",
       "      <td>4500</td>\n",
       "      <td>2915</td>\n",
       "      <td>21.1</td>\n",
       "      <td>7</td>\n",
       "      <td>187</td>\n",
       "      <td>...</td>\n",
       "      <td>72</td>\n",
       "      <td>38</td>\n",
       "      <td>34.0</td>\n",
       "      <td>3960</td>\n",
       "      <td>0</td>\n",
       "      <td>1</td>\n",
       "      <td>1</td>\n",
       "      <td>0</td>\n",
       "      <td>1</td>\n",
       "      <td>1</td>\n",
       "    </tr>\n",
       "  </tbody>\n",
       "</table>\n",
       "<p>9 rows × 21 columns</p>\n",
       "</div>"
      ],
      "text/plain": [
       "    MPG.city  MPG.highway  Cylinders  EngineSize  Horsepower   RPM  \\\n",
       "15        18           23          6         3.8         170  4800   \n",
       "16        15           20          6         4.3         165  4000   \n",
       "25        17           21          6         3.0         142  5000   \n",
       "35        15           20          6         3.0         145  4800   \n",
       "55        18           24          6         3.0         155  5000   \n",
       "65        17           23          6         3.0         151  4800   \n",
       "69        18           23          6         3.8         170  4800   \n",
       "86        18           22          4         2.4         138  5000   \n",
       "88        17           21          5         2.5         109  4500   \n",
       "\n",
       "    Rev.per.mile  Fuel.tank.capacity  Passengers  Length  ...  Width  \\\n",
       "15          1690                20.0           7     178  ...     74   \n",
       "16          1790                27.0           8     194  ...     78   \n",
       "25          1970                20.0           7     175  ...     72   \n",
       "35          2080                21.0           7     176  ...     72   \n",
       "55          2240                19.6           7     190  ...     72   \n",
       "65          2065                20.0           7     190  ...     74   \n",
       "69          1690                20.0           7     194  ...     74   \n",
       "86          2515                19.8           7     187  ...     71   \n",
       "88          2915                21.1           7     187  ...     72   \n",
       "\n",
       "    Turn.circle  Rear.seat.room  Weight  AirBags_Driver only  AirBags_None  \\\n",
       "15           44            30.5    3715                    0             1   \n",
       "16           42            33.5    4025                    0             1   \n",
       "25           42            26.5    3705                    1             0   \n",
       "35           45            30.0    3735                    1             0   \n",
       "55           39            27.5    3735                    0             1   \n",
       "65           41            27.0    4100                    0             1   \n",
       "69           44            30.5    3715                    0             1   \n",
       "86           41            35.0    3785                    1             0   \n",
       "88           38            34.0    3960                    0             1   \n",
       "\n",
       "    DriveTrain_Front  DriveTrain_Rear  Man.trans.avail_Yes  Origin_non-USA  \n",
       "15                 1                0                    0               0  \n",
       "16                 0                0                    0               0  \n",
       "25                 0                0                    0               0  \n",
       "35                 0                0                    1               0  \n",
       "55                 0                0                    0               1  \n",
       "65                 1                0                    0               1  \n",
       "69                 1                0                    0               0  \n",
       "86                 0                0                    1               1  \n",
       "88                 1                0                    1               1  \n",
       "\n",
       "[9 rows x 21 columns]"
      ]
     },
     "execution_count": 100,
     "metadata": {},
     "output_type": "execute_result"
    }
   ],
   "source": [
    "dataframe1_lugpred"
   ]
  },
  {
   "cell_type": "code",
   "execution_count": 101,
   "metadata": {},
   "outputs": [
    {
     "data": {
      "text/plain": [
       "Int64Index([15, 16, 25, 35, 55, 65, 69, 86, 88], dtype='int64')"
      ]
     },
     "execution_count": 101,
     "metadata": {},
     "output_type": "execute_result"
    }
   ],
   "source": [
    "dataframe1_missingLug.index"
   ]
  },
  {
   "cell_type": "markdown",
   "metadata": {},
   "source": [
    "There are 21 columns in this subset of missing lug room dataframe, which matches exactly the 21\n",
    "columns that are in our fitted model_luggage_room. Now we need to use this dataframe1_lugpred, convert it to a numpy array, add a constant and then call model_luggage_room.predict() on this subset.<br>\n",
    "\n",
    "Then once we have the correctly interpolated luggage values, we can return to dataframe1 and fill in all the NA luggage values with the predicted luggage room values from model_luggage_room and store this complete dataset in dataframe3."
   ]
  },
  {
   "cell_type": "code",
   "execution_count": 102,
   "metadata": {},
   "outputs": [
    {
     "name": "stderr",
     "output_type": "stream",
     "text": [
      "/Users/nomad3/anaconda3/lib/python3.7/site-packages/ipykernel_launcher.py:1: SettingWithCopyWarning: \n",
      "A value is trying to be set on a copy of a slice from a DataFrame.\n",
      "Try using .loc[row_indexer,col_indexer] = value instead\n",
      "\n",
      "See the caveats in the documentation: http://pandas.pydata.org/pandas-docs/stable/indexing.html#indexing-view-versus-copy\n",
      "  \"\"\"Entry point for launching an IPython kernel.\n"
     ]
    }
   ],
   "source": [
    "dataframe1_lugpred['Cylinders'] = dataframe1_lugpred['Cylinders'].astype(int);"
   ]
  },
  {
   "cell_type": "code",
   "execution_count": 103,
   "metadata": {},
   "outputs": [],
   "source": [
    "list1 = list(dataframe1_lugpred.columns)\n",
    "list1.insert(0,'constant')"
   ]
  },
  {
   "cell_type": "code",
   "execution_count": 104,
   "metadata": {},
   "outputs": [],
   "source": [
    "predvals0 = dataframe1_lugpred.to_numpy()"
   ]
  },
  {
   "cell_type": "code",
   "execution_count": 105,
   "metadata": {},
   "outputs": [],
   "source": [
    "predvals = sm.add_constant(predvals0)"
   ]
  },
  {
   "cell_type": "code",
   "execution_count": 106,
   "metadata": {},
   "outputs": [],
   "source": [
    "x = pd.DataFrame(predvals,columns = list1)"
   ]
  },
  {
   "cell_type": "code",
   "execution_count": 107,
   "metadata": {},
   "outputs": [
    {
     "data": {
      "text/html": [
       "<div>\n",
       "<style scoped>\n",
       "    .dataframe tbody tr th:only-of-type {\n",
       "        vertical-align: middle;\n",
       "    }\n",
       "\n",
       "    .dataframe tbody tr th {\n",
       "        vertical-align: top;\n",
       "    }\n",
       "\n",
       "    .dataframe thead th {\n",
       "        text-align: right;\n",
       "    }\n",
       "</style>\n",
       "<table border=\"1\" class=\"dataframe\">\n",
       "  <thead>\n",
       "    <tr style=\"text-align: right;\">\n",
       "      <th></th>\n",
       "      <th>constant</th>\n",
       "      <th>MPG.city</th>\n",
       "      <th>MPG.highway</th>\n",
       "      <th>Cylinders</th>\n",
       "      <th>EngineSize</th>\n",
       "      <th>Horsepower</th>\n",
       "      <th>RPM</th>\n",
       "      <th>Rev.per.mile</th>\n",
       "      <th>Fuel.tank.capacity</th>\n",
       "      <th>Passengers</th>\n",
       "      <th>...</th>\n",
       "      <th>Width</th>\n",
       "      <th>Turn.circle</th>\n",
       "      <th>Rear.seat.room</th>\n",
       "      <th>Weight</th>\n",
       "      <th>AirBags_Driver only</th>\n",
       "      <th>AirBags_None</th>\n",
       "      <th>DriveTrain_Front</th>\n",
       "      <th>DriveTrain_Rear</th>\n",
       "      <th>Man.trans.avail_Yes</th>\n",
       "      <th>Origin_non-USA</th>\n",
       "    </tr>\n",
       "  </thead>\n",
       "  <tbody>\n",
       "    <tr>\n",
       "      <th>0</th>\n",
       "      <td>1.0</td>\n",
       "      <td>18.0</td>\n",
       "      <td>23.0</td>\n",
       "      <td>6.0</td>\n",
       "      <td>3.8</td>\n",
       "      <td>170.0</td>\n",
       "      <td>4800.0</td>\n",
       "      <td>1690.0</td>\n",
       "      <td>20.0</td>\n",
       "      <td>7.0</td>\n",
       "      <td>...</td>\n",
       "      <td>74.0</td>\n",
       "      <td>44.0</td>\n",
       "      <td>30.5</td>\n",
       "      <td>3715.0</td>\n",
       "      <td>0.0</td>\n",
       "      <td>1.0</td>\n",
       "      <td>1.0</td>\n",
       "      <td>0.0</td>\n",
       "      <td>0.0</td>\n",
       "      <td>0.0</td>\n",
       "    </tr>\n",
       "    <tr>\n",
       "      <th>1</th>\n",
       "      <td>1.0</td>\n",
       "      <td>15.0</td>\n",
       "      <td>20.0</td>\n",
       "      <td>6.0</td>\n",
       "      <td>4.3</td>\n",
       "      <td>165.0</td>\n",
       "      <td>4000.0</td>\n",
       "      <td>1790.0</td>\n",
       "      <td>27.0</td>\n",
       "      <td>8.0</td>\n",
       "      <td>...</td>\n",
       "      <td>78.0</td>\n",
       "      <td>42.0</td>\n",
       "      <td>33.5</td>\n",
       "      <td>4025.0</td>\n",
       "      <td>0.0</td>\n",
       "      <td>1.0</td>\n",
       "      <td>0.0</td>\n",
       "      <td>0.0</td>\n",
       "      <td>0.0</td>\n",
       "      <td>0.0</td>\n",
       "    </tr>\n",
       "    <tr>\n",
       "      <th>2</th>\n",
       "      <td>1.0</td>\n",
       "      <td>17.0</td>\n",
       "      <td>21.0</td>\n",
       "      <td>6.0</td>\n",
       "      <td>3.0</td>\n",
       "      <td>142.0</td>\n",
       "      <td>5000.0</td>\n",
       "      <td>1970.0</td>\n",
       "      <td>20.0</td>\n",
       "      <td>7.0</td>\n",
       "      <td>...</td>\n",
       "      <td>72.0</td>\n",
       "      <td>42.0</td>\n",
       "      <td>26.5</td>\n",
       "      <td>3705.0</td>\n",
       "      <td>1.0</td>\n",
       "      <td>0.0</td>\n",
       "      <td>0.0</td>\n",
       "      <td>0.0</td>\n",
       "      <td>0.0</td>\n",
       "      <td>0.0</td>\n",
       "    </tr>\n",
       "    <tr>\n",
       "      <th>3</th>\n",
       "      <td>1.0</td>\n",
       "      <td>15.0</td>\n",
       "      <td>20.0</td>\n",
       "      <td>6.0</td>\n",
       "      <td>3.0</td>\n",
       "      <td>145.0</td>\n",
       "      <td>4800.0</td>\n",
       "      <td>2080.0</td>\n",
       "      <td>21.0</td>\n",
       "      <td>7.0</td>\n",
       "      <td>...</td>\n",
       "      <td>72.0</td>\n",
       "      <td>45.0</td>\n",
       "      <td>30.0</td>\n",
       "      <td>3735.0</td>\n",
       "      <td>1.0</td>\n",
       "      <td>0.0</td>\n",
       "      <td>0.0</td>\n",
       "      <td>0.0</td>\n",
       "      <td>1.0</td>\n",
       "      <td>0.0</td>\n",
       "    </tr>\n",
       "    <tr>\n",
       "      <th>4</th>\n",
       "      <td>1.0</td>\n",
       "      <td>18.0</td>\n",
       "      <td>24.0</td>\n",
       "      <td>6.0</td>\n",
       "      <td>3.0</td>\n",
       "      <td>155.0</td>\n",
       "      <td>5000.0</td>\n",
       "      <td>2240.0</td>\n",
       "      <td>19.6</td>\n",
       "      <td>7.0</td>\n",
       "      <td>...</td>\n",
       "      <td>72.0</td>\n",
       "      <td>39.0</td>\n",
       "      <td>27.5</td>\n",
       "      <td>3735.0</td>\n",
       "      <td>0.0</td>\n",
       "      <td>1.0</td>\n",
       "      <td>0.0</td>\n",
       "      <td>0.0</td>\n",
       "      <td>0.0</td>\n",
       "      <td>1.0</td>\n",
       "    </tr>\n",
       "    <tr>\n",
       "      <th>5</th>\n",
       "      <td>1.0</td>\n",
       "      <td>17.0</td>\n",
       "      <td>23.0</td>\n",
       "      <td>6.0</td>\n",
       "      <td>3.0</td>\n",
       "      <td>151.0</td>\n",
       "      <td>4800.0</td>\n",
       "      <td>2065.0</td>\n",
       "      <td>20.0</td>\n",
       "      <td>7.0</td>\n",
       "      <td>...</td>\n",
       "      <td>74.0</td>\n",
       "      <td>41.0</td>\n",
       "      <td>27.0</td>\n",
       "      <td>4100.0</td>\n",
       "      <td>0.0</td>\n",
       "      <td>1.0</td>\n",
       "      <td>1.0</td>\n",
       "      <td>0.0</td>\n",
       "      <td>0.0</td>\n",
       "      <td>1.0</td>\n",
       "    </tr>\n",
       "    <tr>\n",
       "      <th>6</th>\n",
       "      <td>1.0</td>\n",
       "      <td>18.0</td>\n",
       "      <td>23.0</td>\n",
       "      <td>6.0</td>\n",
       "      <td>3.8</td>\n",
       "      <td>170.0</td>\n",
       "      <td>4800.0</td>\n",
       "      <td>1690.0</td>\n",
       "      <td>20.0</td>\n",
       "      <td>7.0</td>\n",
       "      <td>...</td>\n",
       "      <td>74.0</td>\n",
       "      <td>44.0</td>\n",
       "      <td>30.5</td>\n",
       "      <td>3715.0</td>\n",
       "      <td>0.0</td>\n",
       "      <td>1.0</td>\n",
       "      <td>1.0</td>\n",
       "      <td>0.0</td>\n",
       "      <td>0.0</td>\n",
       "      <td>0.0</td>\n",
       "    </tr>\n",
       "    <tr>\n",
       "      <th>7</th>\n",
       "      <td>1.0</td>\n",
       "      <td>18.0</td>\n",
       "      <td>22.0</td>\n",
       "      <td>4.0</td>\n",
       "      <td>2.4</td>\n",
       "      <td>138.0</td>\n",
       "      <td>5000.0</td>\n",
       "      <td>2515.0</td>\n",
       "      <td>19.8</td>\n",
       "      <td>7.0</td>\n",
       "      <td>...</td>\n",
       "      <td>71.0</td>\n",
       "      <td>41.0</td>\n",
       "      <td>35.0</td>\n",
       "      <td>3785.0</td>\n",
       "      <td>1.0</td>\n",
       "      <td>0.0</td>\n",
       "      <td>0.0</td>\n",
       "      <td>0.0</td>\n",
       "      <td>1.0</td>\n",
       "      <td>1.0</td>\n",
       "    </tr>\n",
       "    <tr>\n",
       "      <th>8</th>\n",
       "      <td>1.0</td>\n",
       "      <td>17.0</td>\n",
       "      <td>21.0</td>\n",
       "      <td>5.0</td>\n",
       "      <td>2.5</td>\n",
       "      <td>109.0</td>\n",
       "      <td>4500.0</td>\n",
       "      <td>2915.0</td>\n",
       "      <td>21.1</td>\n",
       "      <td>7.0</td>\n",
       "      <td>...</td>\n",
       "      <td>72.0</td>\n",
       "      <td>38.0</td>\n",
       "      <td>34.0</td>\n",
       "      <td>3960.0</td>\n",
       "      <td>0.0</td>\n",
       "      <td>1.0</td>\n",
       "      <td>1.0</td>\n",
       "      <td>0.0</td>\n",
       "      <td>1.0</td>\n",
       "      <td>1.0</td>\n",
       "    </tr>\n",
       "  </tbody>\n",
       "</table>\n",
       "<p>9 rows × 22 columns</p>\n",
       "</div>"
      ],
      "text/plain": [
       "   constant  MPG.city  MPG.highway  Cylinders  EngineSize  Horsepower     RPM  \\\n",
       "0       1.0      18.0         23.0        6.0         3.8       170.0  4800.0   \n",
       "1       1.0      15.0         20.0        6.0         4.3       165.0  4000.0   \n",
       "2       1.0      17.0         21.0        6.0         3.0       142.0  5000.0   \n",
       "3       1.0      15.0         20.0        6.0         3.0       145.0  4800.0   \n",
       "4       1.0      18.0         24.0        6.0         3.0       155.0  5000.0   \n",
       "5       1.0      17.0         23.0        6.0         3.0       151.0  4800.0   \n",
       "6       1.0      18.0         23.0        6.0         3.8       170.0  4800.0   \n",
       "7       1.0      18.0         22.0        4.0         2.4       138.0  5000.0   \n",
       "8       1.0      17.0         21.0        5.0         2.5       109.0  4500.0   \n",
       "\n",
       "   Rev.per.mile  Fuel.tank.capacity  Passengers  ...  Width  Turn.circle  \\\n",
       "0        1690.0                20.0         7.0  ...   74.0         44.0   \n",
       "1        1790.0                27.0         8.0  ...   78.0         42.0   \n",
       "2        1970.0                20.0         7.0  ...   72.0         42.0   \n",
       "3        2080.0                21.0         7.0  ...   72.0         45.0   \n",
       "4        2240.0                19.6         7.0  ...   72.0         39.0   \n",
       "5        2065.0                20.0         7.0  ...   74.0         41.0   \n",
       "6        1690.0                20.0         7.0  ...   74.0         44.0   \n",
       "7        2515.0                19.8         7.0  ...   71.0         41.0   \n",
       "8        2915.0                21.1         7.0  ...   72.0         38.0   \n",
       "\n",
       "   Rear.seat.room  Weight  AirBags_Driver only  AirBags_None  \\\n",
       "0            30.5  3715.0                  0.0           1.0   \n",
       "1            33.5  4025.0                  0.0           1.0   \n",
       "2            26.5  3705.0                  1.0           0.0   \n",
       "3            30.0  3735.0                  1.0           0.0   \n",
       "4            27.5  3735.0                  0.0           1.0   \n",
       "5            27.0  4100.0                  0.0           1.0   \n",
       "6            30.5  3715.0                  0.0           1.0   \n",
       "7            35.0  3785.0                  1.0           0.0   \n",
       "8            34.0  3960.0                  0.0           1.0   \n",
       "\n",
       "   DriveTrain_Front  DriveTrain_Rear  Man.trans.avail_Yes  Origin_non-USA  \n",
       "0               1.0              0.0                  0.0             0.0  \n",
       "1               0.0              0.0                  0.0             0.0  \n",
       "2               0.0              0.0                  0.0             0.0  \n",
       "3               0.0              0.0                  1.0             0.0  \n",
       "4               0.0              0.0                  0.0             1.0  \n",
       "5               1.0              0.0                  0.0             1.0  \n",
       "6               1.0              0.0                  0.0             0.0  \n",
       "7               0.0              0.0                  1.0             1.0  \n",
       "8               1.0              0.0                  1.0             1.0  \n",
       "\n",
       "[9 rows x 22 columns]"
      ]
     },
     "execution_count": 107,
     "metadata": {},
     "output_type": "execute_result"
    }
   ],
   "source": [
    "x #notice that we have lost the original index row positions of the NA luggage rows from dataframe1"
   ]
  },
  {
   "cell_type": "code",
   "execution_count": 108,
   "metadata": {},
   "outputs": [],
   "source": [
    "#get the predictions for luggage room for each of the rows that have NA values for luggage room\n",
    "d2 = model_luggage_room.get_prediction(x)"
   ]
  },
  {
   "cell_type": "code",
   "execution_count": 109,
   "metadata": {},
   "outputs": [
    {
     "data": {
      "text/html": [
       "<div>\n",
       "<style scoped>\n",
       "    .dataframe tbody tr th:only-of-type {\n",
       "        vertical-align: middle;\n",
       "    }\n",
       "\n",
       "    .dataframe tbody tr th {\n",
       "        vertical-align: top;\n",
       "    }\n",
       "\n",
       "    .dataframe thead th {\n",
       "        text-align: right;\n",
       "    }\n",
       "</style>\n",
       "<table border=\"1\" class=\"dataframe\">\n",
       "  <thead>\n",
       "    <tr style=\"text-align: right;\">\n",
       "      <th></th>\n",
       "      <th>mean</th>\n",
       "    </tr>\n",
       "  </thead>\n",
       "  <tbody>\n",
       "    <tr>\n",
       "      <th>0</th>\n",
       "      <td>18.085325</td>\n",
       "    </tr>\n",
       "    <tr>\n",
       "      <th>1</th>\n",
       "      <td>22.860661</td>\n",
       "    </tr>\n",
       "    <tr>\n",
       "      <th>2</th>\n",
       "      <td>17.469135</td>\n",
       "    </tr>\n",
       "    <tr>\n",
       "      <th>3</th>\n",
       "      <td>18.484475</td>\n",
       "    </tr>\n",
       "    <tr>\n",
       "      <th>4</th>\n",
       "      <td>17.592445</td>\n",
       "    </tr>\n",
       "    <tr>\n",
       "      <th>5</th>\n",
       "      <td>18.727647</td>\n",
       "    </tr>\n",
       "    <tr>\n",
       "      <th>6</th>\n",
       "      <td>17.683751</td>\n",
       "    </tr>\n",
       "    <tr>\n",
       "      <th>7</th>\n",
       "      <td>18.134136</td>\n",
       "    </tr>\n",
       "    <tr>\n",
       "      <th>8</th>\n",
       "      <td>20.708602</td>\n",
       "    </tr>\n",
       "  </tbody>\n",
       "</table>\n",
       "</div>"
      ],
      "text/plain": [
       "        mean\n",
       "0  18.085325\n",
       "1  22.860661\n",
       "2  17.469135\n",
       "3  18.484475\n",
       "4  17.592445\n",
       "5  18.727647\n",
       "6  17.683751\n",
       "7  18.134136\n",
       "8  20.708602"
      ]
     },
     "execution_count": 109,
     "metadata": {},
     "output_type": "execute_result"
    }
   ],
   "source": [
    "missing_luggage = d2.summary_frame(alpha =.05)[['mean']]\n",
    "missing_luggage"
   ]
  },
  {
   "cell_type": "code",
   "execution_count": 110,
   "metadata": {},
   "outputs": [
    {
     "data": {
      "text/plain": [
       "346.37078569869766"
      ]
     },
     "execution_count": 110,
     "metadata": {},
     "output_type": "execute_result"
    }
   ],
   "source": [
    "#just as an aside, our luggage model has AIC value of 346.4 \n",
    "model_luggage_room.aic"
   ]
  },
  {
   "cell_type": "markdown",
   "metadata": {},
   "source": [
    "Let's recover the original row numbers by assigning the index of the missing_luggage to be the same as the\n",
    "rows from which we had NAs in dataframe1."
   ]
  },
  {
   "cell_type": "code",
   "execution_count": 111,
   "metadata": {},
   "outputs": [],
   "source": [
    "missinglist = list(dataframe1_lugpred.index)"
   ]
  },
  {
   "cell_type": "code",
   "execution_count": 112,
   "metadata": {},
   "outputs": [],
   "source": [
    "\n",
    "missing_luggage.index = missinglist"
   ]
  },
  {
   "cell_type": "code",
   "execution_count": 113,
   "metadata": {},
   "outputs": [],
   "source": [
    "missing_luggage = missing_luggage.rename(columns={'mean':'predicted luggage room'})"
   ]
  },
  {
   "cell_type": "code",
   "execution_count": 114,
   "metadata": {},
   "outputs": [
    {
     "data": {
      "text/html": [
       "<div>\n",
       "<style scoped>\n",
       "    .dataframe tbody tr th:only-of-type {\n",
       "        vertical-align: middle;\n",
       "    }\n",
       "\n",
       "    .dataframe tbody tr th {\n",
       "        vertical-align: top;\n",
       "    }\n",
       "\n",
       "    .dataframe thead th {\n",
       "        text-align: right;\n",
       "    }\n",
       "</style>\n",
       "<table border=\"1\" class=\"dataframe\">\n",
       "  <thead>\n",
       "    <tr style=\"text-align: right;\">\n",
       "      <th></th>\n",
       "      <th>predicted luggage room</th>\n",
       "    </tr>\n",
       "  </thead>\n",
       "  <tbody>\n",
       "    <tr>\n",
       "      <th>15</th>\n",
       "      <td>18.085325</td>\n",
       "    </tr>\n",
       "    <tr>\n",
       "      <th>16</th>\n",
       "      <td>22.860661</td>\n",
       "    </tr>\n",
       "    <tr>\n",
       "      <th>25</th>\n",
       "      <td>17.469135</td>\n",
       "    </tr>\n",
       "    <tr>\n",
       "      <th>35</th>\n",
       "      <td>18.484475</td>\n",
       "    </tr>\n",
       "    <tr>\n",
       "      <th>55</th>\n",
       "      <td>17.592445</td>\n",
       "    </tr>\n",
       "    <tr>\n",
       "      <th>65</th>\n",
       "      <td>18.727647</td>\n",
       "    </tr>\n",
       "    <tr>\n",
       "      <th>69</th>\n",
       "      <td>17.683751</td>\n",
       "    </tr>\n",
       "    <tr>\n",
       "      <th>86</th>\n",
       "      <td>18.134136</td>\n",
       "    </tr>\n",
       "    <tr>\n",
       "      <th>88</th>\n",
       "      <td>20.708602</td>\n",
       "    </tr>\n",
       "  </tbody>\n",
       "</table>\n",
       "</div>"
      ],
      "text/plain": [
       "    predicted luggage room\n",
       "15               18.085325\n",
       "16               22.860661\n",
       "25               17.469135\n",
       "35               18.484475\n",
       "55               17.592445\n",
       "65               18.727647\n",
       "69               17.683751\n",
       "86               18.134136\n",
       "88               20.708602"
      ]
     },
     "execution_count": 114,
     "metadata": {},
     "output_type": "execute_result"
    }
   ],
   "source": [
    "missing_luggage"
   ]
  },
  {
   "cell_type": "markdown",
   "metadata": {},
   "source": [
    "Note the means here are the interpolated luggage rooms values for each of the 9 NA columns. However, despite the fact that the luggage room values are stored as floats within the original dataframe, since the numbers are displayed as whole integers in the dataframe, we should round our predicted values to nearest integer values in order to be consistent with the rest of the data in the luggage.room column prior to running our price regression as a matter of good industry standards and practices."
   ]
  },
  {
   "cell_type": "code",
   "execution_count": 115,
   "metadata": {},
   "outputs": [],
   "source": [
    "missing_luggage = missing_luggage.round()"
   ]
  },
  {
   "cell_type": "markdown",
   "metadata": {},
   "source": [
    "**Answer:** Rounded predicted Luggage Room for each of our NA rows in dataframe1"
   ]
  },
  {
   "cell_type": "code",
   "execution_count": 116,
   "metadata": {},
   "outputs": [
    {
     "data": {
      "text/html": [
       "<div>\n",
       "<style scoped>\n",
       "    .dataframe tbody tr th:only-of-type {\n",
       "        vertical-align: middle;\n",
       "    }\n",
       "\n",
       "    .dataframe tbody tr th {\n",
       "        vertical-align: top;\n",
       "    }\n",
       "\n",
       "    .dataframe thead th {\n",
       "        text-align: right;\n",
       "    }\n",
       "</style>\n",
       "<table border=\"1\" class=\"dataframe\">\n",
       "  <thead>\n",
       "    <tr style=\"text-align: right;\">\n",
       "      <th></th>\n",
       "      <th>predicted luggage room</th>\n",
       "    </tr>\n",
       "  </thead>\n",
       "  <tbody>\n",
       "    <tr>\n",
       "      <th>15</th>\n",
       "      <td>18.0</td>\n",
       "    </tr>\n",
       "    <tr>\n",
       "      <th>16</th>\n",
       "      <td>23.0</td>\n",
       "    </tr>\n",
       "    <tr>\n",
       "      <th>25</th>\n",
       "      <td>17.0</td>\n",
       "    </tr>\n",
       "    <tr>\n",
       "      <th>35</th>\n",
       "      <td>18.0</td>\n",
       "    </tr>\n",
       "    <tr>\n",
       "      <th>55</th>\n",
       "      <td>18.0</td>\n",
       "    </tr>\n",
       "    <tr>\n",
       "      <th>65</th>\n",
       "      <td>19.0</td>\n",
       "    </tr>\n",
       "    <tr>\n",
       "      <th>69</th>\n",
       "      <td>18.0</td>\n",
       "    </tr>\n",
       "    <tr>\n",
       "      <th>86</th>\n",
       "      <td>18.0</td>\n",
       "    </tr>\n",
       "    <tr>\n",
       "      <th>88</th>\n",
       "      <td>21.0</td>\n",
       "    </tr>\n",
       "  </tbody>\n",
       "</table>\n",
       "</div>"
      ],
      "text/plain": [
       "    predicted luggage room\n",
       "15                    18.0\n",
       "16                    23.0\n",
       "25                    17.0\n",
       "35                    18.0\n",
       "55                    18.0\n",
       "65                    19.0\n",
       "69                    18.0\n",
       "86                    18.0\n",
       "88                    21.0"
      ]
     },
     "execution_count": 116,
     "metadata": {},
     "output_type": "execute_result"
    }
   ],
   "source": [
    "missing_luggage"
   ]
  },
  {
   "cell_type": "code",
   "execution_count": 117,
   "metadata": {},
   "outputs": [
    {
     "data": {
      "text/plain": [
       "Int64Index([15, 16, 25, 35, 55, 65, 69, 86, 88], dtype='int64')"
      ]
     },
     "execution_count": 117,
     "metadata": {},
     "output_type": "execute_result"
    }
   ],
   "source": [
    "#get the row numbers of the NAs in dataframe1\n",
    "missing_luggage.index"
   ]
  },
  {
   "cell_type": "code",
   "execution_count": 118,
   "metadata": {},
   "outputs": [],
   "source": [
    "#make a dictionary of the predicted luggage values and the NA row numbers\n",
    "NA_position_dict = pd.Series(missing_luggage['predicted luggage room'].values,index=missing_luggage.index).to_dict()"
   ]
  },
  {
   "cell_type": "code",
   "execution_count": 119,
   "metadata": {},
   "outputs": [
    {
     "data": {
      "text/plain": [
       "{15: 18.0,\n",
       " 16: 23.0,\n",
       " 25: 17.0,\n",
       " 35: 18.0,\n",
       " 55: 18.0,\n",
       " 65: 19.0,\n",
       " 69: 18.0,\n",
       " 86: 18.0,\n",
       " 88: 21.0}"
      ]
     },
     "execution_count": 119,
     "metadata": {},
     "output_type": "execute_result"
    }
   ],
   "source": [
    "NA_position_dict"
   ]
  },
  {
   "cell_type": "code",
   "execution_count": 120,
   "metadata": {},
   "outputs": [],
   "source": [
    "#use a forloop to fill in the predicted luggage room values back into dataframe1's NA cells\n",
    "for i in NA_position_dict.keys():\n",
    "    dataframe1.at[i,'Luggage.room'] = NA_position_dict[i]"
   ]
  },
  {
   "cell_type": "code",
   "execution_count": 121,
   "metadata": {},
   "outputs": [
    {
     "data": {
      "text/plain": [
       "0     11.0\n",
       "1     15.0\n",
       "2     14.0\n",
       "3     17.0\n",
       "4     13.0\n",
       "5     16.0\n",
       "6     17.0\n",
       "7     21.0\n",
       "8     14.0\n",
       "9     18.0\n",
       "10    14.0\n",
       "11    13.0\n",
       "12    14.0\n",
       "13    13.0\n",
       "14    16.0\n",
       "15    18.0\n",
       "16    23.0\n",
       "17    20.0\n",
       "19    15.0\n",
       "20    14.0\n",
       "Name: Luggage.room, dtype: float64"
      ]
     },
     "execution_count": 121,
     "metadata": {},
     "output_type": "execute_result"
    }
   ],
   "source": [
    "#verify the NAs were filled in\n",
    "dataframe1['Luggage.room'][:20]"
   ]
  },
  {
   "cell_type": "markdown",
   "metadata": {},
   "source": [
    "**Answer:** Assign the full dataset with substituted Luggage.room values to dataframe3"
   ]
  },
  {
   "cell_type": "code",
   "execution_count": 122,
   "metadata": {},
   "outputs": [],
   "source": [
    "#assign it to dataframe3\n",
    "dataframe3 = dataframe1"
   ]
  },
  {
   "cell_type": "code",
   "execution_count": 123,
   "metadata": {},
   "outputs": [
    {
     "data": {
      "text/plain": [
       "14    16.0\n",
       "15    18.0\n",
       "16    23.0\n",
       "17    20.0\n",
       "19    15.0\n",
       "20    14.0\n",
       "21    17.0\n",
       "22    11.0\n",
       "23    13.0\n",
       "24    14.0\n",
       "25    17.0\n",
       "26    16.0\n",
       "27    11.0\n",
       "28    11.0\n",
       "29    15.0\n",
       "30    12.0\n",
       "Name: Luggage.room, dtype: float64"
      ]
     },
     "execution_count": 123,
     "metadata": {},
     "output_type": "execute_result"
    }
   ],
   "source": [
    "#note dataframe3 has no missing NA values.\n",
    "dataframe3['Luggage.room'][14:30]"
   ]
  },
  {
   "cell_type": "code",
   "execution_count": 124,
   "metadata": {},
   "outputs": [
    {
     "data": {
      "text/html": [
       "<div>\n",
       "<style scoped>\n",
       "    .dataframe tbody tr th:only-of-type {\n",
       "        vertical-align: middle;\n",
       "    }\n",
       "\n",
       "    .dataframe tbody tr th {\n",
       "        vertical-align: top;\n",
       "    }\n",
       "\n",
       "    .dataframe thead th {\n",
       "        text-align: right;\n",
       "    }\n",
       "</style>\n",
       "<table border=\"1\" class=\"dataframe\">\n",
       "  <thead>\n",
       "    <tr style=\"text-align: right;\">\n",
       "      <th></th>\n",
       "      <th>Type</th>\n",
       "      <th>Price</th>\n",
       "      <th>MPG.city</th>\n",
       "      <th>MPG.highway</th>\n",
       "      <th>AirBags</th>\n",
       "      <th>DriveTrain</th>\n",
       "      <th>Cylinders</th>\n",
       "      <th>EngineSize</th>\n",
       "      <th>Horsepower</th>\n",
       "      <th>RPM</th>\n",
       "      <th>...</th>\n",
       "      <th>Fuel.tank.capacity</th>\n",
       "      <th>Passengers</th>\n",
       "      <th>Length</th>\n",
       "      <th>Wheelbase</th>\n",
       "      <th>Width</th>\n",
       "      <th>Turn.circle</th>\n",
       "      <th>Rear.seat.room</th>\n",
       "      <th>Luggage.room</th>\n",
       "      <th>Weight</th>\n",
       "      <th>Origin</th>\n",
       "    </tr>\n",
       "  </thead>\n",
       "  <tbody>\n",
       "    <tr>\n",
       "      <th>0</th>\n",
       "      <td>Small</td>\n",
       "      <td>15.9</td>\n",
       "      <td>25</td>\n",
       "      <td>31</td>\n",
       "      <td>None</td>\n",
       "      <td>Front</td>\n",
       "      <td>4</td>\n",
       "      <td>1.8</td>\n",
       "      <td>140</td>\n",
       "      <td>6300</td>\n",
       "      <td>...</td>\n",
       "      <td>13.2</td>\n",
       "      <td>5</td>\n",
       "      <td>177</td>\n",
       "      <td>102</td>\n",
       "      <td>68</td>\n",
       "      <td>37</td>\n",
       "      <td>26.5</td>\n",
       "      <td>11.0</td>\n",
       "      <td>2705</td>\n",
       "      <td>non-USA</td>\n",
       "    </tr>\n",
       "    <tr>\n",
       "      <th>1</th>\n",
       "      <td>Midsize</td>\n",
       "      <td>33.9</td>\n",
       "      <td>18</td>\n",
       "      <td>25</td>\n",
       "      <td>Driver &amp; Passenger</td>\n",
       "      <td>Front</td>\n",
       "      <td>6</td>\n",
       "      <td>3.2</td>\n",
       "      <td>200</td>\n",
       "      <td>5500</td>\n",
       "      <td>...</td>\n",
       "      <td>18.0</td>\n",
       "      <td>5</td>\n",
       "      <td>195</td>\n",
       "      <td>115</td>\n",
       "      <td>71</td>\n",
       "      <td>38</td>\n",
       "      <td>30.0</td>\n",
       "      <td>15.0</td>\n",
       "      <td>3560</td>\n",
       "      <td>non-USA</td>\n",
       "    </tr>\n",
       "    <tr>\n",
       "      <th>2</th>\n",
       "      <td>Compact</td>\n",
       "      <td>29.1</td>\n",
       "      <td>20</td>\n",
       "      <td>26</td>\n",
       "      <td>Driver only</td>\n",
       "      <td>Front</td>\n",
       "      <td>6</td>\n",
       "      <td>2.8</td>\n",
       "      <td>172</td>\n",
       "      <td>5500</td>\n",
       "      <td>...</td>\n",
       "      <td>16.9</td>\n",
       "      <td>5</td>\n",
       "      <td>180</td>\n",
       "      <td>102</td>\n",
       "      <td>67</td>\n",
       "      <td>37</td>\n",
       "      <td>28.0</td>\n",
       "      <td>14.0</td>\n",
       "      <td>3375</td>\n",
       "      <td>non-USA</td>\n",
       "    </tr>\n",
       "    <tr>\n",
       "      <th>3</th>\n",
       "      <td>Midsize</td>\n",
       "      <td>37.7</td>\n",
       "      <td>19</td>\n",
       "      <td>26</td>\n",
       "      <td>Driver &amp; Passenger</td>\n",
       "      <td>Front</td>\n",
       "      <td>6</td>\n",
       "      <td>2.8</td>\n",
       "      <td>172</td>\n",
       "      <td>5500</td>\n",
       "      <td>...</td>\n",
       "      <td>21.1</td>\n",
       "      <td>6</td>\n",
       "      <td>193</td>\n",
       "      <td>106</td>\n",
       "      <td>70</td>\n",
       "      <td>37</td>\n",
       "      <td>31.0</td>\n",
       "      <td>17.0</td>\n",
       "      <td>3405</td>\n",
       "      <td>non-USA</td>\n",
       "    </tr>\n",
       "    <tr>\n",
       "      <th>4</th>\n",
       "      <td>Midsize</td>\n",
       "      <td>30.0</td>\n",
       "      <td>22</td>\n",
       "      <td>30</td>\n",
       "      <td>Driver only</td>\n",
       "      <td>Rear</td>\n",
       "      <td>4</td>\n",
       "      <td>3.5</td>\n",
       "      <td>208</td>\n",
       "      <td>5700</td>\n",
       "      <td>...</td>\n",
       "      <td>21.1</td>\n",
       "      <td>4</td>\n",
       "      <td>186</td>\n",
       "      <td>109</td>\n",
       "      <td>69</td>\n",
       "      <td>39</td>\n",
       "      <td>27.0</td>\n",
       "      <td>13.0</td>\n",
       "      <td>3640</td>\n",
       "      <td>non-USA</td>\n",
       "    </tr>\n",
       "  </tbody>\n",
       "</table>\n",
       "<p>5 rows × 22 columns</p>\n",
       "</div>"
      ],
      "text/plain": [
       "      Type  Price  MPG.city  MPG.highway             AirBags DriveTrain  \\\n",
       "0    Small   15.9        25           31                None      Front   \n",
       "1  Midsize   33.9        18           25  Driver & Passenger      Front   \n",
       "2  Compact   29.1        20           26         Driver only      Front   \n",
       "3  Midsize   37.7        19           26  Driver & Passenger      Front   \n",
       "4  Midsize   30.0        22           30         Driver only       Rear   \n",
       "\n",
       "  Cylinders  EngineSize  Horsepower   RPM  ...  Fuel.tank.capacity Passengers  \\\n",
       "0         4         1.8         140  6300  ...                13.2          5   \n",
       "1         6         3.2         200  5500  ...                18.0          5   \n",
       "2         6         2.8         172  5500  ...                16.9          5   \n",
       "3         6         2.8         172  5500  ...                21.1          6   \n",
       "4         4         3.5         208  5700  ...                21.1          4   \n",
       "\n",
       "   Length  Wheelbase  Width  Turn.circle  Rear.seat.room  Luggage.room  \\\n",
       "0     177        102     68           37            26.5          11.0   \n",
       "1     195        115     71           38            30.0          15.0   \n",
       "2     180        102     67           37            28.0          14.0   \n",
       "3     193        106     70           37            31.0          17.0   \n",
       "4     186        109     69           39            27.0          13.0   \n",
       "\n",
       "   Weight   Origin  \n",
       "0    2705  non-USA  \n",
       "1    3560  non-USA  \n",
       "2    3375  non-USA  \n",
       "3    3405  non-USA  \n",
       "4    3640  non-USA  \n",
       "\n",
       "[5 rows x 22 columns]"
      ]
     },
     "execution_count": 124,
     "metadata": {},
     "output_type": "execute_result"
    }
   ],
   "source": [
    "dataframe3.head()"
   ]
  },
  {
   "cell_type": "markdown",
   "metadata": {},
   "source": [
    "Question 1 c) Use dataframe3 to build a regression model to predict Price using all other variables in this dataframe. Report the model's AIC. How does it compare with the AIC of the model found in part (a)?"
   ]
  },
  {
   "cell_type": "code",
   "execution_count": 125,
   "metadata": {},
   "outputs": [
    {
     "name": "stdout",
     "output_type": "stream",
     "text": [
      "<class 'pandas.core.frame.DataFrame'>\n",
      "Int64Index: 91 entries, 0 to 92\n",
      "Data columns (total 22 columns):\n",
      "Type                  91 non-null object\n",
      "Price                 91 non-null float64\n",
      "MPG.city              91 non-null int64\n",
      "MPG.highway           91 non-null int64\n",
      "AirBags               91 non-null object\n",
      "DriveTrain            91 non-null object\n",
      "Cylinders             91 non-null object\n",
      "EngineSize            91 non-null float64\n",
      "Horsepower            91 non-null int64\n",
      "RPM                   91 non-null int64\n",
      "Rev.per.mile          91 non-null int64\n",
      "Man.trans.avail       91 non-null object\n",
      "Fuel.tank.capacity    91 non-null float64\n",
      "Passengers            91 non-null int64\n",
      "Length                91 non-null int64\n",
      "Wheelbase             91 non-null int64\n",
      "Width                 91 non-null int64\n",
      "Turn.circle           91 non-null int64\n",
      "Rear.seat.room        91 non-null float64\n",
      "Luggage.room          91 non-null float64\n",
      "Weight                91 non-null int64\n",
      "Origin                91 non-null object\n",
      "dtypes: float64(5), int64(11), object(6)\n",
      "memory usage: 18.9+ KB\n"
     ]
    }
   ],
   "source": [
    "dataframe3.info()"
   ]
  },
  {
   "cell_type": "code",
   "execution_count": 126,
   "metadata": {},
   "outputs": [],
   "source": [
    "#change cylinders datatype\n",
    "dataframe3['Cylinders'] = dataframe3['Cylinders'].astype(int);"
   ]
  },
  {
   "cell_type": "code",
   "execution_count": 127,
   "metadata": {},
   "outputs": [
    {
     "data": {
      "text/plain": [
       "dtype('int64')"
      ]
     },
     "execution_count": 127,
     "metadata": {},
     "output_type": "execute_result"
    }
   ],
   "source": [
    "dataframe3['Cylinders'].dtype"
   ]
  },
  {
   "cell_type": "code",
   "execution_count": 128,
   "metadata": {},
   "outputs": [],
   "source": [
    "dataframe3_withDummies = pd.get_dummies(data=dataframe3, columns = ['Type', 'AirBags','DriveTrain','Man.trans.avail','Origin'],drop_first = True)"
   ]
  },
  {
   "cell_type": "code",
   "execution_count": 129,
   "metadata": {},
   "outputs": [
    {
     "data": {
      "text/plain": [
       "Index(['Price', 'MPG.city', 'MPG.highway', 'Cylinders', 'EngineSize',\n",
       "       'Horsepower', 'RPM', 'Rev.per.mile', 'Fuel.tank.capacity', 'Passengers',\n",
       "       'Length', 'Wheelbase', 'Width', 'Turn.circle', 'Rear.seat.room',\n",
       "       'Luggage.room', 'Weight', 'Type_Large', 'Type_Midsize', 'Type_Small',\n",
       "       'Type_Sporty', 'Type_Van', 'AirBags_Driver only', 'AirBags_None',\n",
       "       'DriveTrain_Front', 'DriveTrain_Rear', 'Man.trans.avail_Yes',\n",
       "       'Origin_non-USA'],\n",
       "      dtype='object')"
      ]
     },
     "execution_count": 129,
     "metadata": {},
     "output_type": "execute_result"
    }
   ],
   "source": [
    "dataframe3_withDummies.columns"
   ]
  },
  {
   "cell_type": "code",
   "execution_count": 130,
   "metadata": {},
   "outputs": [
    {
     "data": {
      "text/html": [
       "<div>\n",
       "<style scoped>\n",
       "    .dataframe tbody tr th:only-of-type {\n",
       "        vertical-align: middle;\n",
       "    }\n",
       "\n",
       "    .dataframe tbody tr th {\n",
       "        vertical-align: top;\n",
       "    }\n",
       "\n",
       "    .dataframe thead th {\n",
       "        text-align: right;\n",
       "    }\n",
       "</style>\n",
       "<table border=\"1\" class=\"dataframe\">\n",
       "  <thead>\n",
       "    <tr style=\"text-align: right;\">\n",
       "      <th></th>\n",
       "      <th>Price</th>\n",
       "      <th>MPG.city</th>\n",
       "      <th>MPG.highway</th>\n",
       "      <th>Cylinders</th>\n",
       "      <th>EngineSize</th>\n",
       "      <th>Horsepower</th>\n",
       "      <th>RPM</th>\n",
       "      <th>Rev.per.mile</th>\n",
       "      <th>Fuel.tank.capacity</th>\n",
       "      <th>Passengers</th>\n",
       "      <th>...</th>\n",
       "      <th>Type_Midsize</th>\n",
       "      <th>Type_Small</th>\n",
       "      <th>Type_Sporty</th>\n",
       "      <th>Type_Van</th>\n",
       "      <th>AirBags_Driver only</th>\n",
       "      <th>AirBags_None</th>\n",
       "      <th>DriveTrain_Front</th>\n",
       "      <th>DriveTrain_Rear</th>\n",
       "      <th>Man.trans.avail_Yes</th>\n",
       "      <th>Origin_non-USA</th>\n",
       "    </tr>\n",
       "  </thead>\n",
       "  <tbody>\n",
       "    <tr>\n",
       "      <th>0</th>\n",
       "      <td>15.9</td>\n",
       "      <td>25</td>\n",
       "      <td>31</td>\n",
       "      <td>4</td>\n",
       "      <td>1.8</td>\n",
       "      <td>140</td>\n",
       "      <td>6300</td>\n",
       "      <td>2890</td>\n",
       "      <td>13.2</td>\n",
       "      <td>5</td>\n",
       "      <td>...</td>\n",
       "      <td>0</td>\n",
       "      <td>1</td>\n",
       "      <td>0</td>\n",
       "      <td>0</td>\n",
       "      <td>0</td>\n",
       "      <td>1</td>\n",
       "      <td>1</td>\n",
       "      <td>0</td>\n",
       "      <td>1</td>\n",
       "      <td>1</td>\n",
       "    </tr>\n",
       "    <tr>\n",
       "      <th>1</th>\n",
       "      <td>33.9</td>\n",
       "      <td>18</td>\n",
       "      <td>25</td>\n",
       "      <td>6</td>\n",
       "      <td>3.2</td>\n",
       "      <td>200</td>\n",
       "      <td>5500</td>\n",
       "      <td>2335</td>\n",
       "      <td>18.0</td>\n",
       "      <td>5</td>\n",
       "      <td>...</td>\n",
       "      <td>1</td>\n",
       "      <td>0</td>\n",
       "      <td>0</td>\n",
       "      <td>0</td>\n",
       "      <td>0</td>\n",
       "      <td>0</td>\n",
       "      <td>1</td>\n",
       "      <td>0</td>\n",
       "      <td>1</td>\n",
       "      <td>1</td>\n",
       "    </tr>\n",
       "    <tr>\n",
       "      <th>2</th>\n",
       "      <td>29.1</td>\n",
       "      <td>20</td>\n",
       "      <td>26</td>\n",
       "      <td>6</td>\n",
       "      <td>2.8</td>\n",
       "      <td>172</td>\n",
       "      <td>5500</td>\n",
       "      <td>2280</td>\n",
       "      <td>16.9</td>\n",
       "      <td>5</td>\n",
       "      <td>...</td>\n",
       "      <td>0</td>\n",
       "      <td>0</td>\n",
       "      <td>0</td>\n",
       "      <td>0</td>\n",
       "      <td>1</td>\n",
       "      <td>0</td>\n",
       "      <td>1</td>\n",
       "      <td>0</td>\n",
       "      <td>1</td>\n",
       "      <td>1</td>\n",
       "    </tr>\n",
       "    <tr>\n",
       "      <th>3</th>\n",
       "      <td>37.7</td>\n",
       "      <td>19</td>\n",
       "      <td>26</td>\n",
       "      <td>6</td>\n",
       "      <td>2.8</td>\n",
       "      <td>172</td>\n",
       "      <td>5500</td>\n",
       "      <td>2535</td>\n",
       "      <td>21.1</td>\n",
       "      <td>6</td>\n",
       "      <td>...</td>\n",
       "      <td>1</td>\n",
       "      <td>0</td>\n",
       "      <td>0</td>\n",
       "      <td>0</td>\n",
       "      <td>0</td>\n",
       "      <td>0</td>\n",
       "      <td>1</td>\n",
       "      <td>0</td>\n",
       "      <td>1</td>\n",
       "      <td>1</td>\n",
       "    </tr>\n",
       "    <tr>\n",
       "      <th>4</th>\n",
       "      <td>30.0</td>\n",
       "      <td>22</td>\n",
       "      <td>30</td>\n",
       "      <td>4</td>\n",
       "      <td>3.5</td>\n",
       "      <td>208</td>\n",
       "      <td>5700</td>\n",
       "      <td>2545</td>\n",
       "      <td>21.1</td>\n",
       "      <td>4</td>\n",
       "      <td>...</td>\n",
       "      <td>1</td>\n",
       "      <td>0</td>\n",
       "      <td>0</td>\n",
       "      <td>0</td>\n",
       "      <td>1</td>\n",
       "      <td>0</td>\n",
       "      <td>0</td>\n",
       "      <td>1</td>\n",
       "      <td>1</td>\n",
       "      <td>1</td>\n",
       "    </tr>\n",
       "  </tbody>\n",
       "</table>\n",
       "<p>5 rows × 28 columns</p>\n",
       "</div>"
      ],
      "text/plain": [
       "   Price  MPG.city  MPG.highway  Cylinders  EngineSize  Horsepower   RPM  \\\n",
       "0   15.9        25           31          4         1.8         140  6300   \n",
       "1   33.9        18           25          6         3.2         200  5500   \n",
       "2   29.1        20           26          6         2.8         172  5500   \n",
       "3   37.7        19           26          6         2.8         172  5500   \n",
       "4   30.0        22           30          4         3.5         208  5700   \n",
       "\n",
       "   Rev.per.mile  Fuel.tank.capacity  Passengers  ...  Type_Midsize  \\\n",
       "0          2890                13.2           5  ...             0   \n",
       "1          2335                18.0           5  ...             1   \n",
       "2          2280                16.9           5  ...             0   \n",
       "3          2535                21.1           6  ...             1   \n",
       "4          2545                21.1           4  ...             1   \n",
       "\n",
       "   Type_Small  Type_Sporty  Type_Van  AirBags_Driver only  AirBags_None  \\\n",
       "0           1            0         0                    0             1   \n",
       "1           0            0         0                    0             0   \n",
       "2           0            0         0                    1             0   \n",
       "3           0            0         0                    0             0   \n",
       "4           0            0         0                    1             0   \n",
       "\n",
       "   DriveTrain_Front  DriveTrain_Rear  Man.trans.avail_Yes  Origin_non-USA  \n",
       "0                 1                0                    1               1  \n",
       "1                 1                0                    1               1  \n",
       "2                 1                0                    1               1  \n",
       "3                 1                0                    1               1  \n",
       "4                 0                1                    1               1  \n",
       "\n",
       "[5 rows x 28 columns]"
      ]
     },
     "execution_count": 130,
     "metadata": {},
     "output_type": "execute_result"
    }
   ],
   "source": [
    "dataframe3_withDummies.head()"
   ]
  },
  {
   "cell_type": "code",
   "execution_count": 131,
   "metadata": {},
   "outputs": [
    {
     "data": {
      "text/plain": [
       "0    15.9\n",
       "1    33.9\n",
       "2    29.1\n",
       "Name: Price, dtype: float64"
      ]
     },
     "execution_count": 131,
     "metadata": {},
     "output_type": "execute_result"
    }
   ],
   "source": [
    "#select the response variable\n",
    "y0 = dataframe3_withDummies.iloc[:,0]\n",
    "y0[:3]"
   ]
  },
  {
   "cell_type": "code",
   "execution_count": 132,
   "metadata": {},
   "outputs": [
    {
     "data": {
      "text/plain": [
       "Int64Index([ 0,  1,  2,  3,  4,  5,  6,  7,  8,  9, 10, 11, 12, 13, 14, 15, 16,\n",
       "            17, 19, 20, 21, 22, 23, 24, 25, 26, 27, 28, 29, 30, 31, 32, 33, 34,\n",
       "            35, 36, 37, 38, 39, 40, 41, 42, 43, 44, 45, 46, 47, 48, 49, 50, 51,\n",
       "            52, 53, 54, 55, 57, 58, 59, 60, 61, 62, 63, 64, 65, 66, 67, 68, 69,\n",
       "            70, 71, 72, 73, 74, 75, 76, 77, 78, 79, 80, 81, 82, 83, 84, 85, 86,\n",
       "            87, 88, 89, 90, 91, 92],\n",
       "           dtype='int64')"
      ]
     },
     "execution_count": 132,
     "metadata": {},
     "output_type": "execute_result"
    }
   ],
   "source": [
    "dataframe3_withDummies.index"
   ]
  },
  {
   "cell_type": "code",
   "execution_count": 133,
   "metadata": {},
   "outputs": [
    {
     "data": {
      "text/html": [
       "<div>\n",
       "<style scoped>\n",
       "    .dataframe tbody tr th:only-of-type {\n",
       "        vertical-align: middle;\n",
       "    }\n",
       "\n",
       "    .dataframe tbody tr th {\n",
       "        vertical-align: top;\n",
       "    }\n",
       "\n",
       "    .dataframe thead th {\n",
       "        text-align: right;\n",
       "    }\n",
       "</style>\n",
       "<table border=\"1\" class=\"dataframe\">\n",
       "  <thead>\n",
       "    <tr style=\"text-align: right;\">\n",
       "      <th></th>\n",
       "      <th>MPG.city</th>\n",
       "      <th>MPG.highway</th>\n",
       "      <th>Cylinders</th>\n",
       "      <th>EngineSize</th>\n",
       "      <th>Horsepower</th>\n",
       "      <th>RPM</th>\n",
       "      <th>Rev.per.mile</th>\n",
       "      <th>Fuel.tank.capacity</th>\n",
       "      <th>Passengers</th>\n",
       "      <th>Length</th>\n",
       "      <th>...</th>\n",
       "      <th>Type_Midsize</th>\n",
       "      <th>Type_Small</th>\n",
       "      <th>Type_Sporty</th>\n",
       "      <th>Type_Van</th>\n",
       "      <th>AirBags_Driver only</th>\n",
       "      <th>AirBags_None</th>\n",
       "      <th>DriveTrain_Front</th>\n",
       "      <th>DriveTrain_Rear</th>\n",
       "      <th>Man.trans.avail_Yes</th>\n",
       "      <th>Origin_non-USA</th>\n",
       "    </tr>\n",
       "  </thead>\n",
       "  <tbody>\n",
       "    <tr>\n",
       "      <th>0</th>\n",
       "      <td>25</td>\n",
       "      <td>31</td>\n",
       "      <td>4</td>\n",
       "      <td>1.8</td>\n",
       "      <td>140</td>\n",
       "      <td>6300</td>\n",
       "      <td>2890</td>\n",
       "      <td>13.2</td>\n",
       "      <td>5</td>\n",
       "      <td>177</td>\n",
       "      <td>...</td>\n",
       "      <td>0</td>\n",
       "      <td>1</td>\n",
       "      <td>0</td>\n",
       "      <td>0</td>\n",
       "      <td>0</td>\n",
       "      <td>1</td>\n",
       "      <td>1</td>\n",
       "      <td>0</td>\n",
       "      <td>1</td>\n",
       "      <td>1</td>\n",
       "    </tr>\n",
       "    <tr>\n",
       "      <th>1</th>\n",
       "      <td>18</td>\n",
       "      <td>25</td>\n",
       "      <td>6</td>\n",
       "      <td>3.2</td>\n",
       "      <td>200</td>\n",
       "      <td>5500</td>\n",
       "      <td>2335</td>\n",
       "      <td>18.0</td>\n",
       "      <td>5</td>\n",
       "      <td>195</td>\n",
       "      <td>...</td>\n",
       "      <td>1</td>\n",
       "      <td>0</td>\n",
       "      <td>0</td>\n",
       "      <td>0</td>\n",
       "      <td>0</td>\n",
       "      <td>0</td>\n",
       "      <td>1</td>\n",
       "      <td>0</td>\n",
       "      <td>1</td>\n",
       "      <td>1</td>\n",
       "    </tr>\n",
       "    <tr>\n",
       "      <th>2</th>\n",
       "      <td>20</td>\n",
       "      <td>26</td>\n",
       "      <td>6</td>\n",
       "      <td>2.8</td>\n",
       "      <td>172</td>\n",
       "      <td>5500</td>\n",
       "      <td>2280</td>\n",
       "      <td>16.9</td>\n",
       "      <td>5</td>\n",
       "      <td>180</td>\n",
       "      <td>...</td>\n",
       "      <td>0</td>\n",
       "      <td>0</td>\n",
       "      <td>0</td>\n",
       "      <td>0</td>\n",
       "      <td>1</td>\n",
       "      <td>0</td>\n",
       "      <td>1</td>\n",
       "      <td>0</td>\n",
       "      <td>1</td>\n",
       "      <td>1</td>\n",
       "    </tr>\n",
       "  </tbody>\n",
       "</table>\n",
       "<p>3 rows × 27 columns</p>\n",
       "</div>"
      ],
      "text/plain": [
       "   MPG.city  MPG.highway  Cylinders  EngineSize  Horsepower   RPM  \\\n",
       "0        25           31          4         1.8         140  6300   \n",
       "1        18           25          6         3.2         200  5500   \n",
       "2        20           26          6         2.8         172  5500   \n",
       "\n",
       "   Rev.per.mile  Fuel.tank.capacity  Passengers  Length  ...  Type_Midsize  \\\n",
       "0          2890                13.2           5     177  ...             0   \n",
       "1          2335                18.0           5     195  ...             1   \n",
       "2          2280                16.9           5     180  ...             0   \n",
       "\n",
       "   Type_Small  Type_Sporty  Type_Van  AirBags_Driver only  AirBags_None  \\\n",
       "0           1            0         0                    0             1   \n",
       "1           0            0         0                    0             0   \n",
       "2           0            0         0                    1             0   \n",
       "\n",
       "   DriveTrain_Front  DriveTrain_Rear  Man.trans.avail_Yes  Origin_non-USA  \n",
       "0                 1                0                    1               1  \n",
       "1                 1                0                    1               1  \n",
       "2                 1                0                    1               1  \n",
       "\n",
       "[3 rows x 27 columns]"
      ]
     },
     "execution_count": 133,
     "metadata": {},
     "output_type": "execute_result"
    }
   ],
   "source": [
    "#select all of the predictor columns \n",
    "X0 = dataframe3_withDummies.iloc[:,1:29]\n",
    "X0[:3]"
   ]
  },
  {
   "cell_type": "code",
   "execution_count": 134,
   "metadata": {},
   "outputs": [
    {
     "name": "stdout",
     "output_type": "stream",
     "text": [
      "<class 'pandas.core.frame.DataFrame'>\n",
      "Int64Index: 91 entries, 0 to 92\n",
      "Data columns (total 27 columns):\n",
      "MPG.city               91 non-null int64\n",
      "MPG.highway            91 non-null int64\n",
      "Cylinders              91 non-null int64\n",
      "EngineSize             91 non-null float64\n",
      "Horsepower             91 non-null int64\n",
      "RPM                    91 non-null int64\n",
      "Rev.per.mile           91 non-null int64\n",
      "Fuel.tank.capacity     91 non-null float64\n",
      "Passengers             91 non-null int64\n",
      "Length                 91 non-null int64\n",
      "Wheelbase              91 non-null int64\n",
      "Width                  91 non-null int64\n",
      "Turn.circle            91 non-null int64\n",
      "Rear.seat.room         91 non-null float64\n",
      "Luggage.room           91 non-null float64\n",
      "Weight                 91 non-null int64\n",
      "Type_Large             91 non-null uint8\n",
      "Type_Midsize           91 non-null uint8\n",
      "Type_Small             91 non-null uint8\n",
      "Type_Sporty            91 non-null uint8\n",
      "Type_Van               91 non-null uint8\n",
      "AirBags_Driver only    91 non-null uint8\n",
      "AirBags_None           91 non-null uint8\n",
      "DriveTrain_Front       91 non-null uint8\n",
      "DriveTrain_Rear        91 non-null uint8\n",
      "Man.trans.avail_Yes    91 non-null uint8\n",
      "Origin_non-USA         91 non-null uint8\n",
      "dtypes: float64(4), int64(12), uint8(11)\n",
      "memory usage: 15.6 KB\n"
     ]
    }
   ],
   "source": [
    "X0.info()"
   ]
  },
  {
   "cell_type": "code",
   "execution_count": 135,
   "metadata": {},
   "outputs": [],
   "source": [
    "X = X0.to_numpy()"
   ]
  },
  {
   "cell_type": "code",
   "execution_count": 136,
   "metadata": {},
   "outputs": [
    {
     "data": {
      "text/plain": [
       "array([[1.000e+00, 2.500e+01, 3.100e+01, 4.000e+00, 1.800e+00, 1.400e+02,\n",
       "        6.300e+03, 2.890e+03, 1.320e+01, 5.000e+00, 1.770e+02, 1.020e+02,\n",
       "        6.800e+01, 3.700e+01, 2.650e+01, 1.100e+01, 2.705e+03, 0.000e+00,\n",
       "        0.000e+00, 1.000e+00, 0.000e+00, 0.000e+00, 0.000e+00, 1.000e+00,\n",
       "        1.000e+00, 0.000e+00, 1.000e+00, 1.000e+00],\n",
       "       [1.000e+00, 1.800e+01, 2.500e+01, 6.000e+00, 3.200e+00, 2.000e+02,\n",
       "        5.500e+03, 2.335e+03, 1.800e+01, 5.000e+00, 1.950e+02, 1.150e+02,\n",
       "        7.100e+01, 3.800e+01, 3.000e+01, 1.500e+01, 3.560e+03, 0.000e+00,\n",
       "        1.000e+00, 0.000e+00, 0.000e+00, 0.000e+00, 0.000e+00, 0.000e+00,\n",
       "        1.000e+00, 0.000e+00, 1.000e+00, 1.000e+00]])"
      ]
     },
     "execution_count": 136,
     "metadata": {},
     "output_type": "execute_result"
    }
   ],
   "source": [
    "X1 = sm.add_constant(X)\n",
    "X1[:2]"
   ]
  },
  {
   "cell_type": "code",
   "execution_count": 137,
   "metadata": {},
   "outputs": [],
   "source": [
    "model_luggage_interpolated = sm.OLS(y0,X1).fit()"
   ]
  },
  {
   "cell_type": "code",
   "execution_count": 138,
   "metadata": {},
   "outputs": [
    {
     "data": {
      "text/html": [
       "<table class=\"simpletable\">\n",
       "<caption>OLS Regression Results</caption>\n",
       "<tr>\n",
       "  <th>Dep. Variable:</th>          <td>Price</td>      <th>  R-squared:         </th> <td>   0.841</td>\n",
       "</tr>\n",
       "<tr>\n",
       "  <th>Model:</th>                   <td>OLS</td>       <th>  Adj. R-squared:    </th> <td>   0.773</td>\n",
       "</tr>\n",
       "<tr>\n",
       "  <th>Method:</th>             <td>Least Squares</td>  <th>  F-statistic:       </th> <td>   12.37</td>\n",
       "</tr>\n",
       "<tr>\n",
       "  <th>Date:</th>             <td>Tue, 22 Oct 2019</td> <th>  Prob (F-statistic):</th> <td>2.72e-16</td>\n",
       "</tr>\n",
       "<tr>\n",
       "  <th>Time:</th>                 <td>22:32:38</td>     <th>  Log-Likelihood:    </th> <td> -249.38</td>\n",
       "</tr>\n",
       "<tr>\n",
       "  <th>No. Observations:</th>      <td>    91</td>      <th>  AIC:               </th> <td>   554.8</td>\n",
       "</tr>\n",
       "<tr>\n",
       "  <th>Df Residuals:</th>          <td>    63</td>      <th>  BIC:               </th> <td>   625.1</td>\n",
       "</tr>\n",
       "<tr>\n",
       "  <th>Df Model:</th>              <td>    27</td>      <th>                     </th>     <td> </td>   \n",
       "</tr>\n",
       "<tr>\n",
       "  <th>Covariance Type:</th>      <td>nonrobust</td>    <th>                     </th>     <td> </td>   \n",
       "</tr>\n",
       "</table>\n",
       "<table class=\"simpletable\">\n",
       "<tr>\n",
       "    <td></td>       <th>coef</th>     <th>std err</th>      <th>t</th>      <th>P>|t|</th>  <th>[0.025</th>    <th>0.975]</th>  \n",
       "</tr>\n",
       "<tr>\n",
       "  <th>const</th> <td>   88.3964</td> <td>   33.168</td> <td>    2.665</td> <td> 0.010</td> <td>   22.115</td> <td>  154.678</td>\n",
       "</tr>\n",
       "<tr>\n",
       "  <th>x1</th>    <td>   -0.2679</td> <td>    0.396</td> <td>   -0.676</td> <td> 0.501</td> <td>   -1.059</td> <td>    0.524</td>\n",
       "</tr>\n",
       "<tr>\n",
       "  <th>x2</th>    <td>    0.1359</td> <td>    0.384</td> <td>    0.354</td> <td> 0.725</td> <td>   -0.632</td> <td>    0.904</td>\n",
       "</tr>\n",
       "<tr>\n",
       "  <th>x3</th>    <td>    1.4897</td> <td>    1.033</td> <td>    1.442</td> <td> 0.154</td> <td>   -0.575</td> <td>    3.554</td>\n",
       "</tr>\n",
       "<tr>\n",
       "  <th>x4</th>    <td>   -0.9435</td> <td>    2.561</td> <td>   -0.368</td> <td> 0.714</td> <td>   -6.061</td> <td>    4.174</td>\n",
       "</tr>\n",
       "<tr>\n",
       "  <th>x5</th>    <td>    0.1429</td> <td>    0.042</td> <td>    3.396</td> <td> 0.001</td> <td>    0.059</td> <td>    0.227</td>\n",
       "</tr>\n",
       "<tr>\n",
       "  <th>x6</th>    <td>   -0.0023</td> <td>    0.002</td> <td>   -1.068</td> <td> 0.290</td> <td>   -0.006</td> <td>    0.002</td>\n",
       "</tr>\n",
       "<tr>\n",
       "  <th>x7</th>    <td>    0.0016</td> <td>    0.002</td> <td>    0.785</td> <td> 0.435</td> <td>   -0.003</td> <td>    0.006</td>\n",
       "</tr>\n",
       "<tr>\n",
       "  <th>x8</th>    <td>    0.2811</td> <td>    0.472</td> <td>    0.595</td> <td> 0.554</td> <td>   -0.663</td> <td>    1.225</td>\n",
       "</tr>\n",
       "<tr>\n",
       "  <th>x9</th>    <td>    1.8128</td> <td>    1.686</td> <td>    1.075</td> <td> 0.286</td> <td>   -1.556</td> <td>    5.181</td>\n",
       "</tr>\n",
       "<tr>\n",
       "  <th>x10</th>   <td>    0.0473</td> <td>    0.104</td> <td>    0.456</td> <td> 0.650</td> <td>   -0.160</td> <td>    0.255</td>\n",
       "</tr>\n",
       "<tr>\n",
       "  <th>x11</th>   <td>    0.3718</td> <td>    0.246</td> <td>    1.514</td> <td> 0.135</td> <td>   -0.119</td> <td>    0.862</td>\n",
       "</tr>\n",
       "<tr>\n",
       "  <th>x12</th>   <td>   -1.8043</td> <td>    0.500</td> <td>   -3.607</td> <td> 0.001</td> <td>   -2.804</td> <td>   -0.805</td>\n",
       "</tr>\n",
       "<tr>\n",
       "  <th>x13</th>   <td>   -0.5700</td> <td>    0.339</td> <td>   -1.681</td> <td> 0.098</td> <td>   -1.247</td> <td>    0.107</td>\n",
       "</tr>\n",
       "<tr>\n",
       "  <th>x14</th>   <td>    0.2813</td> <td>    0.334</td> <td>    0.843</td> <td> 0.402</td> <td>   -0.385</td> <td>    0.948</td>\n",
       "</tr>\n",
       "<tr>\n",
       "  <th>x15</th>   <td>    0.2646</td> <td>    0.331</td> <td>    0.800</td> <td> 0.427</td> <td>   -0.396</td> <td>    0.925</td>\n",
       "</tr>\n",
       "<tr>\n",
       "  <th>x16</th>   <td>   -0.0028</td> <td>    0.005</td> <td>   -0.583</td> <td> 0.562</td> <td>   -0.012</td> <td>    0.007</td>\n",
       "</tr>\n",
       "<tr>\n",
       "  <th>x17</th>   <td>    0.2176</td> <td>    3.289</td> <td>    0.066</td> <td> 0.947</td> <td>   -6.354</td> <td>    6.789</td>\n",
       "</tr>\n",
       "<tr>\n",
       "  <th>x18</th>   <td>    3.9093</td> <td>    2.108</td> <td>    1.854</td> <td> 0.068</td> <td>   -0.303</td> <td>    8.122</td>\n",
       "</tr>\n",
       "<tr>\n",
       "  <th>x19</th>   <td>    0.3519</td> <td>    2.471</td> <td>    0.142</td> <td> 0.887</td> <td>   -4.586</td> <td>    5.290</td>\n",
       "</tr>\n",
       "<tr>\n",
       "  <th>x20</th>   <td>    4.7081</td> <td>    2.831</td> <td>    1.663</td> <td> 0.101</td> <td>   -0.949</td> <td>   10.365</td>\n",
       "</tr>\n",
       "<tr>\n",
       "  <th>x21</th>   <td>    2.2027</td> <td>    5.064</td> <td>    0.435</td> <td> 0.665</td> <td>   -7.916</td> <td>   12.322</td>\n",
       "</tr>\n",
       "<tr>\n",
       "  <th>x22</th>   <td>   -3.2003</td> <td>    1.548</td> <td>   -2.068</td> <td> 0.043</td> <td>   -6.293</td> <td>   -0.108</td>\n",
       "</tr>\n",
       "<tr>\n",
       "  <th>x23</th>   <td>   -7.5322</td> <td>    1.905</td> <td>   -3.955</td> <td> 0.000</td> <td>  -11.338</td> <td>   -3.726</td>\n",
       "</tr>\n",
       "<tr>\n",
       "  <th>x24</th>   <td>    1.1479</td> <td>    2.003</td> <td>    0.573</td> <td> 0.569</td> <td>   -2.855</td> <td>    5.151</td>\n",
       "</tr>\n",
       "<tr>\n",
       "  <th>x25</th>   <td>    6.3684</td> <td>    2.730</td> <td>    2.333</td> <td> 0.023</td> <td>    0.914</td> <td>   11.823</td>\n",
       "</tr>\n",
       "<tr>\n",
       "  <th>x26</th>   <td>   -1.9476</td> <td>    2.038</td> <td>   -0.956</td> <td> 0.343</td> <td>   -6.019</td> <td>    2.124</td>\n",
       "</tr>\n",
       "<tr>\n",
       "  <th>x27</th>   <td>    1.3637</td> <td>    1.508</td> <td>    0.904</td> <td> 0.369</td> <td>   -1.650</td> <td>    4.377</td>\n",
       "</tr>\n",
       "</table>\n",
       "<table class=\"simpletable\">\n",
       "<tr>\n",
       "  <th>Omnibus:</th>       <td>15.872</td> <th>  Durbin-Watson:     </th> <td>   1.768</td>\n",
       "</tr>\n",
       "<tr>\n",
       "  <th>Prob(Omnibus):</th> <td> 0.000</td> <th>  Jarque-Bera (JB):  </th> <td>  26.004</td>\n",
       "</tr>\n",
       "<tr>\n",
       "  <th>Skew:</th>          <td> 0.711</td> <th>  Prob(JB):          </th> <td>2.26e-06</td>\n",
       "</tr>\n",
       "<tr>\n",
       "  <th>Kurtosis:</th>      <td> 5.199</td> <th>  Cond. No.          </th> <td>4.63e+05</td>\n",
       "</tr>\n",
       "</table><br/><br/>Warnings:<br/>[1] Standard Errors assume that the covariance matrix of the errors is correctly specified.<br/>[2] The condition number is large, 4.63e+05. This might indicate that there are<br/>strong multicollinearity or other numerical problems."
      ],
      "text/plain": [
       "<class 'statsmodels.iolib.summary.Summary'>\n",
       "\"\"\"\n",
       "                            OLS Regression Results                            \n",
       "==============================================================================\n",
       "Dep. Variable:                  Price   R-squared:                       0.841\n",
       "Model:                            OLS   Adj. R-squared:                  0.773\n",
       "Method:                 Least Squares   F-statistic:                     12.37\n",
       "Date:                Tue, 22 Oct 2019   Prob (F-statistic):           2.72e-16\n",
       "Time:                        22:32:38   Log-Likelihood:                -249.38\n",
       "No. Observations:                  91   AIC:                             554.8\n",
       "Df Residuals:                      63   BIC:                             625.1\n",
       "Df Model:                          27                                         \n",
       "Covariance Type:            nonrobust                                         \n",
       "==============================================================================\n",
       "                 coef    std err          t      P>|t|      [0.025      0.975]\n",
       "------------------------------------------------------------------------------\n",
       "const         88.3964     33.168      2.665      0.010      22.115     154.678\n",
       "x1            -0.2679      0.396     -0.676      0.501      -1.059       0.524\n",
       "x2             0.1359      0.384      0.354      0.725      -0.632       0.904\n",
       "x3             1.4897      1.033      1.442      0.154      -0.575       3.554\n",
       "x4            -0.9435      2.561     -0.368      0.714      -6.061       4.174\n",
       "x5             0.1429      0.042      3.396      0.001       0.059       0.227\n",
       "x6            -0.0023      0.002     -1.068      0.290      -0.006       0.002\n",
       "x7             0.0016      0.002      0.785      0.435      -0.003       0.006\n",
       "x8             0.2811      0.472      0.595      0.554      -0.663       1.225\n",
       "x9             1.8128      1.686      1.075      0.286      -1.556       5.181\n",
       "x10            0.0473      0.104      0.456      0.650      -0.160       0.255\n",
       "x11            0.3718      0.246      1.514      0.135      -0.119       0.862\n",
       "x12           -1.8043      0.500     -3.607      0.001      -2.804      -0.805\n",
       "x13           -0.5700      0.339     -1.681      0.098      -1.247       0.107\n",
       "x14            0.2813      0.334      0.843      0.402      -0.385       0.948\n",
       "x15            0.2646      0.331      0.800      0.427      -0.396       0.925\n",
       "x16           -0.0028      0.005     -0.583      0.562      -0.012       0.007\n",
       "x17            0.2176      3.289      0.066      0.947      -6.354       6.789\n",
       "x18            3.9093      2.108      1.854      0.068      -0.303       8.122\n",
       "x19            0.3519      2.471      0.142      0.887      -4.586       5.290\n",
       "x20            4.7081      2.831      1.663      0.101      -0.949      10.365\n",
       "x21            2.2027      5.064      0.435      0.665      -7.916      12.322\n",
       "x22           -3.2003      1.548     -2.068      0.043      -6.293      -0.108\n",
       "x23           -7.5322      1.905     -3.955      0.000     -11.338      -3.726\n",
       "x24            1.1479      2.003      0.573      0.569      -2.855       5.151\n",
       "x25            6.3684      2.730      2.333      0.023       0.914      11.823\n",
       "x26           -1.9476      2.038     -0.956      0.343      -6.019       2.124\n",
       "x27            1.3637      1.508      0.904      0.369      -1.650       4.377\n",
       "==============================================================================\n",
       "Omnibus:                       15.872   Durbin-Watson:                   1.768\n",
       "Prob(Omnibus):                  0.000   Jarque-Bera (JB):               26.004\n",
       "Skew:                           0.711   Prob(JB):                     2.26e-06\n",
       "Kurtosis:                       5.199   Cond. No.                     4.63e+05\n",
       "==============================================================================\n",
       "\n",
       "Warnings:\n",
       "[1] Standard Errors assume that the covariance matrix of the errors is correctly specified.\n",
       "[2] The condition number is large, 4.63e+05. This might indicate that there are\n",
       "strong multicollinearity or other numerical problems.\n",
       "\"\"\""
      ]
     },
     "execution_count": 138,
     "metadata": {},
     "output_type": "execute_result"
    }
   ],
   "source": [
    "model_luggage_interpolated.summary()"
   ]
  },
  {
   "cell_type": "code",
   "execution_count": 139,
   "metadata": {},
   "outputs": [
    {
     "data": {
      "text/plain": [
       "Index(['MPG.city', 'MPG.highway', 'Cylinders', 'EngineSize', 'Horsepower',\n",
       "       'RPM', 'Rev.per.mile', 'Fuel.tank.capacity', 'Passengers', 'Length',\n",
       "       'Wheelbase', 'Width', 'Turn.circle', 'Rear.seat.room', 'Luggage.room',\n",
       "       'Weight', 'Type_Large', 'Type_Midsize', 'Type_Small', 'Type_Sporty',\n",
       "       'Type_Van', 'AirBags_Driver only', 'AirBags_None', 'DriveTrain_Front',\n",
       "       'DriveTrain_Rear', 'Man.trans.avail_Yes', 'Origin_non-USA'],\n",
       "      dtype='object')"
      ]
     },
     "execution_count": 139,
     "metadata": {},
     "output_type": "execute_result"
    }
   ],
   "source": [
    "X0.columns #then match the predictor names to each of the model's x predictor's to write the fitted equation."
   ]
  },
  {
   "cell_type": "markdown",
   "metadata": {},
   "source": [
    "#### The full fitted equation with interpolated NA columns is: (part(c) model, 27 predictors, 91 observations)\n",
    "yhat = 88.396 -0.268 x1 +0.136 x2 +1.490 x3 -0.944 x4+0.143 x5 -0.002 x6 + 0.002 x7 +0.281 x8 + 1.813 x9 + 0.047 x10 +0.372 x11 -1.804 x12 -0.570 x13 +0.281 x14+0.265 x15 - 0.003 x16 +0.218 x17 + 3.909 x18  +0.352 x19 + 4.708 x20 +2.203 x21 -3.200 x22 -7.532 x23 +1.148 x24 +6.368 x25 -1.948 x26 +1.364 x27\n",
    "\n",
    "or equivalently, with the variable names subsituted in:\n",
    "\n",
    "Price_hat = 88.396 -0.268 (MPG.city) +0.136 (MPG.highway) +1.490 (Cylinders) -0.944 (EngineSize)+0.143 (Horsepower) -0.002 (RPM) + 0.002 (Rev.per.mile) +0.281 (Fuel.tank.capacity) + 1.813 (Passengers) + 0.047 (Length) +0.372 (Wheelbase) -1.804 (Width) -0.570 (Turn.circle) +0.281 (Rear.seat.room) +0.265 (Luggage.room) - 0.003 (Weight) +0.218 (Type_Large) + 3.909 (Type_Midsize)  +0.352 (Type_Small) + 4.708 (Type_Sporty) +2.203 (Type_Van) -3.200 (AirBags_Driver only) -7.532 (AirBags_None) +1.148 (DriveTrain_Front) +6.368 (DriveTrain_Rear) -1.948 (Man.trans.avail_Yes) +1.364 (Origin_non-USA)\n"
   ]
  },
  {
   "cell_type": "markdown",
   "metadata": {},
   "source": [
    "For side-by-side comparison we list the previous fitted model with 81 observations below:"
   ]
  },
  {
   "cell_type": "markdown",
   "metadata": {},
   "source": [
    "#### The fitted Equation when NA rows are all dropped is:  (part(a) model, 26 predictors, 82 observations)\n",
    "yhat = 79.955 -0.351 x1 +0.173 x2 + 1.870 x3 - 1.015 x4 + 0.136 x5 -.002 x6 + .002 x7 +0.258 x8 + 1.925 x9 + 0.015 x10 + 0.530 x11 -1.838 x12 - 0.496 x13 + 0.265 x14 + 0.256 x15 - 0.004 x16 + 0.0102 x17 + 4.032 x18 -0.419 x19 +4.747 x20 - 3.040 x21 -7.850 x22 - 0.553 x23 + 4.938 x24 -1.549 x25 +1.253 x26\n",
    "\n",
    "or equivalently, with the variable names substituted in:\n",
    "\n",
    "Price_hat = 79.955 -0.351(MPG.city) +0.173(MPG.highway) + 1.870(Cylinders) - 1.015(EngineSize) + 0.136(Horsepower) -.002(RPM) + .002(Rev.per.mile) +0.258(Fuel.tank.capacity) + 1.925(Passengers) + 0.015(Length) + 0.530(Wheelbase) -1.838(Width) - 0.496(Turn.circle) + 0.265(Rear.seat.room) + 0.256(Luggage.room) - 0.004(Weight) + 0.0102(Type_Large) + 4.032(Type_Midsize) -0.419(Type_Small) +4.747(Type_Sporty) - 3.040(AirBags_Driver only) -7.850(AirBags_None) - 0.553(DriveTrain_Front) + 4.938(DriveTrain_Rear) -1.549(Man.trans.avail_Yes) +1.253(Origin_non-USA)\n",
    "\n"
   ]
  },
  {
   "cell_type": "markdown",
   "metadata": {},
   "source": [
    "**Answer:**<br>We note that the model in part (a) has 26 predictors and 82 observations while the model in part (c) has 27 predictors and 91 observations. This is because in dropping the NA rows in part (a), the model also removes one type of car, namely the \"Van\" type, and so the one-hot encoding of dummy variables has one less category resulting in one fewer dummy variable in the part (a) model, which I call model_all_columns_noNAs (26 predictors, 82 obs), versus the part (c) model which I call model_luggage_interpolated (27 predictors, 91 obs).<br>\n",
    "\n",
    "Below, we report this model's AIC  and compare it to the AIC of the model found in part(a):"
   ]
  },
  {
   "cell_type": "code",
   "execution_count": 140,
   "metadata": {},
   "outputs": [
    {
     "name": "stdout",
     "output_type": "stream",
     "text": [
      "The model in part(a), using dataframe2, has an AIC of: 509.58168708368464\n",
      "The model in part (c), using dataframe3, has an AIC of: 554.7671351448183\n"
     ]
    }
   ],
   "source": [
    "print('The model in part(a), using dataframe2, has an AIC of:',model_all_columns_noNAs.aic)\n",
    "print('The model in part (c), using dataframe3, has an AIC of:', model_luggage_interpolated.aic)"
   ]
  },
  {
   "cell_type": "markdown",
   "metadata": {},
   "source": [
    "We see that the model with all 91 observations, using interpolated luggage values, has a larger (worse) AIC than the price model in part(a) with 82 observations, excluding all the NA rows. This worsening of AIC occurse because, although our SSE has decreased with the expanded model in part(a), the decrease was not sufficient to offset the increase in observations (recalling that the formula for AIC is given by n*log(SSE/n)+2p. We verify this directionally using the formulas below."
   ]
  },
  {
   "cell_type": "code",
   "execution_count": 141,
   "metadata": {},
   "outputs": [
    {
     "name": "stdout",
     "output_type": "stream",
     "text": [
      "the model in part (a) has an SSE value of 1852.150129961122\n",
      "the model in part (c) has an SSE value of 1847.6405935857301\n"
     ]
    }
   ],
   "source": [
    "SSE_noNAs = model_all_columns_noNAs.mse_resid*len(dataframe2_withDummies) #82 observations, 26 predictors\n",
    "SSE_interpolated = model_luggage_interpolated.mse_resid*len(dataframe3_withDummies) #91 observations, 27 predictors\n",
    "print('the model in part (a) has an SSE value of', SSE_noNAs)\n",
    "print('the model in part (c) has an SSE value of', SSE_interpolated)"
   ]
  },
  {
   "cell_type": "markdown",
   "metadata": {},
   "source": [
    "Therefore, we can confirm that the SSE decreases as we go from part(b)'s model to using the expanded model with interpolated luggage values in part (c)."
   ]
  },
  {
   "cell_type": "code",
   "execution_count": 142,
   "metadata": {},
   "outputs": [
    {
     "name": "stdout",
     "output_type": "stream",
     "text": [
      "the part (a) model formulaically has an AIC value of: 307.62542472472444\n",
      "the part (c) model formulaically has an AIC value of: 327.9832770929718\n"
     ]
    }
   ],
   "source": [
    "AIC_82 = 82*m.log(SSE_noNAs/82) + 2*(26)\n",
    "AIC_91 = 91*m.log(SSE_interpolated/91)+2*(27)\n",
    "print('the part (a) model formulaically has an AIC value of:',AIC_82)\n",
    "print('the part (c) model formulaically has an AIC value of:',AIC_91)"
   ]
  },
  {
   "cell_type": "markdown",
   "metadata": {},
   "source": [
    "Therefore, we can confirm there is an increase (worsening) of AIC as we go from part(a)'s model to part(b)'s model. Most likely, this is a result of both the increased number of observations,n, and the additional predictor."
   ]
  }
 ],
 "metadata": {
  "kernelspec": {
   "display_name": "Python 3",
   "language": "python",
   "name": "python3"
  },
  "language_info": {
   "codemirror_mode": {
    "name": "ipython",
    "version": 3
   },
   "file_extension": ".py",
   "mimetype": "text/x-python",
   "name": "python",
   "nbconvert_exporter": "python",
   "pygments_lexer": "ipython3",
   "version": "3.7.8"
  }
 },
 "nbformat": 4,
 "nbformat_minor": 2
}
