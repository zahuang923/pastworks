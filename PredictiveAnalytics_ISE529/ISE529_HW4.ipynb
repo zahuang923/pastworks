{
 "cells": [
  {
   "cell_type": "markdown",
   "metadata": {},
   "source": [
    "<h1><center>ISE 529 - Homework 4</center></h1>"
   ]
  },
  {
   "cell_type": "markdown",
   "metadata": {},
   "source": [
    "<div style=\"text-align: right\"> Zenas Huang<br>ID:8806603551<br>ISE 529 Predictive Analytics, Fall 2019<br>Wednesday, 5-7:50pm Section<br>Dr. Acosta-Mejia </div>"
   ]
  },
  {
   "cell_type": "code",
   "execution_count": 1,
   "metadata": {},
   "outputs": [],
   "source": [
    "import pandas as pd\n",
    "import numpy as np\n",
    "import matplotlib.pyplot as plt\n",
    "import statsmodels.api as sm"
   ]
  },
  {
   "cell_type": "code",
   "execution_count": 2,
   "metadata": {},
   "outputs": [],
   "source": [
    "from sklearn.model_selection import KFold, cross_val_score, train_test_split\n",
    "from sklearn.metrics import confusion_matrix, mean_squared_error, accuracy_score\n",
    "from sklearn.ensemble import BaggingClassifier\n",
    "from sklearn.ensemble import RandomForestRegressor, RandomForestClassifier\n",
    "from sklearn.ensemble import GradientBoostingRegressor, GradientBoostingClassifier\n",
    "from sklearn.linear_model import LogisticRegression\n",
    "from sklearn.neighbors import KNeighborsClassifier"
   ]
  },
  {
   "cell_type": "markdown",
   "metadata": {},
   "source": [
    "### Question 1 (30 pts.) \n",
    "Consider the Hitters data set with 20 variables of major league baseball players. It is of\n",
    "interest to predict the Salary of the players. Divide the data set into a training and a test set\n",
    "(50%). For some players the salary is not available (remove these rows from the data set)."
   ]
  },
  {
   "cell_type": "markdown",
   "metadata": {},
   "source": [
    "#### Question 1 a)\n",
    "Fit a random forest model with B = 100 bagged trees and max_features= 10. Report the test MSE. Which predictors are most important?"
   ]
  },
  {
   "cell_type": "code",
   "execution_count": 3,
   "metadata": {},
   "outputs": [
    {
     "data": {
      "text/html": [
       "<div>\n",
       "<style scoped>\n",
       "    .dataframe tbody tr th:only-of-type {\n",
       "        vertical-align: middle;\n",
       "    }\n",
       "\n",
       "    .dataframe tbody tr th {\n",
       "        vertical-align: top;\n",
       "    }\n",
       "\n",
       "    .dataframe thead th {\n",
       "        text-align: right;\n",
       "    }\n",
       "</style>\n",
       "<table border=\"1\" class=\"dataframe\">\n",
       "  <thead>\n",
       "    <tr style=\"text-align: right;\">\n",
       "      <th></th>\n",
       "      <th>AtBat</th>\n",
       "      <th>Hits</th>\n",
       "      <th>HmRun</th>\n",
       "      <th>Runs</th>\n",
       "      <th>RBI</th>\n",
       "      <th>Walks</th>\n",
       "      <th>Years</th>\n",
       "      <th>CAtBat</th>\n",
       "      <th>CHits</th>\n",
       "      <th>CHmRun</th>\n",
       "      <th>CRuns</th>\n",
       "      <th>CRBI</th>\n",
       "      <th>CWalks</th>\n",
       "      <th>League</th>\n",
       "      <th>Division</th>\n",
       "      <th>PutOuts</th>\n",
       "      <th>Assists</th>\n",
       "      <th>Errors</th>\n",
       "      <th>Salary</th>\n",
       "      <th>NewLeague</th>\n",
       "    </tr>\n",
       "  </thead>\n",
       "  <tbody>\n",
       "    <tr>\n",
       "      <th>0</th>\n",
       "      <td>293</td>\n",
       "      <td>66</td>\n",
       "      <td>1</td>\n",
       "      <td>30</td>\n",
       "      <td>29</td>\n",
       "      <td>14</td>\n",
       "      <td>1</td>\n",
       "      <td>293</td>\n",
       "      <td>66</td>\n",
       "      <td>1</td>\n",
       "      <td>30</td>\n",
       "      <td>29</td>\n",
       "      <td>14</td>\n",
       "      <td>A</td>\n",
       "      <td>E</td>\n",
       "      <td>446</td>\n",
       "      <td>33</td>\n",
       "      <td>20</td>\n",
       "      <td>NaN</td>\n",
       "      <td>A</td>\n",
       "    </tr>\n",
       "    <tr>\n",
       "      <th>1</th>\n",
       "      <td>315</td>\n",
       "      <td>81</td>\n",
       "      <td>7</td>\n",
       "      <td>24</td>\n",
       "      <td>38</td>\n",
       "      <td>39</td>\n",
       "      <td>14</td>\n",
       "      <td>3449</td>\n",
       "      <td>835</td>\n",
       "      <td>69</td>\n",
       "      <td>321</td>\n",
       "      <td>414</td>\n",
       "      <td>375</td>\n",
       "      <td>N</td>\n",
       "      <td>W</td>\n",
       "      <td>632</td>\n",
       "      <td>43</td>\n",
       "      <td>10</td>\n",
       "      <td>475.0</td>\n",
       "      <td>N</td>\n",
       "    </tr>\n",
       "    <tr>\n",
       "      <th>2</th>\n",
       "      <td>479</td>\n",
       "      <td>130</td>\n",
       "      <td>18</td>\n",
       "      <td>66</td>\n",
       "      <td>72</td>\n",
       "      <td>76</td>\n",
       "      <td>3</td>\n",
       "      <td>1624</td>\n",
       "      <td>457</td>\n",
       "      <td>63</td>\n",
       "      <td>224</td>\n",
       "      <td>266</td>\n",
       "      <td>263</td>\n",
       "      <td>A</td>\n",
       "      <td>W</td>\n",
       "      <td>880</td>\n",
       "      <td>82</td>\n",
       "      <td>14</td>\n",
       "      <td>480.0</td>\n",
       "      <td>A</td>\n",
       "    </tr>\n",
       "  </tbody>\n",
       "</table>\n",
       "</div>"
      ],
      "text/plain": [
       "   AtBat  Hits  HmRun  Runs  RBI  Walks  Years  CAtBat  CHits  CHmRun  CRuns  \\\n",
       "0    293    66      1    30   29     14      1     293     66       1     30   \n",
       "1    315    81      7    24   38     39     14    3449    835      69    321   \n",
       "2    479   130     18    66   72     76      3    1624    457      63    224   \n",
       "\n",
       "   CRBI  CWalks League Division  PutOuts  Assists  Errors  Salary NewLeague  \n",
       "0    29      14      A        E      446       33      20     NaN         A  \n",
       "1   414     375      N        W      632       43      10   475.0         N  \n",
       "2   266     263      A        W      880       82      14   480.0         A  "
      ]
     },
     "execution_count": 3,
     "metadata": {},
     "output_type": "execute_result"
    }
   ],
   "source": [
    "#Read in data as a pandas dataframe\n",
    "df_hitters = pd.read_csv(\"Hitters.csv\")\n",
    "df_hitters[:3]"
   ]
  },
  {
   "cell_type": "code",
   "execution_count": 4,
   "metadata": {},
   "outputs": [],
   "source": [
    "#Remove players with NA rows\n",
    "d0 = df_hitters.dropna()"
   ]
  },
  {
   "cell_type": "code",
   "execution_count": 5,
   "metadata": {},
   "outputs": [
    {
     "data": {
      "text/plain": [
       "(263, 20)"
      ]
     },
     "execution_count": 5,
     "metadata": {},
     "output_type": "execute_result"
    }
   ],
   "source": [
    "d0.shape"
   ]
  },
  {
   "cell_type": "code",
   "execution_count": 6,
   "metadata": {},
   "outputs": [],
   "source": [
    "y = d0.Salary"
   ]
  },
  {
   "cell_type": "code",
   "execution_count": 7,
   "metadata": {},
   "outputs": [
    {
     "data": {
      "text/plain": [
       "(263, 19)"
      ]
     },
     "execution_count": 7,
     "metadata": {},
     "output_type": "execute_result"
    }
   ],
   "source": [
    "x = d0.drop(['Salary'],axis=1)\n",
    "x.shape"
   ]
  },
  {
   "cell_type": "code",
   "execution_count": 8,
   "metadata": {},
   "outputs": [],
   "source": [
    "#Create Dummy Variable encodings for the categorical features\n",
    "x[['League','Division','NewLeague']] = pd.get_dummies(x[['League','Division','NewLeague']]\\\n",
    "                                                      ,drop_first=True)"
   ]
  },
  {
   "cell_type": "code",
   "execution_count": 9,
   "metadata": {},
   "outputs": [
    {
     "data": {
      "text/plain": [
       "AtBat        int64\n",
       "Hits         int64\n",
       "HmRun        int64\n",
       "Runs         int64\n",
       "RBI          int64\n",
       "Walks        int64\n",
       "Years        int64\n",
       "CAtBat       int64\n",
       "CHits        int64\n",
       "CHmRun       int64\n",
       "CRuns        int64\n",
       "CRBI         int64\n",
       "CWalks       int64\n",
       "League       uint8\n",
       "Division     uint8\n",
       "PutOuts      int64\n",
       "Assists      int64\n",
       "Errors       int64\n",
       "NewLeague    uint8\n",
       "dtype: object"
      ]
     },
     "execution_count": 9,
     "metadata": {},
     "output_type": "execute_result"
    }
   ],
   "source": [
    "#Verify all data types are numerical valued\n",
    "x.dtypes"
   ]
  },
  {
   "cell_type": "code",
   "execution_count": 10,
   "metadata": {},
   "outputs": [],
   "source": [
    "X = x.astype('float64')"
   ]
  },
  {
   "cell_type": "code",
   "execution_count": 11,
   "metadata": {},
   "outputs": [],
   "source": [
    "#Divide the data set into 50% test set and 50% train set\n",
    "X_train,X_test,y_train,y_test = train_test_split(X,y,train_size=0.5\\\n",
    "                                                 ,test_size=0.5, random_state=1)"
   ]
  },
  {
   "cell_type": "code",
   "execution_count": 12,
   "metadata": {},
   "outputs": [
    {
     "data": {
      "text/plain": [
       "RandomForestRegressor(bootstrap=True, criterion='mse', max_depth=None,\n",
       "                      max_features=10, max_leaf_nodes=None,\n",
       "                      min_impurity_decrease=0.0, min_impurity_split=None,\n",
       "                      min_samples_leaf=1, min_samples_split=2,\n",
       "                      min_weight_fraction_leaf=0.0, n_estimators=100,\n",
       "                      n_jobs=None, oob_score=False, random_state=1, verbose=0,\n",
       "                      warm_start=False)"
      ]
     },
     "execution_count": 12,
     "metadata": {},
     "output_type": "execute_result"
    }
   ],
   "source": [
    "#Fit the model with B = 100 and max_features = 10. \n",
    "bagged_hitters = RandomForestRegressor(max_features=10, n_estimators=100,random_state=1)\n",
    "bagged_hitters.fit(X_train,y_train)"
   ]
  },
  {
   "cell_type": "code",
   "execution_count": 16,
   "metadata": {},
   "outputs": [],
   "source": [
    "pred = bagged_hitters.predict(X_test)"
   ]
  },
  {
   "cell_type": "code",
   "execution_count": 17,
   "metadata": {},
   "outputs": [
    {
     "data": {
      "text/plain": [
       "65737.14"
      ]
     },
     "execution_count": 17,
     "metadata": {},
     "output_type": "execute_result"
    }
   ],
   "source": [
    "#get the test MSE\n",
    "round(mean_squared_error(y_test,pred),2)"
   ]
  },
  {
   "cell_type": "code",
   "execution_count": 18,
   "metadata": {},
   "outputs": [],
   "source": [
    "#get predictor importance ranking scores for the random forest model  \n",
    "importance = bagged_hitters.feature_importances_*100"
   ]
  },
  {
   "cell_type": "code",
   "execution_count": 19,
   "metadata": {},
   "outputs": [
    {
     "data": {
      "text/html": [
       "<div>\n",
       "<style scoped>\n",
       "    .dataframe tbody tr th:only-of-type {\n",
       "        vertical-align: middle;\n",
       "    }\n",
       "\n",
       "    .dataframe tbody tr th {\n",
       "        vertical-align: top;\n",
       "    }\n",
       "\n",
       "    .dataframe thead th {\n",
       "        text-align: right;\n",
       "    }\n",
       "</style>\n",
       "<table border=\"1\" class=\"dataframe\">\n",
       "  <thead>\n",
       "    <tr style=\"text-align: right;\">\n",
       "      <th></th>\n",
       "      <th>Importance</th>\n",
       "    </tr>\n",
       "  </thead>\n",
       "  <tbody>\n",
       "    <tr>\n",
       "      <th>AtBat</th>\n",
       "      <td>4.170694</td>\n",
       "    </tr>\n",
       "    <tr>\n",
       "      <th>Hits</th>\n",
       "      <td>5.191959</td>\n",
       "    </tr>\n",
       "    <tr>\n",
       "      <th>HmRun</th>\n",
       "      <td>1.408543</td>\n",
       "    </tr>\n",
       "    <tr>\n",
       "      <th>Runs</th>\n",
       "      <td>6.033828</td>\n",
       "    </tr>\n",
       "    <tr>\n",
       "      <th>RBI</th>\n",
       "      <td>11.500127</td>\n",
       "    </tr>\n",
       "    <tr>\n",
       "      <th>Walks</th>\n",
       "      <td>6.888873</td>\n",
       "    </tr>\n",
       "    <tr>\n",
       "      <th>Years</th>\n",
       "      <td>1.346956</td>\n",
       "    </tr>\n",
       "    <tr>\n",
       "      <th>CAtBat</th>\n",
       "      <td>6.920121</td>\n",
       "    </tr>\n",
       "    <tr>\n",
       "      <th>CHits</th>\n",
       "      <td>11.350808</td>\n",
       "    </tr>\n",
       "    <tr>\n",
       "      <th>CHmRun</th>\n",
       "      <td>5.977771</td>\n",
       "    </tr>\n",
       "    <tr>\n",
       "      <th>CRuns</th>\n",
       "      <td>8.623195</td>\n",
       "    </tr>\n",
       "    <tr>\n",
       "      <th>CRBI</th>\n",
       "      <td>12.929066</td>\n",
       "    </tr>\n",
       "    <tr>\n",
       "      <th>CWalks</th>\n",
       "      <td>5.691761</td>\n",
       "    </tr>\n",
       "    <tr>\n",
       "      <th>League</th>\n",
       "      <td>0.331293</td>\n",
       "    </tr>\n",
       "    <tr>\n",
       "      <th>Division</th>\n",
       "      <td>0.375125</td>\n",
       "    </tr>\n",
       "    <tr>\n",
       "      <th>PutOuts</th>\n",
       "      <td>7.454813</td>\n",
       "    </tr>\n",
       "    <tr>\n",
       "      <th>Assists</th>\n",
       "      <td>2.344997</td>\n",
       "    </tr>\n",
       "    <tr>\n",
       "      <th>Errors</th>\n",
       "      <td>1.073194</td>\n",
       "    </tr>\n",
       "    <tr>\n",
       "      <th>NewLeague</th>\n",
       "      <td>0.386876</td>\n",
       "    </tr>\n",
       "  </tbody>\n",
       "</table>\n",
       "</div>"
      ],
      "text/plain": [
       "           Importance\n",
       "AtBat        4.170694\n",
       "Hits         5.191959\n",
       "HmRun        1.408543\n",
       "Runs         6.033828\n",
       "RBI         11.500127\n",
       "Walks        6.888873\n",
       "Years        1.346956\n",
       "CAtBat       6.920121\n",
       "CHits       11.350808\n",
       "CHmRun       5.977771\n",
       "CRuns        8.623195\n",
       "CRBI        12.929066\n",
       "CWalks       5.691761\n",
       "League       0.331293\n",
       "Division     0.375125\n",
       "PutOuts      7.454813\n",
       "Assists      2.344997\n",
       "Errors       1.073194\n",
       "NewLeague    0.386876"
      ]
     },
     "execution_count": 19,
     "metadata": {},
     "output_type": "execute_result"
    }
   ],
   "source": [
    "rel_imp = pd.DataFrame({'Importance':importance},index=X.columns)\n",
    "rel_imp"
   ]
  },
  {
   "cell_type": "code",
   "execution_count": 20,
   "metadata": {},
   "outputs": [
    {
     "data": {
      "image/png": "[encoded data removed]",
      "text/plain": [
       "<Figure size 864x432 with 1 Axes>"
      ]
     },
     "metadata": {
      "needs_background": "light"
     },
     "output_type": "display_data"
    }
   ],
   "source": [
    "rel_imp.sort_values(by = 'Importance',axis = 0, ascending= True)\\\n",
    "                   .plot(kind = 'barh',color = 'm',figsize=(12,6))\n",
    "plt.xlabel('Variable Importance')\n",
    "plt.gca().legend_ = None\n",
    "plt.grid()"
   ]
  },
  {
   "cell_type": "markdown",
   "metadata": {},
   "source": [
    "**Answer:**<br>\n",
    "Using the Random Forest with 100 bagged tress and max_features = 10:<br>\n",
    "The test MSE is 90143.65.<br>\n",
    "The top 6 most important predictors are CRBI, CHits, CRuns, Walks, CAtBat, AtBat."
   ]
  },
  {
   "cell_type": "markdown",
   "metadata": {},
   "source": [
    "#### Question 1 b)\n",
    "Fit a Gradient boosting model with 100 trees and learning rate 0.10 and max_depth = 4. Report the test MSE. Which predictors are most important?"
   ]
  },
  {
   "cell_type": "code",
   "execution_count": 21,
   "metadata": {},
   "outputs": [
    {
     "data": {
      "text/plain": [
       "GradientBoostingRegressor(alpha=0.9, criterion='friedman_mse', init=None,\n",
       "                          learning_rate=0.1, loss='ls', max_depth=4,\n",
       "                          max_features=None, max_leaf_nodes=None,\n",
       "                          min_impurity_decrease=0.0, min_impurity_split=None,\n",
       "                          min_samples_leaf=1, min_samples_split=2,\n",
       "                          min_weight_fraction_leaf=0.0, n_estimators=100,\n",
       "                          n_iter_no_change=None, presort='auto', random_state=1,\n",
       "                          subsample=1.0, tol=0.0001, validation_fraction=0.1,\n",
       "                          verbose=0, warm_start=False)"
      ]
     },
     "execution_count": 21,
     "metadata": {},
     "output_type": "execute_result"
    }
   ],
   "source": [
    "#Fit the Gradient boosting model with 100 trees, learning rate 0.10 and max_depth =4\n",
    "boosted_hitters = GradientBoostingRegressor(n_estimators=100, learning_rate = 0.1\\\n",
    "                                            , max_depth = 4, random_state=1)\n",
    "boosted_hitters.fit(X_train,y_train)"
   ]
  },
  {
   "cell_type": "code",
   "execution_count": 22,
   "metadata": {},
   "outputs": [],
   "source": [
    "pred_boost = boosted_hitters.predict(X_test)"
   ]
  },
  {
   "cell_type": "code",
   "execution_count": 23,
   "metadata": {},
   "outputs": [
    {
     "data": {
      "text/plain": [
       "92293.03"
      ]
     },
     "execution_count": 23,
     "metadata": {},
     "output_type": "execute_result"
    }
   ],
   "source": [
    "#get the test MSE for gradient boosting model:\n",
    "round(mean_squared_error(y_test,pred_boost),2)"
   ]
  },
  {
   "cell_type": "code",
   "execution_count": 21,
   "metadata": {},
   "outputs": [],
   "source": [
    "#get an predictor importance ranking scores for the gradient boosting model\n",
    "importance = boosted_hitters.feature_importances_*100"
   ]
  },
  {
   "cell_type": "code",
   "execution_count": 24,
   "metadata": {},
   "outputs": [
    {
     "data": {
      "text/html": [
       "<div>\n",
       "<style scoped>\n",
       "    .dataframe tbody tr th:only-of-type {\n",
       "        vertical-align: middle;\n",
       "    }\n",
       "\n",
       "    .dataframe tbody tr th {\n",
       "        vertical-align: top;\n",
       "    }\n",
       "\n",
       "    .dataframe thead th {\n",
       "        text-align: right;\n",
       "    }\n",
       "</style>\n",
       "<table border=\"1\" class=\"dataframe\">\n",
       "  <thead>\n",
       "    <tr style=\"text-align: right;\">\n",
       "      <th></th>\n",
       "      <th>Importance</th>\n",
       "    </tr>\n",
       "  </thead>\n",
       "  <tbody>\n",
       "    <tr>\n",
       "      <th>AtBat</th>\n",
       "      <td>4.170694</td>\n",
       "    </tr>\n",
       "    <tr>\n",
       "      <th>Hits</th>\n",
       "      <td>5.191959</td>\n",
       "    </tr>\n",
       "    <tr>\n",
       "      <th>HmRun</th>\n",
       "      <td>1.408543</td>\n",
       "    </tr>\n",
       "    <tr>\n",
       "      <th>Runs</th>\n",
       "      <td>6.033828</td>\n",
       "    </tr>\n",
       "    <tr>\n",
       "      <th>RBI</th>\n",
       "      <td>11.500127</td>\n",
       "    </tr>\n",
       "    <tr>\n",
       "      <th>Walks</th>\n",
       "      <td>6.888873</td>\n",
       "    </tr>\n",
       "    <tr>\n",
       "      <th>Years</th>\n",
       "      <td>1.346956</td>\n",
       "    </tr>\n",
       "    <tr>\n",
       "      <th>CAtBat</th>\n",
       "      <td>6.920121</td>\n",
       "    </tr>\n",
       "    <tr>\n",
       "      <th>CHits</th>\n",
       "      <td>11.350808</td>\n",
       "    </tr>\n",
       "    <tr>\n",
       "      <th>CHmRun</th>\n",
       "      <td>5.977771</td>\n",
       "    </tr>\n",
       "    <tr>\n",
       "      <th>CRuns</th>\n",
       "      <td>8.623195</td>\n",
       "    </tr>\n",
       "    <tr>\n",
       "      <th>CRBI</th>\n",
       "      <td>12.929066</td>\n",
       "    </tr>\n",
       "    <tr>\n",
       "      <th>CWalks</th>\n",
       "      <td>5.691761</td>\n",
       "    </tr>\n",
       "    <tr>\n",
       "      <th>League</th>\n",
       "      <td>0.331293</td>\n",
       "    </tr>\n",
       "    <tr>\n",
       "      <th>Division</th>\n",
       "      <td>0.375125</td>\n",
       "    </tr>\n",
       "    <tr>\n",
       "      <th>PutOuts</th>\n",
       "      <td>7.454813</td>\n",
       "    </tr>\n",
       "    <tr>\n",
       "      <th>Assists</th>\n",
       "      <td>2.344997</td>\n",
       "    </tr>\n",
       "    <tr>\n",
       "      <th>Errors</th>\n",
       "      <td>1.073194</td>\n",
       "    </tr>\n",
       "    <tr>\n",
       "      <th>NewLeague</th>\n",
       "      <td>0.386876</td>\n",
       "    </tr>\n",
       "  </tbody>\n",
       "</table>\n",
       "</div>"
      ],
      "text/plain": [
       "           Importance\n",
       "AtBat        4.170694\n",
       "Hits         5.191959\n",
       "HmRun        1.408543\n",
       "Runs         6.033828\n",
       "RBI         11.500127\n",
       "Walks        6.888873\n",
       "Years        1.346956\n",
       "CAtBat       6.920121\n",
       "CHits       11.350808\n",
       "CHmRun       5.977771\n",
       "CRuns        8.623195\n",
       "CRBI        12.929066\n",
       "CWalks       5.691761\n",
       "League       0.331293\n",
       "Division     0.375125\n",
       "PutOuts      7.454813\n",
       "Assists      2.344997\n",
       "Errors       1.073194\n",
       "NewLeague    0.386876"
      ]
     },
     "execution_count": 24,
     "metadata": {},
     "output_type": "execute_result"
    }
   ],
   "source": [
    "rel_imp = pd.DataFrame({'Importance':importance},index=X.columns)\n",
    "rel_imp"
   ]
  },
  {
   "cell_type": "code",
   "execution_count": 23,
   "metadata": {},
   "outputs": [
    {
     "data": {
      "image/png": "[encoded data removed]",
      "text/plain": [
       "<Figure size 864x432 with 1 Axes>"
      ]
     },
     "metadata": {
      "needs_background": "light"
     },
     "output_type": "display_data"
    }
   ],
   "source": [
    "rel_imp.sort_values(by = 'Importance',axis = 0, ascending= True)\\\n",
    "                   .plot(kind = 'barh',color = 'c',figsize=(12,6))\n",
    "plt.xlabel('Variable Importance')\n",
    "plt.gca().legend_ = None\n",
    "plt.grid()"
   ]
  },
  {
   "cell_type": "markdown",
   "metadata": {},
   "source": [
    "**Answer:**<br>\n",
    "Using the gradient boosting model:<br>\n",
    "The test MSE is: 96344.90.<br>\n",
    "The 3 most important predictors are using gradient boosting are: CRBI, Walks, and CAtBat."
   ]
  },
  {
   "cell_type": "markdown",
   "metadata": {},
   "source": [
    "#### Question 1 c)\n",
    "Fit a multiple linear regression with the most important predictors found by the Random Forest Find the test MSE."
   ]
  },
  {
   "cell_type": "markdown",
   "metadata": {},
   "source": [
    "Using the result of the random forest model from part (a), we fit a multiple linear regression with the 6 most important predictors found from that model which are: CRBI, CHits, CRuns, Walks, CAtBat, AtBat."
   ]
  },
  {
   "cell_type": "code",
   "execution_count": 25,
   "metadata": {},
   "outputs": [],
   "source": [
    "#extract the top 6 features from the Train set\n",
    "X_imp = X_train[['CRBI', 'CHits', 'CRuns', 'Walks', 'CAtBat', 'AtBat']]"
   ]
  },
  {
   "cell_type": "code",
   "execution_count": 26,
   "metadata": {},
   "outputs": [
    {
     "data": {
      "text/html": [
       "<div>\n",
       "<style scoped>\n",
       "    .dataframe tbody tr th:only-of-type {\n",
       "        vertical-align: middle;\n",
       "    }\n",
       "\n",
       "    .dataframe tbody tr th {\n",
       "        vertical-align: top;\n",
       "    }\n",
       "\n",
       "    .dataframe thead th {\n",
       "        text-align: right;\n",
       "    }\n",
       "</style>\n",
       "<table border=\"1\" class=\"dataframe\">\n",
       "  <thead>\n",
       "    <tr style=\"text-align: right;\">\n",
       "      <th></th>\n",
       "      <th>CRBI</th>\n",
       "      <th>CHits</th>\n",
       "      <th>CRuns</th>\n",
       "      <th>Walks</th>\n",
       "      <th>CAtBat</th>\n",
       "      <th>AtBat</th>\n",
       "    </tr>\n",
       "  </thead>\n",
       "  <tbody>\n",
       "    <tr>\n",
       "      <th>299</th>\n",
       "      <td>491.0</td>\n",
       "      <td>1145.0</td>\n",
       "      <td>488.0</td>\n",
       "      <td>3.0</td>\n",
       "      <td>4061.0</td>\n",
       "      <td>213.0</td>\n",
       "    </tr>\n",
       "    <tr>\n",
       "      <th>124</th>\n",
       "      <td>519.0</td>\n",
       "      <td>1578.0</td>\n",
       "      <td>703.0</td>\n",
       "      <td>35.0</td>\n",
       "      <td>5562.0</td>\n",
       "      <td>510.0</td>\n",
       "    </tr>\n",
       "    <tr>\n",
       "      <th>290</th>\n",
       "      <td>230.0</td>\n",
       "      <td>770.0</td>\n",
       "      <td>352.0</td>\n",
       "      <td>52.0</td>\n",
       "      <td>2364.0</td>\n",
       "      <td>642.0</td>\n",
       "    </tr>\n",
       "  </tbody>\n",
       "</table>\n",
       "</div>"
      ],
      "text/plain": [
       "      CRBI   CHits  CRuns  Walks  CAtBat  AtBat\n",
       "299  491.0  1145.0  488.0    3.0  4061.0  213.0\n",
       "124  519.0  1578.0  703.0   35.0  5562.0  510.0\n",
       "290  230.0   770.0  352.0   52.0  2364.0  642.0"
      ]
     },
     "execution_count": 26,
     "metadata": {},
     "output_type": "execute_result"
    }
   ],
   "source": [
    "X_imp[:3]"
   ]
  },
  {
   "cell_type": "code",
   "execution_count": 27,
   "metadata": {},
   "outputs": [
    {
     "data": {
      "text/plain": [
       "(131, 6)"
      ]
     },
     "execution_count": 27,
     "metadata": {},
     "output_type": "execute_result"
    }
   ],
   "source": [
    "#dimensions check & prep for statsmodels regression fit\n",
    "X_imp.shape"
   ]
  },
  {
   "cell_type": "code",
   "execution_count": 28,
   "metadata": {},
   "outputs": [],
   "source": [
    "X0 = X_imp.to_numpy()"
   ]
  },
  {
   "cell_type": "code",
   "execution_count": 29,
   "metadata": {},
   "outputs": [],
   "source": [
    "X1 = sm.add_constant(X0)"
   ]
  },
  {
   "cell_type": "code",
   "execution_count": 30,
   "metadata": {},
   "outputs": [],
   "source": [
    "#fit the multiple linear regression model\n",
    "m1 = sm.OLS(y_train,X1).fit()"
   ]
  },
  {
   "cell_type": "code",
   "execution_count": 31,
   "metadata": {},
   "outputs": [
    {
     "data": {
      "text/html": [
       "<table class=\"simpletable\">\n",
       "<caption>OLS Regression Results</caption>\n",
       "<tr>\n",
       "  <th>Dep. Variable:</th>         <td>Salary</td>      <th>  R-squared:         </th> <td>   0.509</td>\n",
       "</tr>\n",
       "<tr>\n",
       "  <th>Model:</th>                   <td>OLS</td>       <th>  Adj. R-squared:    </th> <td>   0.486</td>\n",
       "</tr>\n",
       "<tr>\n",
       "  <th>Method:</th>             <td>Least Squares</td>  <th>  F-statistic:       </th> <td>   21.47</td>\n",
       "</tr>\n",
       "<tr>\n",
       "  <th>Date:</th>             <td>Thu, 07 Nov 2019</td> <th>  Prob (F-statistic):</th> <td>3.57e-17</td>\n",
       "</tr>\n",
       "<tr>\n",
       "  <th>Time:</th>                 <td>11:26:54</td>     <th>  Log-Likelihood:    </th> <td> -948.69</td>\n",
       "</tr>\n",
       "<tr>\n",
       "  <th>No. Observations:</th>      <td>   131</td>      <th>  AIC:               </th> <td>   1911.</td>\n",
       "</tr>\n",
       "<tr>\n",
       "  <th>Df Residuals:</th>          <td>   124</td>      <th>  BIC:               </th> <td>   1931.</td>\n",
       "</tr>\n",
       "<tr>\n",
       "  <th>Df Model:</th>              <td>     6</td>      <th>                     </th>     <td> </td>   \n",
       "</tr>\n",
       "<tr>\n",
       "  <th>Covariance Type:</th>      <td>nonrobust</td>    <th>                     </th>     <td> </td>   \n",
       "</tr>\n",
       "</table>\n",
       "<table class=\"simpletable\">\n",
       "<tr>\n",
       "    <td></td>       <th>coef</th>     <th>std err</th>      <th>t</th>      <th>P>|t|</th>  <th>[0.025</th>    <th>0.975]</th>  \n",
       "</tr>\n",
       "<tr>\n",
       "  <th>const</th> <td>  160.4915</td> <td>   99.043</td> <td>    1.620</td> <td> 0.108</td> <td>  -35.542</td> <td>  356.525</td>\n",
       "</tr>\n",
       "<tr>\n",
       "  <th>x1</th>    <td>    0.6863</td> <td>    0.383</td> <td>    1.791</td> <td> 0.076</td> <td>   -0.072</td> <td>    1.445</td>\n",
       "</tr>\n",
       "<tr>\n",
       "  <th>x2</th>    <td>    2.1682</td> <td>    0.545</td> <td>    3.977</td> <td> 0.000</td> <td>    1.089</td> <td>    3.247</td>\n",
       "</tr>\n",
       "<tr>\n",
       "  <th>x3</th>    <td>    0.5616</td> <td>    0.658</td> <td>    0.854</td> <td> 0.395</td> <td>   -0.740</td> <td>    1.863</td>\n",
       "</tr>\n",
       "<tr>\n",
       "  <th>x4</th>    <td>    4.6395</td> <td>    1.932</td> <td>    2.401</td> <td> 0.018</td> <td>    0.815</td> <td>    8.464</td>\n",
       "</tr>\n",
       "<tr>\n",
       "  <th>x5</th>    <td>   -0.6984</td> <td>    0.154</td> <td>   -4.527</td> <td> 0.000</td> <td>   -1.004</td> <td>   -0.393</td>\n",
       "</tr>\n",
       "<tr>\n",
       "  <th>x6</th>    <td>    0.0881</td> <td>    0.289</td> <td>    0.305</td> <td> 0.761</td> <td>   -0.484</td> <td>    0.660</td>\n",
       "</tr>\n",
       "</table>\n",
       "<table class=\"simpletable\">\n",
       "<tr>\n",
       "  <th>Omnibus:</th>       <td>73.977</td> <th>  Durbin-Watson:     </th> <td>   1.688</td> \n",
       "</tr>\n",
       "<tr>\n",
       "  <th>Prob(Omnibus):</th> <td> 0.000</td> <th>  Jarque-Bera (JB):  </th> <td> 471.154</td> \n",
       "</tr>\n",
       "<tr>\n",
       "  <th>Skew:</th>          <td> 1.860</td> <th>  Prob(JB):          </th> <td>4.90e-103</td>\n",
       "</tr>\n",
       "<tr>\n",
       "  <th>Kurtosis:</th>      <td>11.514</td> <th>  Cond. No.          </th> <td>1.21e+04</td> \n",
       "</tr>\n",
       "</table><br/><br/>Warnings:<br/>[1] Standard Errors assume that the covariance matrix of the errors is correctly specified.<br/>[2] The condition number is large, 1.21e+04. This might indicate that there are<br/>strong multicollinearity or other numerical problems."
      ],
      "text/plain": [
       "<class 'statsmodels.iolib.summary.Summary'>\n",
       "\"\"\"\n",
       "                            OLS Regression Results                            \n",
       "==============================================================================\n",
       "Dep. Variable:                 Salary   R-squared:                       0.509\n",
       "Model:                            OLS   Adj. R-squared:                  0.486\n",
       "Method:                 Least Squares   F-statistic:                     21.47\n",
       "Date:                Thu, 07 Nov 2019   Prob (F-statistic):           3.57e-17\n",
       "Time:                        11:26:54   Log-Likelihood:                -948.69\n",
       "No. Observations:                 131   AIC:                             1911.\n",
       "Df Residuals:                     124   BIC:                             1931.\n",
       "Df Model:                           6                                         \n",
       "Covariance Type:            nonrobust                                         \n",
       "==============================================================================\n",
       "                 coef    std err          t      P>|t|      [0.025      0.975]\n",
       "------------------------------------------------------------------------------\n",
       "const        160.4915     99.043      1.620      0.108     -35.542     356.525\n",
       "x1             0.6863      0.383      1.791      0.076      -0.072       1.445\n",
       "x2             2.1682      0.545      3.977      0.000       1.089       3.247\n",
       "x3             0.5616      0.658      0.854      0.395      -0.740       1.863\n",
       "x4             4.6395      1.932      2.401      0.018       0.815       8.464\n",
       "x5            -0.6984      0.154     -4.527      0.000      -1.004      -0.393\n",
       "x6             0.0881      0.289      0.305      0.761      -0.484       0.660\n",
       "==============================================================================\n",
       "Omnibus:                       73.977   Durbin-Watson:                   1.688\n",
       "Prob(Omnibus):                  0.000   Jarque-Bera (JB):              471.154\n",
       "Skew:                           1.860   Prob(JB):                    4.90e-103\n",
       "Kurtosis:                      11.514   Cond. No.                     1.21e+04\n",
       "==============================================================================\n",
       "\n",
       "Warnings:\n",
       "[1] Standard Errors assume that the covariance matrix of the errors is correctly specified.\n",
       "[2] The condition number is large, 1.21e+04. This might indicate that there are\n",
       "strong multicollinearity or other numerical problems.\n",
       "\"\"\""
      ]
     },
     "execution_count": 31,
     "metadata": {},
     "output_type": "execute_result"
    }
   ],
   "source": [
    "#get model results\n",
    "m1.summary()"
   ]
  },
  {
   "cell_type": "code",
   "execution_count": 31,
   "metadata": {},
   "outputs": [],
   "source": [
    "X_imp_test = X_test[['CRBI', 'CHits', 'CRuns', 'Walks', 'CAtBat', 'AtBat']]"
   ]
  },
  {
   "cell_type": "code",
   "execution_count": 32,
   "metadata": {},
   "outputs": [],
   "source": [
    "#Get the MSE for the MLR\n",
    "X0_pred = X_imp_test.to_numpy()\n",
    "X1_pred = sm.add_constant(X0_pred)"
   ]
  },
  {
   "cell_type": "code",
   "execution_count": 33,
   "metadata": {},
   "outputs": [
    {
     "data": {
      "text/plain": [
       "130713.24"
      ]
     },
     "execution_count": 33,
     "metadata": {},
     "output_type": "execute_result"
    }
   ],
   "source": [
    "round(mean_squared_error(y_test, m1.predict(X1_pred)),2)"
   ]
  },
  {
   "cell_type": "markdown",
   "metadata": {},
   "source": [
    "**Answer**:<br>\n",
    "Using the top 6 features from the Random Forest model found in part (a), the test MSE for this Multiple Linear Regression is 130713.24.<br> The regression's $R^2$ = 0.461."
   ]
  },
  {
   "cell_type": "markdown",
   "metadata": {},
   "source": [
    "### Question 2 (20 pts.)\n",
    "The file bodyfat.csv is used to study the relation of body fat $Y$ and three predictors,\n",
    "triceps skinfold thickness $X_{1}$, thigh circumference $X_{2}$, and midarm circumference $X_{3}$."
   ]
  },
  {
   "cell_type": "code",
   "execution_count": 32,
   "metadata": {},
   "outputs": [],
   "source": [
    "#Read in the dataset as a pandas dataframe\n",
    "df_bodyfat = pd.read_csv('bodyfat.csv')"
   ]
  },
  {
   "cell_type": "code",
   "execution_count": 33,
   "metadata": {},
   "outputs": [
    {
     "data": {
      "text/html": [
       "<div>\n",
       "<style scoped>\n",
       "    .dataframe tbody tr th:only-of-type {\n",
       "        vertical-align: middle;\n",
       "    }\n",
       "\n",
       "    .dataframe tbody tr th {\n",
       "        vertical-align: top;\n",
       "    }\n",
       "\n",
       "    .dataframe thead th {\n",
       "        text-align: right;\n",
       "    }\n",
       "</style>\n",
       "<table border=\"1\" class=\"dataframe\">\n",
       "  <thead>\n",
       "    <tr style=\"text-align: right;\">\n",
       "      <th></th>\n",
       "      <th>skinfold</th>\n",
       "      <th>thigh</th>\n",
       "      <th>midarm</th>\n",
       "      <th>bodyfat</th>\n",
       "    </tr>\n",
       "  </thead>\n",
       "  <tbody>\n",
       "    <tr>\n",
       "      <th>0</th>\n",
       "      <td>19.5</td>\n",
       "      <td>43.1</td>\n",
       "      <td>29.1</td>\n",
       "      <td>11.9</td>\n",
       "    </tr>\n",
       "    <tr>\n",
       "      <th>1</th>\n",
       "      <td>24.7</td>\n",
       "      <td>49.8</td>\n",
       "      <td>28.2</td>\n",
       "      <td>22.8</td>\n",
       "    </tr>\n",
       "    <tr>\n",
       "      <th>2</th>\n",
       "      <td>30.7</td>\n",
       "      <td>51.9</td>\n",
       "      <td>37.0</td>\n",
       "      <td>18.7</td>\n",
       "    </tr>\n",
       "    <tr>\n",
       "      <th>3</th>\n",
       "      <td>29.8</td>\n",
       "      <td>54.3</td>\n",
       "      <td>31.1</td>\n",
       "      <td>20.1</td>\n",
       "    </tr>\n",
       "    <tr>\n",
       "      <th>4</th>\n",
       "      <td>19.1</td>\n",
       "      <td>42.2</td>\n",
       "      <td>30.9</td>\n",
       "      <td>12.9</td>\n",
       "    </tr>\n",
       "  </tbody>\n",
       "</table>\n",
       "</div>"
      ],
      "text/plain": [
       "   skinfold  thigh  midarm  bodyfat\n",
       "0      19.5   43.1    29.1     11.9\n",
       "1      24.7   49.8    28.2     22.8\n",
       "2      30.7   51.9    37.0     18.7\n",
       "3      29.8   54.3    31.1     20.1\n",
       "4      19.1   42.2    30.9     12.9"
      ]
     },
     "execution_count": 33,
     "metadata": {},
     "output_type": "execute_result"
    }
   ],
   "source": [
    "df_bodyfat[:5]"
   ]
  },
  {
   "cell_type": "markdown",
   "metadata": {},
   "source": [
    "#### Question 2 a)\n",
    "Find the correlation matrix $r_{XX}$ for the predictors. Which predictors show low correlation? Fit a linear regression of midarm circumference as a function of the other two predictors. Report the $R^{2}$. Is midarm circumference linearly related to the other predictors?"
   ]
  },
  {
   "cell_type": "code",
   "execution_count": 34,
   "metadata": {},
   "outputs": [
    {
     "data": {
      "text/html": [
       "<div>\n",
       "<style scoped>\n",
       "    .dataframe tbody tr th:only-of-type {\n",
       "        vertical-align: middle;\n",
       "    }\n",
       "\n",
       "    .dataframe tbody tr th {\n",
       "        vertical-align: top;\n",
       "    }\n",
       "\n",
       "    .dataframe thead th {\n",
       "        text-align: right;\n",
       "    }\n",
       "</style>\n",
       "<table border=\"1\" class=\"dataframe\">\n",
       "  <thead>\n",
       "    <tr style=\"text-align: right;\">\n",
       "      <th></th>\n",
       "      <th>skinfold</th>\n",
       "      <th>thigh</th>\n",
       "      <th>midarm</th>\n",
       "      <th>bodyfat</th>\n",
       "    </tr>\n",
       "  </thead>\n",
       "  <tbody>\n",
       "    <tr>\n",
       "      <th>skinfold</th>\n",
       "      <td>1.0000</td>\n",
       "      <td>0.9238</td>\n",
       "      <td>0.4578</td>\n",
       "      <td>0.8433</td>\n",
       "    </tr>\n",
       "    <tr>\n",
       "      <th>thigh</th>\n",
       "      <td>0.9238</td>\n",
       "      <td>1.0000</td>\n",
       "      <td>0.0847</td>\n",
       "      <td>0.8781</td>\n",
       "    </tr>\n",
       "    <tr>\n",
       "      <th>midarm</th>\n",
       "      <td>0.4578</td>\n",
       "      <td>0.0847</td>\n",
       "      <td>1.0000</td>\n",
       "      <td>0.1424</td>\n",
       "    </tr>\n",
       "    <tr>\n",
       "      <th>bodyfat</th>\n",
       "      <td>0.8433</td>\n",
       "      <td>0.8781</td>\n",
       "      <td>0.1424</td>\n",
       "      <td>1.0000</td>\n",
       "    </tr>\n",
       "  </tbody>\n",
       "</table>\n",
       "</div>"
      ],
      "text/plain": [
       "          skinfold   thigh  midarm  bodyfat\n",
       "skinfold    1.0000  0.9238  0.4578   0.8433\n",
       "thigh       0.9238  1.0000  0.0847   0.8781\n",
       "midarm      0.4578  0.0847  1.0000   0.1424\n",
       "bodyfat     0.8433  0.8781  0.1424   1.0000"
      ]
     },
     "execution_count": 34,
     "metadata": {},
     "output_type": "execute_result"
    }
   ],
   "source": [
    "# the correlation matrix of the predictors is:\n",
    "round(df_bodyfat.corr(),4)"
   ]
  },
  {
   "cell_type": "markdown",
   "metadata": {},
   "source": [
    "**Answer:**<br>\n",
    "From the correlation matrix above, the predictor variables which show low pairwise correlation are (midarm,skinfold:0.45), (midarm,thigh:0.08). There is also a low correlation between predictor midarm and target variable bodyfat at 0.14."
   ]
  },
  {
   "cell_type": "code",
   "execution_count": 35,
   "metadata": {},
   "outputs": [],
   "source": [
    "#Fit a multiple linear regression of midarm circumference \n",
    "#as a function of the other two predictors\n",
    "#In other words, the desired fitted equation is: midarm_hat = B1_skinfold + B2_thigh\n",
    "#So we first select out the target variable column\n",
    "y0 = df_bodyfat.midarm"
   ]
  },
  {
   "cell_type": "code",
   "execution_count": 36,
   "metadata": {},
   "outputs": [],
   "source": [
    "#select out the other two predictors\n",
    "x0 = df_bodyfat[['skinfold','thigh']]"
   ]
  },
  {
   "cell_type": "code",
   "execution_count": 37,
   "metadata": {},
   "outputs": [],
   "source": [
    "#preprocess the data for statsmodels regression\n",
    "x = x0.to_numpy()"
   ]
  },
  {
   "cell_type": "code",
   "execution_count": 38,
   "metadata": {},
   "outputs": [],
   "source": [
    "x1 = sm.add_constant(x)"
   ]
  },
  {
   "cell_type": "code",
   "execution_count": 39,
   "metadata": {},
   "outputs": [],
   "source": [
    "m2 = sm.OLS(y0,x1).fit()"
   ]
  },
  {
   "cell_type": "code",
   "execution_count": 40,
   "metadata": {},
   "outputs": [
    {
     "data": {
      "text/html": [
       "<table class=\"simpletable\">\n",
       "<caption>OLS Regression Results</caption>\n",
       "<tr>\n",
       "  <th>Dep. Variable:</th>         <td>midarm</td>      <th>  R-squared:         </th> <td>   0.990</td>\n",
       "</tr>\n",
       "<tr>\n",
       "  <th>Model:</th>                   <td>OLS</td>       <th>  Adj. R-squared:    </th> <td>   0.989</td>\n",
       "</tr>\n",
       "<tr>\n",
       "  <th>Method:</th>             <td>Least Squares</td>  <th>  F-statistic:       </th> <td>   880.7</td>\n",
       "</tr>\n",
       "<tr>\n",
       "  <th>Date:</th>             <td>Thu, 07 Nov 2019</td> <th>  Prob (F-statistic):</th> <td>6.82e-18</td>\n",
       "</tr>\n",
       "<tr>\n",
       "  <th>Time:</th>                 <td>11:27:27</td>     <th>  Log-Likelihood:    </th> <td> -7.2427</td>\n",
       "</tr>\n",
       "<tr>\n",
       "  <th>No. Observations:</th>      <td>    20</td>      <th>  AIC:               </th> <td>   20.49</td>\n",
       "</tr>\n",
       "<tr>\n",
       "  <th>Df Residuals:</th>          <td>    17</td>      <th>  BIC:               </th> <td>   23.47</td>\n",
       "</tr>\n",
       "<tr>\n",
       "  <th>Df Model:</th>              <td>     2</td>      <th>                     </th>     <td> </td>   \n",
       "</tr>\n",
       "<tr>\n",
       "  <th>Covariance Type:</th>      <td>nonrobust</td>    <th>                     </th>     <td> </td>   \n",
       "</tr>\n",
       "</table>\n",
       "<table class=\"simpletable\">\n",
       "<tr>\n",
       "    <td></td>       <th>coef</th>     <th>std err</th>      <th>t</th>      <th>P>|t|</th>  <th>[0.025</th>    <th>0.975]</th>  \n",
       "</tr>\n",
       "<tr>\n",
       "  <th>const</th> <td>   62.3308</td> <td>    1.239</td> <td>   50.293</td> <td> 0.000</td> <td>   59.716</td> <td>   64.946</td>\n",
       "</tr>\n",
       "<tr>\n",
       "  <th>x1</th>    <td>    1.8809</td> <td>    0.045</td> <td>   41.816</td> <td> 0.000</td> <td>    1.786</td> <td>    1.976</td>\n",
       "</tr>\n",
       "<tr>\n",
       "  <th>x2</th>    <td>   -1.6085</td> <td>    0.043</td> <td>  -37.264</td> <td> 0.000</td> <td>   -1.700</td> <td>   -1.517</td>\n",
       "</tr>\n",
       "</table>\n",
       "<table class=\"simpletable\">\n",
       "<tr>\n",
       "  <th>Omnibus:</th>       <td> 3.956</td> <th>  Durbin-Watson:     </th> <td>   1.690</td>\n",
       "</tr>\n",
       "<tr>\n",
       "  <th>Prob(Omnibus):</th> <td> 0.138</td> <th>  Jarque-Bera (JB):  </th> <td>   1.402</td>\n",
       "</tr>\n",
       "<tr>\n",
       "  <th>Skew:</th>          <td>-0.076</td> <th>  Prob(JB):          </th> <td>   0.496</td>\n",
       "</tr>\n",
       "<tr>\n",
       "  <th>Kurtosis:</th>      <td> 1.712</td> <th>  Cond. No.          </th> <td>    846.</td>\n",
       "</tr>\n",
       "</table><br/><br/>Warnings:<br/>[1] Standard Errors assume that the covariance matrix of the errors is correctly specified."
      ],
      "text/plain": [
       "<class 'statsmodels.iolib.summary.Summary'>\n",
       "\"\"\"\n",
       "                            OLS Regression Results                            \n",
       "==============================================================================\n",
       "Dep. Variable:                 midarm   R-squared:                       0.990\n",
       "Model:                            OLS   Adj. R-squared:                  0.989\n",
       "Method:                 Least Squares   F-statistic:                     880.7\n",
       "Date:                Thu, 07 Nov 2019   Prob (F-statistic):           6.82e-18\n",
       "Time:                        11:27:27   Log-Likelihood:                -7.2427\n",
       "No. Observations:                  20   AIC:                             20.49\n",
       "Df Residuals:                      17   BIC:                             23.47\n",
       "Df Model:                           2                                         \n",
       "Covariance Type:            nonrobust                                         \n",
       "==============================================================================\n",
       "                 coef    std err          t      P>|t|      [0.025      0.975]\n",
       "------------------------------------------------------------------------------\n",
       "const         62.3308      1.239     50.293      0.000      59.716      64.946\n",
       "x1             1.8809      0.045     41.816      0.000       1.786       1.976\n",
       "x2            -1.6085      0.043    -37.264      0.000      -1.700      -1.517\n",
       "==============================================================================\n",
       "Omnibus:                        3.956   Durbin-Watson:                   1.690\n",
       "Prob(Omnibus):                  0.138   Jarque-Bera (JB):                1.402\n",
       "Skew:                          -0.076   Prob(JB):                        0.496\n",
       "Kurtosis:                       1.712   Cond. No.                         846.\n",
       "==============================================================================\n",
       "\n",
       "Warnings:\n",
       "[1] Standard Errors assume that the covariance matrix of the errors is correctly specified.\n",
       "\"\"\""
      ]
     },
     "execution_count": 40,
     "metadata": {},
     "output_type": "execute_result"
    }
   ],
   "source": [
    "m2.summary()"
   ]
  },
  {
   "cell_type": "markdown",
   "metadata": {},
   "source": [
    "**Answer:**<br>\n",
    "The fitted equation is: $midarm = 62.33+ 1.88  skinfold - 1.61  thigh$. The model's $R^{2} = 0.990$ which indicates that, yes, *midarm circumference is linearly related to the other predictors.* This is despite the fact that midarm circumference shows low pairwise correlation to each of the other two predictors individually. This ostensible contradiction may be an indication of an omitted variable bias effect (i.e. the presence of a confounding variable)."
   ]
  },
  {
   "cell_type": "markdown",
   "metadata": {},
   "source": [
    "#### Question 2 b)\n",
    "The VIF values for a linear regression model are the diagonal elements of $r_{XX}^{-1}$.<br>For a ridge regression model the VIF values are the diagonal elements of<br><br>\n",
    "$(r_{XX} + \\alpha I)^{−1} r_{XX} (r_{XX} + \\alpha I)^{−1}$.<br><br>\n",
    "For each predictor plot the VIF values as a function of $\\alpha$ where $\\alpha \\in (0,1)$\n",
    "with increments equal to 0.01 (all curves on the same plot, different color). Plot should include a legend."
   ]
  },
  {
   "cell_type": "code",
   "execution_count": 41,
   "metadata": {},
   "outputs": [
    {
     "data": {
      "text/html": [
       "<div>\n",
       "<style scoped>\n",
       "    .dataframe tbody tr th:only-of-type {\n",
       "        vertical-align: middle;\n",
       "    }\n",
       "\n",
       "    .dataframe tbody tr th {\n",
       "        vertical-align: top;\n",
       "    }\n",
       "\n",
       "    .dataframe thead th {\n",
       "        text-align: right;\n",
       "    }\n",
       "</style>\n",
       "<table border=\"1\" class=\"dataframe\">\n",
       "  <thead>\n",
       "    <tr style=\"text-align: right;\">\n",
       "      <th></th>\n",
       "      <th>skinfold</th>\n",
       "      <th>thigh</th>\n",
       "      <th>midarm</th>\n",
       "    </tr>\n",
       "  </thead>\n",
       "  <tbody>\n",
       "    <tr>\n",
       "      <th>skinfold</th>\n",
       "      <td>1.000000</td>\n",
       "      <td>0.923843</td>\n",
       "      <td>0.457777</td>\n",
       "    </tr>\n",
       "    <tr>\n",
       "      <th>thigh</th>\n",
       "      <td>0.923843</td>\n",
       "      <td>1.000000</td>\n",
       "      <td>0.084667</td>\n",
       "    </tr>\n",
       "    <tr>\n",
       "      <th>midarm</th>\n",
       "      <td>0.457777</td>\n",
       "      <td>0.084667</td>\n",
       "      <td>1.000000</td>\n",
       "    </tr>\n",
       "  </tbody>\n",
       "</table>\n",
       "</div>"
      ],
      "text/plain": [
       "          skinfold     thigh    midarm\n",
       "skinfold  1.000000  0.923843  0.457777\n",
       "thigh     0.923843  1.000000  0.084667\n",
       "midarm    0.457777  0.084667  1.000000"
      ]
     },
     "execution_count": 41,
     "metadata": {},
     "output_type": "execute_result"
    }
   ],
   "source": [
    "#Retrieve the rXX matrix by dropping the target variable's row and column.\n",
    "rXX = df_bodyfat.corr()\n",
    "rXX = rXX.drop(['bodyfat'],axis=0)\n",
    "rXX = rXX.drop(['bodyfat'],axis=1)\n",
    "rXX"
   ]
  },
  {
   "cell_type": "code",
   "execution_count": 42,
   "metadata": {},
   "outputs": [],
   "source": [
    "#Make empty lists to store VIF values for each predictor \n",
    "#and the alpha values used:\n",
    "VIF_skinfold = []\n",
    "VIF_midarm = []\n",
    "VIF_thigh = []\n",
    "alpha = []"
   ]
  },
  {
   "cell_type": "code",
   "execution_count": 43,
   "metadata": {},
   "outputs": [],
   "source": [
    "#Create the loop to generate the VIF data values for each predictor:\n",
    "for a in np.arange(0.0,1.00,0.01):\n",
    "    A = rXX+a*np.eye(3)\n",
    "    Ainv = np.linalg.inv(A)\n",
    "    VIFmat = np.asarray(np.matmul(np.matmul(Ainv,rXX),Ainv)) #compute the VIF matrix\n",
    "    VIF_skinfold.append(VIFmat[0][0]) #retrieve the diagonal elements of the matrix\n",
    "    VIF_thigh.append(VIFmat[1][1])    #and append to each respective predictor's list\n",
    "    VIF_midarm.append(VIFmat[2][2])\n",
    "    alpha.append(a)                   #append the alpha value used for that iteration"
   ]
  },
  {
   "cell_type": "code",
   "execution_count": 44,
   "metadata": {},
   "outputs": [],
   "source": [
    "#assemble the VIF lists as one dataframe\n",
    "VIFScores = pd.DataFrame(list(zip(alpha, VIF_skinfold, VIF_thigh, VIF_midarm)), \\\n",
    "                         columns = ['alpha', 'VIF_skinfold', 'VIF_thigh', 'VIF_midarm'])"
   ]
  },
  {
   "cell_type": "code",
   "execution_count": 45,
   "metadata": {},
   "outputs": [
    {
     "data": {
      "image/png": "[encoded data removed]",
      "text/plain": [
       "<Figure size 864x432 with 1 Axes>"
      ]
     },
     "metadata": {
      "needs_background": "light"
     },
     "output_type": "display_data"
    }
   ],
   "source": [
    "#Make the plot of predictor VIF values as alpha varies from (0,1).\n",
    "plt.figure(figsize=(12,6))\n",
    "ax = plt.gca()\n",
    "for i in range(1,4):\n",
    "    aux = np.array(VIFScores)[:,i]\n",
    "    ax.plot(alpha,aux,label = VIFScores.columns.values[i], marker = '.') #plot predictor VIFs\n",
    "    ax.set_yscale('log') #change to y-axis to log scale for readability.\n",
    "    ax.set_xlim([0.0001,1])\n",
    "    ax.set_ylim([0.1,1000])\n",
    "plt.legend(loc='best') #include legend on the plot\n",
    "plt.xlabel('alpha')\n",
    "plt.ylabel('coefficients')\n",
    "plt.grid()"
   ]
  },
  {
   "cell_type": "markdown",
   "metadata": {},
   "source": [
    "### Question 3 (50 pts.)\n",
    "Consider the Caravan.csv data set. It is of interest to predict Purchase. Create a training set consisting of the first 1,000 observations, and a test set consisting of the remaining observations."
   ]
  },
  {
   "cell_type": "code",
   "execution_count": 46,
   "metadata": {},
   "outputs": [],
   "source": [
    "#Read in the dataset as a pandas dataframe\n",
    "df_caravan = pd.read_csv('Caravan.csv')"
   ]
  },
  {
   "cell_type": "code",
   "execution_count": 47,
   "metadata": {},
   "outputs": [
    {
     "data": {
      "text/html": [
       "<div>\n",
       "<style scoped>\n",
       "    .dataframe tbody tr th:only-of-type {\n",
       "        vertical-align: middle;\n",
       "    }\n",
       "\n",
       "    .dataframe tbody tr th {\n",
       "        vertical-align: top;\n",
       "    }\n",
       "\n",
       "    .dataframe thead th {\n",
       "        text-align: right;\n",
       "    }\n",
       "</style>\n",
       "<table border=\"1\" class=\"dataframe\">\n",
       "  <thead>\n",
       "    <tr style=\"text-align: right;\">\n",
       "      <th></th>\n",
       "      <th>MOSTYPE</th>\n",
       "      <th>MAANTHUI</th>\n",
       "      <th>MGEMOMV</th>\n",
       "      <th>MGEMLEEF</th>\n",
       "      <th>MOSHOOFD</th>\n",
       "      <th>MGODRK</th>\n",
       "      <th>MGODPR</th>\n",
       "      <th>MGODOV</th>\n",
       "      <th>MGODGE</th>\n",
       "      <th>MRELGE</th>\n",
       "      <th>...</th>\n",
       "      <th>APERSONG</th>\n",
       "      <th>AGEZONG</th>\n",
       "      <th>AWAOREG</th>\n",
       "      <th>ABRAND</th>\n",
       "      <th>AZEILPL</th>\n",
       "      <th>APLEZIER</th>\n",
       "      <th>AFIETS</th>\n",
       "      <th>AINBOED</th>\n",
       "      <th>ABYSTAND</th>\n",
       "      <th>Purchase</th>\n",
       "    </tr>\n",
       "  </thead>\n",
       "  <tbody>\n",
       "    <tr>\n",
       "      <th>0</th>\n",
       "      <td>33</td>\n",
       "      <td>1</td>\n",
       "      <td>3</td>\n",
       "      <td>2</td>\n",
       "      <td>8</td>\n",
       "      <td>0</td>\n",
       "      <td>5</td>\n",
       "      <td>1</td>\n",
       "      <td>3</td>\n",
       "      <td>7</td>\n",
       "      <td>...</td>\n",
       "      <td>0</td>\n",
       "      <td>0</td>\n",
       "      <td>0</td>\n",
       "      <td>1</td>\n",
       "      <td>0</td>\n",
       "      <td>0</td>\n",
       "      <td>0</td>\n",
       "      <td>0</td>\n",
       "      <td>0</td>\n",
       "      <td>No</td>\n",
       "    </tr>\n",
       "    <tr>\n",
       "      <th>1</th>\n",
       "      <td>37</td>\n",
       "      <td>1</td>\n",
       "      <td>2</td>\n",
       "      <td>2</td>\n",
       "      <td>8</td>\n",
       "      <td>1</td>\n",
       "      <td>4</td>\n",
       "      <td>1</td>\n",
       "      <td>4</td>\n",
       "      <td>6</td>\n",
       "      <td>...</td>\n",
       "      <td>0</td>\n",
       "      <td>0</td>\n",
       "      <td>0</td>\n",
       "      <td>1</td>\n",
       "      <td>0</td>\n",
       "      <td>0</td>\n",
       "      <td>0</td>\n",
       "      <td>0</td>\n",
       "      <td>0</td>\n",
       "      <td>No</td>\n",
       "    </tr>\n",
       "    <tr>\n",
       "      <th>2</th>\n",
       "      <td>37</td>\n",
       "      <td>1</td>\n",
       "      <td>2</td>\n",
       "      <td>2</td>\n",
       "      <td>8</td>\n",
       "      <td>0</td>\n",
       "      <td>4</td>\n",
       "      <td>2</td>\n",
       "      <td>4</td>\n",
       "      <td>3</td>\n",
       "      <td>...</td>\n",
       "      <td>0</td>\n",
       "      <td>0</td>\n",
       "      <td>0</td>\n",
       "      <td>1</td>\n",
       "      <td>0</td>\n",
       "      <td>0</td>\n",
       "      <td>0</td>\n",
       "      <td>0</td>\n",
       "      <td>0</td>\n",
       "      <td>No</td>\n",
       "    </tr>\n",
       "  </tbody>\n",
       "</table>\n",
       "<p>3 rows × 86 columns</p>\n",
       "</div>"
      ],
      "text/plain": [
       "   MOSTYPE  MAANTHUI  MGEMOMV  MGEMLEEF  MOSHOOFD  MGODRK  MGODPR  MGODOV  \\\n",
       "0       33         1        3         2         8       0       5       1   \n",
       "1       37         1        2         2         8       1       4       1   \n",
       "2       37         1        2         2         8       0       4       2   \n",
       "\n",
       "   MGODGE  MRELGE  ...  APERSONG  AGEZONG  AWAOREG  ABRAND  AZEILPL  APLEZIER  \\\n",
       "0       3       7  ...         0        0        0       1        0         0   \n",
       "1       4       6  ...         0        0        0       1        0         0   \n",
       "2       4       3  ...         0        0        0       1        0         0   \n",
       "\n",
       "   AFIETS  AINBOED  ABYSTAND  Purchase  \n",
       "0       0        0         0        No  \n",
       "1       0        0         0        No  \n",
       "2       0        0         0        No  \n",
       "\n",
       "[3 rows x 86 columns]"
      ]
     },
     "execution_count": 47,
     "metadata": {},
     "output_type": "execute_result"
    }
   ],
   "source": [
    "df_caravan[:3]"
   ]
  },
  {
   "cell_type": "code",
   "execution_count": 48,
   "metadata": {},
   "outputs": [
    {
     "data": {
      "text/plain": [
       "array(['No', 'Yes'], dtype=object)"
      ]
     },
     "execution_count": 48,
     "metadata": {},
     "output_type": "execute_result"
    }
   ],
   "source": [
    "#two categories in the target variable, so this is a classification problem.\n",
    "df_caravan.Purchase.unique()"
   ]
  },
  {
   "cell_type": "markdown",
   "metadata": {},
   "source": [
    "#### Question 3 a)\n",
    "Show that the variables PVRAAUT and AVRAAUT are highly unbalanced (having most rows belonging to a few categories).\n",
    "Remove these variables from the dataset."
   ]
  },
  {
   "cell_type": "markdown",
   "metadata": {},
   "source": [
    "**Answer:**"
   ]
  },
  {
   "cell_type": "code",
   "execution_count": 49,
   "metadata": {},
   "outputs": [
    {
     "data": {
      "text/plain": [
       "0    5813\n",
       "6       7\n",
       "9       1\n",
       "4       1\n",
       "Name: PVRAAUT, dtype: int64"
      ]
     },
     "execution_count": 49,
     "metadata": {},
     "output_type": "execute_result"
    }
   ],
   "source": [
    "#Show that PVRAAUT is an unbalanced feature heavily skewed towards category 0.\n",
    "df_caravan['PVRAAUT'].value_counts()"
   ]
  },
  {
   "cell_type": "code",
   "execution_count": 50,
   "metadata": {},
   "outputs": [
    {
     "data": {
      "text/plain": [
       "0    5813\n",
       "1       6\n",
       "2       2\n",
       "3       1\n",
       "Name: AVRAAUT, dtype: int64"
      ]
     },
     "execution_count": 50,
     "metadata": {},
     "output_type": "execute_result"
    }
   ],
   "source": [
    "#Similarly, for AVRAAUT we see that the it is heavily skewed towards category 0.\n",
    "df_caravan['AVRAAUT'].value_counts()"
   ]
  },
  {
   "cell_type": "code",
   "execution_count": 51,
   "metadata": {},
   "outputs": [],
   "source": [
    "#Remove these two variables from the dataset\n",
    "df1 = df_caravan.drop(columns=['PVRAAUT','AVRAAUT'])"
   ]
  },
  {
   "cell_type": "code",
   "execution_count": 52,
   "metadata": {},
   "outputs": [],
   "source": [
    "#Select out the target variable to be used in our models\n",
    "y = df1.Purchase"
   ]
  },
  {
   "cell_type": "code",
   "execution_count": 53,
   "metadata": {},
   "outputs": [],
   "source": [
    "#since Purchase is categorical Yes, No. We convert them to (1,0) encoding.\n",
    "y = y.map(dict(Yes=1, No=0))"
   ]
  },
  {
   "cell_type": "code",
   "execution_count": 54,
   "metadata": {},
   "outputs": [],
   "source": [
    "#Select out all the remaining Predictor variables \n",
    "#by removing the target variable, Purchase, from the dataset\n",
    "X = df1.drop(['Purchase'], axis = 1)"
   ]
  },
  {
   "cell_type": "code",
   "execution_count": 55,
   "metadata": {},
   "outputs": [],
   "source": [
    "#Use slicing to create a training set with\n",
    "#the first 1000 observations and test set consisting of remaining observations.\n",
    "X_train, X_test = X[:1000], X[1000:]\n",
    "y_train, y_test = y[:1000], y[1000:]"
   ]
  },
  {
   "cell_type": "markdown",
   "metadata": {},
   "source": [
    "#### Question 3 b)\n",
    "Fit a random forest model with 500 trees and max_features = 29 to the training set with Purchase as the response and the other variables as predictors. What predictor appears to be the most important? Report the test accuracy rate."
   ]
  },
  {
   "cell_type": "code",
   "execution_count": 56,
   "metadata": {},
   "outputs": [
    {
     "data": {
      "text/plain": [
       "RandomForestClassifier(bootstrap=True, class_weight=None, criterion='gini',\n",
       "                       max_depth=None, max_features=29, max_leaf_nodes=None,\n",
       "                       min_impurity_decrease=0.0, min_impurity_split=None,\n",
       "                       min_samples_leaf=1, min_samples_split=2,\n",
       "                       min_weight_fraction_leaf=0.0, n_estimators=500,\n",
       "                       n_jobs=None, oob_score=False, random_state=1, verbose=0,\n",
       "                       warm_start=False)"
      ]
     },
     "execution_count": 56,
     "metadata": {},
     "output_type": "execute_result"
    }
   ],
   "source": [
    "#Fit a random forest model with 500 trees and max_features = 29 on the training set.\n",
    "random_forest_caravan = RandomForestClassifier(max_features = 29\\\n",
    "                                               , n_estimators=500, random_state=1)\n",
    "random_forest_caravan.fit(X_train,y_train)"
   ]
  },
  {
   "cell_type": "code",
   "execution_count": 57,
   "metadata": {},
   "outputs": [
    {
     "data": {
      "text/html": [
       "<div>\n",
       "<style scoped>\n",
       "    .dataframe tbody tr th:only-of-type {\n",
       "        vertical-align: middle;\n",
       "    }\n",
       "\n",
       "    .dataframe tbody tr th {\n",
       "        vertical-align: top;\n",
       "    }\n",
       "\n",
       "    .dataframe thead th {\n",
       "        text-align: right;\n",
       "    }\n",
       "</style>\n",
       "<table border=\"1\" class=\"dataframe\">\n",
       "  <thead>\n",
       "    <tr style=\"text-align: right;\">\n",
       "      <th></th>\n",
       "      <th>Importance</th>\n",
       "    </tr>\n",
       "  </thead>\n",
       "  <tbody>\n",
       "    <tr>\n",
       "      <th>MOSTYPE</th>\n",
       "      <td>3.333823</td>\n",
       "    </tr>\n",
       "    <tr>\n",
       "      <th>MAANTHUI</th>\n",
       "      <td>0.978165</td>\n",
       "    </tr>\n",
       "    <tr>\n",
       "      <th>MGEMOMV</th>\n",
       "      <td>0.909334</td>\n",
       "    </tr>\n",
       "    <tr>\n",
       "      <th>MGEMLEEF</th>\n",
       "      <td>0.816398</td>\n",
       "    </tr>\n",
       "    <tr>\n",
       "      <th>MOSHOOFD</th>\n",
       "      <td>1.750794</td>\n",
       "    </tr>\n",
       "    <tr>\n",
       "      <th>MGODRK</th>\n",
       "      <td>1.195247</td>\n",
       "    </tr>\n",
       "    <tr>\n",
       "      <th>MGODPR</th>\n",
       "      <td>2.659090</td>\n",
       "    </tr>\n",
       "    <tr>\n",
       "      <th>MGODOV</th>\n",
       "      <td>1.438237</td>\n",
       "    </tr>\n",
       "    <tr>\n",
       "      <th>MGODGE</th>\n",
       "      <td>3.302695</td>\n",
       "    </tr>\n",
       "    <tr>\n",
       "      <th>MRELGE</th>\n",
       "      <td>1.997277</td>\n",
       "    </tr>\n",
       "    <tr>\n",
       "      <th>MRELSA</th>\n",
       "      <td>1.212153</td>\n",
       "    </tr>\n",
       "    <tr>\n",
       "      <th>MRELOV</th>\n",
       "      <td>1.396763</td>\n",
       "    </tr>\n",
       "    <tr>\n",
       "      <th>MFALLEEN</th>\n",
       "      <td>1.458299</td>\n",
       "    </tr>\n",
       "    <tr>\n",
       "      <th>MFGEKIND</th>\n",
       "      <td>1.748961</td>\n",
       "    </tr>\n",
       "    <tr>\n",
       "      <th>MFWEKIND</th>\n",
       "      <td>2.250384</td>\n",
       "    </tr>\n",
       "    <tr>\n",
       "      <th>MOPLHOOG</th>\n",
       "      <td>3.024537</td>\n",
       "    </tr>\n",
       "    <tr>\n",
       "      <th>MOPLMIDD</th>\n",
       "      <td>2.120347</td>\n",
       "    </tr>\n",
       "    <tr>\n",
       "      <th>MOPLLAAG</th>\n",
       "      <td>1.317397</td>\n",
       "    </tr>\n",
       "    <tr>\n",
       "      <th>MBERHOOG</th>\n",
       "      <td>1.670693</td>\n",
       "    </tr>\n",
       "    <tr>\n",
       "      <th>MBERZELF</th>\n",
       "      <td>0.786103</td>\n",
       "    </tr>\n",
       "    <tr>\n",
       "      <th>MBERBOER</th>\n",
       "      <td>0.289814</td>\n",
       "    </tr>\n",
       "    <tr>\n",
       "      <th>MBERMIDD</th>\n",
       "      <td>2.311773</td>\n",
       "    </tr>\n",
       "    <tr>\n",
       "      <th>MBERARBG</th>\n",
       "      <td>1.977832</td>\n",
       "    </tr>\n",
       "    <tr>\n",
       "      <th>MBERARBO</th>\n",
       "      <td>1.821897</td>\n",
       "    </tr>\n",
       "    <tr>\n",
       "      <th>MSKA</th>\n",
       "      <td>1.688469</td>\n",
       "    </tr>\n",
       "    <tr>\n",
       "      <th>MSKB1</th>\n",
       "      <td>2.170790</td>\n",
       "    </tr>\n",
       "    <tr>\n",
       "      <th>MSKB2</th>\n",
       "      <td>1.644153</td>\n",
       "    </tr>\n",
       "    <tr>\n",
       "      <th>MSKC</th>\n",
       "      <td>1.997885</td>\n",
       "    </tr>\n",
       "    <tr>\n",
       "      <th>MSKD</th>\n",
       "      <td>0.740669</td>\n",
       "    </tr>\n",
       "    <tr>\n",
       "      <th>MHHUUR</th>\n",
       "      <td>1.581047</td>\n",
       "    </tr>\n",
       "    <tr>\n",
       "      <th>...</th>\n",
       "      <td>...</td>\n",
       "    </tr>\n",
       "    <tr>\n",
       "      <th>PLEVEN</th>\n",
       "      <td>0.905974</td>\n",
       "    </tr>\n",
       "    <tr>\n",
       "      <th>PPERSONG</th>\n",
       "      <td>0.001578</td>\n",
       "    </tr>\n",
       "    <tr>\n",
       "      <th>PGEZONG</th>\n",
       "      <td>0.941680</td>\n",
       "    </tr>\n",
       "    <tr>\n",
       "      <th>PWAOREG</th>\n",
       "      <td>1.004186</td>\n",
       "    </tr>\n",
       "    <tr>\n",
       "      <th>PBRAND</th>\n",
       "      <td>2.804189</td>\n",
       "    </tr>\n",
       "    <tr>\n",
       "      <th>PZEILPL</th>\n",
       "      <td>0.370075</td>\n",
       "    </tr>\n",
       "    <tr>\n",
       "      <th>PPLEZIER</th>\n",
       "      <td>2.103454</td>\n",
       "    </tr>\n",
       "    <tr>\n",
       "      <th>PFIETS</th>\n",
       "      <td>0.194760</td>\n",
       "    </tr>\n",
       "    <tr>\n",
       "      <th>PINBOED</th>\n",
       "      <td>0.024880</td>\n",
       "    </tr>\n",
       "    <tr>\n",
       "      <th>PBYSTAND</th>\n",
       "      <td>0.736304</td>\n",
       "    </tr>\n",
       "    <tr>\n",
       "      <th>AWAPART</th>\n",
       "      <td>1.096711</td>\n",
       "    </tr>\n",
       "    <tr>\n",
       "      <th>AWABEDR</th>\n",
       "      <td>0.040292</td>\n",
       "    </tr>\n",
       "    <tr>\n",
       "      <th>AWALAND</th>\n",
       "      <td>0.044479</td>\n",
       "    </tr>\n",
       "    <tr>\n",
       "      <th>APERSAUT</th>\n",
       "      <td>1.710442</td>\n",
       "    </tr>\n",
       "    <tr>\n",
       "      <th>ABESAUT</th>\n",
       "      <td>0.012575</td>\n",
       "    </tr>\n",
       "    <tr>\n",
       "      <th>AMOTSCO</th>\n",
       "      <td>0.966865</td>\n",
       "    </tr>\n",
       "    <tr>\n",
       "      <th>AAANHANG</th>\n",
       "      <td>0.175105</td>\n",
       "    </tr>\n",
       "    <tr>\n",
       "      <th>ATRACTOR</th>\n",
       "      <td>0.030689</td>\n",
       "    </tr>\n",
       "    <tr>\n",
       "      <th>AWERKT</th>\n",
       "      <td>0.001801</td>\n",
       "    </tr>\n",
       "    <tr>\n",
       "      <th>ABROM</th>\n",
       "      <td>0.607690</td>\n",
       "    </tr>\n",
       "    <tr>\n",
       "      <th>ALEVEN</th>\n",
       "      <td>0.194632</td>\n",
       "    </tr>\n",
       "    <tr>\n",
       "      <th>APERSONG</th>\n",
       "      <td>0.003812</td>\n",
       "    </tr>\n",
       "    <tr>\n",
       "      <th>AGEZONG</th>\n",
       "      <td>0.314797</td>\n",
       "    </tr>\n",
       "    <tr>\n",
       "      <th>AWAOREG</th>\n",
       "      <td>0.871925</td>\n",
       "    </tr>\n",
       "    <tr>\n",
       "      <th>ABRAND</th>\n",
       "      <td>2.326212</td>\n",
       "    </tr>\n",
       "    <tr>\n",
       "      <th>AZEILPL</th>\n",
       "      <td>0.239570</td>\n",
       "    </tr>\n",
       "    <tr>\n",
       "      <th>APLEZIER</th>\n",
       "      <td>1.541350</td>\n",
       "    </tr>\n",
       "    <tr>\n",
       "      <th>AFIETS</th>\n",
       "      <td>0.687904</td>\n",
       "    </tr>\n",
       "    <tr>\n",
       "      <th>AINBOED</th>\n",
       "      <td>0.014205</td>\n",
       "    </tr>\n",
       "    <tr>\n",
       "      <th>ABYSTAND</th>\n",
       "      <td>0.350830</td>\n",
       "    </tr>\n",
       "  </tbody>\n",
       "</table>\n",
       "<p>83 rows × 1 columns</p>\n",
       "</div>"
      ],
      "text/plain": [
       "          Importance\n",
       "MOSTYPE     3.333823\n",
       "MAANTHUI    0.978165\n",
       "MGEMOMV     0.909334\n",
       "MGEMLEEF    0.816398\n",
       "MOSHOOFD    1.750794\n",
       "MGODRK      1.195247\n",
       "MGODPR      2.659090\n",
       "MGODOV      1.438237\n",
       "MGODGE      3.302695\n",
       "MRELGE      1.997277\n",
       "MRELSA      1.212153\n",
       "MRELOV      1.396763\n",
       "MFALLEEN    1.458299\n",
       "MFGEKIND    1.748961\n",
       "MFWEKIND    2.250384\n",
       "MOPLHOOG    3.024537\n",
       "MOPLMIDD    2.120347\n",
       "MOPLLAAG    1.317397\n",
       "MBERHOOG    1.670693\n",
       "MBERZELF    0.786103\n",
       "MBERBOER    0.289814\n",
       "MBERMIDD    2.311773\n",
       "MBERARBG    1.977832\n",
       "MBERARBO    1.821897\n",
       "MSKA        1.688469\n",
       "MSKB1       2.170790\n",
       "MSKB2       1.644153\n",
       "MSKC        1.997885\n",
       "MSKD        0.740669\n",
       "MHHUUR      1.581047\n",
       "...              ...\n",
       "PLEVEN      0.905974\n",
       "PPERSONG    0.001578\n",
       "PGEZONG     0.941680\n",
       "PWAOREG     1.004186\n",
       "PBRAND      2.804189\n",
       "PZEILPL     0.370075\n",
       "PPLEZIER    2.103454\n",
       "PFIETS      0.194760\n",
       "PINBOED     0.024880\n",
       "PBYSTAND    0.736304\n",
       "AWAPART     1.096711\n",
       "AWABEDR     0.040292\n",
       "AWALAND     0.044479\n",
       "APERSAUT    1.710442\n",
       "ABESAUT     0.012575\n",
       "AMOTSCO     0.966865\n",
       "AAANHANG    0.175105\n",
       "ATRACTOR    0.030689\n",
       "AWERKT      0.001801\n",
       "ABROM       0.607690\n",
       "ALEVEN      0.194632\n",
       "APERSONG    0.003812\n",
       "AGEZONG     0.314797\n",
       "AWAOREG     0.871925\n",
       "ABRAND      2.326212\n",
       "AZEILPL     0.239570\n",
       "APLEZIER    1.541350\n",
       "AFIETS      0.687904\n",
       "AINBOED     0.014205\n",
       "ABYSTAND    0.350830\n",
       "\n",
       "[83 rows x 1 columns]"
      ]
     },
     "execution_count": 57,
     "metadata": {},
     "output_type": "execute_result"
    }
   ],
   "source": [
    "#get the feature importance rankings and store as a dataframe\n",
    "Importance = pd.DataFrame({'Importance':random_forest_caravan.feature_importances_*100},\n",
    "                         index = X.columns)\n",
    "Importance"
   ]
  },
  {
   "cell_type": "code",
   "execution_count": 58,
   "metadata": {},
   "outputs": [
    {
     "data": {
      "image/png": "[encoded data removed]",
      "text/plain": [
       "<Figure size 864x1296 with 1 Axes>"
      ]
     },
     "metadata": {
      "needs_background": "light"
     },
     "output_type": "display_data"
    }
   ],
   "source": [
    "Importance.sort_values(by = 'Importance',axis = 0,ascending = True)\\\n",
    "                      .plot(kind = 'barh',color='b',figsize=(12,18))\n",
    "plt.xlabel('Variable Importance')\n",
    "plt.gca().legend_ = None\n",
    "plt.grid()"
   ]
  },
  {
   "cell_type": "code",
   "execution_count": 59,
   "metadata": {},
   "outputs": [],
   "source": [
    "#Get the Accuracy score\n",
    "rf_preds = random_forest_caravan.predict(X_test)"
   ]
  },
  {
   "cell_type": "code",
   "execution_count": 60,
   "metadata": {},
   "outputs": [
    {
     "data": {
      "text/plain": [
       "0.9318"
      ]
     },
     "execution_count": 60,
     "metadata": {},
     "output_type": "execute_result"
    }
   ],
   "source": [
    "round(accuracy_score(y_test,rf_preds),4)"
   ]
  },
  {
   "cell_type": "markdown",
   "metadata": {},
   "source": [
    "**Answer:**<br>\n",
    "Using Random Forest Classifier, the most important predictor is PPERSAUT.<br>\n",
    "The test accuracy rate is 0.9318."
   ]
  },
  {
   "cell_type": "markdown",
   "metadata": {},
   "source": [
    "#### Question 3 c)\n",
    "Fit a boosting model to the training set with max_depth = 4 and Purchase as the response and the other variables as predictors. Use 1000 trees, and a shrinkage value of 0.01. What predictor appears to be the most important? Report the test accuracy rate."
   ]
  },
  {
   "cell_type": "code",
   "execution_count": 61,
   "metadata": {},
   "outputs": [
    {
     "data": {
      "text/plain": [
       "GradientBoostingClassifier(criterion='friedman_mse', init=None,\n",
       "                           learning_rate=0.01, loss='deviance', max_depth=4,\n",
       "                           max_features=None, max_leaf_nodes=None,\n",
       "                           min_impurity_decrease=0.0, min_impurity_split=None,\n",
       "                           min_samples_leaf=1, min_samples_split=2,\n",
       "                           min_weight_fraction_leaf=0.0, n_estimators=1000,\n",
       "                           n_iter_no_change=None, presort='auto',\n",
       "                           random_state=1, subsample=1.0, tol=0.0001,\n",
       "                           validation_fraction=0.1, verbose=0,\n",
       "                           warm_start=False)"
      ]
     },
     "execution_count": 61,
     "metadata": {},
     "output_type": "execute_result"
    }
   ],
   "source": [
    "#Fit the Boosting model on the training set using max_depth = 4, 1000 trees, shrinkage =0.01\n",
    "boosted_caravan = GradientBoostingClassifier(n_estimators=1000\\\n",
    "                                             , learning_rate = 0.01, max_depth = 4\\\n",
    "                                             ,random_state=1)\n",
    "boosted_caravan.fit(X_train,y_train)"
   ]
  },
  {
   "cell_type": "code",
   "execution_count": 62,
   "metadata": {},
   "outputs": [],
   "source": [
    "#Get feature importance score rankings of the boosting model\n",
    "importance = boosted_caravan.feature_importances_*100"
   ]
  },
  {
   "cell_type": "code",
   "execution_count": 63,
   "metadata": {},
   "outputs": [
    {
     "data": {
      "text/html": [
       "<div>\n",
       "<style scoped>\n",
       "    .dataframe tbody tr th:only-of-type {\n",
       "        vertical-align: middle;\n",
       "    }\n",
       "\n",
       "    .dataframe tbody tr th {\n",
       "        vertical-align: top;\n",
       "    }\n",
       "\n",
       "    .dataframe thead th {\n",
       "        text-align: right;\n",
       "    }\n",
       "</style>\n",
       "<table border=\"1\" class=\"dataframe\">\n",
       "  <thead>\n",
       "    <tr style=\"text-align: right;\">\n",
       "      <th></th>\n",
       "      <th>Importance</th>\n",
       "    </tr>\n",
       "  </thead>\n",
       "  <tbody>\n",
       "    <tr>\n",
       "      <th>MOSTYPE</th>\n",
       "      <td>5.669139</td>\n",
       "    </tr>\n",
       "    <tr>\n",
       "      <th>MAANTHUI</th>\n",
       "      <td>0.315827</td>\n",
       "    </tr>\n",
       "    <tr>\n",
       "      <th>MGEMOMV</th>\n",
       "      <td>0.666089</td>\n",
       "    </tr>\n",
       "    <tr>\n",
       "      <th>MGEMLEEF</th>\n",
       "      <td>0.337222</td>\n",
       "    </tr>\n",
       "    <tr>\n",
       "      <th>MOSHOOFD</th>\n",
       "      <td>1.318432</td>\n",
       "    </tr>\n",
       "    <tr>\n",
       "      <th>MGODRK</th>\n",
       "      <td>0.940314</td>\n",
       "    </tr>\n",
       "    <tr>\n",
       "      <th>MGODPR</th>\n",
       "      <td>4.273577</td>\n",
       "    </tr>\n",
       "    <tr>\n",
       "      <th>MGODOV</th>\n",
       "      <td>0.717052</td>\n",
       "    </tr>\n",
       "    <tr>\n",
       "      <th>MGODGE</th>\n",
       "      <td>4.931586</td>\n",
       "    </tr>\n",
       "    <tr>\n",
       "      <th>MRELGE</th>\n",
       "      <td>1.617198</td>\n",
       "    </tr>\n",
       "    <tr>\n",
       "      <th>MRELSA</th>\n",
       "      <td>0.320792</td>\n",
       "    </tr>\n",
       "    <tr>\n",
       "      <th>MRELOV</th>\n",
       "      <td>0.957030</td>\n",
       "    </tr>\n",
       "    <tr>\n",
       "      <th>MFALLEEN</th>\n",
       "      <td>1.066016</td>\n",
       "    </tr>\n",
       "    <tr>\n",
       "      <th>MFGEKIND</th>\n",
       "      <td>1.377680</td>\n",
       "    </tr>\n",
       "    <tr>\n",
       "      <th>MFWEKIND</th>\n",
       "      <td>1.194753</td>\n",
       "    </tr>\n",
       "    <tr>\n",
       "      <th>MOPLHOOG</th>\n",
       "      <td>4.964865</td>\n",
       "    </tr>\n",
       "    <tr>\n",
       "      <th>MOPLMIDD</th>\n",
       "      <td>0.913896</td>\n",
       "    </tr>\n",
       "    <tr>\n",
       "      <th>MOPLLAAG</th>\n",
       "      <td>0.245193</td>\n",
       "    </tr>\n",
       "    <tr>\n",
       "      <th>MBERHOOG</th>\n",
       "      <td>0.956610</td>\n",
       "    </tr>\n",
       "    <tr>\n",
       "      <th>MBERZELF</th>\n",
       "      <td>0.294854</td>\n",
       "    </tr>\n",
       "    <tr>\n",
       "      <th>MBERBOER</th>\n",
       "      <td>0.388926</td>\n",
       "    </tr>\n",
       "    <tr>\n",
       "      <th>MBERMIDD</th>\n",
       "      <td>3.792523</td>\n",
       "    </tr>\n",
       "    <tr>\n",
       "      <th>MBERARBG</th>\n",
       "      <td>2.704386</td>\n",
       "    </tr>\n",
       "    <tr>\n",
       "      <th>MBERARBO</th>\n",
       "      <td>0.392830</td>\n",
       "    </tr>\n",
       "    <tr>\n",
       "      <th>MSKA</th>\n",
       "      <td>1.309057</td>\n",
       "    </tr>\n",
       "    <tr>\n",
       "      <th>MSKB1</th>\n",
       "      <td>2.751346</td>\n",
       "    </tr>\n",
       "    <tr>\n",
       "      <th>MSKB2</th>\n",
       "      <td>2.292840</td>\n",
       "    </tr>\n",
       "    <tr>\n",
       "      <th>MSKC</th>\n",
       "      <td>0.284395</td>\n",
       "    </tr>\n",
       "    <tr>\n",
       "      <th>MSKD</th>\n",
       "      <td>0.727252</td>\n",
       "    </tr>\n",
       "    <tr>\n",
       "      <th>MHHUUR</th>\n",
       "      <td>0.877065</td>\n",
       "    </tr>\n",
       "    <tr>\n",
       "      <th>...</th>\n",
       "      <td>...</td>\n",
       "    </tr>\n",
       "    <tr>\n",
       "      <th>PLEVEN</th>\n",
       "      <td>1.440296</td>\n",
       "    </tr>\n",
       "    <tr>\n",
       "      <th>PPERSONG</th>\n",
       "      <td>0.000000</td>\n",
       "    </tr>\n",
       "    <tr>\n",
       "      <th>PGEZONG</th>\n",
       "      <td>1.476181</td>\n",
       "    </tr>\n",
       "    <tr>\n",
       "      <th>PWAOREG</th>\n",
       "      <td>0.853739</td>\n",
       "    </tr>\n",
       "    <tr>\n",
       "      <th>PBRAND</th>\n",
       "      <td>2.536452</td>\n",
       "    </tr>\n",
       "    <tr>\n",
       "      <th>PZEILPL</th>\n",
       "      <td>0.830474</td>\n",
       "    </tr>\n",
       "    <tr>\n",
       "      <th>PPLEZIER</th>\n",
       "      <td>2.151643</td>\n",
       "    </tr>\n",
       "    <tr>\n",
       "      <th>PFIETS</th>\n",
       "      <td>0.468267</td>\n",
       "    </tr>\n",
       "    <tr>\n",
       "      <th>PINBOED</th>\n",
       "      <td>0.006173</td>\n",
       "    </tr>\n",
       "    <tr>\n",
       "      <th>PBYSTAND</th>\n",
       "      <td>1.164943</td>\n",
       "    </tr>\n",
       "    <tr>\n",
       "      <th>AWAPART</th>\n",
       "      <td>0.746167</td>\n",
       "    </tr>\n",
       "    <tr>\n",
       "      <th>AWABEDR</th>\n",
       "      <td>0.094119</td>\n",
       "    </tr>\n",
       "    <tr>\n",
       "      <th>AWALAND</th>\n",
       "      <td>0.036334</td>\n",
       "    </tr>\n",
       "    <tr>\n",
       "      <th>APERSAUT</th>\n",
       "      <td>0.865671</td>\n",
       "    </tr>\n",
       "    <tr>\n",
       "      <th>ABESAUT</th>\n",
       "      <td>0.014004</td>\n",
       "    </tr>\n",
       "    <tr>\n",
       "      <th>AMOTSCO</th>\n",
       "      <td>2.775647</td>\n",
       "    </tr>\n",
       "    <tr>\n",
       "      <th>AAANHANG</th>\n",
       "      <td>0.005544</td>\n",
       "    </tr>\n",
       "    <tr>\n",
       "      <th>ATRACTOR</th>\n",
       "      <td>0.020244</td>\n",
       "    </tr>\n",
       "    <tr>\n",
       "      <th>AWERKT</th>\n",
       "      <td>0.000000</td>\n",
       "    </tr>\n",
       "    <tr>\n",
       "      <th>ABROM</th>\n",
       "      <td>0.040149</td>\n",
       "    </tr>\n",
       "    <tr>\n",
       "      <th>ALEVEN</th>\n",
       "      <td>0.107364</td>\n",
       "    </tr>\n",
       "    <tr>\n",
       "      <th>APERSONG</th>\n",
       "      <td>0.002045</td>\n",
       "    </tr>\n",
       "    <tr>\n",
       "      <th>AGEZONG</th>\n",
       "      <td>0.082096</td>\n",
       "    </tr>\n",
       "    <tr>\n",
       "      <th>AWAOREG</th>\n",
       "      <td>1.626196</td>\n",
       "    </tr>\n",
       "    <tr>\n",
       "      <th>ABRAND</th>\n",
       "      <td>4.516553</td>\n",
       "    </tr>\n",
       "    <tr>\n",
       "      <th>AZEILPL</th>\n",
       "      <td>0.909261</td>\n",
       "    </tr>\n",
       "    <tr>\n",
       "      <th>APLEZIER</th>\n",
       "      <td>2.050337</td>\n",
       "    </tr>\n",
       "    <tr>\n",
       "      <th>AFIETS</th>\n",
       "      <td>1.055565</td>\n",
       "    </tr>\n",
       "    <tr>\n",
       "      <th>AINBOED</th>\n",
       "      <td>0.004374</td>\n",
       "    </tr>\n",
       "    <tr>\n",
       "      <th>ABYSTAND</th>\n",
       "      <td>0.448628</td>\n",
       "    </tr>\n",
       "  </tbody>\n",
       "</table>\n",
       "<p>83 rows × 1 columns</p>\n",
       "</div>"
      ],
      "text/plain": [
       "          Importance\n",
       "MOSTYPE     5.669139\n",
       "MAANTHUI    0.315827\n",
       "MGEMOMV     0.666089\n",
       "MGEMLEEF    0.337222\n",
       "MOSHOOFD    1.318432\n",
       "MGODRK      0.940314\n",
       "MGODPR      4.273577\n",
       "MGODOV      0.717052\n",
       "MGODGE      4.931586\n",
       "MRELGE      1.617198\n",
       "MRELSA      0.320792\n",
       "MRELOV      0.957030\n",
       "MFALLEEN    1.066016\n",
       "MFGEKIND    1.377680\n",
       "MFWEKIND    1.194753\n",
       "MOPLHOOG    4.964865\n",
       "MOPLMIDD    0.913896\n",
       "MOPLLAAG    0.245193\n",
       "MBERHOOG    0.956610\n",
       "MBERZELF    0.294854\n",
       "MBERBOER    0.388926\n",
       "MBERMIDD    3.792523\n",
       "MBERARBG    2.704386\n",
       "MBERARBO    0.392830\n",
       "MSKA        1.309057\n",
       "MSKB1       2.751346\n",
       "MSKB2       2.292840\n",
       "MSKC        0.284395\n",
       "MSKD        0.727252\n",
       "MHHUUR      0.877065\n",
       "...              ...\n",
       "PLEVEN      1.440296\n",
       "PPERSONG    0.000000\n",
       "PGEZONG     1.476181\n",
       "PWAOREG     0.853739\n",
       "PBRAND      2.536452\n",
       "PZEILPL     0.830474\n",
       "PPLEZIER    2.151643\n",
       "PFIETS      0.468267\n",
       "PINBOED     0.006173\n",
       "PBYSTAND    1.164943\n",
       "AWAPART     0.746167\n",
       "AWABEDR     0.094119\n",
       "AWALAND     0.036334\n",
       "APERSAUT    0.865671\n",
       "ABESAUT     0.014004\n",
       "AMOTSCO     2.775647\n",
       "AAANHANG    0.005544\n",
       "ATRACTOR    0.020244\n",
       "AWERKT      0.000000\n",
       "ABROM       0.040149\n",
       "ALEVEN      0.107364\n",
       "APERSONG    0.002045\n",
       "AGEZONG     0.082096\n",
       "AWAOREG     1.626196\n",
       "ABRAND      4.516553\n",
       "AZEILPL     0.909261\n",
       "APLEZIER    2.050337\n",
       "AFIETS      1.055565\n",
       "AINBOED     0.004374\n",
       "ABYSTAND    0.448628\n",
       "\n",
       "[83 rows x 1 columns]"
      ]
     },
     "execution_count": 63,
     "metadata": {},
     "output_type": "execute_result"
    }
   ],
   "source": [
    "rel_imp = pd.DataFrame({'Importance':importance},index = X.columns)\n",
    "rel_imp"
   ]
  },
  {
   "cell_type": "code",
   "execution_count": 64,
   "metadata": {},
   "outputs": [
    {
     "data": {
      "image/png": "[encoded data removed]",
      "text/plain": [
       "<Figure size 864x1296 with 1 Axes>"
      ]
     },
     "metadata": {
      "needs_background": "light"
     },
     "output_type": "display_data"
    }
   ],
   "source": [
    "rel_imp.sort_values(by = 'Importance',axis = 0, ascending= True)\\\n",
    "                   .plot(kind = 'barh',color = 'g',figsize=(12,18))\n",
    "plt.xlabel('Variable Importance')\n",
    "plt.gca().legend_ = None\n",
    "plt.grid()"
   ]
  },
  {
   "cell_type": "code",
   "execution_count": 65,
   "metadata": {},
   "outputs": [
    {
     "data": {
      "text/plain": [
       "0.9334"
      ]
     },
     "execution_count": 65,
     "metadata": {},
     "output_type": "execute_result"
    }
   ],
   "source": [
    "#Get the accuracy rate\n",
    "round(accuracy_score(y_test,boosted_caravan.predict(X_test)),4)"
   ]
  },
  {
   "cell_type": "markdown",
   "metadata": {},
   "source": [
    "**Answer**:<br>\n",
    "Using Boosting model, the most important predictor is again PPERSAUT.<br>\n",
    "The test accuracy rate is 0.9334."
   ]
  },
  {
   "cell_type": "markdown",
   "metadata": {},
   "source": [
    "#### Question 3 d)\n",
    "Report the test accuracy rate when KNN (with n_neighbors = 3) is used to predict Purchase."
   ]
  },
  {
   "cell_type": "code",
   "execution_count": 66,
   "metadata": {},
   "outputs": [],
   "source": [
    "#Fit the KNN model with n_neighbors = 3 on the training set data\n",
    "model = KNeighborsClassifier(n_neighbors=3)"
   ]
  },
  {
   "cell_type": "code",
   "execution_count": 67,
   "metadata": {},
   "outputs": [
    {
     "data": {
      "text/plain": [
       "KNeighborsClassifier(algorithm='auto', leaf_size=30, metric='minkowski',\n",
       "                     metric_params=None, n_jobs=None, n_neighbors=3, p=2,\n",
       "                     weights='uniform')"
      ]
     },
     "execution_count": 67,
     "metadata": {},
     "output_type": "execute_result"
    }
   ],
   "source": [
    "model.fit(X_train,y_train)"
   ]
  },
  {
   "cell_type": "code",
   "execution_count": 68,
   "metadata": {},
   "outputs": [
    {
     "data": {
      "text/plain": [
       "0.9276"
      ]
     },
     "execution_count": 68,
     "metadata": {},
     "output_type": "execute_result"
    }
   ],
   "source": [
    "#Retrieve the test accuracy rate for this model\n",
    "round(accuracy_score(y_test, model.predict(X_test)),4)"
   ]
  },
  {
   "cell_type": "markdown",
   "metadata": {},
   "source": [
    "**Answer:**<br>\n",
    "Using KNN (n_neighbors = 3), the test accuracy rate is 0.9276.<br>"
   ]
  },
  {
   "cell_type": "markdown",
   "metadata": {},
   "source": [
    "#### Question 3 e)\n",
    "Report the test accuracy rate when logistic regression is used to predict Purchase."
   ]
  },
  {
   "cell_type": "code",
   "execution_count": 69,
   "metadata": {},
   "outputs": [],
   "source": [
    "#fit the logistic regression model on the training data\n",
    "model_LR = LogisticRegression(solver='lbfgs', max_iter = 1000)"
   ]
  },
  {
   "cell_type": "code",
   "execution_count": 70,
   "metadata": {},
   "outputs": [
    {
     "data": {
      "text/plain": [
       "LogisticRegression(C=1.0, class_weight=None, dual=False, fit_intercept=True,\n",
       "                   intercept_scaling=1, l1_ratio=None, max_iter=1000,\n",
       "                   multi_class='warn', n_jobs=None, penalty='l2',\n",
       "                   random_state=None, solver='lbfgs', tol=0.0001, verbose=0,\n",
       "                   warm_start=False)"
      ]
     },
     "execution_count": 70,
     "metadata": {},
     "output_type": "execute_result"
    }
   ],
   "source": [
    "model_LR.fit(X_train,y_train)"
   ]
  },
  {
   "cell_type": "code",
   "execution_count": 71,
   "metadata": {},
   "outputs": [
    {
     "data": {
      "text/plain": [
       "0.9347"
      ]
     },
     "execution_count": 71,
     "metadata": {},
     "output_type": "execute_result"
    }
   ],
   "source": [
    "#retrive the logistic regression's test accuracy rate\n",
    "round(accuracy_score(y_test,model_LR.predict(X_test)),4)"
   ]
  },
  {
   "cell_type": "markdown",
   "metadata": {},
   "source": [
    "**Answer**:<br>\n",
    "Using logistic regression, the test accuracy rate is  0.9347.<br>\n"
   ]
  }
 ],
 "metadata": {
  "kernelspec": {
   "display_name": "Python 3",
   "language": "python",
   "name": "python3"
  },
  "language_info": {
   "codemirror_mode": {
    "name": "ipython",
    "version": 3
   },
   "file_extension": ".py",
   "mimetype": "text/x-python",
   "name": "python",
   "nbconvert_exporter": "python",
   "pygments_lexer": "ipython3",
   "version": "3.7.8"
  }
 },
 "nbformat": 4,
 "nbformat_minor": 2
}
