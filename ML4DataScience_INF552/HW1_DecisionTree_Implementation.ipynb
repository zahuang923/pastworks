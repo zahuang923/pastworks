{
 "cells": [
  {
   "cell_type": "markdown",
   "metadata": {},
   "source": [
    "###### Assignment 1 Submission\n",
    "**Report & Code**"
   ]
  },
  {
   "cell_type": "markdown",
   "metadata": {},
   "source": [
    "Name: Zenas Huang"
   ]
  },
  {
   "cell_type": "markdown",
   "metadata": {},
   "source": [
    "(a) Write a program to construct a decision tree pased on the idea of splitting by Information Gain."
   ]
  },
  {
   "cell_type": "markdown",
   "metadata": {},
   "source": [
    "Description: \n",
    "\n",
    "The program primarily uses pandas dataframes, arrays, and dictionaries data structures. Recursion is used to build up the decision tree as a nested dictionary beginning with the feature that has the maximum information gain. Helper functions are written at the beginning to compute the entropy and information gain of any subset of the data. The buildTree function then uses these to compute the information gain of each feature and selects the features corresponding to maximum information gain to partition on. Then this feature is removed from the feature space and a subtree is built under that feature represented by a nested dictionary containing the feature's possible values, with the just partitioned feature as its key. The dataframe is then sliced into subsets according to the value that the partition feature takes on and each subset builds its own subtree by recursive call to buildTree, which proceeds until the subset is pure or the list of features to partition on has been exhausted."
   ]
  },
  {
   "cell_type": "code",
   "execution_count": 1,
   "metadata": {},
   "outputs": [],
   "source": [
    "import numpy as np\n",
    "import pandas as pd\n",
    "\n",
    "def entropy(labelCol):\n",
    "    #compute the fraction of each class and the entropy\n",
    "    values, freq = np.unique(labelCol,return_counts = True)\n",
    "    entropy = 0\n",
    "    for i in range(len(values)):\n",
    "        pi = freq[i]/np.sum(freq)\n",
    "        entropy += -pi*np.log2(pi)    \n",
    "    return entropy  \n",
    "\n",
    "def infoGain(data,partitionFeature):  \n",
    "    #Calculate the entropy of the data before  \n",
    "    initialEntropy = entropy(data['Enjoy'])  \n",
    "    #find the values and frequencies to compute the pi proportions for entropy computation    \n",
    "    values, freq = np.unique(data[partitionFeature],return_counts=True)  \n",
    "\n",
    "    postEntropy = 0 \n",
    "    for i in range(len(values)):\n",
    "        pi = freq[i]/np.sum(freq) #group weight\n",
    "        subG = data.where(data[partitionFeature]==freq[i]).dropna()['Enjoy'] #group\n",
    "        subEnt = entropy(subG) #group entropy\n",
    "        postEntropy += pi*subEnt\n",
    "\n",
    "    #Calculate the information gain per lecture formula I(Before) - I(After)\n",
    "    InformationGain = initialEntropy - postEntropy  \n",
    "    return InformationGain \n",
    "\n",
    "def buildTree(data,featuresList):\n",
    "    #set a default Classlabel value using the majority class in the subset\n",
    "    parentClassLabel = np.unique(data['Enjoy'])[np.argmax(np.unique(data['Enjoy'],return_counts=True)[1])]  \n",
    "\n",
    "    #stopping cases\n",
    "    #If pure data then return the label value  \n",
    "    if len(np.unique(data['Enjoy'])) == 1:  \n",
    "        return np.unique(data['Enjoy'])[0]\n",
    "    #If no more features to split on, return class of the immediate parent  \n",
    "    elif len(featuresList) == 0:\n",
    "        return parentClassLabel \n",
    "\n",
    "    #build the decision tree\n",
    "    else:\n",
    "        #Find and store the Infogains of each feature in the feature space and store as list\n",
    "        featureIGs = [infoGain(data,feature) for feature in featuresList]\n",
    "        #Get the feature which gives most information gain for the split\n",
    "        partitionFeature = featuresList[np.argmax(featureIGs)]  \n",
    "        #Create tree as a nested dictionary. where each root is the next partition feature    \n",
    "        tree = {partitionFeature:{}}  \n",
    "\n",
    "        #Remove the feature that was just partitioned from the feature  \n",
    "        featuresList = [f for f in featuresList if f != partitionFeature]  \n",
    "\n",
    "        #Make a subtree for each value of the feature  \n",
    "        for featureValue in np.unique(data[partitionFeature]):  \n",
    "            featureValue = featureValue\n",
    "            #partition dataset into subsets for each value of the partitionfeature  \n",
    "            subset = data.where(data[partitionFeature] == featureValue).dropna()    \n",
    "            #Recursively build tree on the subset with the new parameters  \n",
    "            subtree = buildTree(subset,featuresList)\n",
    "            #Add the sub tree, grown from the sub_dataset to the tree under the root node  \n",
    "            tree[partitionFeature][featureValue] = subtree\n",
    "        return(tree)\n",
    "\n",
    "def predict(instance,tree,data):  \n",
    "    #set a default prediction as the majority class label if the instance's path\n",
    "    #doesnt exist in the tree\n",
    "    defaultPred = np.unique(data['Enjoy'])[np.argmax(np.unique(data['Enjoy'],return_counts=True)[1])]\n",
    "\n",
    "    #traverse the tree by checking the instance feature values against the tree \n",
    "    #using multidim indexing of the nested dictionary tree\n",
    "    for key in list(instance.keys()):  \n",
    "        if key in list(tree.keys()):  \n",
    "            try:  \n",
    "                prediction = tree[key][instance[key]]   \n",
    "            except:  \n",
    "                return defaultPred\n",
    "\n",
    "            prediction = tree[key][instance[key]]  \n",
    "            #if the result is a subtree then use recursion to continue \n",
    "            #traversing the tree until its not (leaf reached)\n",
    "            if type(prediction) is dict:\n",
    "                return predict(instance,prediction,data)\n",
    "            else:  \n",
    "                return prediction"
   ]
  },
  {
   "cell_type": "markdown",
   "metadata": {},
   "source": [
    "(b) Run the program on the datafile"
   ]
  },
  {
   "cell_type": "code",
   "execution_count": 2,
   "metadata": {},
   "outputs": [],
   "source": [
    "#Specify location of data\n",
    "filepath = \"./dt_data.txt\"\n",
    "#Read in the provided data as Dataframe\n",
    "data = pd.read_csv(filepath,skipinitialspace=True,sep=':',header=0)\n",
    "data = data['(Occupied, Price, Music, Location, VIP, Favorite Beer, Enjoy)'].str.split(',',expand=True)\n",
    "data.columns = ['Occupied', 'Price', 'Music', 'Location', 'VIP', 'Favorite Beer', 'Enjoy']\n",
    "#Strip whitespaces from the data\n",
    "for key in data.keys():\n",
    "    data[key] = data[key].str.strip()"
   ]
  },
  {
   "cell_type": "code",
   "execution_count": 3,
   "metadata": {},
   "outputs": [
    {
     "data": {
      "text/html": [
       "<div>\n",
       "<style scoped>\n",
       "    .dataframe tbody tr th:only-of-type {\n",
       "        vertical-align: middle;\n",
       "    }\n",
       "\n",
       "    .dataframe tbody tr th {\n",
       "        vertical-align: top;\n",
       "    }\n",
       "\n",
       "    .dataframe thead th {\n",
       "        text-align: right;\n",
       "    }\n",
       "</style>\n",
       "<table border=\"1\" class=\"dataframe\">\n",
       "  <thead>\n",
       "    <tr style=\"text-align: right;\">\n",
       "      <th></th>\n",
       "      <th>Occupied</th>\n",
       "      <th>Price</th>\n",
       "      <th>Music</th>\n",
       "      <th>Location</th>\n",
       "      <th>VIP</th>\n",
       "      <th>Favorite Beer</th>\n",
       "      <th>Enjoy</th>\n",
       "    </tr>\n",
       "  </thead>\n",
       "  <tbody>\n",
       "    <tr>\n",
       "      <th>1</th>\n",
       "      <td>High</td>\n",
       "      <td>Expensive</td>\n",
       "      <td>Loud</td>\n",
       "      <td>Talpiot</td>\n",
       "      <td>No</td>\n",
       "      <td>No</td>\n",
       "      <td>No;</td>\n",
       "    </tr>\n",
       "    <tr>\n",
       "      <th>2</th>\n",
       "      <td>High</td>\n",
       "      <td>Expensive</td>\n",
       "      <td>Loud</td>\n",
       "      <td>City-Center</td>\n",
       "      <td>Yes</td>\n",
       "      <td>No</td>\n",
       "      <td>Yes;</td>\n",
       "    </tr>\n",
       "    <tr>\n",
       "      <th>3</th>\n",
       "      <td>Moderate</td>\n",
       "      <td>Normal</td>\n",
       "      <td>Quiet</td>\n",
       "      <td>City-Center</td>\n",
       "      <td>No</td>\n",
       "      <td>Yes</td>\n",
       "      <td>Yes;</td>\n",
       "    </tr>\n",
       "    <tr>\n",
       "      <th>4</th>\n",
       "      <td>Moderate</td>\n",
       "      <td>Expensive</td>\n",
       "      <td>Quiet</td>\n",
       "      <td>German-Colony</td>\n",
       "      <td>No</td>\n",
       "      <td>No</td>\n",
       "      <td>No;</td>\n",
       "    </tr>\n",
       "    <tr>\n",
       "      <th>5</th>\n",
       "      <td>Moderate</td>\n",
       "      <td>Expensive</td>\n",
       "      <td>Quiet</td>\n",
       "      <td>German-Colony</td>\n",
       "      <td>Yes</td>\n",
       "      <td>Yes</td>\n",
       "      <td>Yes;</td>\n",
       "    </tr>\n",
       "  </tbody>\n",
       "</table>\n",
       "</div>"
      ],
      "text/plain": [
       "   Occupied      Price  Music       Location  VIP Favorite Beer Enjoy\n",
       "1      High  Expensive   Loud        Talpiot   No            No   No;\n",
       "2      High  Expensive   Loud    City-Center  Yes            No  Yes;\n",
       "3  Moderate     Normal  Quiet    City-Center   No           Yes  Yes;\n",
       "4  Moderate  Expensive  Quiet  German-Colony   No            No   No;\n",
       "5  Moderate  Expensive  Quiet  German-Colony  Yes           Yes  Yes;"
      ]
     },
     "execution_count": 3,
     "metadata": {},
     "output_type": "execute_result"
    }
   ],
   "source": [
    "#Visualize the dataframe to ensure it was readin properly\n",
    "data.head()"
   ]
  },
  {
   "cell_type": "code",
   "execution_count": 4,
   "metadata": {},
   "outputs": [],
   "source": [
    "#Run the program\n",
    "tree = buildTree(data,data.columns[:-1])"
   ]
  },
  {
   "cell_type": "code",
   "execution_count": 5,
   "metadata": {},
   "outputs": [
    {
     "data": {
      "text/plain": [
       "{'Occupied': {'High': {'Price': {'Cheap': 'Yes;',\n",
       "    'Expensive': {'Music': {'Loud': {'Location': {'City-Center': 'Yes;',\n",
       "        'Talpiot': 'No;'}}}},\n",
       "    'Normal': {'Music': {'Loud': 'Yes;', 'Quiet': 'No;'}}}},\n",
       "  'Low': {'Price': {'Cheap': {'Music': {'Loud': 'Yes;', 'Quiet': 'No;'}},\n",
       "    'Expensive': 'No;',\n",
       "    'Normal': {'Music': {'Quiet': {'Location': {'City-Center': {'VIP': {'No': {'Favorite Beer': {'No': 'No;'}}}},\n",
       "        'Ein-Karem': 'No;'}}}}}},\n",
       "  'Moderate': {'Price': {'Cheap': {'Music': {'Loud': {'Location': {'Mahane-Yehuda': 'Yes;',\n",
       "        'Talpiot': 'No;'}}}},\n",
       "    'Expensive': {'Music': {'Quiet': {'Location': {'German-Colony': {'VIP': {'No': 'No;',\n",
       "          'Yes': 'Yes;'}},\n",
       "        'Mahane-Yehuda': 'Yes;'}}}},\n",
       "    'Normal': 'Yes;'}}}}"
      ]
     },
     "execution_count": 5,
     "metadata": {},
     "output_type": "execute_result"
    }
   ],
   "source": [
    "#Print the Decision Tree as a nested dictionary\n",
    "tree"
   ]
  },
  {
   "cell_type": "markdown",
   "metadata": {},
   "source": [
    "Description:\n",
    "\n",
    "In the Nested Dictionary representation of the Decision Tree, each Key represents a split attribute. For example the outermost Key is 'Occupied' meaning that this feature had the highest information gain in the first partition. 'Occupied' takes on values of 'High', 'Moderate', and 'Low',  each of which is a key corresponding to a dictionary at which the next best feature question is asked, which is its own subtree represented by a nested dictionary. At the terminating leafs of the tree (which correspond to the innermost nested dictionary), the values are not nested dictionaries but simple strings of 'Yes;' or 'No;' which correspond to the label class of whether the night out was enjoyed when following along that path of feature questions."
   ]
  },
  {
   "cell_type": "code",
   "execution_count": 6,
   "metadata": {},
   "outputs": [
    {
     "name": "stdout",
     "output_type": "stream",
     "text": [
      "{'Occupied': 'High', 'Price': 'Expensive', 'Music': 'Loud', 'Location': 'Talpiot', 'VIP': 'No', 'Favorite Beer': 'No'}\n",
      "The prediction is:  No;\n"
     ]
    }
   ],
   "source": [
    "#Verify that the tree predicts correctly using a known instance in the training set\n",
    "# row 1 (row index 0), should be 'No;'\n",
    "known_pred = data.iloc[0,:-1]\n",
    "known_pred = known_pred.to_dict()\n",
    "print(known_pred)\n",
    "print('The prediction is: ', predict(known_pred,tree,data))"
   ]
  },
  {
   "cell_type": "markdown",
   "metadata": {},
   "source": [
    "(c) Make a prediction for (occupied = Moderate; price = Cheap; music = Loud; location = City-Center; VIP=No; Favorite Beer = No)"
   ]
  },
  {
   "cell_type": "code",
   "execution_count": 7,
   "metadata": {},
   "outputs": [
    {
     "data": {
      "text/plain": [
       "'Yes;'"
      ]
     },
     "execution_count": 7,
     "metadata": {},
     "output_type": "execute_result"
    }
   ],
   "source": [
    "#Create the new instance as a dictionary\n",
    "new_instance = {'Occupied':'Moderate','Price':' Cheap','Music':'Loud',\\\n",
    "                'Location':'City-Center','VIP':'No','Favorite Beer':'No'}\n",
    "#Predict Enjoyment on the New Instance\n",
    "predict(new_instance, tree, data)"
   ]
  },
  {
   "cell_type": "markdown",
   "metadata": {},
   "source": [
    "The Decision Tree predicts that **Yes**, this night-out in Jersualem for the coming New Year's Eve ought to be enjoyed."
   ]
  }
 ],
 "metadata": {
  "kernelspec": {
   "display_name": "Python 3",
   "language": "python",
   "name": "python3"
  },
  "language_info": {
   "codemirror_mode": {
    "name": "ipython",
    "version": 3
   },
   "file_extension": ".py",
   "mimetype": "text/x-python",
   "name": "python",
   "nbconvert_exporter": "python",
   "pygments_lexer": "ipython3",
   "version": "3.7.8"
  }
 },
 "nbformat": 4,
 "nbformat_minor": 2
}
