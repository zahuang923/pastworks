{
 "cells": [
  {
   "cell_type": "markdown",
   "metadata": {},
   "source": [
    "#### Assignment 5 [Neural Networks]"
   ]
  },
  {
   "cell_type": "markdown",
   "metadata": {},
   "source": [
    "Name: Zenas Huang"
   ]
  },
  {
   "cell_type": "markdown",
   "metadata": {},
   "source": [
    "***Instructions:***\n",
    "\n",
    "Implement the Back Propagation algorithm for Feed Forward Neural Networks to learn the down gestures from training instances available in downgesture_train.list. The *label of an image is 1 if the word \"down\" is in its file name; otherwise the label is 0*. The pixels of an image use the gray scale ranging from 0 to 1. In your network, use one input layer, one hidden layer of size 100, and one output perceptron.\n",
    "\n",
    "Use the value 0.1 for the learning rate. For each perceptron, use the sigmoid function $Ɵ(s) = 1/(1+e^{-s})$. Use 1000 training epochs; initialize all the weights randomly between -0.01 and 0.01.\n",
    "\n",
    "Use the trained network to predict the labels for the gestures in the test images available in downgesture_test.list. For the error function, use the standard squared error. Output your predictions and accuracy."
   ]
  },
  {
   "cell_type": "code",
   "execution_count": 1,
   "metadata": {},
   "outputs": [],
   "source": [
    "#Import basic packages\n",
    "import numpy as np\n",
    "import pandas as pd\n",
    "import matplotlib.pyplot as plt #for visualization aids\n",
    "import cv2 #for reading the pgm image files"
   ]
  },
  {
   "cell_type": "code",
   "execution_count": 2,
   "metadata": {},
   "outputs": [],
   "source": [
    "def preprocessData(fname):\n",
    "    with open(fname) as file:\n",
    "        filelist = file.read().splitlines()\n",
    "        #build labels, 1 if filename has \"down\", otherwise label is 0\n",
    "        labels = np.array([1.0 if \"down\" in k else 0.0 for k in filelist]).reshape(-1,1)\n",
    "        #build input matrix of images for NN forward pass\n",
    "        X = np.zeros((0,960)) #960 since each image is HxW = 30x32\n",
    "        for i in filelist:\n",
    "            #use cv2to read in pgm files with flag 0 so images are read as grayscale\n",
    "            image = cv2.imread(i,0)\n",
    "            #normalize pixel values to 0,1\n",
    "            image = cv2.normalize(image,image, 0,1, norm_type = cv2.NORM_MINMAX)\n",
    "            image = image.reshape(1,-1)\n",
    "            #print(image.shape) #plt.imshow(image) #for debugging  \n",
    "            X = np.concatenate((X,image),axis=0)\n",
    "    return X, labels"
   ]
  },
  {
   "cell_type": "code",
   "execution_count": 3,
   "metadata": {},
   "outputs": [],
   "source": [
    "#built the train and test image data and labels\n",
    "train_files = 'downgesture_train.list.txt'\n",
    "test_files = 'downgesture_test.list.txt'\n",
    "X_train, labels_train = preprocessData(train_files)\n",
    "X_test, labels_test = preprocessData(test_files)"
   ]
  },
  {
   "cell_type": "code",
   "execution_count": 4,
   "metadata": {},
   "outputs": [],
   "source": [
    "class FeedForwardNN():\n",
    "    def __init__(self, epochs = None, eta = None):\n",
    "        self.epochs = epochs\n",
    "        self.eta = eta\n",
    "        #initialize layer weights randomly between -0.01 and 0.01, #d+1 features (HxW)+1 = 961 for input layer,\n",
    "        self.layer1 = np.random.uniform(-0.01, 0.01,size=(961,100))  #one hidden layer size 100\n",
    "        self.layer2 = np.random.uniform(-0.01, 0.01, size=(101,1))  #one output unit\n",
    "#        self.layer1 = np.random.randn(961,100) #alternative initialization using draws from gaussian\n",
    "#        self.layer2 = np.random.randn(101,1)\n",
    "        self.s1, self.s2, self.activation1, self.activation2 = None, None, None, None\n",
    "        self.costgrad1, self.costgrad2, self.d1, self.d2 = None, None, None, None\n",
    "        self.losses, self.tlosses = [], []\n",
    "        self.logits=None\n",
    "        \n",
    "    #constant 1 padding-op for complete logic operations \n",
    "    def pad(self,X):\n",
    "        X = np.insert(X,0,1.0,axis=1)\n",
    "        return X\n",
    "    \n",
    "    #sigmoid function for every perceptron\n",
    "    def sigmoid(self,s):\n",
    "        return 1.0/(1.0+np.exp(-s))\n",
    "    \n",
    "    #derivative of sigmoid activation for backprop\n",
    "    def sigprime(self,s):\n",
    "        sig = self.sigmoid(s)\n",
    "        return sig * (1.0-sig)\n",
    "          \n",
    "    #forward pass through NN for predicted probabilities  \n",
    "    def forwardfeed(self, X):\n",
    "        self.s1 = np.dot(self.pad(X), self.layer1)\n",
    "        self.activation1 = self.sigmoid(self.s1)\n",
    "        self.s2 = np.dot(self.pad(self.activation1), self.layer2)\n",
    "        self.activation2 = self.sigmoid(self.s2)\n",
    "        return self.activation2\n",
    "    \n",
    "    #backpropagation\n",
    "    def backpropagation(self, X, labels):\n",
    "        #get costs and compute updates to each layer\n",
    "        self.logits = self.forwardfeed(X)\n",
    "        self.d2 = (self.logits - labels)*self.sigprime(self.s2) #derivative of 1/2*squared error function\n",
    "        self.d1 = self.sigprime(self.pad(self.s1))*np.dot(self.d2, self.layer2.T)\n",
    "        self.costgrad2 = np.dot(self.pad(self.s1).T, self.d2)/len(self.layer2)\n",
    "        self.costgrad1 = np.dot(self.pad(X).T, self.d1)/len(self.layer1)\n",
    "        #update layer weights\n",
    "        self.layer2 = self.layer2  - self.eta * self.costgrad2\n",
    "        self.layer1 = self.layer1 - self.eta * self.costgrad1[:,1:]\n",
    "\n",
    "    #train the network\n",
    "    def train(self,X,labels):\n",
    "        for i in range(self.epochs):\n",
    "            self.backpropagation(X,labels)\n",
    "            #for visualization, track standard mean squared error loss for training and test in lists\n",
    "            epochloss = np.mean((self.logits - labels)**2)\n",
    "            tloss = np.mean((self.forwardfeed(X_test)- labels_test)**2)\n",
    "            self.losses.append(epochloss)\n",
    "            self.tlosses.append(tloss)\n",
    "        return self\n",
    "    \n",
    "    #method to return 0-1 predictions\n",
    "    def predict(self,X):\n",
    "        preds = np.rint(self.forwardfeed(X))\n",
    "        return preds"
   ]
  },
  {
   "cell_type": "code",
   "execution_count": 5,
   "metadata": {},
   "outputs": [],
   "source": [
    "#fix random seed\n",
    "np.random.seed(16)\n",
    "#instantiate feed forward neural network to train for 1000 epochs with learning rate value of 0.1\n",
    "ffNN = FeedForwardNN(epochs=1000,eta = 0.1)\n",
    "#train the network on the training images and labels\n",
    "ffNN.train(X_train,labels_train);"
   ]
  },
  {
   "cell_type": "code",
   "execution_count": 6,
   "metadata": {},
   "outputs": [
    {
     "data": {
      "image/png": "[encoded data removed]",
      "text/plain": [
       "<Figure size 432x288 with 1 Axes>"
      ]
     },
     "metadata": {
      "needs_background": "light"
     },
     "output_type": "display_data"
    }
   ],
   "source": [
    "#Visualize MSE loss over epochs for early stopping if needed\n",
    "plt.plot(ffNN.losses,label='training')\n",
    "plt.plot(ffNN.tlosses,label='test')\n",
    "plt.legend(loc='upper right')\n",
    "plt.title('Training & Test Loss')\n",
    "plt.xlabel('Epochs')\n",
    "plt.ylabel('Loss')\n",
    "plt.show();"
   ]
  },
  {
   "cell_type": "code",
   "execution_count": 7,
   "metadata": {},
   "outputs": [
    {
     "name": "stdout",
     "output_type": "stream",
     "text": [
      "Accuracy:  86.75 %\n",
      "NN Predictions: \n",
      " [[1. 1. 0. 0. 0. 0. 0. 0. 1. 0. 0. 0. 1. 0. 0. 0. 0. 1. 0. 0. 0. 0. 0. 0.\n",
      "  1. 0. 0. 0. 0. 0. 0. 0. 0. 0. 0. 0. 0. 0. 1. 0. 1. 0. 0. 0. 0. 1. 1. 0.\n",
      "  0. 0. 1. 0. 0. 0. 0. 0. 0. 0. 0. 0. 0. 0. 0. 0. 0. 0. 1. 0. 0. 0. 0. 0.\n",
      "  0. 0. 1. 1. 0. 0. 0. 0. 0. 0. 0.]]\n",
      "Test Labels: \n",
      " [[1. 1. 0. 0. 0. 0. 0. 0. 1. 1. 0. 0. 0. 0. 0. 0. 1. 1. 0. 0. 0. 0. 0. 1.\n",
      "  1. 0. 0. 0. 0. 0. 0. 0. 1. 0. 0. 0. 0. 0. 0. 1. 1. 0. 0. 0. 0. 1. 1. 0.\n",
      "  0. 0. 0. 0. 1. 0. 0. 0. 0. 0. 0. 0. 0. 1. 0. 0. 0. 0. 1. 1. 0. 0. 0. 0.\n",
      "  0. 0. 1. 1. 0. 0. 0. 0. 0. 0. 0.]]\n"
     ]
    },
    {
     "data": {
      "text/html": [
       "<div>\n",
       "<style scoped>\n",
       "    .dataframe tbody tr th:only-of-type {\n",
       "        vertical-align: middle;\n",
       "    }\n",
       "\n",
       "    .dataframe tbody tr th {\n",
       "        vertical-align: top;\n",
       "    }\n",
       "\n",
       "    .dataframe thead th {\n",
       "        text-align: right;\n",
       "    }\n",
       "</style>\n",
       "<table border=\"1\" class=\"dataframe\">\n",
       "  <thead>\n",
       "    <tr style=\"text-align: right;\">\n",
       "      <th>Predicted</th>\n",
       "      <th>0.0</th>\n",
       "      <th>1.0</th>\n",
       "      <th>All</th>\n",
       "    </tr>\n",
       "    <tr>\n",
       "      <th>True Label</th>\n",
       "      <th></th>\n",
       "      <th></th>\n",
       "      <th></th>\n",
       "    </tr>\n",
       "  </thead>\n",
       "  <tbody>\n",
       "    <tr>\n",
       "      <th>0.0</th>\n",
       "      <td>61</td>\n",
       "      <td>3</td>\n",
       "      <td>64</td>\n",
       "    </tr>\n",
       "    <tr>\n",
       "      <th>1.0</th>\n",
       "      <td>8</td>\n",
       "      <td>11</td>\n",
       "      <td>19</td>\n",
       "    </tr>\n",
       "    <tr>\n",
       "      <th>All</th>\n",
       "      <td>69</td>\n",
       "      <td>14</td>\n",
       "      <td>83</td>\n",
       "    </tr>\n",
       "  </tbody>\n",
       "</table>\n",
       "</div>"
      ],
      "text/plain": [
       "Predicted   0.0  1.0  All\n",
       "True Label               \n",
       "0.0          61    3   64\n",
       "1.0           8   11   19\n",
       "All          69   14   83"
      ]
     },
     "execution_count": 7,
     "metadata": {},
     "output_type": "execute_result"
    }
   ],
   "source": [
    "#Output Predictions on the test images & test Accuracy with confusion table.\n",
    "predictions = ffNN.predict(X_test)\n",
    "accuracy = np.count_nonzero(predictions == labels_test)/len(labels_test)*100\n",
    "pred = pd.Series(np.squeeze(predictions), name='Predicted')\n",
    "true = pd.Series(np.squeeze(labels_test),name = 'True Label')\n",
    "df_confusion = pd.crosstab(true, pred, margins = True)\n",
    "print('Accuracy: ', round(accuracy,2),'%')\n",
    "print('NN Predictions: \\n',predictions.reshape(1,-1))\n",
    "print('Test Labels: \\n', labels_test.reshape(1,-1))\n",
    "df_confusion"
   ]
  },
  {
   "cell_type": "code",
   "execution_count": null,
   "metadata": {},
   "outputs": [],
   "source": []
  }
 ],
 "metadata": {
  "kernelspec": {
   "display_name": "Python 3",
   "language": "python",
   "name": "python3"
  },
  "language_info": {
   "codemirror_mode": {
    "name": "ipython",
    "version": 3
   },
   "file_extension": ".py",
   "mimetype": "text/x-python",
   "name": "python",
   "nbconvert_exporter": "python",
   "pygments_lexer": "ipython3",
   "version": "3.7.3"
  }
 },
 "nbformat": 4,
 "nbformat_minor": 2
}
