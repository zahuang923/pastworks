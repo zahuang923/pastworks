{
 "cells": [
  {
   "cell_type": "code",
   "execution_count": 1,
   "metadata": {},
   "outputs": [],
   "source": [
    "import numpy as np"
   ]
  },
  {
   "cell_type": "code",
   "execution_count": 2,
   "metadata": {},
   "outputs": [],
   "source": [
    "#Hidden Markov Model\n",
    "#state transition probabilities\n",
    "transitionProbs = np.array([\\\n",
    "        [0. , 0.5, 0. , 0. , 0. , 0. , 0. , 0. , 0. , 0. ],\n",
    "       [1. , 0. , 0.5, 0. , 0. , 0. , 0. , 0. , 0. , 0. ],\n",
    "       [0. , 0.5, 0. , 0.5, 0. , 0. , 0. , 0. , 0. , 0. ],\n",
    "       [0. , 0. , 0.5, 0. , 0.5, 0. , 0. , 0. , 0. , 0. ],\n",
    "       [0. , 0. , 0. , 0.5, 0. , 0.5, 0. , 0. , 0. , 0. ],\n",
    "       [0. , 0. , 0. , 0. , 0.5, 0. , 0.5, 0. , 0. , 0. ],\n",
    "       [0. , 0. , 0. , 0. , 0. , 0.5, 0. , 0.5, 0. , 0. ],\n",
    "       [0. , 0. , 0. , 0. , 0. , 0. , 0.5, 0. , 0.5, 0. ],\n",
    "       [0. , 0. , 0. , 0. , 0. , 0. , 0. , 0.5, 0. , 1. ],\n",
    "       [0. , 0. , 0. , 0. , 0. , 0. , 0. , 0. , 0.5, 0. ]\n",
    "                      ])\n",
    "\n",
    "#HMM observation probabilities given a state\n",
    "evidenceProbs = np.array([\\\n",
    "        [0.3, 0.3, 0. , 0. , 0. , 0. , 0. , 0. , 0. , 0.3],\n",
    "       [0.3, 0.3, 0.3, 0. , 0. , 0. , 0. , 0. , 0. , 0. ],\n",
    "       [0. , 0.3, 0.3, 0.3, 0. , 0. , 0. , 0. , 0. , 0. ],\n",
    "       [0. , 0. , 0.3, 0.3, 0.3, 0. , 0. , 0. , 0. , 0. ],\n",
    "       [0. , 0. , 0. , 0.3, 0.3, 0.3, 0. , 0. , 0. , 0. ],\n",
    "       [0. , 0. , 0. , 0. , 0.3, 0.3, 0.3, 0. , 0. , 0. ],\n",
    "       [0. , 0. , 0. , 0. , 0. , 0.3, 0.3, 0.3, 0. , 0. ],\n",
    "       [0. , 0. , 0. , 0. , 0. , 0. , 0.3, 0.3, 0.3, 0. ],\n",
    "       [0. , 0. , 0. , 0. , 0. , 0. , 0. , 0.3, 0.3, 0.3],\n",
    "       [0.3, 0. , 0. , 0. , 0. , 0. , 0. , 0. , 0.3, 0.3]\n",
    "                         ])\n",
    "\n",
    "#HMM initial uniform prior distribution for v1\n",
    "initialPrior = 0.1*np.ones(10)\n",
    "#HMM Observed Sequence\n",
    "ObsSeq = np.array([8,6,4,6,5,4,5,5,7,9])\n",
    "\n",
    "states = np.array([1,2,3,4,5,6,7,8,9,10])"
   ]
  },
  {
   "cell_type": "code",
   "execution_count": 3,
   "metadata": {},
   "outputs": [],
   "source": [
    "def HMMvtstates(transitionProbs,evidenceProbs,ObsSeq,initialPrior,states):\n",
    "    \n",
    "    vts = np.zeros(len(ObsSeq)).astype(int)\n",
    "    eps = 1e-8\n",
    "    logInitial = np.log(initialPrior+eps)\n",
    "    logEvid = np.log(evidenceProbs+eps)\n",
    "    logTrans = np.log(transitionProbs+eps)\n",
    "\n",
    "    Prob = np.zeros((len(ObsSeq),len(ObsSeq)))\n",
    "    Seq = np.zeros((len(ObsSeq),len(ObsSeq)))\n",
    "    for k in states:\n",
    "        #table for probability dists for sequence of observed values\n",
    "        Prob[k-1,0] = logInitial[k-1] + logEvid[k-1,ObsSeq[0]]\n",
    "        #bookkeep sequences\n",
    "        Seq[k-1,0] = 0\n",
    "        \n",
    "    #update tables for each time step observation\n",
    "    for t in states[:-1]:\n",
    "        Prob[:,t] = np.max(Prob[:,t-1] + logEvid[:,ObsSeq[t]].reshape(10,-1) + logTrans,axis=1)\n",
    "        Seq[:,t] = np.argmax(Prob[:,t-1] + logEvid + logTrans,axis=1)\n",
    "\n",
    "    #build most likely sequence from last to first\n",
    "    vts[-1] = np.argmax(Prob[:,len(ObsSeq)-1])\n",
    "    for t in range(len(ObsSeq)-1,0,-1):\n",
    "        vts[t-1] = Seq[vts[t],t]\n",
    "\n",
    "    return vts.tolist()"
   ]
  },
  {
   "cell_type": "code",
   "execution_count": 4,
   "metadata": {},
   "outputs": [
    {
     "name": "stdout",
     "output_type": "stream",
     "text": [
      "Observation Sequence: \n",
      " [8, 6, 4, 6, 5, 4, 5, 5, 7, 9]\n",
      "Most Likely Sequence of v_t values: \n",
      " [7, 6, 5, 6, 5, 4, 5, 6, 7, 8]\n"
     ]
    }
   ],
   "source": [
    "print('Observation Sequence: \\n', ObsSeq.tolist())\n",
    "stateSequence = HMMvtstates(transitionProbs,evidenceProbs,ObsSeq,initialPrior,states)\n",
    "print('Most Likely Sequence of v_t values: \\n',stateSequence)"
   ]
  },
  {
   "cell_type": "code",
   "execution_count": null,
   "metadata": {},
   "outputs": [],
   "source": []
  }
 ],
 "metadata": {
  "kernelspec": {
   "display_name": "Python 3",
   "language": "python",
   "name": "python3"
  },
  "language_info": {
   "codemirror_mode": {
    "name": "ipython",
    "version": 3
   },
   "file_extension": ".py",
   "mimetype": "text/x-python",
   "name": "python",
   "nbconvert_exporter": "python",
   "pygments_lexer": "ipython3",
   "version": "3.7.3"
  }
 },
 "nbformat": 4,
 "nbformat_minor": 2
}
